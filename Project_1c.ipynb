{
  "nbformat": 4,
  "nbformat_minor": 0,
  "metadata": {
    "colab": {
      "name": "Project_1c.ipynb",
      "provenance": [],
      "collapsed_sections": []
    },
    "kernelspec": {
      "name": "python3",
      "display_name": "Python 3"
    },
    "accelerator": "GPU",
    "widgets": {
      "application/vnd.jupyter.widget-state+json": {
        "76703b8140b845749fc12b5d0fdd018f": {
          "model_module": "@jupyter-widgets/controls",
          "model_name": "HBoxModel",
          "state": {
            "_view_name": "HBoxView",
            "_dom_classes": [],
            "_model_name": "HBoxModel",
            "_view_module": "@jupyter-widgets/controls",
            "_model_module_version": "1.5.0",
            "_view_count": null,
            "_view_module_version": "1.5.0",
            "box_style": "",
            "layout": "IPY_MODEL_ce9667169b804613b6bec4a153768070",
            "_model_module": "@jupyter-widgets/controls",
            "children": [
              "IPY_MODEL_4312a97b19db470faa92b02c834c26fb",
              "IPY_MODEL_a703f54acf2b46d49d51daa7b2a8f329"
            ]
          }
        },
        "ce9667169b804613b6bec4a153768070": {
          "model_module": "@jupyter-widgets/base",
          "model_name": "LayoutModel",
          "state": {
            "_view_name": "LayoutView",
            "grid_template_rows": null,
            "right": null,
            "justify_content": null,
            "_view_module": "@jupyter-widgets/base",
            "overflow": null,
            "_model_module_version": "1.2.0",
            "_view_count": null,
            "flex_flow": null,
            "width": null,
            "min_width": null,
            "border": null,
            "align_items": null,
            "bottom": null,
            "_model_module": "@jupyter-widgets/base",
            "top": null,
            "grid_column": null,
            "overflow_y": null,
            "overflow_x": null,
            "grid_auto_flow": null,
            "grid_area": null,
            "grid_template_columns": null,
            "flex": null,
            "_model_name": "LayoutModel",
            "justify_items": null,
            "grid_row": null,
            "max_height": null,
            "align_content": null,
            "visibility": null,
            "align_self": null,
            "height": null,
            "min_height": null,
            "padding": null,
            "grid_auto_rows": null,
            "grid_gap": null,
            "max_width": null,
            "order": null,
            "_view_module_version": "1.2.0",
            "grid_template_areas": null,
            "object_position": null,
            "object_fit": null,
            "grid_auto_columns": null,
            "margin": null,
            "display": null,
            "left": null
          }
        },
        "4312a97b19db470faa92b02c834c26fb": {
          "model_module": "@jupyter-widgets/controls",
          "model_name": "IntProgressModel",
          "state": {
            "_view_name": "ProgressView",
            "style": "IPY_MODEL_765e8e802830436b979425c5e7bf4c07",
            "_dom_classes": [],
            "description": "",
            "_model_name": "IntProgressModel",
            "bar_style": "success",
            "max": 3,
            "_view_module": "@jupyter-widgets/controls",
            "_model_module_version": "1.5.0",
            "value": 3,
            "_view_count": null,
            "_view_module_version": "1.5.0",
            "orientation": "horizontal",
            "min": 0,
            "description_tooltip": null,
            "_model_module": "@jupyter-widgets/controls",
            "layout": "IPY_MODEL_ed3fc41b34df48d986da3462f5183c79"
          }
        },
        "a703f54acf2b46d49d51daa7b2a8f329": {
          "model_module": "@jupyter-widgets/controls",
          "model_name": "HTMLModel",
          "state": {
            "_view_name": "HTMLView",
            "style": "IPY_MODEL_e816daf7d8d14714a107d72183a6572f",
            "_dom_classes": [],
            "description": "",
            "_model_name": "HTMLModel",
            "placeholder": "​",
            "_view_module": "@jupyter-widgets/controls",
            "_model_module_version": "1.5.0",
            "value": "100% 3/3 [00:05&lt;00:00,  1.85s/it]",
            "_view_count": null,
            "_view_module_version": "1.5.0",
            "description_tooltip": null,
            "_model_module": "@jupyter-widgets/controls",
            "layout": "IPY_MODEL_645bcefac9344581a78508c3888e731f"
          }
        },
        "765e8e802830436b979425c5e7bf4c07": {
          "model_module": "@jupyter-widgets/controls",
          "model_name": "ProgressStyleModel",
          "state": {
            "_view_name": "StyleView",
            "_model_name": "ProgressStyleModel",
            "description_width": "",
            "_view_module": "@jupyter-widgets/base",
            "_model_module_version": "1.5.0",
            "_view_count": null,
            "_view_module_version": "1.2.0",
            "bar_color": null,
            "_model_module": "@jupyter-widgets/controls"
          }
        },
        "ed3fc41b34df48d986da3462f5183c79": {
          "model_module": "@jupyter-widgets/base",
          "model_name": "LayoutModel",
          "state": {
            "_view_name": "LayoutView",
            "grid_template_rows": null,
            "right": null,
            "justify_content": null,
            "_view_module": "@jupyter-widgets/base",
            "overflow": null,
            "_model_module_version": "1.2.0",
            "_view_count": null,
            "flex_flow": null,
            "width": null,
            "min_width": null,
            "border": null,
            "align_items": null,
            "bottom": null,
            "_model_module": "@jupyter-widgets/base",
            "top": null,
            "grid_column": null,
            "overflow_y": null,
            "overflow_x": null,
            "grid_auto_flow": null,
            "grid_area": null,
            "grid_template_columns": null,
            "flex": null,
            "_model_name": "LayoutModel",
            "justify_items": null,
            "grid_row": null,
            "max_height": null,
            "align_content": null,
            "visibility": null,
            "align_self": null,
            "height": null,
            "min_height": null,
            "padding": null,
            "grid_auto_rows": null,
            "grid_gap": null,
            "max_width": null,
            "order": null,
            "_view_module_version": "1.2.0",
            "grid_template_areas": null,
            "object_position": null,
            "object_fit": null,
            "grid_auto_columns": null,
            "margin": null,
            "display": null,
            "left": null
          }
        },
        "e816daf7d8d14714a107d72183a6572f": {
          "model_module": "@jupyter-widgets/controls",
          "model_name": "DescriptionStyleModel",
          "state": {
            "_view_name": "StyleView",
            "_model_name": "DescriptionStyleModel",
            "description_width": "",
            "_view_module": "@jupyter-widgets/base",
            "_model_module_version": "1.5.0",
            "_view_count": null,
            "_view_module_version": "1.2.0",
            "_model_module": "@jupyter-widgets/controls"
          }
        },
        "645bcefac9344581a78508c3888e731f": {
          "model_module": "@jupyter-widgets/base",
          "model_name": "LayoutModel",
          "state": {
            "_view_name": "LayoutView",
            "grid_template_rows": null,
            "right": null,
            "justify_content": null,
            "_view_module": "@jupyter-widgets/base",
            "overflow": null,
            "_model_module_version": "1.2.0",
            "_view_count": null,
            "flex_flow": null,
            "width": null,
            "min_width": null,
            "border": null,
            "align_items": null,
            "bottom": null,
            "_model_module": "@jupyter-widgets/base",
            "top": null,
            "grid_column": null,
            "overflow_y": null,
            "overflow_x": null,
            "grid_auto_flow": null,
            "grid_area": null,
            "grid_template_columns": null,
            "flex": null,
            "_model_name": "LayoutModel",
            "justify_items": null,
            "grid_row": null,
            "max_height": null,
            "align_content": null,
            "visibility": null,
            "align_self": null,
            "height": null,
            "min_height": null,
            "padding": null,
            "grid_auto_rows": null,
            "grid_gap": null,
            "max_width": null,
            "order": null,
            "_view_module_version": "1.2.0",
            "grid_template_areas": null,
            "object_position": null,
            "object_fit": null,
            "grid_auto_columns": null,
            "margin": null,
            "display": null,
            "left": null
          }
        }
      }
    }
  },
  "cells": [
    {
      "cell_type": "code",
      "metadata": {
        "id": "NcHBwpLbUNRD",
        "colab_type": "code",
        "colab": {}
      },
      "source": [
        "import numpy as np\n",
        "import pandas as pd \n",
        "\n",
        "import sklearn\n",
        "from sklearn.linear_model import LinearRegression\n",
        "from sklearn.metrics import mean_squared_error\n",
        "from sklearn.ensemble import RandomForestRegressor\n",
        "from sklearn.model_selection import GridSearchCV, PredefinedSplit\n",
        "import scipy.sparse \n",
        "import xgboost as xgb\n",
        "import lightgbm as lgb\n",
        "\n",
        "import matplotlib.pyplot as plt\n",
        "import seaborn as sns\n",
        "%matplotlib inline \n",
        "\n",
        "import pickle\n",
        "from tqdm import tqdm_notebook\n",
        "from itertools import product\n",
        "import gc\n",
        "\n",
        "import warnings\n",
        "warnings.filterwarnings('ignore')\n"
      ],
      "execution_count": 0,
      "outputs": []
    },
    {
      "cell_type": "code",
      "metadata": {
        "id": "DZCq1qNmUgef",
        "colab_type": "code",
        "outputId": "3020bb6a-bbe5-479e-a251-3997039ebfb5",
        "colab": {
          "base_uri": "https://localhost:8080/",
          "height": 54
        }
      },
      "source": [
        "from google.colab import drive\n",
        "drive.mount('/content/drive')"
      ],
      "execution_count": 0,
      "outputs": [
        {
          "output_type": "stream",
          "text": [
            "Drive already mounted at /content/drive; to attempt to forcibly remount, call drive.mount(\"/content/drive\", force_remount=True).\n"
          ],
          "name": "stdout"
        }
      ]
    },
    {
      "cell_type": "markdown",
      "metadata": {
        "id": "eshlVeBuUxIw",
        "colab_type": "text"
      },
      "source": [
        "Here am pinpointing the main steps I follow to create the model for 1C competition:\n",
        "##So, our journey consists of:\n",
        "* Getting familiar with the task and data itself\n",
        "* EDA/cleaning/elaborating on new features/advanced feature engineering\n",
        "* Creating a base model\n",
        "* Trying ensembling  (whouaaaah)\n",
        "\n",
        "Let's launch it!!!"
      ]
    },
    {
      "cell_type": "markdown",
      "metadata": {
        "id": "GSt85MnFU_vD",
        "colab_type": "text"
      },
      "source": [
        "#First of all, let's get familiar with the data and the task we are going to complete\n",
        "##Task description:\n",
        "\n",
        "There is data about historical sales data. The task is to forecast the total amount of products sold in every shop for the test set. The difficulty is that the list of shops and products slightly changes every month, so the model should be robust to overcome this.\n",
        "##File descriptions\n",
        "**sales_train.csv -** the training set. Daily historical data from January 2013 to October 2015.\n",
        "\n",
        "**test.csv** - the test set. You need to forecast the sales for these shops and products for November 2015.\n",
        "\n",
        "**sample_submission.csv** - a sample submission file in the correct format.\n",
        "\n",
        "**items.csv** - supplemental information about the items/products.\n",
        "\n",
        "**item_categories.csv**  - supplemental information about the items categories.\n",
        "\n",
        "**shops.csv**- supplemental information about the shops."
      ]
    },
    {
      "cell_type": "code",
      "metadata": {
        "id": "-Rq3kKVOVAJZ",
        "colab_type": "code",
        "colab": {}
      },
      "source": [
        "#let_s upload the data\n",
        "items = pd.read_csv('/content/drive/My Drive/kaggle/items.csv')\n",
        "shops = pd.read_csv('/content/drive/My Drive/kaggle/shops.csv')\n",
        "cats = pd.read_csv('/content/drive/My Drive/kaggle/item_categories.csv')\n",
        "train = pd.read_csv('/content/drive/My Drive/kaggle/sales_train.csv', parse_dates=['date'])\n",
        "# set index to ID to in order to avoid droping it later\n",
        "test  = pd.read_csv('/content/drive/My Drive/kaggle/test.csv')"
      ],
      "execution_count": 0,
      "outputs": []
    },
    {
      "cell_type": "code",
      "metadata": {
        "id": "kqWsROlTVDyS",
        "colab_type": "code",
        "outputId": "9939a6d3-49bb-473e-c974-b941f2cbfbb5",
        "colab": {
          "base_uri": "https://localhost:8080/",
          "height": 1000
        }
      },
      "source": [
        "for i in [items, shops, cats, train, test]:\n",
        "  print(i.head(10))\n",
        "  print()"
      ],
      "execution_count": 0,
      "outputs": [
        {
          "output_type": "stream",
          "text": [
            "                                           item_name  item_id  item_category_id\n",
            "0          ! ВО ВЛАСТИ НАВАЖДЕНИЯ (ПЛАСТ.)         D        0                40\n",
            "1  !ABBYY FineReader 12 Professional Edition Full...        1                76\n",
            "2      ***В ЛУЧАХ СЛАВЫ   (UNV)                    D        2                40\n",
            "3    ***ГОЛУБАЯ ВОЛНА  (Univ)                      D        3                40\n",
            "4        ***КОРОБКА (СТЕКЛО)                       D        4                40\n",
            "5  ***НОВЫЕ АМЕРИКАНСКИЕ ГРАФФИТИ  (UNI)         ...        5                40\n",
            "6           ***УДАР ПО ВОРОТАМ (UNI)               D        6                40\n",
            "7         ***УДАР ПО ВОРОТАМ-2 (UNI)               D        7                40\n",
            "8           ***ЧАЙ С МУССОЛИНИ                     D        8                40\n",
            "9      ***ШУГАРЛЭНДСКИЙ ЭКСПРЕСС (UNI)             D        9                40\n",
            "\n",
            "                        shop_name  shop_id\n",
            "0   !Якутск Орджоникидзе, 56 фран        0\n",
            "1   !Якутск ТЦ \"Центральный\" фран        1\n",
            "2                Адыгея ТЦ \"Мега\"        2\n",
            "3  Балашиха ТРК \"Октябрь-Киномир\"        3\n",
            "4        Волжский ТЦ \"Волга Молл\"        4\n",
            "5          Вологда ТРЦ \"Мармелад\"        5\n",
            "6      Воронеж (Плехановская, 13)        6\n",
            "7          Воронеж ТРЦ \"Максимир\"        7\n",
            "8    Воронеж ТРЦ Сити-Парк \"Град\"        8\n",
            "9               Выездная Торговля        9\n",
            "\n",
            "        item_category_name  item_category_id\n",
            "0  PC - Гарнитуры/Наушники                 0\n",
            "1         Аксессуары - PS2                 1\n",
            "2         Аксессуары - PS3                 2\n",
            "3         Аксессуары - PS4                 3\n",
            "4         Аксессуары - PSP                 4\n",
            "5      Аксессуары - PSVita                 5\n",
            "6    Аксессуары - XBOX 360                 6\n",
            "7    Аксессуары - XBOX ONE                 7\n",
            "8           Билеты (Цифра)                 8\n",
            "9          Доставка товара                 9\n",
            "\n",
            "        date  date_block_num  shop_id  item_id  item_price  item_cnt_day\n",
            "0 2013-02-01               0       59    22154      999.00           1.0\n",
            "1 2013-03-01               0       25     2552      899.00           1.0\n",
            "2 2013-05-01               0       25     2552      899.00          -1.0\n",
            "3 2013-06-01               0       25     2554     1709.05           1.0\n",
            "4 2013-01-15               0       25     2555     1099.00           1.0\n",
            "5 2013-10-01               0       25     2564      349.00           1.0\n",
            "6 2013-02-01               0       25     2565      549.00           1.0\n",
            "7 2013-04-01               0       25     2572      239.00           1.0\n",
            "8 2013-11-01               0       25     2572      299.00           1.0\n",
            "9 2013-03-01               0       25     2573      299.00           3.0\n",
            "\n",
            "    shop_id  item_id\n",
            "ID                  \n",
            "0         5     5037\n",
            "1         5     5320\n",
            "2         5     5233\n",
            "3         5     5232\n",
            "4         5     5268\n",
            "5         5     5039\n",
            "6         5     5041\n",
            "7         5     5046\n",
            "8         5     5319\n",
            "9         5     5003\n",
            "\n"
          ],
          "name": "stdout"
        }
      ]
    },
    {
      "cell_type": "markdown",
      "metadata": {
        "id": "1aI8X5MRVQhb",
        "colab_type": "text"
      },
      "source": [
        "#Some EDA"
      ]
    },
    {
      "cell_type": "code",
      "metadata": {
        "id": "gCSjW1KUVIC3",
        "colab_type": "code",
        "outputId": "cfb32e5e-f5d5-4eee-feab-fcc85fe7029f",
        "colab": {
          "base_uri": "https://localhost:8080/",
          "height": 313
        }
      },
      "source": [
        "#We predict for a month, so, lets look at monthly distribution\n",
        "sales_by_month = pd.DataFrame(train.groupby(['date_block_num']).sum().item_cnt_day).reset_index()\n",
        "sales_by_month.columns = ['date_block_num', 'sum_items_sold']\n",
        "sns.barplot(x ='date_block_num', y='sum_items_sold', \n",
        "            data=sales_by_month.reset_index());\n",
        "\n",
        "plt.plot(sales_by_month.sum_items_sold)\n",
        "plt.title('Monthly distribution of  sales sums')\n"
      ],
      "execution_count": 0,
      "outputs": [
        {
          "output_type": "execute_result",
          "data": {
            "text/plain": [
              "Text(0.5, 1.0, 'Monthly distribution of  sales sums')"
            ]
          },
          "metadata": {
            "tags": []
          },
          "execution_count": 6
        },
        {
          "output_type": "display_data",
          "data": {
            "image/png": "[encoded data removed]",
            "text/plain": [
              "<Figure size 432x288 with 1 Axes>"
            ]
          },
          "metadata": {
            "tags": []
          }
        }
      ]
    },
    {
      "cell_type": "code",
      "metadata": {
        "id": "vQAbgCO6VOxO",
        "colab_type": "code",
        "outputId": "4ced638a-0c33-4049-ca02-1e457c5259be",
        "colab": {
          "base_uri": "https://localhost:8080/",
          "height": 296
        }
      },
      "source": [
        "fig = plt.Figure(figsize=[30,10])\n",
        "sales_by_month_shopid = pd.DataFrame(train.groupby(['shop_id']).sum().item_cnt_day).reset_index()\n",
        "sales_by_month_shopid.columns = ['shop_id', 'sum_sales']\n",
        "sns.barplot(x ='shop_id', y='sum_sales', data=sales_by_month_shopid)\n",
        "plt.title('Sales per shop distribution');\n",
        "\n"
      ],
      "execution_count": 0,
      "outputs": [
        {
          "output_type": "display_data",
          "data": {
            "image/png": "[encoded data removed]",
            "text/plain": [
              "<Figure size 432x288 with 1 Axes>"
            ]
          },
          "metadata": {
            "tags": []
          }
        }
      ]
    },
    {
      "cell_type": "code",
      "metadata": {
        "id": "7pjDZ3geYVMd",
        "colab_type": "code",
        "outputId": "34751c24-bee4-4c38-e25d-d5f6494a05ce",
        "colab": {
          "base_uri": "https://localhost:8080/",
          "height": 280
        }
      },
      "source": [
        "salesitem_cat = train.merge(items, how='left', on='item_id').groupby('item_category_id').item_cnt_day.sum()\n",
        "sns.barplot(x ='item_category_id', y='item_cnt_day',\n",
        "            data=salesitem_cat.reset_index(), \n",
        "           );\n"
      ],
      "execution_count": 0,
      "outputs": [
        {
          "output_type": "display_data",
          "data": {
            "image/png": "[encoded data removed]",
            "text/plain": [
              "<Figure size 432x288 with 1 Axes>"
            ]
          },
          "metadata": {
            "tags": []
          }
        }
      ]
    },
    {
      "cell_type": "code",
      "metadata": {
        "id": "qCXPKBvbWK2-",
        "colab_type": "code",
        "outputId": "e4189b4c-32f8-493f-bbcf-65c29949365e",
        "colab": {
          "base_uri": "https://localhost:8080/",
          "height": 296
        }
      },
      "source": [
        "sales_by_itemid = pd.DataFrame(train.groupby(['item_id']).sum().item_cnt_day)\n",
        "plt.xlabel('item id')\n",
        "plt.ylabel('sales')\n",
        "plt.plot(sales_by_itemid)"
      ],
      "execution_count": 0,
      "outputs": [
        {
          "output_type": "execute_result",
          "data": {
            "text/plain": [
              "[<matplotlib.lines.Line2D at 0x7f362b51e5c0>]"
            ]
          },
          "metadata": {
            "tags": []
          },
          "execution_count": 16
        },
        {
          "output_type": "display_data",
          "data": {
            "image/png": "[encoded data removed]",
            "text/plain": [
              "<Figure size 432x288 with 1 Axes>"
            ]
          },
          "metadata": {
            "tags": []
          }
        }
      ]
    },
    {
      "cell_type": "code",
      "metadata": {
        "id": "IFAjVzGrXUc0",
        "colab_type": "code",
        "outputId": "bb286a60-71c3-494b-d005-39c3650a9c5c",
        "colab": {
          "base_uri": "https://localhost:8080/",
          "height": 34
        }
      },
      "source": [
        "#there is some weird item (really huge)\n",
        "huge_item = sales_by_itemid.item_cnt_day.argmax()\n",
        "huge_item"
      ],
      "execution_count": 0,
      "outputs": [
        {
          "output_type": "execute_result",
          "data": {
            "text/plain": [
              "20949"
            ]
          },
          "metadata": {
            "tags": []
          },
          "execution_count": 17
        }
      ]
    },
    {
      "cell_type": "code",
      "metadata": {
        "id": "8VyBeNMGXqB2",
        "colab_type": "code",
        "outputId": "8c2175e6-b588-4da2-f8b3-1c3cc8a03e85",
        "colab": {
          "base_uri": "https://localhost:8080/",
          "height": 313
        }
      },
      "source": [
        "shop_item = pd.DataFrame(train[['date_block_num', 'shop_id', \n",
        "                                     'item_id']].drop_duplicates().groupby('date_block_num').size()).reset_index()\n",
        "shop_item.columns = ['date_block_num', 'item-shop_comb']\n",
        "sns.barplot(x ='date_block_num', y='item-shop_comb', data=shop_item);\n",
        "plt.plot(shop_item['item-shop_comb']);\n",
        "plt.title('Shop-it with sales per month')\n",
        "\n"
      ],
      "execution_count": 0,
      "outputs": [
        {
          "output_type": "execute_result",
          "data": {
            "text/plain": [
              "Text(0.5, 1.0, 'Shop-it with sales per month')"
            ]
          },
          "metadata": {
            "tags": []
          },
          "execution_count": 18
        },
        {
          "output_type": "display_data",
          "data": {
            "image/png": "[encoded data removed]",
            "text/plain": [
              "<Figure size 432x288 with 1 Axes>"
            ]
          },
          "metadata": {
            "tags": []
          }
        }
      ]
    },
    {
      "cell_type": "markdown",
      "metadata": {
        "id": "A0Tw7SyaYnlN",
        "colab_type": "text"
      },
      "source": [
        "##Data leakage\n",
        "\n",
        "As we've been discussing data leakages in quite details - we should apply the knowledge somehow:) Less then the 50% of the all combinations item-shop that we are present in our data appears in the test set."
      ]
    },
    {
      "cell_type": "code",
      "metadata": {
        "id": "Gra4JT8kYM42",
        "colab_type": "code",
        "outputId": "01f95b2c-01cd-49c1-a7f5-756e6c4d41a1",
        "colab": {
          "base_uri": "https://localhost:8080/",
          "height": 34
        }
      },
      "source": [
        "train_part = pd.Series(list(train[['item_id', 'shop_id']].itertuples(index=False, name=None)))\n",
        "test_part = pd.Series(list(test[['item_id', 'shop_id']].itertuples(index=False, name=None)))\n",
        "print(str(round(train_part.isin(test_part).sum()/len(train_part),2)*100)+'%')"
      ],
      "execution_count": 0,
      "outputs": [
        {
          "output_type": "stream",
          "text": [
            "42.0%\n"
          ],
          "name": "stdout"
        }
      ]
    },
    {
      "cell_type": "markdown",
      "metadata": {
        "id": "ePcY_xJWZZ9-",
        "colab_type": "text"
      },
      "source": [
        "##Let's create our data set\n",
        "\n",
        "We see that tne train data is represented in a few separate tables,therefore, we need to prepare it for training: compile a dataset by joining on ids\n",
        "\n",
        "Also, we add some new features\n",
        "\n",
        "P.S. \n",
        "About text features: \"shop_name\" and \"item_name\": there were trials to somehow use them, but it was rather a failure, so I don't include them in the final version of dataset"
      ]
    },
    {
      "cell_type": "markdown",
      "metadata": {
        "id": "x8r84iJJZi3T",
        "colab_type": "text"
      },
      "source": [
        "The set of ids that appears in our test set, once there is a historical sale present, will be saved every subsequent month . By this we improve our model because it can infer the predictions about items not for sales in the test month (months with zero sales in a row). Also, we create the input for the submission with the date_block_num=34\n",
        "\n",
        "Lets define a function for creating our dataset"
      ]
    },
    {
      "cell_type": "code",
      "metadata": {
        "id": "6ZGV9YitaBvX",
        "colab_type": "code",
        "colab": {}
      },
      "source": [
        "def create_data_set(train, test, items, list_lags, date_block_threshold):\n",
        "    def downcast_dtypes(df):\n",
        "    \n",
        "\n",
        "        # columns to downcast\n",
        "        float_cols = [c for c in df if df[c].dtype == \"float64\"]\n",
        "        int_cols =   [c for c in df if df[c].dtype == \"int64\"]\n",
        "        \n",
        "        df[float_cols] = df[float_cols].astype(np.float32)\n",
        "        df[int_cols]   = df[int_cols].astype(np.int32)\n",
        "        \n",
        "        return df\n",
        "   \n",
        "  \n",
        "    # a \"grid\" with columns\n",
        "    index_cols = ['shop_id', 'item_id', 'date_block_num']\n",
        "\n",
        "    # create a grid from all shops/items combinations from that month for every month\n",
        "    grid = [] \n",
        "    new_items = pd.DataFrame()\n",
        "    cur_items_aux=np.array([])\n",
        "    for block_num in train['date_block_num'].unique():\n",
        "        cur_shops = train.loc[train['date_block_num'] == block_num, 'shop_id'].unique()\n",
        "        cur_items = train.loc[train['date_block_num'] == block_num, 'item_id'].append(pd.Series(cur_items_aux)).unique()\n",
        "        cur_items_aux = cur_items[pd.Series(cur_items).isin(test.item_id)]\n",
        "        grid.append(np.array(list(product(*[cur_shops, cur_items, [block_num]])),dtype='int32'))\n",
        "\n",
        "    # create a dataframe out of the grid\n",
        "    grid = pd.DataFrame(np.vstack(grid), columns = index_cols,dtype=np.int32)\n",
        "\n",
        "    # add  shop_id-item_id  from submission to test predictions\n",
        "    test['date_block_num'] = 34\n",
        "    grid = grid.append(test[['shop_id', 'item_id', 'date_block_num']])\n",
        "\n",
        "    #  get shop-item-month aggregates\n",
        "    shop_item_month = train.groupby(index_cols,as_index=False).agg({'item_cnt_day':{'target':'sum'}})\n",
        "    # Fix column names\n",
        "    shop_item_month.columns = [col[0] if col[-1]=='' else col[-1] for col in shop_item_month.columns.values] \n",
        "    # Join it to the grid\n",
        "    all_data = pd.merge(grid, shop_item_month , how='left', on=index_cols).fillna(0)\n",
        "\n",
        "    # shop-month aggregates\n",
        "    shop_month = train.groupby(['shop_id', 'date_block_num'],as_index=False).agg({'item_cnt_day':{'target_shop':'sum'}})\n",
        "    shop_month.columns = [col[0] if col[-1]=='' else col[-1] for col in shop_month.columns.values]\n",
        "    all_data = pd.merge(all_data, shop_month, how='left', on=['shop_id', 'date_block_num']).fillna(0)\n",
        "\n",
        "    # item-month aggregates\n",
        "    item_month = train.groupby(['item_id', 'date_block_num'],as_index=False).agg({'item_cnt_day':{'target_item':'sum'}})\n",
        "    item_month.columns = [col[0] if col[-1] == '' else col[-1] for col in item_month.columns.values]\n",
        "    all_data = pd.merge(all_data, item_month, how='left', on=['item_id', 'date_block_num']).fillna(0)\n",
        "\n",
        "    # Downcast dtypes from 64 to 32 bit to save memory\n",
        "    all_data = downcast_dtypes(all_data)\n",
        "    \n",
        "    gc.collect()\n",
        "    # List of columns for creating lags\n",
        "    columns_to_rename = list(all_data.columns.difference(index_cols)) \n",
        "\n",
        "    shift_range = list_lags\n",
        "\n",
        "    for month_s in tqdm_notebook(shift_range):\n",
        "        train_s = all_data[index_cols + columns_to_rename].copy()\n",
        "    \n",
        "        train_s['date_block_num'] = train_s['date_block_num'] + month_s\n",
        "    \n",
        "        new_n = lambda x: '{}_lag_{}'.format(x, month_s) if x in columns_to_rename else x\n",
        "        train_s = train_s.rename(columns=new_n)\n",
        "\n",
        "        all_data = pd.merge(all_data, train_s, on=index_cols, how='left').fillna(0)\n",
        "\n",
        "    del train_s\n",
        "\n",
        "    # not using data from year 2013\n",
        "    all_data = all_data[all_data['date_block_num'] >= date_block_threshold] \n",
        "\n",
        "    #  lagged features\n",
        "    fit_columns = [col for col in all_data.columns if col[-1] in [str(item) for item in shift_range]] \n",
        "    # We will drop these later\n",
        "    cols_to_drop = list(set(list(all_data.columns)) - (set(fit_columns)|set(index_cols))) + ['date_block_num'] \n",
        "\n",
        "    # Category for  item\n",
        "    item_category_map = items[['item_id','item_category_id']].drop_duplicates()\n",
        "\n",
        "    all_data = pd.merge(all_data, item_category_map, how='left', on='item_id')\n",
        "    all_data = downcast_dtypes(all_data)\n",
        "    gc.collect();\n",
        "    \n",
        "    return [all_data, cols_to_drop]"
      ],
      "execution_count": 0,
      "outputs": []
    },
    {
      "cell_type": "code",
      "metadata": {
        "id": "Iwftvsz0Y_D5",
        "colab_type": "code",
        "outputId": "86d7f51a-0491-48c0-b36e-1bd423f89ce2",
        "colab": {
          "base_uri": "https://localhost:8080/",
          "height": 66,
          "referenced_widgets": [
            "76703b8140b845749fc12b5d0fdd018f",
            "ce9667169b804613b6bec4a153768070",
            "4312a97b19db470faa92b02c834c26fb",
            "a703f54acf2b46d49d51daa7b2a8f329",
            "765e8e802830436b979425c5e7bf4c07",
            "ed3fc41b34df48d986da3462f5183c79",
            "e816daf7d8d14714a107d72183a6572f",
            "645bcefac9344581a78508c3888e731f"
          ]
        }
      },
      "source": [
        "list_lags = [1, 2, 3]\n",
        "date_block_threshold = 12\n",
        "sales_for_modelling = train[train.item_id.isin(test.item_id)]\n",
        "[all_data, to_drop_cols]  = create_data_set(sales_for_modelling, test, items, list_lags, date_block_threshold)"
      ],
      "execution_count": 0,
      "outputs": [
        {
          "output_type": "display_data",
          "data": {
            "application/vnd.jupyter.widget-view+json": {
              "model_id": "76703b8140b845749fc12b5d0fdd018f",
              "version_minor": 0,
              "version_major": 2
            },
            "text/plain": [
              "HBox(children=(IntProgress(value=0, max=3), HTML(value='')))"
            ]
          },
          "metadata": {
            "tags": []
          }
        },
        {
          "output_type": "stream",
          "text": [
            "\n"
          ],
          "name": "stdout"
        }
      ]
    },
    {
      "cell_type": "markdown",
      "metadata": {
        "id": "pNGqMcTpgO8Q",
        "colab_type": "text"
      },
      "source": [
        "Let's look at what we got here!"
      ]
    },
    {
      "cell_type": "code",
      "metadata": {
        "id": "m1IwCG_hdRWp",
        "colab_type": "code",
        "outputId": "01985505-e8a1-4aa7-8d02-d5c13c5a6f4a",
        "colab": {
          "base_uri": "https://localhost:8080/",
          "height": 224
        }
      },
      "source": [
        "all_data.head()"
      ],
      "execution_count": 0,
      "outputs": [
        {
          "output_type": "execute_result",
          "data": {
            "text/html": [
              "<div>\n",
              "<style scoped>\n",
              "    .dataframe tbody tr th:only-of-type {\n",
              "        vertical-align: middle;\n",
              "    }\n",
              "\n",
              "    .dataframe tbody tr th {\n",
              "        vertical-align: top;\n",
              "    }\n",
              "\n",
              "    .dataframe thead th {\n",
              "        text-align: right;\n",
              "    }\n",
              "</style>\n",
              "<table border=\"1\" class=\"dataframe\">\n",
              "  <thead>\n",
              "    <tr style=\"text-align: right;\">\n",
              "      <th></th>\n",
              "      <th>shop_id</th>\n",
              "      <th>item_id</th>\n",
              "      <th>date_block_num</th>\n",
              "      <th>target</th>\n",
              "      <th>target_shop</th>\n",
              "      <th>target_item</th>\n",
              "      <th>target_lag_1</th>\n",
              "      <th>target_item_lag_1</th>\n",
              "      <th>target_shop_lag_1</th>\n",
              "      <th>target_lag_2</th>\n",
              "      <th>target_item_lag_2</th>\n",
              "      <th>target_shop_lag_2</th>\n",
              "      <th>target_lag_3</th>\n",
              "      <th>target_item_lag_3</th>\n",
              "      <th>target_shop_lag_3</th>\n",
              "      <th>item_category_id</th>\n",
              "    </tr>\n",
              "  </thead>\n",
              "  <tbody>\n",
              "    <tr>\n",
              "      <th>0</th>\n",
              "      <td>54</td>\n",
              "      <td>10297</td>\n",
              "      <td>12</td>\n",
              "      <td>4.0</td>\n",
              "      <td>3416.0</td>\n",
              "      <td>23.0</td>\n",
              "      <td>3.0</td>\n",
              "      <td>42.0</td>\n",
              "      <td>4282.0</td>\n",
              "      <td>0.0</td>\n",
              "      <td>2.0</td>\n",
              "      <td>3085.0</td>\n",
              "      <td>0.0</td>\n",
              "      <td>0.0</td>\n",
              "      <td>0.0</td>\n",
              "      <td>37</td>\n",
              "    </tr>\n",
              "    <tr>\n",
              "      <th>1</th>\n",
              "      <td>54</td>\n",
              "      <td>10298</td>\n",
              "      <td>12</td>\n",
              "      <td>14.0</td>\n",
              "      <td>3416.0</td>\n",
              "      <td>182.0</td>\n",
              "      <td>21.0</td>\n",
              "      <td>369.0</td>\n",
              "      <td>4282.0</td>\n",
              "      <td>119.0</td>\n",
              "      <td>1309.0</td>\n",
              "      <td>3085.0</td>\n",
              "      <td>7.0</td>\n",
              "      <td>144.0</td>\n",
              "      <td>2464.0</td>\n",
              "      <td>40</td>\n",
              "    </tr>\n",
              "    <tr>\n",
              "      <th>2</th>\n",
              "      <td>54</td>\n",
              "      <td>10300</td>\n",
              "      <td>12</td>\n",
              "      <td>3.0</td>\n",
              "      <td>3416.0</td>\n",
              "      <td>26.0</td>\n",
              "      <td>1.0</td>\n",
              "      <td>54.0</td>\n",
              "      <td>4282.0</td>\n",
              "      <td>31.0</td>\n",
              "      <td>361.0</td>\n",
              "      <td>3085.0</td>\n",
              "      <td>0.0</td>\n",
              "      <td>53.0</td>\n",
              "      <td>2464.0</td>\n",
              "      <td>37</td>\n",
              "    </tr>\n",
              "    <tr>\n",
              "      <th>3</th>\n",
              "      <td>54</td>\n",
              "      <td>10292</td>\n",
              "      <td>12</td>\n",
              "      <td>9.0</td>\n",
              "      <td>3416.0</td>\n",
              "      <td>93.0</td>\n",
              "      <td>8.0</td>\n",
              "      <td>156.0</td>\n",
              "      <td>4282.0</td>\n",
              "      <td>16.0</td>\n",
              "      <td>203.0</td>\n",
              "      <td>3085.0</td>\n",
              "      <td>15.0</td>\n",
              "      <td>279.0</td>\n",
              "      <td>2464.0</td>\n",
              "      <td>40</td>\n",
              "    </tr>\n",
              "    <tr>\n",
              "      <th>4</th>\n",
              "      <td>54</td>\n",
              "      <td>10143</td>\n",
              "      <td>12</td>\n",
              "      <td>1.0</td>\n",
              "      <td>3416.0</td>\n",
              "      <td>12.0</td>\n",
              "      <td>1.0</td>\n",
              "      <td>18.0</td>\n",
              "      <td>4282.0</td>\n",
              "      <td>0.0</td>\n",
              "      <td>2.0</td>\n",
              "      <td>3085.0</td>\n",
              "      <td>0.0</td>\n",
              "      <td>0.0</td>\n",
              "      <td>0.0</td>\n",
              "      <td>55</td>\n",
              "    </tr>\n",
              "  </tbody>\n",
              "</table>\n",
              "</div>"
            ],
            "text/plain": [
              "   shop_id  item_id  ...  target_shop_lag_3  item_category_id\n",
              "0       54    10297  ...                0.0                37\n",
              "1       54    10298  ...             2464.0                40\n",
              "2       54    10300  ...             2464.0                37\n",
              "3       54    10292  ...             2464.0                40\n",
              "4       54    10143  ...                0.0                55\n",
              "\n",
              "[5 rows x 16 columns]"
            ]
          },
          "metadata": {
            "tags": []
          },
          "execution_count": 10
        }
      ]
    },
    {
      "cell_type": "code",
      "metadata": {
        "id": "T35vJg54gR3z",
        "colab_type": "code",
        "outputId": "75ccf2cb-2bf0-4870-a05b-a71533bf8c8d",
        "colab": {
          "base_uri": "https://localhost:8080/",
          "height": 317
        }
      },
      "source": [
        "all_data.describe()"
      ],
      "execution_count": 0,
      "outputs": [
        {
          "output_type": "execute_result",
          "data": {
            "text/html": [
              "<div>\n",
              "<style scoped>\n",
              "    .dataframe tbody tr th:only-of-type {\n",
              "        vertical-align: middle;\n",
              "    }\n",
              "\n",
              "    .dataframe tbody tr th {\n",
              "        vertical-align: top;\n",
              "    }\n",
              "\n",
              "    .dataframe thead th {\n",
              "        text-align: right;\n",
              "    }\n",
              "</style>\n",
              "<table border=\"1\" class=\"dataframe\">\n",
              "  <thead>\n",
              "    <tr style=\"text-align: right;\">\n",
              "      <th></th>\n",
              "      <th>shop_id</th>\n",
              "      <th>item_id</th>\n",
              "      <th>date_block_num</th>\n",
              "      <th>target</th>\n",
              "      <th>target_shop</th>\n",
              "      <th>target_item</th>\n",
              "      <th>target_lag_1</th>\n",
              "      <th>target_item_lag_1</th>\n",
              "      <th>target_shop_lag_1</th>\n",
              "      <th>target_lag_2</th>\n",
              "      <th>target_item_lag_2</th>\n",
              "      <th>target_shop_lag_2</th>\n",
              "      <th>target_lag_3</th>\n",
              "      <th>target_item_lag_3</th>\n",
              "      <th>target_shop_lag_3</th>\n",
              "      <th>item_category_id</th>\n",
              "    </tr>\n",
              "  </thead>\n",
              "  <tbody>\n",
              "    <tr>\n",
              "      <th>count</th>\n",
              "      <td>3.324774e+06</td>\n",
              "      <td>3.324774e+06</td>\n",
              "      <td>3.324774e+06</td>\n",
              "      <td>3.324774e+06</td>\n",
              "      <td>3.324774e+06</td>\n",
              "      <td>3.324774e+06</td>\n",
              "      <td>3.324774e+06</td>\n",
              "      <td>3.324774e+06</td>\n",
              "      <td>3.324774e+06</td>\n",
              "      <td>3.324774e+06</td>\n",
              "      <td>3.324774e+06</td>\n",
              "      <td>3.324774e+06</td>\n",
              "      <td>3.324774e+06</td>\n",
              "      <td>3.324774e+06</td>\n",
              "      <td>3.324774e+06</td>\n",
              "      <td>3.324774e+06</td>\n",
              "    </tr>\n",
              "    <tr>\n",
              "      <th>mean</th>\n",
              "      <td>3.188525e+01</td>\n",
              "      <td>1.083116e+04</td>\n",
              "      <td>2.467748e+01</td>\n",
              "      <td>4.242574e-01</td>\n",
              "      <td>1.305462e+03</td>\n",
              "      <td>2.004739e+01</td>\n",
              "      <td>4.437213e-01</td>\n",
              "      <td>2.083526e+01</td>\n",
              "      <td>1.328432e+03</td>\n",
              "      <td>4.364528e-01</td>\n",
              "      <td>2.046342e+01</td>\n",
              "      <td>1.249924e+03</td>\n",
              "      <td>4.290592e-01</td>\n",
              "      <td>2.021551e+01</td>\n",
              "      <td>1.179763e+03</td>\n",
              "      <td>4.607316e+01</td>\n",
              "    </tr>\n",
              "    <tr>\n",
              "      <th>std</th>\n",
              "      <td>1.733908e+01</td>\n",
              "      <td>6.274294e+03</td>\n",
              "      <td>6.390452e+00</td>\n",
              "      <td>4.288682e+00</td>\n",
              "      <td>1.141293e+03</td>\n",
              "      <td>1.268713e+02</td>\n",
              "      <td>4.541590e+00</td>\n",
              "      <td>1.353630e+02</td>\n",
              "      <td>1.146194e+03</td>\n",
              "      <td>4.464906e+00</td>\n",
              "      <td>1.375974e+02</td>\n",
              "      <td>1.139939e+03</td>\n",
              "      <td>4.535408e+00</td>\n",
              "      <td>1.402152e+02</td>\n",
              "      <td>1.136630e+03</td>\n",
              "      <td>1.643984e+01</td>\n",
              "    </tr>\n",
              "    <tr>\n",
              "      <th>min</th>\n",
              "      <td>2.000000e+00</td>\n",
              "      <td>3.000000e+01</td>\n",
              "      <td>1.200000e+01</td>\n",
              "      <td>-2.000000e+00</td>\n",
              "      <td>-1.000000e+00</td>\n",
              "      <td>-1.000000e+00</td>\n",
              "      <td>-2.000000e+00</td>\n",
              "      <td>-1.000000e+00</td>\n",
              "      <td>0.000000e+00</td>\n",
              "      <td>-4.000000e+00</td>\n",
              "      <td>-1.000000e+00</td>\n",
              "      <td>0.000000e+00</td>\n",
              "      <td>-4.000000e+00</td>\n",
              "      <td>-1.000000e+00</td>\n",
              "      <td>0.000000e+00</td>\n",
              "      <td>0.000000e+00</td>\n",
              "    </tr>\n",
              "    <tr>\n",
              "      <th>25%</th>\n",
              "      <td>1.700000e+01</td>\n",
              "      <td>5.101000e+03</td>\n",
              "      <td>2.000000e+01</td>\n",
              "      <td>0.000000e+00</td>\n",
              "      <td>6.950000e+02</td>\n",
              "      <td>1.000000e+00</td>\n",
              "      <td>0.000000e+00</td>\n",
              "      <td>1.000000e+00</td>\n",
              "      <td>7.100000e+02</td>\n",
              "      <td>0.000000e+00</td>\n",
              "      <td>0.000000e+00</td>\n",
              "      <td>6.530000e+02</td>\n",
              "      <td>0.000000e+00</td>\n",
              "      <td>0.000000e+00</td>\n",
              "      <td>5.940000e+02</td>\n",
              "      <td>3.700000e+01</td>\n",
              "    </tr>\n",
              "    <tr>\n",
              "      <th>50%</th>\n",
              "      <td>3.300000e+01</td>\n",
              "      <td>1.082700e+04</td>\n",
              "      <td>2.500000e+01</td>\n",
              "      <td>0.000000e+00</td>\n",
              "      <td>1.023000e+03</td>\n",
              "      <td>5.000000e+00</td>\n",
              "      <td>0.000000e+00</td>\n",
              "      <td>5.000000e+00</td>\n",
              "      <td>1.035000e+03</td>\n",
              "      <td>0.000000e+00</td>\n",
              "      <td>5.000000e+00</td>\n",
              "      <td>9.970000e+02</td>\n",
              "      <td>0.000000e+00</td>\n",
              "      <td>4.000000e+00</td>\n",
              "      <td>9.640000e+02</td>\n",
              "      <td>4.300000e+01</td>\n",
              "    </tr>\n",
              "    <tr>\n",
              "      <th>75%</th>\n",
              "      <td>4.700000e+01</td>\n",
              "      <td>1.609000e+04</td>\n",
              "      <td>3.000000e+01</td>\n",
              "      <td>0.000000e+00</td>\n",
              "      <td>1.436000e+03</td>\n",
              "      <td>1.500000e+01</td>\n",
              "      <td>0.000000e+00</td>\n",
              "      <td>1.500000e+01</td>\n",
              "      <td>1.455000e+03</td>\n",
              "      <td>0.000000e+00</td>\n",
              "      <td>1.500000e+01</td>\n",
              "      <td>1.427000e+03</td>\n",
              "      <td>0.000000e+00</td>\n",
              "      <td>1.400000e+01</td>\n",
              "      <td>1.375000e+03</td>\n",
              "      <td>5.800000e+01</td>\n",
              "    </tr>\n",
              "    <tr>\n",
              "      <th>max</th>\n",
              "      <td>5.900000e+01</td>\n",
              "      <td>2.216700e+04</td>\n",
              "      <td>3.400000e+01</td>\n",
              "      <td>2.253000e+03</td>\n",
              "      <td>1.049500e+04</td>\n",
              "      <td>1.218500e+04</td>\n",
              "      <td>2.253000e+03</td>\n",
              "      <td>1.255700e+04</td>\n",
              "      <td>1.049500e+04</td>\n",
              "      <td>1.305000e+03</td>\n",
              "      <td>1.255700e+04</td>\n",
              "      <td>1.049500e+04</td>\n",
              "      <td>1.305000e+03</td>\n",
              "      <td>1.255700e+04</td>\n",
              "      <td>1.049500e+04</td>\n",
              "      <td>8.300000e+01</td>\n",
              "    </tr>\n",
              "  </tbody>\n",
              "</table>\n",
              "</div>"
            ],
            "text/plain": [
              "            shop_id       item_id  ...  target_shop_lag_3  item_category_id\n",
              "count  3.324774e+06  3.324774e+06  ...       3.324774e+06      3.324774e+06\n",
              "mean   3.188525e+01  1.083116e+04  ...       1.179763e+03      4.607316e+01\n",
              "std    1.733908e+01  6.274294e+03  ...       1.136630e+03      1.643984e+01\n",
              "min    2.000000e+00  3.000000e+01  ...       0.000000e+00      0.000000e+00\n",
              "25%    1.700000e+01  5.101000e+03  ...       5.940000e+02      3.700000e+01\n",
              "50%    3.300000e+01  1.082700e+04  ...       9.640000e+02      4.300000e+01\n",
              "75%    4.700000e+01  1.609000e+04  ...       1.375000e+03      5.800000e+01\n",
              "max    5.900000e+01  2.216700e+04  ...       1.049500e+04      8.300000e+01\n",
              "\n",
              "[8 rows x 16 columns]"
            ]
          },
          "metadata": {
            "tags": []
          },
          "execution_count": 46
        }
      ]
    },
    {
      "cell_type": "code",
      "metadata": {
        "id": "-ex0DaL4gJyK",
        "colab_type": "code",
        "outputId": "fcecaaf6-c94b-4636-bc52-5b537d0f3cdd",
        "colab": {
          "base_uri": "https://localhost:8080/",
          "height": 313
        }
      },
      "source": [
        "plt.title('Number of different shop-item combinations in data per month')\n",
        "all_data.groupby('date_block_num').size().plot()"
      ],
      "execution_count": 0,
      "outputs": [
        {
          "output_type": "execute_result",
          "data": {
            "text/plain": [
              "<matplotlib.axes._subplots.AxesSubplot at 0x7f46dc947630>"
            ]
          },
          "metadata": {
            "tags": []
          },
          "execution_count": 47
        },
        {
          "output_type": "display_data",
          "data": {
            "image/png": "[encoded data removed]",
            "text/plain": [
              "<Figure size 432x288 with 1 Axes>"
            ]
          },
          "metadata": {
            "tags": []
          }
        }
      ]
    },
    {
      "cell_type": "markdown",
      "metadata": {
        "id": "ub8gX3lShKah",
        "colab_type": "text"
      },
      "source": [
        "##Advanced feature engineering"
      ]
    },
    {
      "cell_type": "code",
      "metadata": {
        "id": "un2nHXc2hZ2A",
        "colab_type": "code",
        "colab": {}
      },
      "source": [
        "#we do mean encoding for ids\n",
        "mean_encoding_itemcat = pd.DataFrame(all_data.groupby(['shop_id', \n",
        "                                                    'item_category_id']).target.agg(['mean', 'var']).reset_index())\n",
        "mean_encoding_itemcat.columns = ['shop_id', 'item_category_id', 'mean_enc_cat_id', 'var_enc_cat_id']\n",
        "\n",
        "all_data = pd.merge(all_data, mean_encoding_itemcat, how='left', on=['shop_id', 'item_category_id'])\n"
      ],
      "execution_count": 0,
      "outputs": []
    },
    {
      "cell_type": "markdown",
      "metadata": {
        "id": "5WqbYUOshX81",
        "colab_type": "text"
      },
      "source": [
        "#Train/test split strategy"
      ]
    },
    {
      "cell_type": "markdown",
      "metadata": {
        "id": "62WrHdIOiJ3o",
        "colab_type": "text"
      },
      "source": [
        "Lets create a input dataframe for making the  submission (date_block_num=34).\n",
        "\n",
        "The target is zero (we miss the information sales for this month). We only get the model input from the table."
      ]
    },
    {
      "cell_type": "markdown",
      "metadata": {
        "id": "3BuZvvKri8ww",
        "colab_type": "text"
      },
      "source": [
        "The set for validation is associated \n",
        "with the months: 22, 31, 32, 33."
      ]
    },
    {
      "cell_type": "code",
      "metadata": {
        "id": "R_6Lmt5-gz5f",
        "colab_type": "code",
        "outputId": "e2960049-ff18-4b31-ee90-6ea894015f60",
        "colab": {
          "base_uri": "https://localhost:8080/",
          "height": 224
        }
      },
      "source": [
        "subset = all_data[all_data.date_block_num==34].fillna(0)\n",
        "all_data = all_data[all_data.date_block_num<34].fillna(0)\n",
        "subset.head()"
      ],
      "execution_count": 0,
      "outputs": [
        {
          "output_type": "execute_result",
          "data": {
            "text/html": [
              "<div>\n",
              "<style scoped>\n",
              "    .dataframe tbody tr th:only-of-type {\n",
              "        vertical-align: middle;\n",
              "    }\n",
              "\n",
              "    .dataframe tbody tr th {\n",
              "        vertical-align: top;\n",
              "    }\n",
              "\n",
              "    .dataframe thead th {\n",
              "        text-align: right;\n",
              "    }\n",
              "</style>\n",
              "<table border=\"1\" class=\"dataframe\">\n",
              "  <thead>\n",
              "    <tr style=\"text-align: right;\">\n",
              "      <th></th>\n",
              "      <th>shop_id</th>\n",
              "      <th>item_id</th>\n",
              "      <th>date_block_num</th>\n",
              "      <th>target</th>\n",
              "      <th>target_shop</th>\n",
              "      <th>target_item</th>\n",
              "      <th>target_lag_1</th>\n",
              "      <th>target_item_lag_1</th>\n",
              "      <th>target_shop_lag_1</th>\n",
              "      <th>target_lag_2</th>\n",
              "      <th>target_item_lag_2</th>\n",
              "      <th>target_shop_lag_2</th>\n",
              "      <th>target_lag_3</th>\n",
              "      <th>target_item_lag_3</th>\n",
              "      <th>target_shop_lag_3</th>\n",
              "      <th>item_category_id</th>\n",
              "      <th>mean_enc_cat_id</th>\n",
              "      <th>var_enc_cat_id</th>\n",
              "    </tr>\n",
              "  </thead>\n",
              "  <tbody>\n",
              "    <tr>\n",
              "      <th>3110574</th>\n",
              "      <td>5</td>\n",
              "      <td>5037</td>\n",
              "      <td>34</td>\n",
              "      <td>0.0</td>\n",
              "      <td>0.0</td>\n",
              "      <td>0.0</td>\n",
              "      <td>0.0</td>\n",
              "      <td>25.0</td>\n",
              "      <td>1032.0</td>\n",
              "      <td>1.0</td>\n",
              "      <td>110.0</td>\n",
              "      <td>1041.0</td>\n",
              "      <td>3.0</td>\n",
              "      <td>119.0</td>\n",
              "      <td>1218.0</td>\n",
              "      <td>19</td>\n",
              "      <td>0.663426</td>\n",
              "      <td>2.329000</td>\n",
              "    </tr>\n",
              "    <tr>\n",
              "      <th>3110575</th>\n",
              "      <td>5</td>\n",
              "      <td>5320</td>\n",
              "      <td>34</td>\n",
              "      <td>0.0</td>\n",
              "      <td>0.0</td>\n",
              "      <td>0.0</td>\n",
              "      <td>0.0</td>\n",
              "      <td>0.0</td>\n",
              "      <td>0.0</td>\n",
              "      <td>0.0</td>\n",
              "      <td>0.0</td>\n",
              "      <td>0.0</td>\n",
              "      <td>0.0</td>\n",
              "      <td>0.0</td>\n",
              "      <td>0.0</td>\n",
              "      <td>55</td>\n",
              "      <td>0.223282</td>\n",
              "      <td>0.406817</td>\n",
              "    </tr>\n",
              "    <tr>\n",
              "      <th>3110576</th>\n",
              "      <td>5</td>\n",
              "      <td>5233</td>\n",
              "      <td>34</td>\n",
              "      <td>0.0</td>\n",
              "      <td>0.0</td>\n",
              "      <td>0.0</td>\n",
              "      <td>1.0</td>\n",
              "      <td>42.0</td>\n",
              "      <td>1032.0</td>\n",
              "      <td>3.0</td>\n",
              "      <td>80.0</td>\n",
              "      <td>1041.0</td>\n",
              "      <td>1.0</td>\n",
              "      <td>150.0</td>\n",
              "      <td>1218.0</td>\n",
              "      <td>19</td>\n",
              "      <td>0.663426</td>\n",
              "      <td>2.329000</td>\n",
              "    </tr>\n",
              "    <tr>\n",
              "      <th>3110577</th>\n",
              "      <td>5</td>\n",
              "      <td>5232</td>\n",
              "      <td>34</td>\n",
              "      <td>0.0</td>\n",
              "      <td>0.0</td>\n",
              "      <td>0.0</td>\n",
              "      <td>0.0</td>\n",
              "      <td>28.0</td>\n",
              "      <td>1032.0</td>\n",
              "      <td>0.0</td>\n",
              "      <td>48.0</td>\n",
              "      <td>1041.0</td>\n",
              "      <td>1.0</td>\n",
              "      <td>65.0</td>\n",
              "      <td>1218.0</td>\n",
              "      <td>23</td>\n",
              "      <td>0.465819</td>\n",
              "      <td>1.079278</td>\n",
              "    </tr>\n",
              "    <tr>\n",
              "      <th>3110578</th>\n",
              "      <td>5</td>\n",
              "      <td>5268</td>\n",
              "      <td>34</td>\n",
              "      <td>0.0</td>\n",
              "      <td>0.0</td>\n",
              "      <td>0.0</td>\n",
              "      <td>0.0</td>\n",
              "      <td>0.0</td>\n",
              "      <td>0.0</td>\n",
              "      <td>0.0</td>\n",
              "      <td>0.0</td>\n",
              "      <td>0.0</td>\n",
              "      <td>0.0</td>\n",
              "      <td>0.0</td>\n",
              "      <td>0.0</td>\n",
              "      <td>20</td>\n",
              "      <td>1.095659</td>\n",
              "      <td>11.922459</td>\n",
              "    </tr>\n",
              "  </tbody>\n",
              "</table>\n",
              "</div>"
            ],
            "text/plain": [
              "         shop_id  item_id  ...  mean_enc_cat_id  var_enc_cat_id\n",
              "3110574        5     5037  ...         0.663426        2.329000\n",
              "3110575        5     5320  ...         0.223282        0.406817\n",
              "3110576        5     5233  ...         0.663426        2.329000\n",
              "3110577        5     5232  ...         0.465819        1.079278\n",
              "3110578        5     5268  ...         1.095659       11.922459\n",
              "\n",
              "[5 rows x 18 columns]"
            ]
          },
          "metadata": {
            "tags": []
          },
          "execution_count": 12
        }
      ]
    },
    {
      "cell_type": "code",
      "metadata": {
        "id": "IoSh-LNKjMpf",
        "colab_type": "code",
        "colab": {}
      },
      "source": [
        "dataset = all_data['date_block_num']\n",
        "mask_test = (dataset.isin([22,31,32,33]))\n",
        "mask_train = ~mask_test\n",
        "\n",
        "dates_train = dataset[mask_train]\n",
        "dates_test  = dataset[mask_test]\n",
        "\n",
        "X_train = all_data.loc[mask_train].drop(to_drop_cols, axis=1)\n",
        "X_test =  all_data.loc[mask_test].drop(to_drop_cols, axis=1)\n",
        "\n",
        "y_train = all_data.loc[mask_train, 'target'].values\n",
        "y_test =  all_data.loc[mask_test, 'target'].values"
      ],
      "execution_count": 0,
      "outputs": []
    },
    {
      "cell_type": "markdown",
      "metadata": {
        "id": "HNmKE380i6ze",
        "colab_type": "text"
      },
      "source": [
        "Our cross-validation"
      ]
    },
    {
      "cell_type": "code",
      "metadata": {
        "id": "FUjUaDFTiWwB",
        "colab_type": "code",
        "outputId": "b2448fd7-dc85-4038-d367-3acb5b1d4dcf",
        "colab": {
          "base_uri": "https://localhost:8080/",
          "height": 34
        }
      },
      "source": [
        "print(f'Cross-validation is the {round(X_test.shape[0]/X_train.shape[0],2)*100} %' )"
      ],
      "execution_count": 0,
      "outputs": [
        {
          "output_type": "stream",
          "text": [
            "Cross-validation is the 30.0 %\n"
          ],
          "name": "stdout"
        }
      ]
    },
    {
      "cell_type": "code",
      "metadata": {
        "id": "a8J6S915kfxj",
        "colab_type": "code",
        "colab": {}
      },
      "source": [
        "tuples_test_submission = pd.Series(list(X_test[['item_id', 'shop_id']][dates_test==33].itertuples(index=False, name=None)))"
      ],
      "execution_count": 0,
      "outputs": []
    },
    {
      "cell_type": "code",
      "metadata": {
        "id": "N5DyP0R4pqlK",
        "colab_type": "code",
        "outputId": "4cb1789b-c05d-4163-cab5-ada97f118a69",
        "colab": {
          "base_uri": "https://localhost:8080/",
          "height": 224
        }
      },
      "source": [
        "X_train.head()"
      ],
      "execution_count": 0,
      "outputs": [
        {
          "output_type": "execute_result",
          "data": {
            "text/html": [
              "<div>\n",
              "<style scoped>\n",
              "    .dataframe tbody tr th:only-of-type {\n",
              "        vertical-align: middle;\n",
              "    }\n",
              "\n",
              "    .dataframe tbody tr th {\n",
              "        vertical-align: top;\n",
              "    }\n",
              "\n",
              "    .dataframe thead th {\n",
              "        text-align: right;\n",
              "    }\n",
              "</style>\n",
              "<table border=\"1\" class=\"dataframe\">\n",
              "  <thead>\n",
              "    <tr style=\"text-align: right;\">\n",
              "      <th></th>\n",
              "      <th>shop_id</th>\n",
              "      <th>item_id</th>\n",
              "      <th>target_lag_1</th>\n",
              "      <th>target_item_lag_1</th>\n",
              "      <th>target_shop_lag_1</th>\n",
              "      <th>target_lag_2</th>\n",
              "      <th>target_item_lag_2</th>\n",
              "      <th>target_shop_lag_2</th>\n",
              "      <th>target_lag_3</th>\n",
              "      <th>target_item_lag_3</th>\n",
              "      <th>target_shop_lag_3</th>\n",
              "      <th>item_category_id</th>\n",
              "      <th>mean_enc_cat_id</th>\n",
              "      <th>var_enc_cat_id</th>\n",
              "    </tr>\n",
              "  </thead>\n",
              "  <tbody>\n",
              "    <tr>\n",
              "      <th>0</th>\n",
              "      <td>54</td>\n",
              "      <td>10297</td>\n",
              "      <td>3.0</td>\n",
              "      <td>42.0</td>\n",
              "      <td>4282.0</td>\n",
              "      <td>0.0</td>\n",
              "      <td>2.0</td>\n",
              "      <td>3085.0</td>\n",
              "      <td>0.0</td>\n",
              "      <td>0.0</td>\n",
              "      <td>0.0</td>\n",
              "      <td>37</td>\n",
              "      <td>0.512281</td>\n",
              "      <td>2.742767</td>\n",
              "    </tr>\n",
              "    <tr>\n",
              "      <th>1</th>\n",
              "      <td>54</td>\n",
              "      <td>10298</td>\n",
              "      <td>21.0</td>\n",
              "      <td>369.0</td>\n",
              "      <td>4282.0</td>\n",
              "      <td>119.0</td>\n",
              "      <td>1309.0</td>\n",
              "      <td>3085.0</td>\n",
              "      <td>7.0</td>\n",
              "      <td>144.0</td>\n",
              "      <td>2464.0</td>\n",
              "      <td>40</td>\n",
              "      <td>1.120868</td>\n",
              "      <td>10.631319</td>\n",
              "    </tr>\n",
              "    <tr>\n",
              "      <th>2</th>\n",
              "      <td>54</td>\n",
              "      <td>10300</td>\n",
              "      <td>1.0</td>\n",
              "      <td>54.0</td>\n",
              "      <td>4282.0</td>\n",
              "      <td>31.0</td>\n",
              "      <td>361.0</td>\n",
              "      <td>3085.0</td>\n",
              "      <td>0.0</td>\n",
              "      <td>53.0</td>\n",
              "      <td>2464.0</td>\n",
              "      <td>37</td>\n",
              "      <td>0.512281</td>\n",
              "      <td>2.742767</td>\n",
              "    </tr>\n",
              "    <tr>\n",
              "      <th>3</th>\n",
              "      <td>54</td>\n",
              "      <td>10292</td>\n",
              "      <td>8.0</td>\n",
              "      <td>156.0</td>\n",
              "      <td>4282.0</td>\n",
              "      <td>16.0</td>\n",
              "      <td>203.0</td>\n",
              "      <td>3085.0</td>\n",
              "      <td>15.0</td>\n",
              "      <td>279.0</td>\n",
              "      <td>2464.0</td>\n",
              "      <td>40</td>\n",
              "      <td>1.120868</td>\n",
              "      <td>10.631319</td>\n",
              "    </tr>\n",
              "    <tr>\n",
              "      <th>4</th>\n",
              "      <td>54</td>\n",
              "      <td>10143</td>\n",
              "      <td>1.0</td>\n",
              "      <td>18.0</td>\n",
              "      <td>4282.0</td>\n",
              "      <td>0.0</td>\n",
              "      <td>2.0</td>\n",
              "      <td>3085.0</td>\n",
              "      <td>0.0</td>\n",
              "      <td>0.0</td>\n",
              "      <td>0.0</td>\n",
              "      <td>55</td>\n",
              "      <td>0.902726</td>\n",
              "      <td>2.715576</td>\n",
              "    </tr>\n",
              "  </tbody>\n",
              "</table>\n",
              "</div>"
            ],
            "text/plain": [
              "   shop_id  item_id  ...  mean_enc_cat_id  var_enc_cat_id\n",
              "0       54    10297  ...         0.512281        2.742767\n",
              "1       54    10298  ...         1.120868       10.631319\n",
              "2       54    10300  ...         0.512281        2.742767\n",
              "3       54    10292  ...         1.120868       10.631319\n",
              "4       54    10143  ...         0.902726        2.715576\n",
              "\n",
              "[5 rows x 14 columns]"
            ]
          },
          "metadata": {
            "tags": []
          },
          "execution_count": 63
        }
      ]
    },
    {
      "cell_type": "markdown",
      "metadata": {
        "id": "TgcnimiblI2G",
        "colab_type": "text"
      },
      "source": [
        "#Now let's model"
      ]
    },
    {
      "cell_type": "markdown",
      "metadata": {
        "id": "TrEgdlw8lI5o",
        "colab_type": "text"
      },
      "source": [
        "Firstly, we'll create two base tree models trained with a holdout dataset, estimate them and check the features importance and then go further and do some stacking with a linear model"
      ]
    },
    {
      "cell_type": "markdown",
      "metadata": {
        "id": "-bpFi2jWiLbd",
        "colab_type": "text"
      },
      "source": [
        "Step 1. Create a light gradient boosting model and estimate the contributions of the features"
      ]
    },
    {
      "cell_type": "code",
      "metadata": {
        "id": "stLtiaJ8q28m",
        "colab_type": "code",
        "colab": {}
      },
      "source": [
        "#define some functions: to \"clip\" our data into the intervals and to measure rmse\n",
        "def clip_20(x):\n",
        "\n",
        "\n",
        "    return np.clip(x, 0, 20)\n",
        "\n",
        "def clip_40(x):\n",
        "\n",
        "\n",
        "    return np.clip(x, 0, 20)\n",
        "\n",
        "def rmse(*args):\n",
        "\n",
        "\n",
        "    return np.sqrt(mean_squared_error(*args))"
      ],
      "execution_count": 0,
      "outputs": []
    },
    {
      "cell_type": "code",
      "metadata": {
        "id": "5IzUzoBblqdG",
        "colab_type": "code",
        "colab": {}
      },
      "source": [
        "learning_rs = [0.01, 0.02, 0.03, 0.04, 0.05, 0.06, 0.07, 0.08]\n",
        "best_score = 1\n",
        "#making a loop for my best estimated parameters to adjust the learning rate\n",
        "for lr in learning_rs:\n",
        "    lgb_params = {\n",
        "               'feature_fraction': 0.7,\n",
        "               'metric': 'rmse',\n",
        "               'nthread':1, \n",
        "               'min_data_in_leaf': 2**5, \n",
        "               'bagging_fraction': 0.7, \n",
        "               'learning_rate': lr, \n",
        "               'objective': 'mse', \n",
        "               'bagging_seed': 2**5, \n",
        "               'num_leaves': 2**5,\n",
        "               'bagging_freq':1,\n",
        "               'verbose':0 \n",
        "              }\n",
        "\n",
        "    lgb_m = lgb.train(lgb_params, lgb.Dataset(X_train, label=clip_40(y_train)), int(100 * (lr / 0.03)))\n",
        "    pred_lgb_test = lgb_m.predict(X_test)\n",
        "    score = rmse(clip_20(y_test), clip20(pred_lgb_test))\n",
        "\n",
        "    if score < best_score:\n",
        "        best_score = score\n",
        "        best_lr = lr\n",
        "        best_lgb = lgb_m"
      ],
      "execution_count": 0,
      "outputs": []
    },
    {
      "cell_type": "code",
      "metadata": {
        "id": "pA9NJT_swg42",
        "colab_type": "code",
        "outputId": "3061ba58-8659-4bd4-96aa-e44506d08129",
        "colab": {
          "base_uri": "https://localhost:8080/",
          "height": 34
        }
      },
      "source": [
        "#adjusted lr\n",
        "best_lr"
      ],
      "execution_count": 0,
      "outputs": [
        {
          "output_type": "execute_result",
          "data": {
            "text/plain": [
              "0.08"
            ]
          },
          "metadata": {
            "tags": []
          },
          "execution_count": 81
        }
      ]
    },
    {
      "cell_type": "code",
      "metadata": {
        "id": "9ZtIsgEfw967",
        "colab_type": "code",
        "colab": {}
      },
      "source": [
        "#join the sets\n",
        "#we'll clip y for training to create a difference between y_train, y_test\n",
        "X = X_train.append(X_test)\n",
        "y = np.append(y_train, y_test)"
      ],
      "execution_count": 0,
      "outputs": []
    },
    {
      "cell_type": "code",
      "metadata": {
        "id": "Ek0MA10ZxLLS",
        "colab_type": "code",
        "colab": {}
      },
      "source": [
        "#train with the best params\n",
        "best_params = {\n",
        "               'feature_fraction': 0.75,\n",
        "               'metric': 'rmse',\n",
        "               'nthread':1, \n",
        "               'min_data_in_leaf': 2**7, \n",
        "               'bagging_fraction': 0.75, \n",
        "               'learning_rate': 0.08, \n",
        "               'objective': 'mse', \n",
        "               'bagging_seed': 2**7, \n",
        "               'num_leaves': 2**7,\n",
        "               'bagging_freq':1,\n",
        "               'verbose':0 \n",
        "              }\n",
        "lgb_best = lgb.train(best_params, lgb.Dataset(X, label=clip_40(y)), int(100 * (best_\n",
        "                                                                               lr / 0.03)))"
      ],
      "execution_count": 0,
      "outputs": []
    },
    {
      "cell_type": "markdown",
      "metadata": {
        "id": "skCeXSVQlE0N",
        "colab_type": "text"
      },
      "source": [
        "Now lets see the quality of the model"
      ]
    },
    {
      "cell_type": "code",
      "metadata": {
        "id": "r95afyRauMUV",
        "colab_type": "code",
        "outputId": "543285fa-8713-417d-e490-ef9881a3ef36",
        "colab": {
          "base_uri": "https://localhost:8080/",
          "height": 51
        }
      },
      "source": [
        "pred_lgb_test = lgb_best.predict(X_test)\n",
        "print('Train RMSE for lgb is  %f' % rmse(clip_20(y_train), clip_20(lgb_best.predict(X_train))))\n",
        "print('Val RMSE for lgb is %f' % rmse(clip_20(y_test), clip_20(pred_lgb_test)))"
      ],
      "execution_count": 0,
      "outputs": [
        {
          "output_type": "stream",
          "text": [
            "Train RMSE for lgb is  0.861951\n",
            "Val RMSE for lgb is 0.820660\n"
          ],
          "name": "stdout"
        }
      ]
    },
    {
      "cell_type": "markdown",
      "metadata": {
        "id": "gYhTMigqlaFU",
        "colab_type": "text"
      },
      "source": [
        "And plot the importances"
      ]
    },
    {
      "cell_type": "code",
      "metadata": {
        "id": "Q3qCbI2NLwdH",
        "colab_type": "code",
        "outputId": "d704c271-8789-473e-cc7d-37fd858ea22a",
        "colab": {
          "base_uri": "https://localhost:8080/",
          "height": 281
        }
      },
      "source": [
        "f_importances = pd.Series(lgb_best.feature_importance(), index=X_test.columns)\n",
        "f_importances = f_importances.nlargest(20)\n",
        "f_importances.plot(kind='barh')\n",
        "plt.title('Feature importance LGB')\n",
        "plt.show()"
      ],
      "execution_count": 0,
      "outputs": [
        {
          "output_type": "display_data",
          "data": {
            "image/png": "[encoded data removed]",
            "text/plain": [
              "<Figure size 432x288 with 1 Axes>"
            ]
          },
          "metadata": {
            "tags": []
          }
        }
      ]
    },
    {
      "cell_type": "code",
      "metadata": {
        "id": "kN8XpjKF4huQ",
        "colab_type": "code",
        "colab": {}
      },
      "source": [
        "X = X_train.append(X_test)\n",
        "Y = np.concatenate([y_train, y_test])\n",
        "train_ind=np.zeros(X.shape[0])\n",
        "for i in range(0, len(X_train)):\n",
        "    train_ind[i] = -1\n",
        "pred_s = PredefinedSplit(test_fold=(train_ind))"
      ],
      "execution_count": 0,
      "outputs": []
    },
    {
      "cell_type": "code",
      "metadata": {
        "id": "7OJgeB5849h1",
        "colab_type": "code",
        "colab": {}
      },
      "source": [
        "#Here is an example of gridsearch strategy\n",
        "#but it didn't worked out the last time in my collab environment, so I comment the code and use the parameters that I got earlier\n",
        "#param_grid={'bootstrap':[0.6, 0.7, 0.8],\n",
        "            #'max_features':[4, 6, 8], \n",
        "            #'max_depth' : [None, 5, 7, 9, 10]}\n",
        "#gs = GridSearchCV(cv = pred_s, \n",
        "                  #estimator = RandomForestRegressor(n_estimators=300, n_jobs=-1), \n",
        "                  #param_grid=param_grid, scoring='neg_mean_squared_error')"
      ],
      "execution_count": 0,
      "outputs": []
    },
    {
      "cell_type": "code",
      "metadata": {
        "id": "_ef5NrsN5WdR",
        "colab_type": "code",
        "colab": {}
      },
      "source": [
        "#gs.fit(X, clip_40(Y))\n",
        "#best_rf = gs.best_estimator_"
      ],
      "execution_count": 0,
      "outputs": []
    },
    {
      "cell_type": "code",
      "metadata": {
        "id": "l3QXikSr-uES",
        "colab_type": "code",
        "colab": {}
      },
      "source": [
        "bootst_best_params = {\"bootstrap\":0.7,\n",
        "                      \"criterion\":'mse',\n",
        "                      \"max_depth\":10,\n",
        "                      \"max_features\":6,\n",
        "                      \"max_leaf_nodes\":None,\n",
        "                      \"min_impurity_decrease\":0.0,\n",
        "                      \"min_impurity_split\":None,\n",
        "                      \"min_samples_leaf\":1,\n",
        "                      \"min_samples_split\":3,\n",
        "                      \"min_weight_fraction_leaf\":0.0,\n",
        "                      \"n_estimators\":300,\n",
        "                      \"n_jobs\":4, \n",
        "                      \"oob_score\":False,\n",
        "                      \"random_state\":None,\n",
        "                      \"verbose\":0,\n",
        "                      \"warm_start\":False}"
      ],
      "execution_count": 0,
      "outputs": []
    },
    {
      "cell_type": "code",
      "metadata": {
        "id": "Re1qDOqf_sRb",
        "colab_type": "code",
        "colab": {}
      },
      "source": [
        "best_rf = RandomForestRegressor(bootstrap=0.7, criterion='mse', max_depth=10,\n",
        "           max_features=6, max_leaf_nodes=None, min_impurity_decrease=0.0,\n",
        "           min_impurity_split=None, min_samples_leaf=1,\n",
        "           min_samples_split=3, min_weight_fraction_leaf=0.0,\n",
        "           n_estimators=300, n_jobs=4, oob_score=False, random_state=None,\n",
        "           verbose=0, warm_start=False)"
      ],
      "execution_count": 0,
      "outputs": []
    },
    {
      "cell_type": "code",
      "metadata": {
        "id": "ZhmRsI1ADxgg",
        "colab_type": "code",
        "outputId": "fff074b1-400a-4eb9-d182-e3a91b0b1de9",
        "colab": {
          "base_uri": "https://localhost:8080/",
          "height": 136
        }
      },
      "source": [
        "best_rf.fit(X, clip_40(y))"
      ],
      "execution_count": 0,
      "outputs": [
        {
          "output_type": "execute_result",
          "data": {
            "text/plain": [
              "RandomForestRegressor(bootstrap=0.7, criterion='mse', max_depth=10,\n",
              "                      max_features=6, max_leaf_nodes=None,\n",
              "                      min_impurity_decrease=0.0, min_impurity_split=None,\n",
              "                      min_samples_leaf=1, min_samples_split=3,\n",
              "                      min_weight_fraction_leaf=0.0, n_estimators=300, n_jobs=4,\n",
              "                      oob_score=False, random_state=None, verbose=0,\n",
              "                      warm_start=False)"
            ]
          },
          "metadata": {
            "tags": []
          },
          "execution_count": 25
        }
      ]
    },
    {
      "cell_type": "markdown",
      "metadata": {
        "id": "PsNpoujpmFqa",
        "colab_type": "text"
      },
      "source": [
        "Now lets check the quality on the test and train parts"
      ]
    },
    {
      "cell_type": "code",
      "metadata": {
        "id": "3AjzjGWOMf3r",
        "colab_type": "code",
        "outputId": "363a7952-1248-491c-fa2b-e82f70e9eaa2",
        "colab": {
          "base_uri": "https://localhost:8080/",
          "height": 51
        }
      },
      "source": [
        "pred_rf_test = clip_20(best_rf.predict(X_test.fillna(0)))\n",
        "print('Train RMSE for rf is %f' % rmse(clip_20(y_train), clip_20(best_rf.predict(X_train))))\n",
        "print('Val RMSE for rf is %f' % rmse(clip_20(y_test), pred_rf_test))\n"
      ],
      "execution_count": 0,
      "outputs": [
        {
          "output_type": "stream",
          "text": [
            "Train RMSE for rf is 0.972239\n",
            "Val RMSE for rf is 0.912222\n"
          ],
          "name": "stdout"
        }
      ]
    },
    {
      "cell_type": "markdown",
      "metadata": {
        "id": "hHBeUbh1mSfg",
        "colab_type": "text"
      },
      "source": [
        "After having created the two tree-based models we can try stacking, using their predictions as metafeatures for a new model (in this case I try a linear regression one)"
      ]
    },
    {
      "cell_type": "markdown",
      "metadata": {
        "id": "yn_eArybmsZW",
        "colab_type": "text"
      },
      "source": [
        "Stacking new features in a new dataset"
      ]
    },
    {
      "cell_type": "code",
      "metadata": {
        "id": "Pc_I64B-JuMm",
        "colab_type": "code",
        "colab": {}
      },
      "source": [
        "X_test_2 = np.c_[pred_rf_test, pred_lgb_test]"
      ],
      "execution_count": 0,
      "outputs": []
    },
    {
      "cell_type": "code",
      "metadata": {
        "id": "NRkn0HaNm-Uu",
        "colab_type": "code",
        "colab": {}
      },
      "source": [
        ""
      ],
      "execution_count": 0,
      "outputs": []
    },
    {
      "cell_type": "markdown",
      "metadata": {
        "id": "RRuuRRbhmzAM",
        "colab_type": "text"
      },
      "source": [
        "Creating a linear model, training it on our new dataset and checking rmse"
      ]
    },
    {
      "cell_type": "code",
      "metadata": {
        "id": "mrGDhQGX0Faz",
        "colab_type": "code",
        "outputId": "b45b591d-b0c8-473a-d2d5-b9ef8d5c194b",
        "colab": {
          "base_uri": "https://localhost:8080/",
          "height": 34
        }
      },
      "source": [
        "lr = LinearRegression()\n",
        "lr.fit(X_test_2, clip_40(y_test))\n",
        "pred_lr_test =  clip_20(lr.predict(X_test_2))\n",
        "print('Test rmse for stacking variables is %f' % rmse(clip_20(y_test), clip_20(pred_lr_test)))"
      ],
      "execution_count": 0,
      "outputs": [
        {
          "output_type": "stream",
          "text": [
            "Test rmse for stacking variables is 0.811118\n"
          ],
          "name": "stdout"
        }
      ]
    },
    {
      "cell_type": "markdown",
      "metadata": {
        "id": "JkiCZqqvQiH6",
        "colab_type": "text"
      },
      "source": [
        "##Creating a submission\n",
        "\n",
        "Here we follow the same stacking path"
      ]
    },
    {
      "cell_type": "code",
      "metadata": {
        "id": "sNOfTYknQkEN",
        "colab_type": "code",
        "colab": {}
      },
      "source": [
        "pred_test_rf = best_rf.predict(subset.drop(to_drop_cols, axis=1).fillna(0))\n",
        "pred_test_lgb = lgb_best.predict(subset.drop(to_drop_cols, axis=1).fillna(0))"
      ],
      "execution_count": 0,
      "outputs": []
    },
    {
      "cell_type": "code",
      "metadata": {
        "id": "XQvCV9S3Qpn5",
        "colab_type": "code",
        "colab": {}
      },
      "source": [
        "X_test_2 = np.c_[pred_test_rf, pred_test_lgb]"
      ],
      "execution_count": 0,
      "outputs": []
    },
    {
      "cell_type": "code",
      "metadata": {
        "id": "nHshxP_3Q6sN",
        "colab_type": "code",
        "colab": {}
      },
      "source": [
        "test_pred = clip_20(lr.predict(X_test_2))"
      ],
      "execution_count": 0,
      "outputs": []
    },
    {
      "cell_type": "code",
      "metadata": {
        "id": "AqArexz9Q-FN",
        "colab_type": "code",
        "colab": {}
      },
      "source": [
        "#Finally, produce a table with IDs and our predictions for them for our submission\n",
        "preds = pd.DataFrame()\n",
        "preds['shop_id'] = test.shop_id\n",
        "preds['item_id'] = test.item_id\n",
        "preds['item_cnt_month'] = test_pred\n",
        "submision = test[['ID', 'shop_id', 'item_id']].merge(preds, on=['shop_id', 'item_id'], how='left').fillna(0)\n",
        "submision[['ID', 'item_cnt_month']].to_csv('./submission.csv',index=False)"
      ],
      "execution_count": 0,
      "outputs": []
    },
    {
      "cell_type": "code",
      "metadata": {
        "id": "5072-sjoQ_2L",
        "colab_type": "code",
        "colab": {}
      },
      "source": [
        "ans = submision[['ID', 'item_cnt_month']]"
      ],
      "execution_count": 0,
      "outputs": []
    },
    {
      "cell_type": "code",
      "metadata": {
        "id": "-IS39SmMRjlT",
        "colab_type": "code",
        "outputId": "e838215b-a59a-428d-8166-1e346169c0a2",
        "colab": {
          "base_uri": "https://localhost:8080/",
          "height": 204
        }
      },
      "source": [
        "#Let's take a look\n",
        "ans.head()"
      ],
      "execution_count": 0,
      "outputs": [
        {
          "output_type": "execute_result",
          "data": {
            "text/html": [
              "<div>\n",
              "<style scoped>\n",
              "    .dataframe tbody tr th:only-of-type {\n",
              "        vertical-align: middle;\n",
              "    }\n",
              "\n",
              "    .dataframe tbody tr th {\n",
              "        vertical-align: top;\n",
              "    }\n",
              "\n",
              "    .dataframe thead th {\n",
              "        text-align: right;\n",
              "    }\n",
              "</style>\n",
              "<table border=\"1\" class=\"dataframe\">\n",
              "  <thead>\n",
              "    <tr style=\"text-align: right;\">\n",
              "      <th></th>\n",
              "      <th>ID</th>\n",
              "      <th>item_cnt_month</th>\n",
              "    </tr>\n",
              "  </thead>\n",
              "  <tbody>\n",
              "    <tr>\n",
              "      <th>0</th>\n",
              "      <td>0</td>\n",
              "      <td>0.410433</td>\n",
              "    </tr>\n",
              "    <tr>\n",
              "      <th>1</th>\n",
              "      <td>1</td>\n",
              "      <td>0.972884</td>\n",
              "    </tr>\n",
              "    <tr>\n",
              "      <th>2</th>\n",
              "      <td>2</td>\n",
              "      <td>0.949934</td>\n",
              "    </tr>\n",
              "    <tr>\n",
              "      <th>3</th>\n",
              "      <td>3</td>\n",
              "      <td>0.418861</td>\n",
              "    </tr>\n",
              "    <tr>\n",
              "      <th>4</th>\n",
              "      <td>4</td>\n",
              "      <td>0.245406</td>\n",
              "    </tr>\n",
              "  </tbody>\n",
              "</table>\n",
              "</div>"
            ],
            "text/plain": [
              "   ID  item_cnt_month\n",
              "0   0        0.410433\n",
              "1   1        0.972884\n",
              "2   2        0.949934\n",
              "3   3        0.418861\n",
              "4   4        0.245406"
            ]
          },
          "metadata": {
            "tags": []
          },
          "execution_count": 76
        }
      ]
    },
    {
      "cell_type": "markdown",
      "metadata": {
        "id": "VX10iB_noHwI",
        "colab_type": "text"
      },
      "source": [
        "#That's all, hope, you enjoyed:)\n",
        "##Have a nice day!\n"
      ]
    }
  ]
}