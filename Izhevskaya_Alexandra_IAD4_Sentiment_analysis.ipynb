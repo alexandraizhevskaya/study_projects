{
  "nbformat": 4,
  "nbformat_minor": 0,
  "metadata": {
    "colab": {
      "name": "Izhevskaya_Alexandra_IAD4_Sentiment_analysis.ipynb",
      "provenance": [],
      "collapsed_sections": [],
      "toc_visible": true,
      "machine_shape": "hm"
    },
    "kernelspec": {
      "name": "python3",
      "display_name": "Python 3"
    },
    "accelerator": "GPU",
    "widgets": {
      "application/vnd.jupyter.widget-state+json": {
        "787b6a4d00124748a2336699cdae3471": {
          "model_module": "@jupyter-widgets/controls",
          "model_name": "HBoxModel",
          "state": {
            "_view_name": "HBoxView",
            "_dom_classes": [],
            "_model_name": "HBoxModel",
            "_view_module": "@jupyter-widgets/controls",
            "_model_module_version": "1.5.0",
            "_view_count": null,
            "_view_module_version": "1.5.0",
            "box_style": "",
            "layout": "IPY_MODEL_adf4b18a98994c5fa422c5c8533d66cf",
            "_model_module": "@jupyter-widgets/controls",
            "children": [
              "IPY_MODEL_b7d423615224473099448636e1eed9b8",
              "IPY_MODEL_e915285487534420adcb0caa90da95a2"
            ]
          }
        },
        "adf4b18a98994c5fa422c5c8533d66cf": {
          "model_module": "@jupyter-widgets/base",
          "model_name": "LayoutModel",
          "state": {
            "_view_name": "LayoutView",
            "grid_template_rows": null,
            "right": null,
            "justify_content": null,
            "_view_module": "@jupyter-widgets/base",
            "overflow": null,
            "_model_module_version": "1.2.0",
            "_view_count": null,
            "flex_flow": null,
            "width": null,
            "min_width": null,
            "border": null,
            "align_items": null,
            "bottom": null,
            "_model_module": "@jupyter-widgets/base",
            "top": null,
            "grid_column": null,
            "overflow_y": null,
            "overflow_x": null,
            "grid_auto_flow": null,
            "grid_area": null,
            "grid_template_columns": null,
            "flex": null,
            "_model_name": "LayoutModel",
            "justify_items": null,
            "grid_row": null,
            "max_height": null,
            "align_content": null,
            "visibility": null,
            "align_self": null,
            "height": null,
            "min_height": null,
            "padding": null,
            "grid_auto_rows": null,
            "grid_gap": null,
            "max_width": null,
            "order": null,
            "_view_module_version": "1.2.0",
            "grid_template_areas": null,
            "object_position": null,
            "object_fit": null,
            "grid_auto_columns": null,
            "margin": null,
            "display": null,
            "left": null
          }
        },
        "b7d423615224473099448636e1eed9b8": {
          "model_module": "@jupyter-widgets/controls",
          "model_name": "IntProgressModel",
          "state": {
            "_view_name": "ProgressView",
            "style": "IPY_MODEL_040ee7242b3c4d6ba6fd1898b4174360",
            "_dom_classes": [],
            "description": "",
            "_model_name": "IntProgressModel",
            "bar_style": "success",
            "max": 1,
            "_view_module": "@jupyter-widgets/controls",
            "_model_module_version": "1.5.0",
            "value": 1,
            "_view_count": null,
            "_view_module_version": "1.5.0",
            "orientation": "horizontal",
            "min": 0,
            "description_tooltip": null,
            "_model_module": "@jupyter-widgets/controls",
            "layout": "IPY_MODEL_c097a61f7ce344db8ff3fe3f9c6fb1e3"
          }
        },
        "e915285487534420adcb0caa90da95a2": {
          "model_module": "@jupyter-widgets/controls",
          "model_name": "HTMLModel",
          "state": {
            "_view_name": "HTMLView",
            "style": "IPY_MODEL_3fe4209d3d2a44efa3165dacbd467671",
            "_dom_classes": [],
            "description": "",
            "_model_name": "HTMLModel",
            "placeholder": "​",
            "_view_module": "@jupyter-widgets/controls",
            "_model_module_version": "1.5.0",
            "value": "1917495it [02:11, 14552.86it/s]",
            "_view_count": null,
            "_view_module_version": "1.5.0",
            "description_tooltip": null,
            "_model_module": "@jupyter-widgets/controls",
            "layout": "IPY_MODEL_8f9535c6dfb14c48aedf4c3d3307b636"
          }
        },
        "040ee7242b3c4d6ba6fd1898b4174360": {
          "model_module": "@jupyter-widgets/controls",
          "model_name": "ProgressStyleModel",
          "state": {
            "_view_name": "StyleView",
            "_model_name": "ProgressStyleModel",
            "description_width": "",
            "_view_module": "@jupyter-widgets/base",
            "_model_module_version": "1.5.0",
            "_view_count": null,
            "_view_module_version": "1.2.0",
            "bar_color": null,
            "_model_module": "@jupyter-widgets/controls"
          }
        },
        "c097a61f7ce344db8ff3fe3f9c6fb1e3": {
          "model_module": "@jupyter-widgets/base",
          "model_name": "LayoutModel",
          "state": {
            "_view_name": "LayoutView",
            "grid_template_rows": null,
            "right": null,
            "justify_content": null,
            "_view_module": "@jupyter-widgets/base",
            "overflow": null,
            "_model_module_version": "1.2.0",
            "_view_count": null,
            "flex_flow": null,
            "width": null,
            "min_width": null,
            "border": null,
            "align_items": null,
            "bottom": null,
            "_model_module": "@jupyter-widgets/base",
            "top": null,
            "grid_column": null,
            "overflow_y": null,
            "overflow_x": null,
            "grid_auto_flow": null,
            "grid_area": null,
            "grid_template_columns": null,
            "flex": null,
            "_model_name": "LayoutModel",
            "justify_items": null,
            "grid_row": null,
            "max_height": null,
            "align_content": null,
            "visibility": null,
            "align_self": null,
            "height": null,
            "min_height": null,
            "padding": null,
            "grid_auto_rows": null,
            "grid_gap": null,
            "max_width": null,
            "order": null,
            "_view_module_version": "1.2.0",
            "grid_template_areas": null,
            "object_position": null,
            "object_fit": null,
            "grid_auto_columns": null,
            "margin": null,
            "display": null,
            "left": null
          }
        },
        "3fe4209d3d2a44efa3165dacbd467671": {
          "model_module": "@jupyter-widgets/controls",
          "model_name": "DescriptionStyleModel",
          "state": {
            "_view_name": "StyleView",
            "_model_name": "DescriptionStyleModel",
            "description_width": "",
            "_view_module": "@jupyter-widgets/base",
            "_model_module_version": "1.5.0",
            "_view_count": null,
            "_view_module_version": "1.2.0",
            "_model_module": "@jupyter-widgets/controls"
          }
        },
        "8f9535c6dfb14c48aedf4c3d3307b636": {
          "model_module": "@jupyter-widgets/base",
          "model_name": "LayoutModel",
          "state": {
            "_view_name": "LayoutView",
            "grid_template_rows": null,
            "right": null,
            "justify_content": null,
            "_view_module": "@jupyter-widgets/base",
            "overflow": null,
            "_model_module_version": "1.2.0",
            "_view_count": null,
            "flex_flow": null,
            "width": null,
            "min_width": null,
            "border": null,
            "align_items": null,
            "bottom": null,
            "_model_module": "@jupyter-widgets/base",
            "top": null,
            "grid_column": null,
            "overflow_y": null,
            "overflow_x": null,
            "grid_auto_flow": null,
            "grid_area": null,
            "grid_template_columns": null,
            "flex": null,
            "_model_name": "LayoutModel",
            "justify_items": null,
            "grid_row": null,
            "max_height": null,
            "align_content": null,
            "visibility": null,
            "align_self": null,
            "height": null,
            "min_height": null,
            "padding": null,
            "grid_auto_rows": null,
            "grid_gap": null,
            "max_width": null,
            "order": null,
            "_view_module_version": "1.2.0",
            "grid_template_areas": null,
            "object_position": null,
            "object_fit": null,
            "grid_auto_columns": null,
            "margin": null,
            "display": null,
            "left": null
          }
        }
      }
    }
  },
  "cells": [
    {
      "cell_type": "markdown",
      "metadata": {
        "id": "BVbt6_bGFNxE",
        "colab_type": "text"
      },
      "source": [
        "#Классификация отзывов на положительные и отрицательные\n",
        "Ноутбук для соревнования по ИАД \n",
        "\n",
        "Итоговый скор в соревновании > 0.99\n"
      ]
    },
    {
      "cell_type": "code",
      "metadata": {
        "id": "olDYLe76zgOg",
        "colab_type": "code",
        "outputId": "1bd1b19b-ebfe-4051-fe76-0e8168601fdd",
        "colab": {
          "base_uri": "https://localhost:8080/",
          "height": 80
        }
      },
      "source": [
        "import numpy as np\n",
        "import tensorflow as tf"
      ],
      "execution_count": 0,
      "outputs": [
        {
          "output_type": "display_data",
          "data": {
            "text/html": [
              "<p style=\"color: red;\">\n",
              "The default version of TensorFlow in Colab will soon switch to TensorFlow 2.x.<br>\n",
              "We recommend you <a href=\"https://www.tensorflow.org/guide/migrate\" target=\"_blank\">upgrade</a> now \n",
              "or ensure your notebook will continue to use TensorFlow 1.x via the <code>%tensorflow_version 1.x</code> magic:\n",
              "<a href=\"https://colab.research.google.com/notebooks/tensorflow_version.ipynb\" target=\"_blank\">more info</a>.</p>\n"
            ],
            "text/plain": [
              "<IPython.core.display.HTML object>"
            ]
          },
          "metadata": {
            "tags": []
          }
        }
      ]
    },
    {
      "cell_type": "code",
      "metadata": {
        "id": "1nYovELF2LFV",
        "colab_type": "code",
        "colab": {}
      },
      "source": [
        "import pandas as pd\n",
        "import numpy as np\n",
        "import matplotlib.pyplot as plt\n",
        "import seaborn as sns\n",
        "import string     \n",
        "import re\n",
        "\n",
        "\n",
        "from IPython.display import Image\n",
        "from IPython.core.display import HTML \n",
        "\n",
        "from sklearn.feature_extraction.text import TfidfVectorizer\n",
        "from sklearn.linear_model import LogisticRegression\n",
        "from sklearn.metrics import roc_auc_score\n",
        "from sklearn.model_selection import train_test_split"
      ],
      "execution_count": 0,
      "outputs": []
    },
    {
      "cell_type": "code",
      "metadata": {
        "id": "kUDhd8xm3Ned",
        "colab_type": "code",
        "outputId": "5a3d8441-00a4-4771-9c77-4a12b1815bd1",
        "colab": {
          "base_uri": "https://localhost:8080/",
          "height": 34
        }
      },
      "source": [
        "from keras.layers import Dense, Input, GRU, Embedding, Dropout, Bidirectional, LSTM\n",
        "from keras.models import Model, Sequential\n",
        "from keras.optimizers import Adam\n",
        "from keras.preprocessing.text import Tokenizer\n",
        "from keras.preprocessing.sequence import pad_sequences\n",
        "from keras.callbacks import EarlyStopping, ReduceLROnPlateau, ModelCheckpoint, LearningRateScheduler\n",
        "from tqdm import tqdm_notebook"
      ],
      "execution_count": 0,
      "outputs": [
        {
          "output_type": "stream",
          "text": [
            "Using TensorFlow backend.\n"
          ],
          "name": "stderr"
        }
      ]
    },
    {
      "cell_type": "markdown",
      "metadata": {
        "id": "ZoJ6L7VxGFfI",
        "colab_type": "text"
      },
      "source": [
        " Загрузка данных. Был использован kaggle api, поэтому в директорию нужно положить json файл"
      ]
    },
    {
      "cell_type": "code",
      "metadata": {
        "id": "H65XeD5OzzZe",
        "colab_type": "code",
        "colab": {}
      },
      "source": [
        "!mkdir -p ~/.kaggle\n",
        "!cp kaggle.json ~/.kaggle/\n",
        "! chmod 600 /root/.kaggle/kaggle.json\n",
        "import kaggle"
      ],
      "execution_count": 0,
      "outputs": []
    },
    {
      "cell_type": "code",
      "metadata": {
        "id": "GX2dCb7vz4h8",
        "colab_type": "code",
        "outputId": "d47ca1c6-f435-4074-88c2-08647d712bcd",
        "colab": {
          "base_uri": "https://localhost:8080/",
          "height": 258
        }
      },
      "source": [
        "! kaggle competitions download -c iad-deep-learning-sentiment"
      ],
      "execution_count": 0,
      "outputs": [
        {
          "output_type": "stream",
          "text": [
            "Warning: Looks like you're using an outdated API Version, please consider updating (server 1.5.6 / client 1.5.4)\n",
            "Downloading y_train.csv.zip to /content\n",
            "  0% 0.00/8.37M [00:00<?, ?B/s]\n",
            "100% 8.37M/8.37M [00:00<00:00, 77.4MB/s]\n",
            "Downloading x_train.txt.zip to /content\n",
            " 99% 589M/595M [00:11<00:00, 163MB/s]\n",
            "100% 595M/595M [00:11<00:00, 56.1MB/s]\n",
            "Downloading random_prediction.csv.zip to /content\n",
            "  0% 0.00/2.08M [00:00<?, ?B/s]\n",
            "100% 2.08M/2.08M [00:00<00:00, 141MB/s]\n",
            "Downloading x_test.txt.zip to /content\n",
            " 72% 49.0M/68.0M [00:02<00:01, 18.3MB/s]\n",
            "100% 68.0M/68.0M [00:02<00:00, 24.4MB/s]\n"
          ],
          "name": "stdout"
        }
      ]
    },
    {
      "cell_type": "code",
      "metadata": {
        "id": "zD0TU5bQ0ASk",
        "colab_type": "code",
        "outputId": "1e9146af-0cc0-47b1-ecfa-b1f45a03228c",
        "colab": {
          "base_uri": "https://localhost:8080/",
          "height": 153
        }
      },
      "source": [
        "! unzip \"x_train.txt.zip\"\n",
        "! unzip \"x_test.txt.zip\"\n",
        "! unzip \"y_train.csv.zip\"\n",
        "! unzip \"random_prediction.csv.zip\"\n"
      ],
      "execution_count": 0,
      "outputs": [
        {
          "output_type": "stream",
          "text": [
            "Archive:  x_train.txt.zip\n",
            "  inflating: x_train.txt             \n",
            "Archive:  x_test.txt.zip\n",
            "  inflating: x_test.txt              \n",
            "Archive:  y_train.csv.zip\n",
            "  inflating: y_train.csv             \n",
            "Archive:  random_prediction.csv.zip\n",
            "  inflating: random_prediction.csv   \n"
          ],
          "name": "stdout"
        }
      ]
    },
    {
      "cell_type": "code",
      "metadata": {
        "id": "TQKrcomE0iXJ",
        "colab_type": "code",
        "colab": {}
      },
      "source": [
        "# функция для создания датасета\n",
        "def make_data(text):\n",
        "\n",
        "\n",
        "  dataset = {'review':[]}\n",
        "  with open(text, 'r') as f:\n",
        "    for review in f.readlines():\n",
        "      dataset['review'].append(review)\n",
        "  data = pd.DataFrame.from_dict(dataset)\n",
        "  return data"
      ],
      "execution_count": 0,
      "outputs": []
    },
    {
      "cell_type": "code",
      "metadata": {
        "id": "dPxlug2A10vD",
        "colab_type": "code",
        "colab": {}
      },
      "source": [
        "data_train = make_data('x_train.txt')\n",
        "data_test = make_data('x_test.txt')"
      ],
      "execution_count": 0,
      "outputs": []
    },
    {
      "cell_type": "code",
      "metadata": {
        "id": "fg0UWLdL10sS",
        "colab_type": "code",
        "colab": {}
      },
      "source": [
        "y = pd.read_csv('y_train.csv')"
      ],
      "execution_count": 0,
      "outputs": []
    },
    {
      "cell_type": "markdown",
      "metadata": {
        "id": "3CJ54v8iGRz3",
        "colab_type": "text"
      },
      "source": [
        "# Подготовка и очистка текста\n",
        "Tекст очищен от пунктуации и приведен к нижнему регистру. Функция работает достаточно долго, поэтому к данным можно как применить функцию, так и загрузить уже подготовленные данные с дропбокс с помощью wget\n",
        "\n"
      ]
    },
    {
      "cell_type": "code",
      "metadata": {
        "id": "lpEMbN1h2EM2",
        "colab_type": "code",
        "colab": {}
      },
      "source": [
        "def clean_and_prepare(x_train):\n",
        "\n",
        "\n",
        "  def punc_and_register(x):\n",
        "\n",
        "\n",
        "    punctuation = list(string.punctuation)\n",
        "    return ''.join([a.lower() if a not in punctuation + ['\\n'] else ' ' for a in x])\n",
        "\n",
        "  x_train['review'].apply(punc_and_register)\n",
        "  return x_train"
      ],
      "execution_count": 0,
      "outputs": []
    },
    {
      "cell_type": "code",
      "metadata": {
        "id": "TqGH5nEs2EU8",
        "colab_type": "code",
        "colab": {}
      },
      "source": [
        "#x_train = clean_and_prepare(data_train)\n",
        "#x_test = clean_and_prepare(data_test)"
      ],
      "execution_count": 0,
      "outputs": []
    },
    {
      "cell_type": "code",
      "metadata": {
        "id": "JUgiW9Jb6mWv",
        "colab_type": "code",
        "colab": {}
      },
      "source": [
        "#x_train.to_csv('x_train_clean.csv')\n",
        "#x_test.to_csv('x_test_clean.csv')"
      ],
      "execution_count": 0,
      "outputs": []
    },
    {
      "cell_type": "code",
      "metadata": {
        "id": "XdZlrOVIomoI",
        "colab_type": "code",
        "outputId": "e7551c3a-af3d-4dc5-feba-8ffbbb6ef6b8",
        "colab": {
          "base_uri": "https://localhost:8080/",
          "height": 717
        }
      },
      "source": [
        "! wget https://www.dropbox.com/s/8clqqvond56esz0/x_train_clean.csv?dl=0 -O \"x_train_clean.csv\"\n",
        "! wget https://www.dropbox.com/s/0pxxvva12zjl7g8/x_test_clean.csv?dl=0 -O \"x_test_clean.csv\""
      ],
      "execution_count": 0,
      "outputs": [
        {
          "output_type": "stream",
          "text": [
            "--2019-12-23 09:03:54--  https://www.dropbox.com/s/8clqqvond56esz0/x_train_clean.csv?dl=0\n",
            "Resolving www.dropbox.com (www.dropbox.com)... 162.125.82.1, 2620:100:6032:1::a27d:5201\n",
            "Connecting to www.dropbox.com (www.dropbox.com)|162.125.82.1|:443... connected.\n",
            "HTTP request sent, awaiting response... 301 Moved Permanently\n",
            "Location: /s/raw/8clqqvond56esz0/x_train_clean.csv [following]\n",
            "--2019-12-23 09:03:54--  https://www.dropbox.com/s/raw/8clqqvond56esz0/x_train_clean.csv\n",
            "Reusing existing connection to www.dropbox.com:443.\n",
            "HTTP request sent, awaiting response... 302 Found\n",
            "Location: https://uc0e175e88bb304a7c42e78366e3.dl.dropboxusercontent.com/cd/0/inline/AuwnzXSj3N3tCsd4IyvnyNv-otXKqwF1YcB62zEcGr8BOZGuQBKp6Q_8FaSkUTnlwENM6c2msBPfCKCjqcAsOxRTJM__FIYQB4Gj3KxYaG_UAjZOmEKeESOkMQn5ZiaKmiE/file# [following]\n",
            "--2019-12-23 09:03:55--  https://uc0e175e88bb304a7c42e78366e3.dl.dropboxusercontent.com/cd/0/inline/AuwnzXSj3N3tCsd4IyvnyNv-otXKqwF1YcB62zEcGr8BOZGuQBKp6Q_8FaSkUTnlwENM6c2msBPfCKCjqcAsOxRTJM__FIYQB4Gj3KxYaG_UAjZOmEKeESOkMQn5ZiaKmiE/file\n",
            "Resolving uc0e175e88bb304a7c42e78366e3.dl.dropboxusercontent.com (uc0e175e88bb304a7c42e78366e3.dl.dropboxusercontent.com)... 162.125.82.6, 2620:100:6032:6::a27d:5206\n",
            "Connecting to uc0e175e88bb304a7c42e78366e3.dl.dropboxusercontent.com (uc0e175e88bb304a7c42e78366e3.dl.dropboxusercontent.com)|162.125.82.6|:443... connected.\n",
            "HTTP request sent, awaiting response... 200 OK\n",
            "Length: 1588853330 (1.5G) [text/plain]\n",
            "Saving to: ‘x_train_clean.csv’\n",
            "\n",
            "x_train_clean.csv   100%[===================>]   1.48G  2.53MB/s    in 18m 41s \n",
            "\n",
            "2019-12-23 09:22:36 (1.35 MB/s) - ‘x_train_clean.csv’ saved [1588853330/1588853330]\n",
            "\n",
            "--2019-12-23 09:22:38--  https://www.dropbox.com/s/0pxxvva12zjl7g8/x_test_clean.csv?dl=0\n",
            "Resolving www.dropbox.com (www.dropbox.com)... 162.125.82.1, 2620:100:6032:1::a27d:5201\n",
            "Connecting to www.dropbox.com (www.dropbox.com)|162.125.82.1|:443... connected.\n",
            "HTTP request sent, awaiting response... 301 Moved Permanently\n",
            "Location: /s/raw/0pxxvva12zjl7g8/x_test_clean.csv [following]\n",
            "--2019-12-23 09:22:38--  https://www.dropbox.com/s/raw/0pxxvva12zjl7g8/x_test_clean.csv\n",
            "Reusing existing connection to www.dropbox.com:443.\n",
            "HTTP request sent, awaiting response... 302 Found\n",
            "Location: https://uc33ab59e221af3ee197a7c27593.dl.dropboxusercontent.com/cd/0/inline/AuycGDGWazeP4jJW3y-zUVurSR0uzwed8RS_kFxmOD63z__tBIfmCwe0foclAmTUYJwaO9nxVf5BV9lJ9jcOB22wmlUCt6LIk3cFq5Hq_p_TgRv6Z2T2u9QdqDwYKSQ7bcA/file# [following]\n",
            "--2019-12-23 09:22:39--  https://uc33ab59e221af3ee197a7c27593.dl.dropboxusercontent.com/cd/0/inline/AuycGDGWazeP4jJW3y-zUVurSR0uzwed8RS_kFxmOD63z__tBIfmCwe0foclAmTUYJwaO9nxVf5BV9lJ9jcOB22wmlUCt6LIk3cFq5Hq_p_TgRv6Z2T2u9QdqDwYKSQ7bcA/file\n",
            "Resolving uc33ab59e221af3ee197a7c27593.dl.dropboxusercontent.com (uc33ab59e221af3ee197a7c27593.dl.dropboxusercontent.com)... 162.125.82.6, 2620:100:6032:6::a27d:5206\n",
            "Connecting to uc33ab59e221af3ee197a7c27593.dl.dropboxusercontent.com (uc33ab59e221af3ee197a7c27593.dl.dropboxusercontent.com)|162.125.82.6|:443... connected.\n",
            "HTTP request sent, awaiting response... 200 OK\n",
            "Length: 176065091 (168M) [text/plain]\n",
            "Saving to: ‘x_test_clean.csv’\n",
            "\n",
            "x_test_clean.csv    100%[===================>] 167.91M   500KB/s    in 6m 17s  \n",
            "\n",
            "2019-12-23 09:28:57 (456 KB/s) - ‘x_test_clean.csv’ saved [176065091/176065091]\n",
            "\n"
          ],
          "name": "stdout"
        }
      ]
    },
    {
      "cell_type": "code",
      "metadata": {
        "id": "M42I3_YH9wmI",
        "colab_type": "code",
        "colab": {}
      },
      "source": [
        "x_train = pd.read_csv('x_train_clean.csv')\n",
        "x_test = pd.read_csv('x_test_clean.csv')"
      ],
      "execution_count": 0,
      "outputs": []
    },
    {
      "cell_type": "code",
      "metadata": {
        "id": "qhdCrDDaGJ2-",
        "colab_type": "code",
        "outputId": "b8270935-1afe-460f-87b9-d6297080df91",
        "colab": {
          "base_uri": "https://localhost:8080/",
          "height": 204
        }
      },
      "source": [
        "x_train.head()"
      ],
      "execution_count": 0,
      "outputs": [
        {
          "output_type": "execute_result",
          "data": {
            "text/html": [
              "<div>\n",
              "<style scoped>\n",
              "    .dataframe tbody tr th:only-of-type {\n",
              "        vertical-align: middle;\n",
              "    }\n",
              "\n",
              "    .dataframe tbody tr th {\n",
              "        vertical-align: top;\n",
              "    }\n",
              "\n",
              "    .dataframe thead th {\n",
              "        text-align: right;\n",
              "    }\n",
              "</style>\n",
              "<table border=\"1\" class=\"dataframe\">\n",
              "  <thead>\n",
              "    <tr style=\"text-align: right;\">\n",
              "      <th></th>\n",
              "      <th>Unnamed: 0</th>\n",
              "      <th>review</th>\n",
              "    </tr>\n",
              "  </thead>\n",
              "  <tbody>\n",
              "    <tr>\n",
              "      <th>0</th>\n",
              "      <td>0</td>\n",
              "      <td>stuning even for the non gamer  this sound tra...</td>\n",
              "    </tr>\n",
              "    <tr>\n",
              "      <th>1</th>\n",
              "      <td>1</td>\n",
              "      <td>the best soundtrack ever to anything   i m rea...</td>\n",
              "    </tr>\n",
              "    <tr>\n",
              "      <th>2</th>\n",
              "      <td>2</td>\n",
              "      <td>amazing   this soundtrack is my favorite music...</td>\n",
              "    </tr>\n",
              "    <tr>\n",
              "      <th>3</th>\n",
              "      <td>3</td>\n",
              "      <td>excellent soundtrack  i truly like this soundt...</td>\n",
              "    </tr>\n",
              "    <tr>\n",
              "      <th>4</th>\n",
              "      <td>4</td>\n",
              "      <td>remember  pull your jaw off the floor after he...</td>\n",
              "    </tr>\n",
              "  </tbody>\n",
              "</table>\n",
              "</div>"
            ],
            "text/plain": [
              "   Unnamed: 0                                             review\n",
              "0           0  stuning even for the non gamer  this sound tra...\n",
              "1           1  the best soundtrack ever to anything   i m rea...\n",
              "2           2  amazing   this soundtrack is my favorite music...\n",
              "3           3  excellent soundtrack  i truly like this soundt...\n",
              "4           4  remember  pull your jaw off the floor after he..."
            ]
          },
          "metadata": {
            "tags": []
          },
          "execution_count": 12
        }
      ]
    },
    {
      "cell_type": "code",
      "metadata": {
        "id": "mxGXZfxT2EYg",
        "colab_type": "code",
        "colab": {}
      },
      "source": [
        "x_train = x_train['review']\n",
        "x_test = x_test['review']"
      ],
      "execution_count": 0,
      "outputs": []
    },
    {
      "cell_type": "markdown",
      "metadata": {
        "id": "AqloIau5GxGq",
        "colab_type": "text"
      },
      "source": [
        "Загрузкa Glove эмбедингов. Были использованы и другие, но качество было хуже, поэтому оставляем именно их."
      ]
    },
    {
      "cell_type": "code",
      "metadata": {
        "id": "cqNH0C_C2paW",
        "colab_type": "code",
        "outputId": "7ce42c70-a0f2-434a-c8da-d5a6e9d930dd",
        "colab": {
          "base_uri": "https://localhost:8080/",
          "height": 357
        }
      },
      "source": [
        "!wget http://nlp.stanford.edu/data/wordvecs/glove.42B.300d.zip"
      ],
      "execution_count": 0,
      "outputs": [
        {
          "output_type": "stream",
          "text": [
            "--2019-12-14 15:21:59--  http://nlp.stanford.edu/data/wordvecs/glove.42B.300d.zip\n",
            "Resolving nlp.stanford.edu (nlp.stanford.edu)... 171.64.67.140\n",
            "Connecting to nlp.stanford.edu (nlp.stanford.edu)|171.64.67.140|:80... connected.\n",
            "HTTP request sent, awaiting response... 302 Found\n",
            "Location: https://nlp.stanford.edu/data/wordvecs/glove.42B.300d.zip [following]\n",
            "--2019-12-14 15:21:59--  https://nlp.stanford.edu/data/wordvecs/glove.42B.300d.zip\n",
            "Connecting to nlp.stanford.edu (nlp.stanford.edu)|171.64.67.140|:443... connected.\n",
            "HTTP request sent, awaiting response... 301 Moved Permanently\n",
            "Location: http://downloads.cs.stanford.edu/nlp/data/wordvecs/glove.42B.300d.zip [following]\n",
            "--2019-12-14 15:22:00--  http://downloads.cs.stanford.edu/nlp/data/wordvecs/glove.42B.300d.zip\n",
            "Resolving downloads.cs.stanford.edu (downloads.cs.stanford.edu)... 171.64.64.22\n",
            "Connecting to downloads.cs.stanford.edu (downloads.cs.stanford.edu)|171.64.64.22|:80... connected.\n",
            "HTTP request sent, awaiting response... 200 OK\n",
            "Length: 1877802108 (1.7G) [application/zip]\n",
            "Saving to: ‘glove.42B.300d.zip’\n",
            "\n",
            "glove.42B.300d.zip  100%[===================>]   1.75G  2.19MB/s    in 14m 33s \n",
            "\n",
            "2019-12-14 15:36:34 (2.05 MB/s) - ‘glove.42B.300d.zip’ saved [1877802108/1877802108]\n",
            "\n"
          ],
          "name": "stdout"
        }
      ]
    },
    {
      "cell_type": "code",
      "metadata": {
        "id": "Awp7V1Km2wW0",
        "colab_type": "code",
        "outputId": "ff64374a-1b42-4bc9-a412-d803d48db441",
        "colab": {
          "base_uri": "https://localhost:8080/",
          "height": 51
        }
      },
      "source": [
        "! unzip \"glove.42B.300d.zip\""
      ],
      "execution_count": 0,
      "outputs": [
        {
          "output_type": "stream",
          "text": [
            "Archive:  glove.42B.300d.zip\n",
            "  inflating: glove.42B.300d.txt      \n"
          ],
          "name": "stdout"
        }
      ]
    },
    {
      "cell_type": "code",
      "metadata": {
        "id": "RXwl82_e20uE",
        "colab_type": "code",
        "outputId": "e5af0a10-f13b-40c1-a939-3afb3239a17b",
        "colab": {
          "base_uri": "https://localhost:8080/",
          "height": 66,
          "referenced_widgets": [
            "787b6a4d00124748a2336699cdae3471",
            "adf4b18a98994c5fa422c5c8533d66cf",
            "b7d423615224473099448636e1eed9b8",
            "e915285487534420adcb0caa90da95a2",
            "040ee7242b3c4d6ba6fd1898b4174360",
            "c097a61f7ce344db8ff3fe3f9c6fb1e3",
            "3fe4209d3d2a44efa3165dacbd467671",
            "8f9535c6dfb14c48aedf4c3d3307b636"
          ]
        }
      },
      "source": [
        "f = open('./glove.42B.300d.txt')\n",
        "\n",
        "embeddings_index = dict() \n",
        "for line in tqdm_notebook(f):\n",
        "    values = line.split(' ')\n",
        "    word = values[0]\n",
        "    coefs = np.asarray(values[1:], dtype='float32')\n",
        "    embeddings_index[word] = coefs\n",
        "f.close()"
      ],
      "execution_count": 0,
      "outputs": [
        {
          "output_type": "display_data",
          "data": {
            "application/vnd.jupyter.widget-view+json": {
              "model_id": "787b6a4d00124748a2336699cdae3471",
              "version_minor": 0,
              "version_major": 2
            },
            "text/plain": [
              "HBox(children=(IntProgress(value=1, bar_style='info', max=1), HTML(value='')))"
            ]
          },
          "metadata": {
            "tags": []
          }
        },
        {
          "output_type": "stream",
          "text": [
            "\n"
          ],
          "name": "stdout"
        }
      ]
    },
    {
      "cell_type": "markdown",
      "metadata": {
        "id": "eGYuoY3gR-l0",
        "colab_type": "text"
      },
      "source": [
        " #  Обрабатываем датасет для подачи в нейронку\n",
        "\n",
        " Добавляем padding и создаем матрицу эмбеддингов, если для слова нет вектора  - добавляем его во множество неизвестных слов"
      ]
    },
    {
      "cell_type": "code",
      "metadata": {
        "id": "-h2vnqWm24uJ",
        "colab_type": "code",
        "colab": {}
      },
      "source": [
        "\n",
        "embed_size = 300 # how big is each word vector\n",
        "max_features = 100000 # how many unique words to use (i.e num rows in embedding vector)\n",
        "maxlen = 150 # max number of words in a comment to use\n",
        "\n",
        "list_sentences_train = x_train.values\n",
        "y = y.Probability.values\n",
        "list_sentences_test = x_test.values\n",
        "\n",
        "tokenizer = Tokenizer(num_words=max_features)\n",
        "tokenizer.fit_on_texts(list(list_sentences_train))\n",
        "list_tokenized_train = tokenizer.texts_to_sequences(list_sentences_train)\n",
        "list_tokenized_test = tokenizer.texts_to_sequences(list_sentences_test)\n",
        "x_train_pad = pad_sequences(list_tokenized_train, maxlen=maxlen)\n",
        "x_test_pad = pad_sequences(list_tokenized_test, maxlen=maxlen)"
      ],
      "execution_count": 0,
      "outputs": []
    },
    {
      "cell_type": "code",
      "metadata": {
        "id": "xnBsuywl3GE2",
        "colab_type": "code",
        "outputId": "a06fd4c3-4bd7-4b21-9ef1-c679659d7a55",
        "colab": {
          "base_uri": "https://localhost:8080/",
          "height": 88
        }
      },
      "source": [
        "all_embs = np.stack(embeddings_index.values())\n",
        "emb_mean, emb_std = all_embs.mean(), all_embs.std()\n",
        "emb_mean, emb_std"
      ],
      "execution_count": 0,
      "outputs": [
        {
          "output_type": "stream",
          "text": [
            "/usr/local/lib/python3.6/dist-packages/IPython/core/interactiveshell.py:2822: FutureWarning: arrays to stack must be passed as a \"sequence\" type such as list or tuple. Support for non-sequence iterables such as generators is deprecated as of NumPy 1.16 and will raise an error in the future.\n",
            "  if self.run_code(code, result):\n"
          ],
          "name": "stderr"
        },
        {
          "output_type": "execute_result",
          "data": {
            "text/plain": [
              "(0.005720101, 0.2951066)"
            ]
          },
          "metadata": {
            "tags": []
          },
          "execution_count": 18
        }
      ]
    },
    {
      "cell_type": "code",
      "metadata": {
        "id": "EcsT5uzM3GK2",
        "colab_type": "code",
        "colab": {}
      },
      "source": [
        "word_index = tokenizer.word_index\n",
        "unknown_words = set()\n",
        "nb_words = min(max_features, len(word_index))\n",
        "embedding_matrix = np.random.normal(emb_mean, emb_std, (nb_words, embed_size))\n",
        "for word, i in word_index.items():\n",
        "    if i >= max_features: continue\n",
        "    embedding_vector = embeddings_index.get(word)\n",
        "    if embedding_vector is not None: embedding_matrix[i] = embedding_vector\n",
        "    else: unknown_words.add(word)"
      ],
      "execution_count": 0,
      "outputs": []
    },
    {
      "cell_type": "markdown",
      "metadata": {
        "id": "-tq63MTrJEsQ",
        "colab_type": "text"
      },
      "source": [
        "# Создаем модель"
      ]
    },
    {
      "cell_type": "markdown",
      "metadata": {
        "id": "KWqSf1lSHgOI",
        "colab_type": "text"
      },
      "source": [
        "Собственно сама архитектура сети: очень похожа на ту, которая использовалась на семинаре\n",
        "* Слой эмеддингов\n",
        "* 2 слоя bidirectional LSTM - так как в целом LSTM считается мощнее, чем GRU, хотя и обучается больше (размер вектора памяти h - 264)\n",
        "* После каждого слоя применен Dropout (0.4 и 0.3 соответственно)\n",
        "* Полносвязный слой с 128 нейронами и сигмоидой\n",
        "* Выход классификатора с одним нейроном, показывающий вероятность принадлежности объекта к положительному классу \n",
        "\n",
        "Остальные параметры обучения: батч побольше 1024, метод оптимизации Адам с  lr scheduler.\n",
        "\n",
        "Модель обучалась 6 эпох."
      ]
    },
    {
      "cell_type": "code",
      "metadata": {
        "id": "w_4hyn1T3GOE",
        "colab_type": "code",
        "outputId": "d058173e-3936-4878-d956-c38ce586ac3e",
        "colab": {
          "base_uri": "https://localhost:8080/",
          "height": 1000
        }
      },
      "source": [
        "input_layer = Input((maxlen,), name = 'reviews')\n",
        "embedding_layer = Embedding(max_features, embed_size, input_length=maxlen, \n",
        "                            weights=[embedding_matrix], \n",
        "                            trainable = False)(input_layer)\n",
        "x = Bidirectional(LSTM(264, return_sequences=True))(embedding_layer)\n",
        "x = Dropout(0.4)(x)\n",
        "x = Bidirectional(LSTM(264, return_sequences=False))(x)\n",
        "x = Dropout(0.3)(x)\n",
        "x = Dense(128, activation=\"relu\")(x)\n",
        "output_layer = Dense(1, activation=\"sigmoid\")(x)\n",
        "\n",
        "model = Model(inputs=input_layer, outputs=output_layer)\n",
        "model.compile(loss='binary_crossentropy',\n",
        "                  optimizer=Adam(clipvalue=1, clipnorm=1),\n",
        "                  metrics=['accuracy'])                                                                               \n",
        "print(model.summary())\n",
        "\n",
        "def schedule(ind):\n",
        "    a = [0.001, 0.001, 0.0001, 0.0001, 0.00001, 0.00001, 0.000001]\n",
        "    return a[ind]\n",
        "\n",
        "lr = LearningRateScheduler(schedule)\n",
        "    \n",
        "early_stop = EarlyStopping(monitor='val_loss',\n",
        "                           patience=4,\n",
        "                           verbose=1,\n",
        "                           min_delta=1e-4)\n",
        "\n",
        "\n",
        "history = model.fit(x_train_pad, y, batch_size=1024, epochs = 3, \n",
        "                    validation_split = 0.1, verbose = 1, callbacks = [lr]) #decay rate?????"
      ],
      "execution_count": 0,
      "outputs": [
        {
          "output_type": "stream",
          "text": [
            "WARNING:tensorflow:From /usr/local/lib/python3.6/dist-packages/keras/backend/tensorflow_backend.py:541: The name tf.placeholder is deprecated. Please use tf.compat.v1.placeholder instead.\n",
            "\n",
            "WARNING:tensorflow:From /usr/local/lib/python3.6/dist-packages/keras/backend/tensorflow_backend.py:66: The name tf.get_default_graph is deprecated. Please use tf.compat.v1.get_default_graph instead.\n",
            "\n",
            "WARNING:tensorflow:From /usr/local/lib/python3.6/dist-packages/keras/backend/tensorflow_backend.py:4432: The name tf.random_uniform is deprecated. Please use tf.random.uniform instead.\n",
            "\n",
            "WARNING:tensorflow:From /usr/local/lib/python3.6/dist-packages/keras/backend/tensorflow_backend.py:190: The name tf.get_default_session is deprecated. Please use tf.compat.v1.get_default_session instead.\n",
            "\n",
            "WARNING:tensorflow:From /usr/local/lib/python3.6/dist-packages/keras/backend/tensorflow_backend.py:197: The name tf.ConfigProto is deprecated. Please use tf.compat.v1.ConfigProto instead.\n",
            "\n",
            "WARNING:tensorflow:From /usr/local/lib/python3.6/dist-packages/keras/backend/tensorflow_backend.py:203: The name tf.Session is deprecated. Please use tf.compat.v1.Session instead.\n",
            "\n",
            "WARNING:tensorflow:From /usr/local/lib/python3.6/dist-packages/keras/backend/tensorflow_backend.py:207: The name tf.global_variables is deprecated. Please use tf.compat.v1.global_variables instead.\n",
            "\n",
            "WARNING:tensorflow:From /usr/local/lib/python3.6/dist-packages/keras/backend/tensorflow_backend.py:216: The name tf.is_variable_initialized is deprecated. Please use tf.compat.v1.is_variable_initialized instead.\n",
            "\n",
            "WARNING:tensorflow:From /usr/local/lib/python3.6/dist-packages/keras/backend/tensorflow_backend.py:223: The name tf.variables_initializer is deprecated. Please use tf.compat.v1.variables_initializer instead.\n",
            "\n",
            "WARNING:tensorflow:From /usr/local/lib/python3.6/dist-packages/keras/backend/tensorflow_backend.py:148: The name tf.placeholder_with_default is deprecated. Please use tf.compat.v1.placeholder_with_default instead.\n",
            "\n",
            "WARNING:tensorflow:From /usr/local/lib/python3.6/dist-packages/keras/backend/tensorflow_backend.py:3733: calling dropout (from tensorflow.python.ops.nn_ops) with keep_prob is deprecated and will be removed in a future version.\n",
            "Instructions for updating:\n",
            "Please use `rate` instead of `keep_prob`. Rate should be set to `rate = 1 - keep_prob`.\n",
            "WARNING:tensorflow:From /usr/local/lib/python3.6/dist-packages/keras/optimizers.py:793: The name tf.train.Optimizer is deprecated. Please use tf.compat.v1.train.Optimizer instead.\n",
            "\n",
            "WARNING:tensorflow:From /usr/local/lib/python3.6/dist-packages/keras/backend/tensorflow_backend.py:3657: The name tf.log is deprecated. Please use tf.math.log instead.\n",
            "\n",
            "WARNING:tensorflow:From /usr/local/lib/python3.6/dist-packages/tensorflow_core/python/ops/nn_impl.py:183: where (from tensorflow.python.ops.array_ops) is deprecated and will be removed in a future version.\n",
            "Instructions for updating:\n",
            "Use tf.where in 2.0, which has the same broadcast rule as np.where\n",
            "Model: \"model_1\"\n",
            "_________________________________________________________________\n",
            "Layer (type)                 Output Shape              Param #   \n",
            "=================================================================\n",
            "reviews (InputLayer)         (None, 150)               0         \n",
            "_________________________________________________________________\n",
            "embedding_1 (Embedding)      (None, 150, 300)          30000000  \n",
            "_________________________________________________________________\n",
            "bidirectional_1 (Bidirection (None, 150, 528)          1193280   \n",
            "_________________________________________________________________\n",
            "dropout_1 (Dropout)          (None, 150, 528)          0         \n",
            "_________________________________________________________________\n",
            "bidirectional_2 (Bidirection (None, 528)               1674816   \n",
            "_________________________________________________________________\n",
            "dropout_2 (Dropout)          (None, 528)               0         \n",
            "_________________________________________________________________\n",
            "dense_1 (Dense)              (None, 128)               67712     \n",
            "_________________________________________________________________\n",
            "dense_2 (Dense)              (None, 1)                 129       \n",
            "=================================================================\n",
            "Total params: 32,935,937\n",
            "Trainable params: 2,935,937\n",
            "Non-trainable params: 30,000,000\n",
            "_________________________________________________________________\n",
            "None\n",
            "WARNING:tensorflow:From /usr/local/lib/python3.6/dist-packages/keras/backend/tensorflow_backend.py:1033: The name tf.assign_add is deprecated. Please use tf.compat.v1.assign_add instead.\n",
            "\n",
            "WARNING:tensorflow:From /usr/local/lib/python3.6/dist-packages/keras/backend/tensorflow_backend.py:1020: The name tf.assign is deprecated. Please use tf.compat.v1.assign instead.\n",
            "\n",
            "Train on 3240000 samples, validate on 360000 samples\n",
            "Epoch 1/3\n",
            "3240000/3240000 [==============================] - 3517s 1ms/step - loss: 0.1760 - acc: 0.9310 - val_loss: 0.1258 - val_acc: 0.9534\n",
            "Epoch 2/3\n",
            "3240000/3240000 [==============================] - 3515s 1ms/step - loss: 0.1205 - acc: 0.9560 - val_loss: 0.1160 - val_acc: 0.9573\n",
            "Epoch 3/3\n",
            "3240000/3240000 [==============================] - 3517s 1ms/step - loss: 0.1004 - acc: 0.9643 - val_loss: 0.1096 - val_acc: 0.9606\n"
          ],
          "name": "stdout"
        }
      ]
    },
    {
      "cell_type": "code",
      "metadata": {
        "id": "E4QeHbumvLeN",
        "colab_type": "code",
        "outputId": "f2c73af8-034c-46af-d917-bdffb4948cb5",
        "colab": {
          "base_uri": "https://localhost:8080/",
          "height": 156
        }
      },
      "source": [
        "history = model.fit(x_train_pad, y, batch_size=1024, epochs = 3, \n",
        "                    validation_split = 0.1, verbose = 1, callbacks = [lr])"
      ],
      "execution_count": 0,
      "outputs": [
        {
          "output_type": "stream",
          "text": [
            "Train on 3240000 samples, validate on 360000 samples\n",
            "Epoch 1/3\n",
            "3240000/3240000 [==============================] - 3521s 1ms/step - loss: 0.1059 - acc: 0.9620 - val_loss: 0.1109 - val_acc: 0.9600\n",
            "Epoch 2/3\n",
            "3240000/3240000 [==============================] - 3518s 1ms/step - loss: 0.0964 - acc: 0.9659 - val_loss: 0.1105 - val_acc: 0.9604\n",
            "Epoch 3/3\n",
            "3240000/3240000 [==============================] - 3517s 1ms/step - loss: 0.0768 - acc: 0.9740 - val_loss: 0.1131 - val_acc: 0.9615\n"
          ],
          "name": "stdout"
        }
      ]
    },
    {
      "cell_type": "markdown",
      "metadata": {
        "id": "0slbuD-coymy",
        "colab_type": "text"
      },
      "source": [
        "Результат эксперимента с этой моделью оказался очень неплохим. Видно, что она переобучается, но качество более-менее. Амбицией было разобраться с BERT для улучшения качества, но как-то не вышло:( поэтому оставляю так"
      ]
    },
    {
      "cell_type": "markdown",
      "metadata": {
        "id": "PvaRIHoUJm0n",
        "colab_type": "text"
      },
      "source": [
        "# Создаем файл с предсказанием"
      ]
    },
    {
      "cell_type": "code",
      "metadata": {
        "id": "j3qGydLK3GQz",
        "colab_type": "code",
        "colab": {}
      },
      "source": [
        "sample = pd.read_csv(\"random_prediction.csv\")"
      ],
      "execution_count": 0,
      "outputs": []
    },
    {
      "cell_type": "code",
      "metadata": {
        "id": "7yNA8HqW6-z1",
        "colab_type": "code",
        "outputId": "30144909-3afc-46eb-dfa2-c382baf82a0a",
        "colab": {
          "base_uri": "https://localhost:8080/",
          "height": 204
        }
      },
      "source": [
        "sample.head()"
      ],
      "execution_count": 0,
      "outputs": [
        {
          "output_type": "execute_result",
          "data": {
            "text/html": [
              "<div>\n",
              "<style scoped>\n",
              "    .dataframe tbody tr th:only-of-type {\n",
              "        vertical-align: middle;\n",
              "    }\n",
              "\n",
              "    .dataframe tbody tr th {\n",
              "        vertical-align: top;\n",
              "    }\n",
              "\n",
              "    .dataframe thead th {\n",
              "        text-align: right;\n",
              "    }\n",
              "</style>\n",
              "<table border=\"1\" class=\"dataframe\">\n",
              "  <thead>\n",
              "    <tr style=\"text-align: right;\">\n",
              "      <th></th>\n",
              "      <th>Id</th>\n",
              "      <th>Probability</th>\n",
              "    </tr>\n",
              "  </thead>\n",
              "  <tbody>\n",
              "    <tr>\n",
              "      <th>0</th>\n",
              "      <td>1</td>\n",
              "      <td>0.24916</td>\n",
              "    </tr>\n",
              "    <tr>\n",
              "      <th>1</th>\n",
              "      <td>2</td>\n",
              "      <td>0.47618</td>\n",
              "    </tr>\n",
              "    <tr>\n",
              "      <th>2</th>\n",
              "      <td>3</td>\n",
              "      <td>0.26317</td>\n",
              "    </tr>\n",
              "    <tr>\n",
              "      <th>3</th>\n",
              "      <td>4</td>\n",
              "      <td>0.29403</td>\n",
              "    </tr>\n",
              "    <tr>\n",
              "      <th>4</th>\n",
              "      <td>5</td>\n",
              "      <td>0.49895</td>\n",
              "    </tr>\n",
              "  </tbody>\n",
              "</table>\n",
              "</div>"
            ],
            "text/plain": [
              "   Id  Probability\n",
              "0   1      0.24916\n",
              "1   2      0.47618\n",
              "2   3      0.26317\n",
              "3   4      0.29403\n",
              "4   5      0.49895"
            ]
          },
          "metadata": {
            "tags": []
          },
          "execution_count": 27
        }
      ]
    },
    {
      "cell_type": "code",
      "metadata": {
        "id": "OalUdV_a7CUb",
        "colab_type": "code",
        "colab": {}
      },
      "source": [
        "#работает доолго, но попробовать обернуть данные в тф.датасет, к сожалению, не успела(())\n",
        "prediction = model.predict(x_test_pad)"
      ],
      "execution_count": 0,
      "outputs": []
    },
    {
      "cell_type": "code",
      "metadata": {
        "id": "WNFDb61R7Qt9",
        "colab_type": "code",
        "colab": {}
      },
      "source": [
        "sample['Probability'] = prediction\n",
        "sample.to_csv('Sub2', index=False)"
      ],
      "execution_count": 0,
      "outputs": []
    },
    {
      "cell_type": "code",
      "metadata": {
        "id": "1HfH-quPlHvs",
        "colab_type": "code",
        "outputId": "82243215-1696-46fc-938a-8567522b9525",
        "colab": {
          "base_uri": "https://localhost:8080/",
          "height": 204
        }
      },
      "source": [
        "sample.head()"
      ],
      "execution_count": 0,
      "outputs": [
        {
          "output_type": "execute_result",
          "data": {
            "text/html": [
              "<div>\n",
              "<style scoped>\n",
              "    .dataframe tbody tr th:only-of-type {\n",
              "        vertical-align: middle;\n",
              "    }\n",
              "\n",
              "    .dataframe tbody tr th {\n",
              "        vertical-align: top;\n",
              "    }\n",
              "\n",
              "    .dataframe thead th {\n",
              "        text-align: right;\n",
              "    }\n",
              "</style>\n",
              "<table border=\"1\" class=\"dataframe\">\n",
              "  <thead>\n",
              "    <tr style=\"text-align: right;\">\n",
              "      <th></th>\n",
              "      <th>Id</th>\n",
              "      <th>Probability</th>\n",
              "    </tr>\n",
              "  </thead>\n",
              "  <tbody>\n",
              "    <tr>\n",
              "      <th>0</th>\n",
              "      <td>1</td>\n",
              "      <td>0.996444</td>\n",
              "    </tr>\n",
              "    <tr>\n",
              "      <th>1</th>\n",
              "      <td>2</td>\n",
              "      <td>0.997371</td>\n",
              "    </tr>\n",
              "    <tr>\n",
              "      <th>2</th>\n",
              "      <td>3</td>\n",
              "      <td>0.000508</td>\n",
              "    </tr>\n",
              "    <tr>\n",
              "      <th>3</th>\n",
              "      <td>4</td>\n",
              "      <td>0.438972</td>\n",
              "    </tr>\n",
              "    <tr>\n",
              "      <th>4</th>\n",
              "      <td>5</td>\n",
              "      <td>0.997879</td>\n",
              "    </tr>\n",
              "  </tbody>\n",
              "</table>\n",
              "</div>"
            ],
            "text/plain": [
              "   Id  Probability\n",
              "0   1     0.996444\n",
              "1   2     0.997371\n",
              "2   3     0.000508\n",
              "3   4     0.438972\n",
              "4   5     0.997879"
            ]
          },
          "metadata": {
            "tags": []
          },
          "execution_count": 31
        }
      ]
    }
  ]
}