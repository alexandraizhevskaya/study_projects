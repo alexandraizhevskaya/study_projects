{
  "nbformat": 4,
  "nbformat_minor": 0,
  "metadata": {
    "colab": {
      "name": "Course_paper_clean.ipynb",
      "provenance": [],
      "collapsed_sections": [],
      "mount_file_id": "12Ur_8GksvFpvoYoLhjWEuMJ_sru41MHb",
      "authorship_tag": "ABX9TyMPQtLyrg3ngZ74qZkEEADr"
    },
    "kernelspec": {
      "name": "python3",
      "display_name": "Python 3"
    },
    "accelerator": "GPU",
    "widgets": {
      "application/vnd.jupyter.widget-state+json": {
        "97ef7884ed4345ec9625f0ab35377626": {
          "model_module": "@jupyter-widgets/controls",
          "model_name": "HBoxModel",
          "state": {
            "_view_name": "HBoxView",
            "_dom_classes": [],
            "_model_name": "HBoxModel",
            "_view_module": "@jupyter-widgets/controls",
            "_model_module_version": "1.5.0",
            "_view_count": null,
            "_view_module_version": "1.5.0",
            "box_style": "",
            "layout": "IPY_MODEL_7c24aeb734c44d8687286b0cd5b62e96",
            "_model_module": "@jupyter-widgets/controls",
            "children": [
              "IPY_MODEL_e9a064593ddb47ebbbf73ceb23226da1",
              "IPY_MODEL_3961171c8677447894d393fc8c823027"
            ]
          }
        },
        "7c24aeb734c44d8687286b0cd5b62e96": {
          "model_module": "@jupyter-widgets/base",
          "model_name": "LayoutModel",
          "state": {
            "_view_name": "LayoutView",
            "grid_template_rows": null,
            "right": null,
            "justify_content": null,
            "_view_module": "@jupyter-widgets/base",
            "overflow": null,
            "_model_module_version": "1.2.0",
            "_view_count": null,
            "flex_flow": null,
            "width": null,
            "min_width": null,
            "border": null,
            "align_items": null,
            "bottom": null,
            "_model_module": "@jupyter-widgets/base",
            "top": null,
            "grid_column": null,
            "overflow_y": null,
            "overflow_x": null,
            "grid_auto_flow": null,
            "grid_area": null,
            "grid_template_columns": null,
            "flex": null,
            "_model_name": "LayoutModel",
            "justify_items": null,
            "grid_row": null,
            "max_height": null,
            "align_content": null,
            "visibility": null,
            "align_self": null,
            "height": null,
            "min_height": null,
            "padding": null,
            "grid_auto_rows": null,
            "grid_gap": null,
            "max_width": null,
            "order": null,
            "_view_module_version": "1.2.0",
            "grid_template_areas": null,
            "object_position": null,
            "object_fit": null,
            "grid_auto_columns": null,
            "margin": null,
            "display": null,
            "left": null
          }
        },
        "e9a064593ddb47ebbbf73ceb23226da1": {
          "model_module": "@jupyter-widgets/controls",
          "model_name": "IntProgressModel",
          "state": {
            "_view_name": "ProgressView",
            "style": "IPY_MODEL_4a35f8ca938e487d8189c27d38828a6b",
            "_dom_classes": [],
            "description": "Downloading: 100%",
            "_model_name": "IntProgressModel",
            "bar_style": "success",
            "max": 242120,
            "_view_module": "@jupyter-widgets/controls",
            "_model_module_version": "1.5.0",
            "value": 242120,
            "_view_count": null,
            "_view_module_version": "1.5.0",
            "orientation": "horizontal",
            "min": 0,
            "description_tooltip": null,
            "_model_module": "@jupyter-widgets/controls",
            "layout": "IPY_MODEL_d91ebc8a4b5f45848f6d2f835fd3b6a8"
          }
        },
        "3961171c8677447894d393fc8c823027": {
          "model_module": "@jupyter-widgets/controls",
          "model_name": "HTMLModel",
          "state": {
            "_view_name": "HTMLView",
            "style": "IPY_MODEL_aeba74a290ef41798aeee8f9fe27d8bc",
            "_dom_classes": [],
            "description": "",
            "_model_name": "HTMLModel",
            "placeholder": "​",
            "_view_module": "@jupyter-widgets/controls",
            "_model_module_version": "1.5.0",
            "value": " 242k/242k [00:03&lt;00:00, 61.6kB/s]",
            "_view_count": null,
            "_view_module_version": "1.5.0",
            "description_tooltip": null,
            "_model_module": "@jupyter-widgets/controls",
            "layout": "IPY_MODEL_2b5c7d3ba5fe441daed3692bc80086ed"
          }
        },
        "4a35f8ca938e487d8189c27d38828a6b": {
          "model_module": "@jupyter-widgets/controls",
          "model_name": "ProgressStyleModel",
          "state": {
            "_view_name": "StyleView",
            "_model_name": "ProgressStyleModel",
            "description_width": "initial",
            "_view_module": "@jupyter-widgets/base",
            "_model_module_version": "1.5.0",
            "_view_count": null,
            "_view_module_version": "1.2.0",
            "bar_color": null,
            "_model_module": "@jupyter-widgets/controls"
          }
        },
        "d91ebc8a4b5f45848f6d2f835fd3b6a8": {
          "model_module": "@jupyter-widgets/base",
          "model_name": "LayoutModel",
          "state": {
            "_view_name": "LayoutView",
            "grid_template_rows": null,
            "right": null,
            "justify_content": null,
            "_view_module": "@jupyter-widgets/base",
            "overflow": null,
            "_model_module_version": "1.2.0",
            "_view_count": null,
            "flex_flow": null,
            "width": null,
            "min_width": null,
            "border": null,
            "align_items": null,
            "bottom": null,
            "_model_module": "@jupyter-widgets/base",
            "top": null,
            "grid_column": null,
            "overflow_y": null,
            "overflow_x": null,
            "grid_auto_flow": null,
            "grid_area": null,
            "grid_template_columns": null,
            "flex": null,
            "_model_name": "LayoutModel",
            "justify_items": null,
            "grid_row": null,
            "max_height": null,
            "align_content": null,
            "visibility": null,
            "align_self": null,
            "height": null,
            "min_height": null,
            "padding": null,
            "grid_auto_rows": null,
            "grid_gap": null,
            "max_width": null,
            "order": null,
            "_view_module_version": "1.2.0",
            "grid_template_areas": null,
            "object_position": null,
            "object_fit": null,
            "grid_auto_columns": null,
            "margin": null,
            "display": null,
            "left": null
          }
        },
        "aeba74a290ef41798aeee8f9fe27d8bc": {
          "model_module": "@jupyter-widgets/controls",
          "model_name": "DescriptionStyleModel",
          "state": {
            "_view_name": "StyleView",
            "_model_name": "DescriptionStyleModel",
            "description_width": "",
            "_view_module": "@jupyter-widgets/base",
            "_model_module_version": "1.5.0",
            "_view_count": null,
            "_view_module_version": "1.2.0",
            "_model_module": "@jupyter-widgets/controls"
          }
        },
        "2b5c7d3ba5fe441daed3692bc80086ed": {
          "model_module": "@jupyter-widgets/base",
          "model_name": "LayoutModel",
          "state": {
            "_view_name": "LayoutView",
            "grid_template_rows": null,
            "right": null,
            "justify_content": null,
            "_view_module": "@jupyter-widgets/base",
            "overflow": null,
            "_model_module_version": "1.2.0",
            "_view_count": null,
            "flex_flow": null,
            "width": null,
            "min_width": null,
            "border": null,
            "align_items": null,
            "bottom": null,
            "_model_module": "@jupyter-widgets/base",
            "top": null,
            "grid_column": null,
            "overflow_y": null,
            "overflow_x": null,
            "grid_auto_flow": null,
            "grid_area": null,
            "grid_template_columns": null,
            "flex": null,
            "_model_name": "LayoutModel",
            "justify_items": null,
            "grid_row": null,
            "max_height": null,
            "align_content": null,
            "visibility": null,
            "align_self": null,
            "height": null,
            "min_height": null,
            "padding": null,
            "grid_auto_rows": null,
            "grid_gap": null,
            "max_width": null,
            "order": null,
            "_view_module_version": "1.2.0",
            "grid_template_areas": null,
            "object_position": null,
            "object_fit": null,
            "grid_auto_columns": null,
            "margin": null,
            "display": null,
            "left": null
          }
        },
        "e311af2201054163bb5ef4c20810f473": {
          "model_module": "@jupyter-widgets/controls",
          "model_name": "HBoxModel",
          "state": {
            "_view_name": "HBoxView",
            "_dom_classes": [],
            "_model_name": "HBoxModel",
            "_view_module": "@jupyter-widgets/controls",
            "_model_module_version": "1.5.0",
            "_view_count": null,
            "_view_module_version": "1.5.0",
            "box_style": "",
            "layout": "IPY_MODEL_6d5e1b186813498ab345b5bcf703c607",
            "_model_module": "@jupyter-widgets/controls",
            "children": [
              "IPY_MODEL_be921951e4584a5fa4dc471de2f62495",
              "IPY_MODEL_15e5525753664054b4feffd7c55ee78e"
            ]
          }
        },
        "6d5e1b186813498ab345b5bcf703c607": {
          "model_module": "@jupyter-widgets/base",
          "model_name": "LayoutModel",
          "state": {
            "_view_name": "LayoutView",
            "grid_template_rows": null,
            "right": null,
            "justify_content": null,
            "_view_module": "@jupyter-widgets/base",
            "overflow": null,
            "_model_module_version": "1.2.0",
            "_view_count": null,
            "flex_flow": null,
            "width": null,
            "min_width": null,
            "border": null,
            "align_items": null,
            "bottom": null,
            "_model_module": "@jupyter-widgets/base",
            "top": null,
            "grid_column": null,
            "overflow_y": null,
            "overflow_x": null,
            "grid_auto_flow": null,
            "grid_area": null,
            "grid_template_columns": null,
            "flex": null,
            "_model_name": "LayoutModel",
            "justify_items": null,
            "grid_row": null,
            "max_height": null,
            "align_content": null,
            "visibility": null,
            "align_self": null,
            "height": null,
            "min_height": null,
            "padding": null,
            "grid_auto_rows": null,
            "grid_gap": null,
            "max_width": null,
            "order": null,
            "_view_module_version": "1.2.0",
            "grid_template_areas": null,
            "object_position": null,
            "object_fit": null,
            "grid_auto_columns": null,
            "margin": null,
            "display": null,
            "left": null
          }
        },
        "be921951e4584a5fa4dc471de2f62495": {
          "model_module": "@jupyter-widgets/controls",
          "model_name": "IntProgressModel",
          "state": {
            "_view_name": "ProgressView",
            "style": "IPY_MODEL_15bd01f9640340d6be1b69634b0b778f",
            "_dom_classes": [],
            "description": "Downloading: 100%",
            "_model_name": "IntProgressModel",
            "bar_style": "success",
            "max": 2,
            "_view_module": "@jupyter-widgets/controls",
            "_model_module_version": "1.5.0",
            "value": 2,
            "_view_count": null,
            "_view_module_version": "1.5.0",
            "orientation": "horizontal",
            "min": 0,
            "description_tooltip": null,
            "_model_module": "@jupyter-widgets/controls",
            "layout": "IPY_MODEL_9ebc6d34b74b403abf7f4a4f8138e1e9"
          }
        },
        "15e5525753664054b4feffd7c55ee78e": {
          "model_module": "@jupyter-widgets/controls",
          "model_name": "HTMLModel",
          "state": {
            "_view_name": "HTMLView",
            "style": "IPY_MODEL_e3ccbb6b7acb4a0390bdd40e7d776093",
            "_dom_classes": [],
            "description": "",
            "_model_name": "HTMLModel",
            "placeholder": "​",
            "_view_module": "@jupyter-widgets/controls",
            "_model_module_version": "1.5.0",
            "value": " 2.00/2.00 [00:01&lt;00:00, 1.25B/s]",
            "_view_count": null,
            "_view_module_version": "1.5.0",
            "description_tooltip": null,
            "_model_module": "@jupyter-widgets/controls",
            "layout": "IPY_MODEL_a22f3a8b5f59443d883802856560da74"
          }
        },
        "15bd01f9640340d6be1b69634b0b778f": {
          "model_module": "@jupyter-widgets/controls",
          "model_name": "ProgressStyleModel",
          "state": {
            "_view_name": "StyleView",
            "_model_name": "ProgressStyleModel",
            "description_width": "initial",
            "_view_module": "@jupyter-widgets/base",
            "_model_module_version": "1.5.0",
            "_view_count": null,
            "_view_module_version": "1.2.0",
            "bar_color": null,
            "_model_module": "@jupyter-widgets/controls"
          }
        },
        "9ebc6d34b74b403abf7f4a4f8138e1e9": {
          "model_module": "@jupyter-widgets/base",
          "model_name": "LayoutModel",
          "state": {
            "_view_name": "LayoutView",
            "grid_template_rows": null,
            "right": null,
            "justify_content": null,
            "_view_module": "@jupyter-widgets/base",
            "overflow": null,
            "_model_module_version": "1.2.0",
            "_view_count": null,
            "flex_flow": null,
            "width": null,
            "min_width": null,
            "border": null,
            "align_items": null,
            "bottom": null,
            "_model_module": "@jupyter-widgets/base",
            "top": null,
            "grid_column": null,
            "overflow_y": null,
            "overflow_x": null,
            "grid_auto_flow": null,
            "grid_area": null,
            "grid_template_columns": null,
            "flex": null,
            "_model_name": "LayoutModel",
            "justify_items": null,
            "grid_row": null,
            "max_height": null,
            "align_content": null,
            "visibility": null,
            "align_self": null,
            "height": null,
            "min_height": null,
            "padding": null,
            "grid_auto_rows": null,
            "grid_gap": null,
            "max_width": null,
            "order": null,
            "_view_module_version": "1.2.0",
            "grid_template_areas": null,
            "object_position": null,
            "object_fit": null,
            "grid_auto_columns": null,
            "margin": null,
            "display": null,
            "left": null
          }
        },
        "e3ccbb6b7acb4a0390bdd40e7d776093": {
          "model_module": "@jupyter-widgets/controls",
          "model_name": "DescriptionStyleModel",
          "state": {
            "_view_name": "StyleView",
            "_model_name": "DescriptionStyleModel",
            "description_width": "",
            "_view_module": "@jupyter-widgets/base",
            "_model_module_version": "1.5.0",
            "_view_count": null,
            "_view_module_version": "1.2.0",
            "_model_module": "@jupyter-widgets/controls"
          }
        },
        "a22f3a8b5f59443d883802856560da74": {
          "model_module": "@jupyter-widgets/base",
          "model_name": "LayoutModel",
          "state": {
            "_view_name": "LayoutView",
            "grid_template_rows": null,
            "right": null,
            "justify_content": null,
            "_view_module": "@jupyter-widgets/base",
            "overflow": null,
            "_model_module_version": "1.2.0",
            "_view_count": null,
            "flex_flow": null,
            "width": null,
            "min_width": null,
            "border": null,
            "align_items": null,
            "bottom": null,
            "_model_module": "@jupyter-widgets/base",
            "top": null,
            "grid_column": null,
            "overflow_y": null,
            "overflow_x": null,
            "grid_auto_flow": null,
            "grid_area": null,
            "grid_template_columns": null,
            "flex": null,
            "_model_name": "LayoutModel",
            "justify_items": null,
            "grid_row": null,
            "max_height": null,
            "align_content": null,
            "visibility": null,
            "align_self": null,
            "height": null,
            "min_height": null,
            "padding": null,
            "grid_auto_rows": null,
            "grid_gap": null,
            "max_width": null,
            "order": null,
            "_view_module_version": "1.2.0",
            "grid_template_areas": null,
            "object_position": null,
            "object_fit": null,
            "grid_auto_columns": null,
            "margin": null,
            "display": null,
            "left": null
          }
        },
        "c9d13ae4e54e4a8ca33d4f0c4facd071": {
          "model_module": "@jupyter-widgets/controls",
          "model_name": "HBoxModel",
          "state": {
            "_view_name": "HBoxView",
            "_dom_classes": [],
            "_model_name": "HBoxModel",
            "_view_module": "@jupyter-widgets/controls",
            "_model_module_version": "1.5.0",
            "_view_count": null,
            "_view_module_version": "1.5.0",
            "box_style": "",
            "layout": "IPY_MODEL_745465bbc4b6429aae4dfc4dd022ad28",
            "_model_module": "@jupyter-widgets/controls",
            "children": [
              "IPY_MODEL_ca3377ec6f964111bef5cb8805bf7d06",
              "IPY_MODEL_45f9d01c34d946cbb674e7e2071f8eba"
            ]
          }
        },
        "745465bbc4b6429aae4dfc4dd022ad28": {
          "model_module": "@jupyter-widgets/base",
          "model_name": "LayoutModel",
          "state": {
            "_view_name": "LayoutView",
            "grid_template_rows": null,
            "right": null,
            "justify_content": null,
            "_view_module": "@jupyter-widgets/base",
            "overflow": null,
            "_model_module_version": "1.2.0",
            "_view_count": null,
            "flex_flow": null,
            "width": null,
            "min_width": null,
            "border": null,
            "align_items": null,
            "bottom": null,
            "_model_module": "@jupyter-widgets/base",
            "top": null,
            "grid_column": null,
            "overflow_y": null,
            "overflow_x": null,
            "grid_auto_flow": null,
            "grid_area": null,
            "grid_template_columns": null,
            "flex": null,
            "_model_name": "LayoutModel",
            "justify_items": null,
            "grid_row": null,
            "max_height": null,
            "align_content": null,
            "visibility": null,
            "align_self": null,
            "height": null,
            "min_height": null,
            "padding": null,
            "grid_auto_rows": null,
            "grid_gap": null,
            "max_width": null,
            "order": null,
            "_view_module_version": "1.2.0",
            "grid_template_areas": null,
            "object_position": null,
            "object_fit": null,
            "grid_auto_columns": null,
            "margin": null,
            "display": null,
            "left": null
          }
        },
        "ca3377ec6f964111bef5cb8805bf7d06": {
          "model_module": "@jupyter-widgets/controls",
          "model_name": "IntProgressModel",
          "state": {
            "_view_name": "ProgressView",
            "style": "IPY_MODEL_9ec6d28d898a4fd98af5b1c14b12f933",
            "_dom_classes": [],
            "description": "Downloading: 100%",
            "_model_name": "IntProgressModel",
            "bar_style": "success",
            "max": 112,
            "_view_module": "@jupyter-widgets/controls",
            "_model_module_version": "1.5.0",
            "value": 112,
            "_view_count": null,
            "_view_module_version": "1.5.0",
            "orientation": "horizontal",
            "min": 0,
            "description_tooltip": null,
            "_model_module": "@jupyter-widgets/controls",
            "layout": "IPY_MODEL_38919dbb760d467facddc2af33319b5b"
          }
        },
        "45f9d01c34d946cbb674e7e2071f8eba": {
          "model_module": "@jupyter-widgets/controls",
          "model_name": "HTMLModel",
          "state": {
            "_view_name": "HTMLView",
            "style": "IPY_MODEL_6cfc8bf1341344b3b4e5329e1ac4bb63",
            "_dom_classes": [],
            "description": "",
            "_model_name": "HTMLModel",
            "placeholder": "​",
            "_view_module": "@jupyter-widgets/controls",
            "_model_module_version": "1.5.0",
            "value": " 112/112 [00:13&lt;00:00, 8.34B/s]",
            "_view_count": null,
            "_view_module_version": "1.5.0",
            "description_tooltip": null,
            "_model_module": "@jupyter-widgets/controls",
            "layout": "IPY_MODEL_cb58ea1c475c4db0a837d0b0f15dd147"
          }
        },
        "9ec6d28d898a4fd98af5b1c14b12f933": {
          "model_module": "@jupyter-widgets/controls",
          "model_name": "ProgressStyleModel",
          "state": {
            "_view_name": "StyleView",
            "_model_name": "ProgressStyleModel",
            "description_width": "initial",
            "_view_module": "@jupyter-widgets/base",
            "_model_module_version": "1.5.0",
            "_view_count": null,
            "_view_module_version": "1.2.0",
            "bar_color": null,
            "_model_module": "@jupyter-widgets/controls"
          }
        },
        "38919dbb760d467facddc2af33319b5b": {
          "model_module": "@jupyter-widgets/base",
          "model_name": "LayoutModel",
          "state": {
            "_view_name": "LayoutView",
            "grid_template_rows": null,
            "right": null,
            "justify_content": null,
            "_view_module": "@jupyter-widgets/base",
            "overflow": null,
            "_model_module_version": "1.2.0",
            "_view_count": null,
            "flex_flow": null,
            "width": null,
            "min_width": null,
            "border": null,
            "align_items": null,
            "bottom": null,
            "_model_module": "@jupyter-widgets/base",
            "top": null,
            "grid_column": null,
            "overflow_y": null,
            "overflow_x": null,
            "grid_auto_flow": null,
            "grid_area": null,
            "grid_template_columns": null,
            "flex": null,
            "_model_name": "LayoutModel",
            "justify_items": null,
            "grid_row": null,
            "max_height": null,
            "align_content": null,
            "visibility": null,
            "align_self": null,
            "height": null,
            "min_height": null,
            "padding": null,
            "grid_auto_rows": null,
            "grid_gap": null,
            "max_width": null,
            "order": null,
            "_view_module_version": "1.2.0",
            "grid_template_areas": null,
            "object_position": null,
            "object_fit": null,
            "grid_auto_columns": null,
            "margin": null,
            "display": null,
            "left": null
          }
        },
        "6cfc8bf1341344b3b4e5329e1ac4bb63": {
          "model_module": "@jupyter-widgets/controls",
          "model_name": "DescriptionStyleModel",
          "state": {
            "_view_name": "StyleView",
            "_model_name": "DescriptionStyleModel",
            "description_width": "",
            "_view_module": "@jupyter-widgets/base",
            "_model_module_version": "1.5.0",
            "_view_count": null,
            "_view_module_version": "1.2.0",
            "_model_module": "@jupyter-widgets/controls"
          }
        },
        "cb58ea1c475c4db0a837d0b0f15dd147": {
          "model_module": "@jupyter-widgets/base",
          "model_name": "LayoutModel",
          "state": {
            "_view_name": "LayoutView",
            "grid_template_rows": null,
            "right": null,
            "justify_content": null,
            "_view_module": "@jupyter-widgets/base",
            "overflow": null,
            "_model_module_version": "1.2.0",
            "_view_count": null,
            "flex_flow": null,
            "width": null,
            "min_width": null,
            "border": null,
            "align_items": null,
            "bottom": null,
            "_model_module": "@jupyter-widgets/base",
            "top": null,
            "grid_column": null,
            "overflow_y": null,
            "overflow_x": null,
            "grid_auto_flow": null,
            "grid_area": null,
            "grid_template_columns": null,
            "flex": null,
            "_model_name": "LayoutModel",
            "justify_items": null,
            "grid_row": null,
            "max_height": null,
            "align_content": null,
            "visibility": null,
            "align_self": null,
            "height": null,
            "min_height": null,
            "padding": null,
            "grid_auto_rows": null,
            "grid_gap": null,
            "max_width": null,
            "order": null,
            "_view_module_version": "1.2.0",
            "grid_template_areas": null,
            "object_position": null,
            "object_fit": null,
            "grid_auto_columns": null,
            "margin": null,
            "display": null,
            "left": null
          }
        },
        "390cfcf12fce480fa6df91c516b7fca5": {
          "model_module": "@jupyter-widgets/controls",
          "model_name": "HBoxModel",
          "state": {
            "_view_name": "HBoxView",
            "_dom_classes": [],
            "_model_name": "HBoxModel",
            "_view_module": "@jupyter-widgets/controls",
            "_model_module_version": "1.5.0",
            "_view_count": null,
            "_view_module_version": "1.5.0",
            "box_style": "",
            "layout": "IPY_MODEL_8a1ae725ea34453fa1fb24f19fd05a1f",
            "_model_module": "@jupyter-widgets/controls",
            "children": [
              "IPY_MODEL_8d66e86bd261444ebe8f3cb1dcf842d4",
              "IPY_MODEL_7cb07f4470fc40c6bbf47cd009d1276c"
            ]
          }
        },
        "8a1ae725ea34453fa1fb24f19fd05a1f": {
          "model_module": "@jupyter-widgets/base",
          "model_name": "LayoutModel",
          "state": {
            "_view_name": "LayoutView",
            "grid_template_rows": null,
            "right": null,
            "justify_content": null,
            "_view_module": "@jupyter-widgets/base",
            "overflow": null,
            "_model_module_version": "1.2.0",
            "_view_count": null,
            "flex_flow": null,
            "width": null,
            "min_width": null,
            "border": null,
            "align_items": null,
            "bottom": null,
            "_model_module": "@jupyter-widgets/base",
            "top": null,
            "grid_column": null,
            "overflow_y": null,
            "overflow_x": null,
            "grid_auto_flow": null,
            "grid_area": null,
            "grid_template_columns": null,
            "flex": null,
            "_model_name": "LayoutModel",
            "justify_items": null,
            "grid_row": null,
            "max_height": null,
            "align_content": null,
            "visibility": null,
            "align_self": null,
            "height": null,
            "min_height": null,
            "padding": null,
            "grid_auto_rows": null,
            "grid_gap": null,
            "max_width": null,
            "order": null,
            "_view_module_version": "1.2.0",
            "grid_template_areas": null,
            "object_position": null,
            "object_fit": null,
            "grid_auto_columns": null,
            "margin": null,
            "display": null,
            "left": null
          }
        },
        "8d66e86bd261444ebe8f3cb1dcf842d4": {
          "model_module": "@jupyter-widgets/controls",
          "model_name": "IntProgressModel",
          "state": {
            "_view_name": "ProgressView",
            "style": "IPY_MODEL_edd1a6f7232349bd9a4efa29f832dcc6",
            "_dom_classes": [],
            "description": "Downloading: 100%",
            "_model_name": "IntProgressModel",
            "bar_style": "success",
            "max": 43,
            "_view_module": "@jupyter-widgets/controls",
            "_model_module_version": "1.5.0",
            "value": 43,
            "_view_count": null,
            "_view_module_version": "1.5.0",
            "orientation": "horizontal",
            "min": 0,
            "description_tooltip": null,
            "_model_module": "@jupyter-widgets/controls",
            "layout": "IPY_MODEL_03866a143bea476086b805314dfd6631"
          }
        },
        "7cb07f4470fc40c6bbf47cd009d1276c": {
          "model_module": "@jupyter-widgets/controls",
          "model_name": "HTMLModel",
          "state": {
            "_view_name": "HTMLView",
            "style": "IPY_MODEL_8a9015aefd424105bc4694769411b96e",
            "_dom_classes": [],
            "description": "",
            "_model_name": "HTMLModel",
            "placeholder": "​",
            "_view_module": "@jupyter-widgets/controls",
            "_model_module_version": "1.5.0",
            "value": " 43.0/43.0 [00:00&lt;00:00, 651B/s]",
            "_view_count": null,
            "_view_module_version": "1.5.0",
            "description_tooltip": null,
            "_model_module": "@jupyter-widgets/controls",
            "layout": "IPY_MODEL_2fe1adbb649f41828e37cd1a143a3456"
          }
        },
        "edd1a6f7232349bd9a4efa29f832dcc6": {
          "model_module": "@jupyter-widgets/controls",
          "model_name": "ProgressStyleModel",
          "state": {
            "_view_name": "StyleView",
            "_model_name": "ProgressStyleModel",
            "description_width": "initial",
            "_view_module": "@jupyter-widgets/base",
            "_model_module_version": "1.5.0",
            "_view_count": null,
            "_view_module_version": "1.2.0",
            "bar_color": null,
            "_model_module": "@jupyter-widgets/controls"
          }
        },
        "03866a143bea476086b805314dfd6631": {
          "model_module": "@jupyter-widgets/base",
          "model_name": "LayoutModel",
          "state": {
            "_view_name": "LayoutView",
            "grid_template_rows": null,
            "right": null,
            "justify_content": null,
            "_view_module": "@jupyter-widgets/base",
            "overflow": null,
            "_model_module_version": "1.2.0",
            "_view_count": null,
            "flex_flow": null,
            "width": null,
            "min_width": null,
            "border": null,
            "align_items": null,
            "bottom": null,
            "_model_module": "@jupyter-widgets/base",
            "top": null,
            "grid_column": null,
            "overflow_y": null,
            "overflow_x": null,
            "grid_auto_flow": null,
            "grid_area": null,
            "grid_template_columns": null,
            "flex": null,
            "_model_name": "LayoutModel",
            "justify_items": null,
            "grid_row": null,
            "max_height": null,
            "align_content": null,
            "visibility": null,
            "align_self": null,
            "height": null,
            "min_height": null,
            "padding": null,
            "grid_auto_rows": null,
            "grid_gap": null,
            "max_width": null,
            "order": null,
            "_view_module_version": "1.2.0",
            "grid_template_areas": null,
            "object_position": null,
            "object_fit": null,
            "grid_auto_columns": null,
            "margin": null,
            "display": null,
            "left": null
          }
        },
        "8a9015aefd424105bc4694769411b96e": {
          "model_module": "@jupyter-widgets/controls",
          "model_name": "DescriptionStyleModel",
          "state": {
            "_view_name": "StyleView",
            "_model_name": "DescriptionStyleModel",
            "description_width": "",
            "_view_module": "@jupyter-widgets/base",
            "_model_module_version": "1.5.0",
            "_view_count": null,
            "_view_module_version": "1.2.0",
            "_model_module": "@jupyter-widgets/controls"
          }
        },
        "2fe1adbb649f41828e37cd1a143a3456": {
          "model_module": "@jupyter-widgets/base",
          "model_name": "LayoutModel",
          "state": {
            "_view_name": "LayoutView",
            "grid_template_rows": null,
            "right": null,
            "justify_content": null,
            "_view_module": "@jupyter-widgets/base",
            "overflow": null,
            "_model_module_version": "1.2.0",
            "_view_count": null,
            "flex_flow": null,
            "width": null,
            "min_width": null,
            "border": null,
            "align_items": null,
            "bottom": null,
            "_model_module": "@jupyter-widgets/base",
            "top": null,
            "grid_column": null,
            "overflow_y": null,
            "overflow_x": null,
            "grid_auto_flow": null,
            "grid_area": null,
            "grid_template_columns": null,
            "flex": null,
            "_model_name": "LayoutModel",
            "justify_items": null,
            "grid_row": null,
            "max_height": null,
            "align_content": null,
            "visibility": null,
            "align_self": null,
            "height": null,
            "min_height": null,
            "padding": null,
            "grid_auto_rows": null,
            "grid_gap": null,
            "max_width": null,
            "order": null,
            "_view_module_version": "1.2.0",
            "grid_template_areas": null,
            "object_position": null,
            "object_fit": null,
            "grid_auto_columns": null,
            "margin": null,
            "display": null,
            "left": null
          }
        },
        "92500afa75744547a853efff43231a58": {
          "model_module": "@jupyter-widgets/controls",
          "model_name": "HBoxModel",
          "state": {
            "_view_name": "HBoxView",
            "_dom_classes": [],
            "_model_name": "HBoxModel",
            "_view_module": "@jupyter-widgets/controls",
            "_model_module_version": "1.5.0",
            "_view_count": null,
            "_view_module_version": "1.5.0",
            "box_style": "",
            "layout": "IPY_MODEL_3f249026e2004a4996b83c6c02831aed",
            "_model_module": "@jupyter-widgets/controls",
            "children": [
              "IPY_MODEL_9719b596e076475d8b54a87152bdb25e",
              "IPY_MODEL_ae67b02ba65a420e9761bb8482b42f02"
            ]
          }
        },
        "3f249026e2004a4996b83c6c02831aed": {
          "model_module": "@jupyter-widgets/base",
          "model_name": "LayoutModel",
          "state": {
            "_view_name": "LayoutView",
            "grid_template_rows": null,
            "right": null,
            "justify_content": null,
            "_view_module": "@jupyter-widgets/base",
            "overflow": null,
            "_model_module_version": "1.2.0",
            "_view_count": null,
            "flex_flow": null,
            "width": null,
            "min_width": null,
            "border": null,
            "align_items": null,
            "bottom": null,
            "_model_module": "@jupyter-widgets/base",
            "top": null,
            "grid_column": null,
            "overflow_y": null,
            "overflow_x": null,
            "grid_auto_flow": null,
            "grid_area": null,
            "grid_template_columns": null,
            "flex": null,
            "_model_name": "LayoutModel",
            "justify_items": null,
            "grid_row": null,
            "max_height": null,
            "align_content": null,
            "visibility": null,
            "align_self": null,
            "height": null,
            "min_height": null,
            "padding": null,
            "grid_auto_rows": null,
            "grid_gap": null,
            "max_width": null,
            "order": null,
            "_view_module_version": "1.2.0",
            "grid_template_areas": null,
            "object_position": null,
            "object_fit": null,
            "grid_auto_columns": null,
            "margin": null,
            "display": null,
            "left": null
          }
        },
        "9719b596e076475d8b54a87152bdb25e": {
          "model_module": "@jupyter-widgets/controls",
          "model_name": "IntProgressModel",
          "state": {
            "_view_name": "ProgressView",
            "style": "IPY_MODEL_dda39535a1b04d8cb1b4366c9e03b37c",
            "_dom_classes": [],
            "description": "Downloading: 100%",
            "_model_name": "IntProgressModel",
            "bar_style": "success",
            "max": 456,
            "_view_module": "@jupyter-widgets/controls",
            "_model_module_version": "1.5.0",
            "value": 456,
            "_view_count": null,
            "_view_module_version": "1.5.0",
            "orientation": "horizontal",
            "min": 0,
            "description_tooltip": null,
            "_model_module": "@jupyter-widgets/controls",
            "layout": "IPY_MODEL_3d3cfe4b9f8947f093067c2b87f7c39a"
          }
        },
        "ae67b02ba65a420e9761bb8482b42f02": {
          "model_module": "@jupyter-widgets/controls",
          "model_name": "HTMLModel",
          "state": {
            "_view_name": "HTMLView",
            "style": "IPY_MODEL_a32d6b3a84f84cc69d9bbc9afdcdbd3f",
            "_dom_classes": [],
            "description": "",
            "_model_name": "HTMLModel",
            "placeholder": "​",
            "_view_module": "@jupyter-widgets/controls",
            "_model_module_version": "1.5.0",
            "value": " 456/456 [00:21&lt;00:00, 20.9B/s]",
            "_view_count": null,
            "_view_module_version": "1.5.0",
            "description_tooltip": null,
            "_model_module": "@jupyter-widgets/controls",
            "layout": "IPY_MODEL_d05fe51ec12b4d3fa1d38b41dd46414c"
          }
        },
        "dda39535a1b04d8cb1b4366c9e03b37c": {
          "model_module": "@jupyter-widgets/controls",
          "model_name": "ProgressStyleModel",
          "state": {
            "_view_name": "StyleView",
            "_model_name": "ProgressStyleModel",
            "description_width": "initial",
            "_view_module": "@jupyter-widgets/base",
            "_model_module_version": "1.5.0",
            "_view_count": null,
            "_view_module_version": "1.2.0",
            "bar_color": null,
            "_model_module": "@jupyter-widgets/controls"
          }
        },
        "3d3cfe4b9f8947f093067c2b87f7c39a": {
          "model_module": "@jupyter-widgets/base",
          "model_name": "LayoutModel",
          "state": {
            "_view_name": "LayoutView",
            "grid_template_rows": null,
            "right": null,
            "justify_content": null,
            "_view_module": "@jupyter-widgets/base",
            "overflow": null,
            "_model_module_version": "1.2.0",
            "_view_count": null,
            "flex_flow": null,
            "width": null,
            "min_width": null,
            "border": null,
            "align_items": null,
            "bottom": null,
            "_model_module": "@jupyter-widgets/base",
            "top": null,
            "grid_column": null,
            "overflow_y": null,
            "overflow_x": null,
            "grid_auto_flow": null,
            "grid_area": null,
            "grid_template_columns": null,
            "flex": null,
            "_model_name": "LayoutModel",
            "justify_items": null,
            "grid_row": null,
            "max_height": null,
            "align_content": null,
            "visibility": null,
            "align_self": null,
            "height": null,
            "min_height": null,
            "padding": null,
            "grid_auto_rows": null,
            "grid_gap": null,
            "max_width": null,
            "order": null,
            "_view_module_version": "1.2.0",
            "grid_template_areas": null,
            "object_position": null,
            "object_fit": null,
            "grid_auto_columns": null,
            "margin": null,
            "display": null,
            "left": null
          }
        },
        "a32d6b3a84f84cc69d9bbc9afdcdbd3f": {
          "model_module": "@jupyter-widgets/controls",
          "model_name": "DescriptionStyleModel",
          "state": {
            "_view_name": "StyleView",
            "_model_name": "DescriptionStyleModel",
            "description_width": "",
            "_view_module": "@jupyter-widgets/base",
            "_model_module_version": "1.5.0",
            "_view_count": null,
            "_view_module_version": "1.2.0",
            "_model_module": "@jupyter-widgets/controls"
          }
        },
        "d05fe51ec12b4d3fa1d38b41dd46414c": {
          "model_module": "@jupyter-widgets/base",
          "model_name": "LayoutModel",
          "state": {
            "_view_name": "LayoutView",
            "grid_template_rows": null,
            "right": null,
            "justify_content": null,
            "_view_module": "@jupyter-widgets/base",
            "overflow": null,
            "_model_module_version": "1.2.0",
            "_view_count": null,
            "flex_flow": null,
            "width": null,
            "min_width": null,
            "border": null,
            "align_items": null,
            "bottom": null,
            "_model_module": "@jupyter-widgets/base",
            "top": null,
            "grid_column": null,
            "overflow_y": null,
            "overflow_x": null,
            "grid_auto_flow": null,
            "grid_area": null,
            "grid_template_columns": null,
            "flex": null,
            "_model_name": "LayoutModel",
            "justify_items": null,
            "grid_row": null,
            "max_height": null,
            "align_content": null,
            "visibility": null,
            "align_self": null,
            "height": null,
            "min_height": null,
            "padding": null,
            "grid_auto_rows": null,
            "grid_gap": null,
            "max_width": null,
            "order": null,
            "_view_module_version": "1.2.0",
            "grid_template_areas": null,
            "object_position": null,
            "object_fit": null,
            "grid_auto_columns": null,
            "margin": null,
            "display": null,
            "left": null
          }
        },
        "eae499b4918d4ce28df3847c2cbdf2fb": {
          "model_module": "@jupyter-widgets/controls",
          "model_name": "HBoxModel",
          "state": {
            "_view_name": "HBoxView",
            "_dom_classes": [],
            "_model_name": "HBoxModel",
            "_view_module": "@jupyter-widgets/controls",
            "_model_module_version": "1.5.0",
            "_view_count": null,
            "_view_module_version": "1.5.0",
            "box_style": "",
            "layout": "IPY_MODEL_fe02d2376ce247c68a5d790111961e62",
            "_model_module": "@jupyter-widgets/controls",
            "children": [
              "IPY_MODEL_42ebb9edb43345afabb6f39013972240",
              "IPY_MODEL_2ee0c1390c894fe8949e8ded3cfa4843"
            ]
          }
        },
        "fe02d2376ce247c68a5d790111961e62": {
          "model_module": "@jupyter-widgets/base",
          "model_name": "LayoutModel",
          "state": {
            "_view_name": "LayoutView",
            "grid_template_rows": null,
            "right": null,
            "justify_content": null,
            "_view_module": "@jupyter-widgets/base",
            "overflow": null,
            "_model_module_version": "1.2.0",
            "_view_count": null,
            "flex_flow": null,
            "width": null,
            "min_width": null,
            "border": null,
            "align_items": null,
            "bottom": null,
            "_model_module": "@jupyter-widgets/base",
            "top": null,
            "grid_column": null,
            "overflow_y": null,
            "overflow_x": null,
            "grid_auto_flow": null,
            "grid_area": null,
            "grid_template_columns": null,
            "flex": null,
            "_model_name": "LayoutModel",
            "justify_items": null,
            "grid_row": null,
            "max_height": null,
            "align_content": null,
            "visibility": null,
            "align_self": null,
            "height": null,
            "min_height": null,
            "padding": null,
            "grid_auto_rows": null,
            "grid_gap": null,
            "max_width": null,
            "order": null,
            "_view_module_version": "1.2.0",
            "grid_template_areas": null,
            "object_position": null,
            "object_fit": null,
            "grid_auto_columns": null,
            "margin": null,
            "display": null,
            "left": null
          }
        },
        "42ebb9edb43345afabb6f39013972240": {
          "model_module": "@jupyter-widgets/controls",
          "model_name": "IntProgressModel",
          "state": {
            "_view_name": "ProgressView",
            "style": "IPY_MODEL_3fda17d114854b0fadd5862b633d015f",
            "_dom_classes": [],
            "description": "Downloading: 100%",
            "_model_name": "IntProgressModel",
            "bar_style": "success",
            "max": 441944381,
            "_view_module": "@jupyter-widgets/controls",
            "_model_module_version": "1.5.0",
            "value": 441944381,
            "_view_count": null,
            "_view_module_version": "1.5.0",
            "orientation": "horizontal",
            "min": 0,
            "description_tooltip": null,
            "_model_module": "@jupyter-widgets/controls",
            "layout": "IPY_MODEL_14698a72e35d4f9eb66193592f820eb0"
          }
        },
        "2ee0c1390c894fe8949e8ded3cfa4843": {
          "model_module": "@jupyter-widgets/controls",
          "model_name": "HTMLModel",
          "state": {
            "_view_name": "HTMLView",
            "style": "IPY_MODEL_77118666661a4e8abd5d8f2f2eaf8067",
            "_dom_classes": [],
            "description": "",
            "_model_name": "HTMLModel",
            "placeholder": "​",
            "_view_module": "@jupyter-widgets/controls",
            "_model_module_version": "1.5.0",
            "value": " 442M/442M [00:19&lt;00:00, 22.6MB/s]",
            "_view_count": null,
            "_view_module_version": "1.5.0",
            "description_tooltip": null,
            "_model_module": "@jupyter-widgets/controls",
            "layout": "IPY_MODEL_43a260abccd6492f9919f759850dcdef"
          }
        },
        "3fda17d114854b0fadd5862b633d015f": {
          "model_module": "@jupyter-widgets/controls",
          "model_name": "ProgressStyleModel",
          "state": {
            "_view_name": "StyleView",
            "_model_name": "ProgressStyleModel",
            "description_width": "initial",
            "_view_module": "@jupyter-widgets/base",
            "_model_module_version": "1.5.0",
            "_view_count": null,
            "_view_module_version": "1.2.0",
            "bar_color": null,
            "_model_module": "@jupyter-widgets/controls"
          }
        },
        "14698a72e35d4f9eb66193592f820eb0": {
          "model_module": "@jupyter-widgets/base",
          "model_name": "LayoutModel",
          "state": {
            "_view_name": "LayoutView",
            "grid_template_rows": null,
            "right": null,
            "justify_content": null,
            "_view_module": "@jupyter-widgets/base",
            "overflow": null,
            "_model_module_version": "1.2.0",
            "_view_count": null,
            "flex_flow": null,
            "width": null,
            "min_width": null,
            "border": null,
            "align_items": null,
            "bottom": null,
            "_model_module": "@jupyter-widgets/base",
            "top": null,
            "grid_column": null,
            "overflow_y": null,
            "overflow_x": null,
            "grid_auto_flow": null,
            "grid_area": null,
            "grid_template_columns": null,
            "flex": null,
            "_model_name": "LayoutModel",
            "justify_items": null,
            "grid_row": null,
            "max_height": null,
            "align_content": null,
            "visibility": null,
            "align_self": null,
            "height": null,
            "min_height": null,
            "padding": null,
            "grid_auto_rows": null,
            "grid_gap": null,
            "max_width": null,
            "order": null,
            "_view_module_version": "1.2.0",
            "grid_template_areas": null,
            "object_position": null,
            "object_fit": null,
            "grid_auto_columns": null,
            "margin": null,
            "display": null,
            "left": null
          }
        },
        "77118666661a4e8abd5d8f2f2eaf8067": {
          "model_module": "@jupyter-widgets/controls",
          "model_name": "DescriptionStyleModel",
          "state": {
            "_view_name": "StyleView",
            "_model_name": "DescriptionStyleModel",
            "description_width": "",
            "_view_module": "@jupyter-widgets/base",
            "_model_module_version": "1.5.0",
            "_view_count": null,
            "_view_module_version": "1.2.0",
            "_model_module": "@jupyter-widgets/controls"
          }
        },
        "43a260abccd6492f9919f759850dcdef": {
          "model_module": "@jupyter-widgets/base",
          "model_name": "LayoutModel",
          "state": {
            "_view_name": "LayoutView",
            "grid_template_rows": null,
            "right": null,
            "justify_content": null,
            "_view_module": "@jupyter-widgets/base",
            "overflow": null,
            "_model_module_version": "1.2.0",
            "_view_count": null,
            "flex_flow": null,
            "width": null,
            "min_width": null,
            "border": null,
            "align_items": null,
            "bottom": null,
            "_model_module": "@jupyter-widgets/base",
            "top": null,
            "grid_column": null,
            "overflow_y": null,
            "overflow_x": null,
            "grid_auto_flow": null,
            "grid_area": null,
            "grid_template_columns": null,
            "flex": null,
            "_model_name": "LayoutModel",
            "justify_items": null,
            "grid_row": null,
            "max_height": null,
            "align_content": null,
            "visibility": null,
            "align_self": null,
            "height": null,
            "min_height": null,
            "padding": null,
            "grid_auto_rows": null,
            "grid_gap": null,
            "max_width": null,
            "order": null,
            "_view_module_version": "1.2.0",
            "grid_template_areas": null,
            "object_position": null,
            "object_fit": null,
            "grid_auto_columns": null,
            "margin": null,
            "display": null,
            "left": null
          }
        }
      }
    }
  },
  "cells": [
    {
      "cell_type": "markdown",
      "metadata": {
        "id": "7DDFbuT8m2Qd",
        "colab_type": "text"
      },
      "source": [
        "# Comparison of modern neural network architectures for POS tagging for Spanish"
      ]
    },
    {
      "cell_type": "markdown",
      "metadata": {
        "id": "nseEylUlnKeh",
        "colab_type": "text"
      },
      "source": [
        "POS tagging cannot be probably included in the list of the hottest NLP models. However, it is still quite an important task that is a must for undersanding a language structure and, therefore, improving the qualinty of language modeling, in general.\\\n",
        "Actually, there are multiple pretty good and excellent taggers for English. Meanwhile, what's up with other languages? Probably, not that cool:(\n",
        "# Agenda:\n",
        "\n",
        "Let's build some neural models for Spanish, check out and compare their quality!"
      ]
    },
    {
      "cell_type": "markdown",
      "metadata": {
        "id": "yQHxtjUepdk3",
        "colab_type": "text"
      },
      "source": [
        "Description of tools...\\\n",
        "Pytorch\n",
        "Transformers\n",
        "Metrics\n"
      ]
    },
    {
      "cell_type": "markdown",
      "metadata": {
        "id": "FOHprpRBpl_s",
        "colab_type": "text"
      },
      "source": [
        "These are some dependencies we'll need:"
      ]
    },
    {
      "cell_type": "code",
      "metadata": {
        "id": "IULlFULUKOli",
        "colab_type": "code",
        "colab": {
          "base_uri": "https://localhost:8080/",
          "height": 105
        },
        "outputId": "25feaf06-673d-402e-f7df-343b0afc69f9"
      },
      "source": [
        "!pip install pytorch-crf"
      ],
      "execution_count": 1,
      "outputs": [
        {
          "output_type": "stream",
          "text": [
            "Collecting pytorch-crf\n",
            "  Downloading https://files.pythonhosted.org/packages/96/7d/4c4688e26ea015fc118a0327e5726e6596836abce9182d3738be8ec2e32a/pytorch_crf-0.7.2-py3-none-any.whl\n",
            "Installing collected packages: pytorch-crf\n",
            "Successfully installed pytorch-crf-0.7.2\n"
          ],
          "name": "stdout"
        }
      ]
    },
    {
      "cell_type": "code",
      "metadata": {
        "id": "n621Q6709-JH",
        "colab_type": "code",
        "colab": {
          "base_uri": "https://localhost:8080/",
          "height": 34
        },
        "outputId": "d17ad324-94ed-467f-9ad1-8b50b735866a"
      },
      "source": [
        "import spacy\n",
        "import json\n",
        "import nltk\n",
        "import random\n",
        "import numpy as np\n",
        "import torch \n",
        "from nltk.tag import hmm\n",
        "from sklearn.metrics import f1_score\n",
        "import matplotlib.pyplot as plt\n",
        "\n",
        "SEED = 7\n",
        "\n",
        "random.seed(SEED)\n",
        "np.random.seed(SEED)\n",
        "torch.manual_seed(SEED)\n",
        "torch.backends.cudnn.deterministic = True\n",
        "\n",
        "from torch import nn\n",
        "import torch.nn.functional as F\n",
        "import torch.optim as optim\n",
        "import torchtext.vocab as vocab\n",
        "\n",
        "device = torch.device('cuda' if torch.cuda.is_available() else 'cpu')\n",
        "device"
      ],
      "execution_count": 2,
      "outputs": [
        {
          "output_type": "execute_result",
          "data": {
            "text/plain": [
              "device(type='cuda')"
            ]
          },
          "metadata": {
            "tags": []
          },
          "execution_count": 2
        }
      ]
    },
    {
      "cell_type": "markdown",
      "metadata": {
        "id": "2C_yF6c5-C24",
        "colab_type": "text"
      },
      "source": [
        "## First of all, we should download and prepare our data"
      ]
    },
    {
      "cell_type": "code",
      "metadata": {
        "id": "zIAXoSlY-Vsk",
        "colab_type": "code",
        "colab": {
          "base_uri": "https://localhost:8080/",
          "height": 238
        },
        "outputId": "55ff6724-1a2b-4ed4-dbd8-8fbef79b33e5"
      },
      "source": [
        "! git clone https://github.com/UniversalDependencies/UD_Spanish-AnCora\n",
        "! mkdir ancora-json\n",
        "! python -m spacy convert UD_Spanish-AnCora/es_ancora-ud-train.conllu ancora-json\n",
        "! python -m spacy convert UD_Spanish-AnCora/es_ancora-ud-dev.conllu ancora-json\n",
        "! python -m spacy convert UD_Spanish-AnCora/es_ancora-ud-test.conllu ancora-json"
      ],
      "execution_count": 3,
      "outputs": [
        {
          "output_type": "stream",
          "text": [
            "Cloning into 'UD_Spanish-AnCora'...\n",
            "remote: Enumerating objects: 8, done.\u001b[K\n",
            "remote: Counting objects:  12% (1/8)\u001b[K\rremote: Counting objects:  25% (2/8)\u001b[K\rremote: Counting objects:  37% (3/8)\u001b[K\rremote: Counting objects:  50% (4/8)\u001b[K\rremote: Counting objects:  62% (5/8)\u001b[K\rremote: Counting objects:  75% (6/8)\u001b[K\rremote: Counting objects:  87% (7/8)\u001b[K\rremote: Counting objects: 100% (8/8)\u001b[K\rremote: Counting objects: 100% (8/8), done.\u001b[K\n",
            "remote: Compressing objects: 100% (7/7), done.\u001b[K\n",
            "remote: Total 503 (delta 2), reused 5 (delta 1), pack-reused 495\u001b[K\n",
            "Receiving objects: 100% (503/503), 108.34 MiB | 25.57 MiB/s, done.\n",
            "Resolving deltas: 100% (349/349), done.\n",
            "\u001b[38;5;2m✔ Generated output file (14305 documents):\n",
            "ancora-json/es_ancora-ud-train.json\u001b[0m\n",
            "\u001b[38;5;2m✔ Generated output file (1654 documents):\n",
            "ancora-json/es_ancora-ud-dev.json\u001b[0m\n",
            "\u001b[38;5;2m✔ Generated output file (1721 documents):\n",
            "ancora-json/es_ancora-ud-test.json\u001b[0m\n"
          ],
          "name": "stdout"
        }
      ]
    },
    {
      "cell_type": "code",
      "metadata": {
        "id": "8Vmt1jbJ-YIw",
        "colab_type": "code",
        "colab": {}
      },
      "source": [
        "with open('/content/ancora-json/es_ancora-ud-train.json') as f:\n",
        "  data_train = json.load(f)\n",
        "  \n",
        "with open('/content/ancora-json/es_ancora-ud-dev.json') as f:\n",
        "  data_val = json.load(f)\n",
        "\n",
        "with open('/content/ancora-json/es_ancora-ud-test.json') as f:\n",
        "  data_test = json.load(f)"
      ],
      "execution_count": 0,
      "outputs": []
    },
    {
      "cell_type": "code",
      "metadata": {
        "id": "WCxenxri-mtm",
        "colab_type": "code",
        "colab": {}
      },
      "source": [
        "def create_dataset(data, test=False):\n",
        "  tagged_sent = []\n",
        "  if test is False:\n",
        "    for j in range(len(data)):\n",
        "      sentence = []\n",
        "      for i in data[j]['paragraphs'][0]['sentences'][0]['tokens']:\n",
        "        sentence.append((i['orth'], i['tag']))\n",
        "      tagged_sent.append(sentence)\n",
        "  else:\n",
        "   for j in range(len(data)):\n",
        "      sentence = []\n",
        "      for i in data[j]['paragraphs'][0]['sentences'][0]['tokens']:\n",
        "        sentence.append(i['orth'])\n",
        "      tagged_sent.append(sentence)\n",
        "\n",
        "  return tagged_sent"
      ],
      "execution_count": 0,
      "outputs": []
    },
    {
      "cell_type": "code",
      "metadata": {
        "id": "8DbTJ7aX-pTj",
        "colab_type": "code",
        "colab": {}
      },
      "source": [
        "tagged_sent_train = create_dataset(data_train)\n",
        "tagged_sent_val = create_dataset(data_val)\n",
        "tagged_sent_test = create_dataset(data_test)"
      ],
      "execution_count": 0,
      "outputs": []
    },
    {
      "cell_type": "markdown",
      "metadata": {
        "id": "ELf91aet-1jW",
        "colab_type": "text"
      },
      "source": [
        "# Бейзлайн"
      ]
    },
    {
      "cell_type": "markdown",
      "metadata": {
        "id": "2mBX6-ec-5Ju",
        "colab_type": "text"
      },
      "source": [
        "Тэггер, возвращающий самый частый для каждого слова тэг - если слова не было в трейне - присваивает самый частотный тэг. Плохо работает с новыми данными"
      ]
    },
    {
      "cell_type": "code",
      "metadata": {
        "id": "CP_p82fK-sZ4",
        "colab_type": "code",
        "colab": {}
      },
      "source": [
        "class MaxFreqTagger():\n",
        "\n",
        "  def __init__(self):\n",
        "    pass\n",
        "\n",
        "  def __repr__(self):\n",
        "    return 'An example of MaxFreqTagger\\nAssigns each word the most frequent tag for it.'\n",
        "\n",
        "  def fit(self, train_data):\n",
        "\n",
        "\n",
        "    self.flat_list_items = [item for sublist in train_data for item in sublist]\n",
        "    from collections import defaultdict, Counter\n",
        "    \n",
        "    tree = lambda: defaultdict(tree)\n",
        "    dictionary = tree()\n",
        "\n",
        "    for i,j in self.flat_list_items:\n",
        "      if j not in dictionary[i].values():\n",
        "        dictionary[i][j] =  1\n",
        "      else:\n",
        "        dictionary[i][j] +=  1\n",
        "    self.max_tag_dict = {}\n",
        "\n",
        "    for i, j in dictionary.items():\n",
        "      for k in dictionary[i].keys():\n",
        "        if dictionary[i][k] is max(dictionary[i].values()):\n",
        "          self.max_tag_dict[i] = k \n",
        "\n",
        "    freq = Counter(self.max_tag_dict.values())\n",
        "    self.most_common_tag = freq.most_common()[0][0]\n",
        "    flat_tags = list(set([(word, tag)[1] for sentence in train_data for (word, tag) in sentence]))\n",
        "    self.encoding = {j:i for i, j in enumerate(flat_tags)}\n",
        "\n",
        "  def predict(self, test_data):\n",
        "\n",
        "    self.prediction = []\n",
        "    for sentence in test_data:\n",
        "      sentence_pred = []\n",
        "      for word, tag in sentence:\n",
        "        try:\n",
        "          pred = (word, self.max_tag_dict[word])\n",
        "        except KeyError:\n",
        "          pred = (word, self.most_common_tag)\n",
        "        sentence_pred.append(pred) \n",
        "      self.prediction.append(sentence_pred)\n",
        "    return self.prediction\n",
        "\n",
        "  def predict_flat_encoded(self, test_data):\n",
        "    flatted_words = [(word, tag)[0] for sentence in test_data for (word, tag) in sentence]\n",
        "    flatted_tags = [(word, tag)[1] for sentence in test_data for (word, tag) in sentence]\n",
        "    pred_tags = []\n",
        "    for word in flatted_words:\n",
        "        try:\n",
        "          pred = self.max_tag_dict[word]\n",
        "        except KeyError:\n",
        "          pred = self.most_common_tag\n",
        "        pred_tags.append(pred) \n",
        "    \n",
        "    return [self.encoding[tag] for tag in flatted_tags], [self.encoding[tag] for tag in pred_tags]\n",
        "\n",
        "  def eval(self, test_data):\n",
        "    prediction = self.predict(test_data)\n",
        "    true_pred = 0\n",
        "    num_pred = 0\n",
        "\n",
        "    for i, j in enumerate(test_data):\n",
        "        tags = np.array([tag for (word, tag) in j])\n",
        "        words = np.array([word for (word, tag) in j])\n",
        "        outputs = [tag for token, tag in prediction[i]]\n",
        "        true_pred += np.sum(outputs == tags)\n",
        "        num_pred += len(words)\n",
        "        \n",
        "    return true_pred / num_pred * 100"
      ],
      "execution_count": 0,
      "outputs": []
    },
    {
      "cell_type": "code",
      "metadata": {
        "id": "ULTl9Qm1-_4o",
        "colab_type": "code",
        "colab": {}
      },
      "source": [
        "tagger = MaxFreqTagger()\n",
        "tagger.fit(tagged_sent_train)"
      ],
      "execution_count": 0,
      "outputs": []
    },
    {
      "cell_type": "code",
      "metadata": {
        "id": "-naCn3WM_Es2",
        "colab_type": "code",
        "colab": {
          "base_uri": "https://localhost:8080/",
          "height": 68
        },
        "outputId": "e3fba028-600c-456c-d1a6-19d7e7651c9c"
      },
      "source": [
        "accuracy_train = tagger.eval(tagged_sent_train)\n",
        "accuracy_val =  tagger.eval(tagged_sent_val)\n",
        "accuracy_test = tagger.eval(tagged_sent_test)\n",
        "print('Accuracy train: {}\\nAccuracy val: {}\\nAccuracy test: {}'.format(accuracy_train, accuracy_val, accuracy_test))"
      ],
      "execution_count": 8,
      "outputs": [
        {
          "output_type": "stream",
          "text": [
            "Accuracy train: 59.78979613869046\n",
            "Accuracy val: 55.846835830021405\n",
            "Accuracy test: 55.58089590816656\n"
          ],
          "name": "stdout"
        }
      ]
    },
    {
      "cell_type": "code",
      "metadata": {
        "id": "EXgN5Qm_Sq9L",
        "colab_type": "code",
        "colab": {
          "base_uri": "https://localhost:8080/",
          "height": 119
        },
        "outputId": "70467610-b9a7-4374-bc37-6b4cee429b70"
      },
      "source": [
        "print('Train accuracy f1 macro',f1_score(*tagger.predict_flat_encoded(tagged_sent_train), average='macro'), \"%\")\n",
        "print('Valid accuracy f1 macro',f1_score(*tagger.predict_flat_encoded(tagged_sent_val), average='macro'), \"%\")\n",
        "print('Test accuracy f1 macro',f1_score(*tagger.predict_flat_encoded(tagged_sent_test), average='macro'), \"%\")\n",
        "print('Train accuracy f1 macro',f1_score(*tagger.predict_flat_encoded(tagged_sent_train), average='micro'), \"%\")\n",
        "print('Valid accuracy f1 macro',f1_score(*tagger.predict_flat_encoded(tagged_sent_val), average='micro'), \"%\")\n",
        "print('Test accuracy f1 macro',f1_score(*tagger.predict_flat_encoded(tagged_sent_test), average='micro'), \"%\")"
      ],
      "execution_count": 62,
      "outputs": [
        {
          "output_type": "stream",
          "text": [
            "Train accuracy f1 macro 0.4490647245609249 %\n",
            "Valid accuracy f1 macro 0.40171584261766613 %\n",
            "Test accuracy f1 macro 0.40276144735574215 %\n",
            "Train accuracy f1 macro 0.6092493297587132 %\n",
            "Valid accuracy f1 macro 0.559137114032406 %\n",
            "Test accuracy f1 macro 0.5572153486515765 %\n"
          ],
          "name": "stdout"
        }
      ]
    },
    {
      "cell_type": "markdown",
      "metadata": {
        "id": "9gcnVsu5_Ngy",
        "colab_type": "text"
      },
      "source": [
        "Второй бейзлайн HMM - реализация из нлтк. Работает лучше - но качество отличное только на трейне, на новых данных статистическая модель опять же оставляет желать лучшего"
      ]
    },
    {
      "cell_type": "code",
      "metadata": {
        "id": "r1l0W6sn_Lgg",
        "colab_type": "code",
        "colab": {
          "base_uri": "https://localhost:8080/",
          "height": 34
        },
        "outputId": "3fec42d4-1d6e-45e8-e8c9-57b3d3141c69"
      },
      "source": [
        "trainer = hmm.HiddenMarkovModelTrainer()\n",
        "taggerHMM = trainer.train_supervised(tagged_sent_train)\n",
        "print(taggerHMM)"
      ],
      "execution_count": 82,
      "outputs": [
        {
          "output_type": "stream",
          "text": [
            "<HiddenMarkovModelTagger 17 states and 37523 output symbols>\n"
          ],
          "name": "stdout"
        }
      ]
    },
    {
      "cell_type": "code",
      "metadata": {
        "id": "SFhf_ukB_Xp2",
        "colab_type": "code",
        "colab": {
          "base_uri": "https://localhost:8080/",
          "height": 68
        },
        "outputId": "03b05d52-d2f0-4115-85d5-01fd644cfcdb"
      },
      "source": [
        "accuracy_train = taggerHMM.evaluate(tagged_sent_train)\n",
        "accuracy_val =  taggerHMM.evaluate(tagged_sent_val)\n",
        "accuracy_test = taggerHMM.evaluate(tagged_sent_test)\n",
        "print('Accuracy train: {}\\nAccuracy val: {}\\nAccuracy test: {}'.format(accuracy_train, accuracy_val, accuracy_test))"
      ],
      "execution_count": 83,
      "outputs": [
        {
          "output_type": "stream",
          "text": [
            "Accuracy train: 0.974456609748637\n",
            "Accuracy val: 0.5100504432895139\n",
            "Accuracy test: 0.5117357508029724\n"
          ],
          "name": "stdout"
        }
      ]
    },
    {
      "cell_type": "code",
      "metadata": {
        "id": "bSxWf1MpjXOe",
        "colab_type": "code",
        "colab": {}
      },
      "source": [
        "def f1(model, data, type):\n",
        "  flatted_words_ = [(word, tag)[0] for sentence in data for (word, tag) in sentence]\n",
        "  flatted_tags_enc = [tagger.encoding[(word, tag)[1]] for sentence in data for (word, tag) in sentence]\n",
        "  flatted_pred_enc = [tagger.encoding[tag] for word, tag in model.tag(flatted_words_)]\n",
        "  return f1_score(flatted_tags_enc, flatted_pred_enc, average=type)"
      ],
      "execution_count": 0,
      "outputs": []
    },
    {
      "cell_type": "code",
      "metadata": {
        "id": "1uHgvfJzgmCP",
        "colab_type": "code",
        "colab": {
          "base_uri": "https://localhost:8080/",
          "height": 119
        },
        "outputId": "c7f3085c-89e5-4f72-e2f5-c6fa9b5798b8"
      },
      "source": [
        "print('Train f1 macro',f1(taggerHMM, tagged_sent_train, 'macro'), \"%\")\n",
        "print('Valid f1 macro',f1(taggerHMM, tagged_sent_val, 'macro'), \"%\")\n",
        "print('Test f1 macro',f1(taggerHMM, tagged_sent_test, 'macro'), \"%\")\n",
        "print('Train f1 macro',f1(taggerHMM, tagged_sent_train, 'micro'), \"%\")\n",
        "print('Valid f1 macro',f1(taggerHMM, tagged_sent_val, 'micro'), \"%\")\n",
        "print('Test f1 macro',f1(taggerHMM, tagged_sent_test, 'micro'), \"%\")"
      ],
      "execution_count": 85,
      "outputs": [
        {
          "output_type": "stream",
          "text": [
            "Train f1 macro 0.8668114892249151 %\n",
            "Valid f1 macro 0.014919211653738407 %\n",
            "Test f1 macro 0.015174733440358 %\n",
            "Train f1 macro 0.9744116271119346 %\n",
            "Valid f1 macro 0.13508865790278202 %\n",
            "Test f1 macro 0.13674287777714428 %\n"
          ],
          "name": "stdout"
        }
      ]
    },
    {
      "cell_type": "markdown",
      "metadata": {
        "id": "xxGvDubE_cMh",
        "colab_type": "text"
      },
      "source": [
        "Основная часть - переходим к RNN архитектуре \\\n",
        "Используем следующие модели:\\\n",
        "LSTM\\\n",
        "bi-LSTM\n",
        "bi-LSTM + glove embeddings\\\n",
        "bi-LSTM + Fast Text?\\\n",
        "BERT multilingual cased/uncased\\\n",
        "BETO cased/uncased\\\n",
        "LSTM + CNN & CRF???\n"
      ]
    },
    {
      "cell_type": "markdown",
      "metadata": {
        "id": "qCQH5QCuBo8z",
        "colab_type": "text"
      },
      "source": [
        "# Part I\n",
        "\n",
        "LSTM"
      ]
    },
    {
      "cell_type": "markdown",
      "metadata": {
        "id": "3YzTNZK3xQka",
        "colab_type": "text"
      },
      "source": [
        "Functions for our models:\\\n",
        "The first one we'll need for training"
      ]
    },
    {
      "cell_type": "code",
      "metadata": {
        "id": "ZQ4Lfk0lxVES",
        "colab_type": "code",
        "colab": {}
      },
      "source": [
        "def train(model, iterator, optimizer, criterion, clip, train_history=None, valid_history=None, scheduler=None, is_char=False):\n",
        "    model.train()\n",
        "    \n",
        "    epoch_loss = 0\n",
        "    history = []\n",
        "    for i, batch in enumerate(iterator):\n",
        "        \n",
        "        if is_char:\n",
        "          words = batch.words\n",
        "          chars = batch.chars ###\n",
        "          tags = batch.tags\n",
        "\n",
        "        else:\n",
        "          words = batch.words ###\n",
        "          tags = batch.tags###\n",
        "        \n",
        "        optimizer.zero_grad()\n",
        "\n",
        "        if is_char:\n",
        "          output = model(chars, words)\n",
        "        \n",
        "        else:\n",
        "          output = model(words) ###\n",
        "        \n",
        "        #tags = [sent len, batch size]\n",
        "        #output = [sent len, batch size, output dim]\n",
        "        \n",
        "        output = output.view(-1, output.shape[-1])\n",
        "        tags = tags.view(-1)\n",
        "        \n",
        "        #tags = [sent len * batch size]\n",
        "        #output = [sent len * batch size, output dim]\n",
        "        \n",
        "        loss = criterion(output, tags) ###\n",
        "        \n",
        "        loss.backward()\n",
        "        \n",
        "        # Gradient clipping(решение проблемы взрыва граденты), clip - максимальная норма вектора\n",
        "        torch.nn.utils.clip_grad_norm_(model.parameters(), max_norm=clip)\n",
        "        \n",
        "        optimizer.step()\n",
        "\n",
        "        if scheduler != None:\n",
        "          scheduler.step()\n",
        "        \n",
        "        epoch_loss += loss.item()\n",
        "        \n",
        "        history.append(loss.cpu().data.numpy())\n",
        "        if (i+1)%10==0:\n",
        "            fig, ax = plt.subplots(nrows=1, ncols=2, figsize=(12, 8))\n",
        "\n",
        "            clear_output(True)\n",
        "            ax[0].plot(history, label='train loss')\n",
        "            ax[0].set_xlabel('Batch')\n",
        "            ax[0].set_title('Train loss')\n",
        "            \n",
        "            if train_history is not None:\n",
        "                ax[1].plot(train_history, label='general train history')\n",
        "                ax[1].set_xlabel('Epoch')\n",
        "            if valid_history is not None:\n",
        "                ax[1].plot(valid_history, label='general valid history')\n",
        "            plt.legend()\n",
        "            \n",
        "            plt.show()\n",
        "\n",
        "        \n",
        "    return epoch_loss / len(iterator)\n",
        "\n",
        "def evaluate(model, iterator, criterion, is_char=False):\n",
        "    model.eval()\n",
        "    \n",
        "    epoch_loss = 0\n",
        "    \n",
        "    history = []\n",
        "    \n",
        "    with torch.no_grad():\n",
        "    \n",
        "        for i, batch in enumerate(iterator):\n",
        "\n",
        "            if is_char:\n",
        "              words = batch.words\n",
        "              chars = batch.chars ###\n",
        "              tags = batch.tags###\n",
        "              \n",
        "              output = model(chars, words) \n",
        "              \n",
        "            else:\n",
        "              words = batch.words\n",
        "              ###\n",
        "              tags = batch.tags###\n",
        "              \n",
        "              output = model(words)\n",
        "              ###\n",
        "\n",
        "            #tags = [sent len, batch size]\n",
        "            #output = [sent len, batch size, output dim]\n",
        "\n",
        "            output = output.view(-1, output.shape[-1])\n",
        "            tags = tags.view(-1)\n",
        "\n",
        "            #tags = [sent len * batch size]\n",
        "            #output = [sent len * batch size, output dim]\n",
        "\n",
        "            loss = criterion(output,tags) ##\n",
        "            \n",
        "            epoch_loss += loss.item()\n",
        "        \n",
        "    return epoch_loss / len(iterator)\n",
        "\n",
        "\n",
        "# also some extra\n",
        "def epoch_time(start_time, end_time):\n",
        "    elapsed_time = end_time - start_time\n",
        "    elapsed_mins = int(elapsed_time / 60)\n",
        "    elapsed_secs = int(elapsed_time - (elapsed_mins * 60))\n",
        "    return elapsed_mins, elapsed_secs\n",
        "\n",
        "def count_parameters(model):\n",
        "\n",
        "\n",
        "   trainable_model_parameters = filter(lambda p: p.requires_grad, model.parameters())\n",
        "   num_params = sum([np.prod(p.size()) for p in trainable_model_parameters])\n",
        "   return num_params"
      ],
      "execution_count": 0,
      "outputs": []
    },
    {
      "cell_type": "markdown",
      "metadata": {
        "id": "UcjKDrDSx_lc",
        "colab_type": "text"
      },
      "source": [
        "Also, we need to be able to get a prediction and calculate the metrics (accuracy and f1)"
      ]
    },
    {
      "cell_type": "code",
      "metadata": {
        "id": "goZTe23dxV1E",
        "colab_type": "code",
        "colab": {}
      },
      "source": [
        "def accuracy_model(model, iterator, is_char=False):\n",
        "    model.eval()\n",
        "    \n",
        "    true_pred = 0\n",
        "    num_pred = 0\n",
        "    \n",
        "    with torch.no_grad():\n",
        "        for i, batch in enumerate(iterator):\n",
        "\n",
        "            if is_char:\n",
        "              words = batch.words\n",
        "              chars = batch.chars ###\n",
        "              tags = batch.tags#\n",
        "              output = model(chars, words)\n",
        "            else:\n",
        "              words = batch.words ###\n",
        "              tags = batch.tags###\n",
        "\n",
        "              output = model(words) ###\n",
        "            \n",
        "            #output = [sent len, batch size, output dim]\n",
        "            output = torch.max(F.softmax(output.view(-1, output.shape[-1]), dim=-1), dim=-1).indices ###\n",
        "            tags = tags.view(-1)\n",
        "           \n",
        "            #output = [sent len, batch size]\n",
        "            predict_tags = output.cpu().numpy()\n",
        "            true_tags = tags.cpu().numpy()\n",
        "            \n",
        "\n",
        "            true_pred += np.sum((true_tags == predict_tags) & (true_tags != TAG_PAD_IDX))\n",
        "            num_pred += np.prod(true_tags.shape) - (true_tags == TAG_PAD_IDX).sum()\n",
        "            \n",
        "    return round(true_pred / num_pred * 100, 3)"
      ],
      "execution_count": 0,
      "outputs": []
    },
    {
      "cell_type": "code",
      "metadata": {
        "id": "HnI1dLgoxV9a",
        "colab_type": "code",
        "colab": {}
      },
      "source": [
        "def get_preds(model, iterator, is_char):\n",
        "  model.eval()\n",
        "  preds = []\n",
        "  tags_given = []\n",
        "  with torch.no_grad():\n",
        "        for i, batch in enumerate(iterator):\n",
        "            if is_char:\n",
        "              words = batch.words\n",
        "              chars = batch.chars ###\n",
        "              tags = batch.tags#\n",
        "              output = model(chars, words)\n",
        "            else:\n",
        "              words = batch.words ###\n",
        "              tags = batch.tags###\n",
        "\n",
        "              output = model(words) ###\n",
        "            \n",
        "            #output = [sent len, batch size, output dim]\n",
        "            output = torch.max(F.softmax(output.view(-1, output.shape[-1]), dim=-1), dim=-1).indices ###\n",
        "            tags = tags.view(-1)\n",
        "\n",
        "            #output = [sent len, batch size]\n",
        "            predict_tags = output.squeeze().cpu().numpy()\n",
        "            \n",
        "            true_tags = tags.cpu().numpy()\n",
        "            args = np.where(true_tags!=TAG_PAD_IDX)[0]\n",
        "\n",
        "            predict_tags = predict_tags[args]\n",
        "            true_tags = true_tags[args]\n",
        "\n",
        "            if i==0:\n",
        "              preds = predict_tags\n",
        "              tags_given = true_tags\n",
        "            else:\n",
        "              preds = np.append(preds, predict_tags)\n",
        "              #print(preds.shape)\n",
        "              tags_given = np.append(tags_given, true_tags)\n",
        "              #print(tags.shape)\n",
        "  return preds, tags_given"
      ],
      "execution_count": 0,
      "outputs": []
    },
    {
      "cell_type": "code",
      "metadata": {
        "id": "fC8so9m8xWED",
        "colab_type": "code",
        "colab": {}
      },
      "source": [
        "def get_f1_score(model, iterator, is_char=False):\n",
        "  from sklearn.metrics import f1_score\n",
        "  preds, tags = get_preds(model, iterator, is_char)\n",
        "  f1_score_macro = f1_score(tags, preds, average='macro') * 100\n",
        "  f1_score_micro = f1_score(tags, preds, average='micro') * 100\n",
        "  return f1_score_macro, f1_score_micro\n"
      ],
      "execution_count": 0,
      "outputs": []
    },
    {
      "cell_type": "markdown",
      "metadata": {
        "id": "R7HgvFNhychm",
        "colab_type": "text"
      },
      "source": [
        "And, finally, a function to print the results"
      ]
    },
    {
      "cell_type": "code",
      "metadata": {
        "id": "8NahKiP0ybpA",
        "colab_type": "code",
        "colab": {}
      },
      "source": [
        "def print_quality(model, train_iterator, valid_iterator, test_iterator, name='best-val-model-bi.pt', is_char=False):\n",
        "  model.load_state_dict(torch.load(name))\n",
        "  print(\"Accuracy train:\", accuracy_model(model, train_iterator,is_char), '%')\n",
        "  print(\"Accuracy valid:\", accuracy_model(model, valid_iterator, is_char), '%')\n",
        "  print(\"Accuracy test:\", accuracy_model(model, test_iterator, is_char), '%')\n",
        "  macro_train, micro_train = get_f1_score(model, train_iterator, is_char)\n",
        "  macro_valid, micro_valid = get_f1_score(model, valid_iterator, is_char)\n",
        "  macro_test, micro_test = get_f1_score(model, test_iterator, is_char)\n",
        "  print(\"F1 score macro train:\", macro_train, \"%\")\n",
        "  print(\"F1 score macro valid:\", macro_valid, \"%\")\n",
        "  print(\"F1 score macro test:\", macro_test, \"%\")\n",
        "  print(\"F1 score micro train:\", micro_train, \"%\")\n",
        "  print(\"F1 score micro valid:\", micro_valid, \"%\")\n",
        "  print(\"F1 score micro test:\", micro_test, \"%\")\n"
      ],
      "execution_count": 0,
      "outputs": []
    },
    {
      "cell_type": "markdown",
      "metadata": {
        "id": "mzNPZ-b2qal7",
        "colab_type": "text"
      },
      "source": [
        "In all the models Fields will be called \"WORDS\" and \"TAG\""
      ]
    },
    {
      "cell_type": "code",
      "metadata": {
        "id": "f33RRTGdAZ73",
        "colab_type": "code",
        "colab": {
          "base_uri": "https://localhost:8080/",
          "height": 88
        },
        "outputId": "39af1256-3ebe-41f2-cb38-a4c788cf9186"
      },
      "source": [
        "data_train = [list(zip(*sent)) for sent in tagged_sent_train]\n",
        "print(data_train[0])\n",
        "data_val = [list(zip(*sent)) for sent in tagged_sent_val]\n",
        "print(data_val[0])\n",
        "data_test = [list(zip(*sent)) for sent in tagged_sent_test]\n",
        "print(data_test[0])"
      ],
      "execution_count": 12,
      "outputs": [
        {
          "output_type": "stream",
          "text": [
            "[('El', 'presidente', 'del', 'órgano', 'regulador', 'de', 'las', 'Telecomunicaciones', 'se', 'mostró', 'partidario', 'de', 'completar', 'esta', 'liberalización', 'de', 'las', 'telecomunicaciones', 'con', 'otras', 'medidas', 'que', 'incentiven', 'la', 'competencia', 'como', 'puede', 'ser', 'abrir', 'el', 'acceso', 'a', 'la', 'información', 'de', 'los', 'clientes', 'de', 'Telefónica', 'a', 'otros', 'operadores', '.'), ('DET', 'NOUN', 'ADP', 'NOUN', 'ADJ', 'ADP', 'DET', 'PROPN', 'PRON', 'VERB', 'ADJ', 'ADP', 'VERB', 'DET', 'NOUN', 'ADP', 'DET', 'NOUN', 'ADP', 'DET', 'NOUN', 'PRON', 'VERB', 'DET', 'NOUN', 'SCONJ', 'NOUN', 'NOUN', 'VERB', 'DET', 'NOUN', 'ADP', 'DET', 'NOUN', 'ADP', 'DET', 'NOUN', 'ADP', 'PROPN', 'ADP', 'DET', 'NOUN', 'PUNCT')]\n",
            "[('El', 'gobernante', ',', 'con', 'ganada', 'fama', 'desde', 'que', 'llegó', 'hace', '16', 'meses', 'al', 'poder', 'de', 'explotar', 'al', 'máximo', 'su', 'oratoria', 'y', 'acusado', 'por', 'sus', 'detractores', 'de', 'incontinencia', 'verbal', ',', 'enmudeció', 'desde', 'el', 'momento', 'en', 'el', 'que', 'el', 'Tribunal', 'Supremo', 'de', 'Justicia', '(', 'TSJ', ')', 'decidió', 'suspender', 'temporalmente', 'los', 'comicios', 'múltiples', 'ante', 'la', 'imposibilidad', '\"', 'técnica', '\"', 'de', 'celebrar', 'los', 'el', '28', 'de', 'mayo', '.'), ('DET', 'NOUN', 'PUNCT', 'ADP', 'ADJ', 'NOUN', 'ADP', 'SCONJ', 'VERB', 'AUX', 'NUM', 'NOUN', 'ADP', 'NOUN', 'ADP', 'VERB', 'ADP', 'NOUN', 'DET', 'NOUN', 'CCONJ', 'ADJ', 'ADP', 'DET', 'NOUN', 'ADP', 'NOUN', 'ADJ', 'PUNCT', 'VERB', 'ADP', 'DET', 'NOUN', 'ADP', 'DET', 'PRON', 'DET', 'PROPN', 'PROPN', 'ADP', 'PROPN', 'PUNCT', 'PROPN', 'PUNCT', 'VERB', 'VERB', 'ADV', 'DET', 'NOUN', 'ADJ', 'ADP', 'DET', 'NOUN', 'PUNCT', 'ADJ', 'PUNCT', 'ADP', 'VERB', 'PRON', 'DET', 'NUM', 'ADP', 'NOUN', 'PUNCT')]\n",
            "[('Partidario', 'de', 'la', '\"', 'perestroika', '\"', 'de', 'Mijail', 'Gorbachov', 'en', 'la', 'Unión', 'Soviética', ',', 'en', '1989', 'entró', 'en', 'conflicto', 'con', 'Yívkov', ',', 'líder', 'durante', '35', 'años', 'del', 'Partido', 'Comunista', 'y', 'del', 'Estado', 'búlgaro', ',', 'y', 'le', 'acusó', 'en', 'una', 'carta', 'abierta', 'de', 'utilizar', 'métodos', 'poco', 'democráticos', 'de', 'gobierno', '.'), ('ADJ', 'ADP', 'DET', 'PUNCT', 'NOUN', 'PUNCT', 'ADP', 'PROPN', 'PROPN', 'ADP', 'DET', 'PROPN', 'PROPN', 'PUNCT', 'ADP', 'NOUN', 'VERB', 'ADP', 'NOUN', 'ADP', 'PROPN', 'PUNCT', 'NOUN', 'ADP', 'NUM', 'NOUN', 'ADP', 'PROPN', 'PROPN', 'CCONJ', 'ADP', 'PROPN', 'ADJ', 'PUNCT', 'CCONJ', 'PRON', 'VERB', 'ADP', 'DET', 'NOUN', 'ADJ', 'ADP', 'VERB', 'NOUN', 'ADV', 'ADJ', 'ADP', 'NOUN', 'PUNCT')]\n"
          ],
          "name": "stdout"
        }
      ]
    },
    {
      "cell_type": "code",
      "metadata": {
        "id": "si8mCqCyAdtB",
        "colab_type": "code",
        "colab": {}
      },
      "source": [
        "from torchtext.data import Field, BucketIterator\n",
        "import torchtext\n",
        "\n",
        "# наши поля\n",
        "WORD = Field(lower=True)\n",
        "TAG = Field(unk_token=None) # все токены нам извсетны\n",
        "\n",
        "# создаем примеры\n",
        "examples_train = []\n",
        "for words, tags in data_train:\n",
        "    examples_train.append(torchtext.data.Example.fromlist([list(words), list(tags)], fields=[('words', WORD), ('tags', TAG)]))\n",
        "\n",
        "examples_val = []\n",
        "for words, tags in data_val:\n",
        "    examples_val.append(torchtext.data.Example.fromlist([list(words), list(tags)], fields=[('words', WORD), ('tags', TAG)]))\n",
        "\n",
        "examples_test = []\n",
        "for words, tags in data_test:\n",
        "    examples_test.append(torchtext.data.Example.fromlist([list(words), list(tags)], fields=[('words', WORD), ('tags', TAG)]))"
      ],
      "execution_count": 0,
      "outputs": []
    },
    {
      "cell_type": "code",
      "metadata": {
        "id": "lqlNwHRTAdzO",
        "colab_type": "code",
        "colab": {
          "base_uri": "https://localhost:8080/",
          "height": 34
        },
        "outputId": "a26cc7fc-11f4-47a2-e6df-2ce2c461499f"
      },
      "source": [
        "# здесь уже весь датасет для улучшения качества модели\n",
        "len(examples_train), len(examples_test), len(examples_val)"
      ],
      "execution_count": 9,
      "outputs": [
        {
          "output_type": "execute_result",
          "data": {
            "text/plain": [
              "(14305, 1721, 1654)"
            ]
          },
          "metadata": {
            "tags": []
          },
          "execution_count": 9
        }
      ]
    },
    {
      "cell_type": "code",
      "metadata": {
        "id": "n0skXqKGAd29",
        "colab_type": "code",
        "colab": {
          "base_uri": "https://localhost:8080/",
          "height": 68
        },
        "outputId": "c4a8ff92-024a-4b7e-afae-5f13cdf946ca"
      },
      "source": [
        "train_data =torchtext.data.Dataset(examples_train, fields=[('words', WORD), ('tags', TAG)])\n",
        "valid_data = torchtext.data.Dataset(examples_val, fields=[('words', WORD), ('tags', TAG)])\n",
        "test_data = torchtext.data.Dataset(examples_test, fields=[('words', WORD), ('tags', TAG)])\n",
        "print(f\"Number of training examples: {len(train_data.examples)}\")\n",
        "print(f\"Number of validation examples: {len(valid_data.examples)}\")\n",
        "print(f\"Number of testing examples: {len(test_data.examples)}\")"
      ],
      "execution_count": 13,
      "outputs": [
        {
          "output_type": "stream",
          "text": [
            "Number of training examples: 14305\n",
            "Number of validation examples: 1654\n",
            "Number of testing examples: 1721\n"
          ],
          "name": "stdout"
        }
      ]
    },
    {
      "cell_type": "code",
      "metadata": {
        "id": "aF_5yBwMAd6h",
        "colab_type": "code",
        "colab": {
          "base_uri": "https://localhost:8080/",
          "height": 105
        },
        "outputId": "32fd49b2-3a56-40c2-882c-a28b446e59b3"
      },
      "source": [
        "WORD.build_vocab(train_data, min_freq=1)\n",
        "TAG.build_vocab(train_data)\n",
        "\n",
        "print(f\"Unique tokens in source (ru) vocabulary: {len(WORD.vocab)}\")\n",
        "print(f\"Unique tokens in target (en) vocabulary: {len(TAG.vocab)}\")\n",
        "\n",
        "print(WORD.vocab.itos[::200])\n",
        "print(TAG.vocab.itos)"
      ],
      "execution_count": 14,
      "outputs": [
        {
          "output_type": "stream",
          "text": [
            "Unique tokens in source (ru) vocabulary: 34682\n",
            "Unique tokens in target (en) vocabulary: 18\n",
            "['<unk>', 'aseguró', 'semanas', 'jueves', 'posición', 'cuales', 'ventas', 'mínimo', 'diversas', 'generación', 'rivaldo', 'quinto', 'gana', 'áreas', 'trabajando', '1991', 'quinta', 'juzgados', 'debut', 'triadú', 'ideal', 'acaso', 'hoteles', 'turco', 'desea', 'pop', 'aplicaciones', 'elaborado', 'negar', 'veía', 'citó', 'galloway', 'pabellón', 'tcnq', 'atacan', 'criminales', 'fracasado', 'manolo', 'proliferación', 'usos', 'apreciar', 'comportamientos', 'divertida', 'funcionó', 'legítima', 'pack', 'recorrió', 'tambor', '32%', 'andalucista', 'blaugrana', 'comercializar', 'declarados', 'embajadora', 'festividad', 'ibex-35', 'levantó', 'muchacho', 'pesa', 'reciclar', 'secuestros', 'toldo', '1,15', 'abandonen', 'alfa', 'armarios', 'bandido', 'camilo', 'cobijo', 'contemplación', 'daguestán', 'destacable', 'eixample', 'espino', 'fidelización', 'giulia', 'igualó', 'instalaron', 'kit', 'malan', 'molestan', 'observer', 'pegados', 'preocupó', 'ratito', 'reticencias', 'segrià', 'sucediendo', 'transparentes', 'visitan', '1,43', '1500', '200%', '4%', '68,8', 'abonaron', 'activado', 'aforismo', 'alegria', 'amortajadas', 'anunciará', 'ardoz', 'asignados', 'automovilistas', 'basaba', 'blanquiazules', 'brutau', 'calviá', 'carnicería', 'centralizador', 'cinematografía', 'colma', 'concretado', 'consolar', 'coproducida', 'críptico', 'daremos', 'denominó', 'describe', 'despojando', 'diligente', 'documentar', 'efectuaba', 'en\"', 'entes', 'escribirá', 'estrenada', 'explosionar', 'fecsa', 'forbes', 'fusionadas', 'gijonés', 'guetos', 'heterónoma', 'ibiza', 'inaugura', 'influía', 'interceptación', 'irónica', 'karajan', 'leerá', 'llegaste', 'madrid-málaga-algeciras', 'marginar', 'mentaba', 'mlnv', 'movilice', 'nen', 'obsoleto', 'orquestal', 'parks', 'percate', 'pintaban', 'portaba', 'presididos', 'proponemos', 'póquer', 'rebecca', 'refuerce', 'repiso', 'retratar', 'rosadas', 'sangrientos', 'sera', 'sobreponer', 'stromza', 'suso', 'temer', 'torcedores', 'tribus', 'universales', 'ventajoso', 'vladimiro', 'zeit']\n",
            "['<pad>', 'NOUN', 'ADP', 'DET', 'PUNCT', 'VERB', 'PROPN', 'ADJ', 'PRON', 'ADV', 'AUX', 'CCONJ', 'SCONJ', 'NUM', 'SYM', 'PART', 'INTJ', 'X']\n"
          ],
          "name": "stdout"
        }
      ]
    },
    {
      "cell_type": "code",
      "metadata": {
        "id": "SxntWq3hAeAD",
        "colab_type": "code",
        "colab": {
          "base_uri": "https://localhost:8080/",
          "height": 54
        },
        "outputId": "151762e1-9e57-41c7-9ca3-a47e10cab33c"
      },
      "source": [
        "print(vars(train_data.examples[9]))"
      ],
      "execution_count": 16,
      "outputs": [
        {
          "output_type": "stream",
          "text": [
            "{'words': ['el', 'libro', 'presentado', 'hoy', 'recoge', 'de', 'forma', 'resumida', 'un', 'informe', 'del', 'comité', 'de', 'desarrollo', 'económico', 'de', 'eeuu', ',', 'en', 'el', 'que', 'se', 'destaca', 'la', 'importancia', 'de', 'la', 'investigación', 'básica', 'universitaria', 'americana', 'y', 'propone', 'mejorar', 'la', 'enseñanza', 'para', 'asegurar', 'la', 'provisión', 'futura', 'de', 'científicos', 'sobresalientes', '.'], 'tags': ['DET', 'NOUN', 'ADJ', 'ADV', 'VERB', 'ADP', 'NOUN', 'ADJ', 'DET', 'NOUN', 'ADP', 'PROPN', 'ADP', 'PROPN', 'PROPN', 'ADP', 'PROPN', 'PUNCT', 'ADP', 'DET', 'PRON', 'PRON', 'VERB', 'DET', 'NOUN', 'ADP', 'DET', 'NOUN', 'ADJ', 'ADJ', 'ADJ', 'CCONJ', 'VERB', 'VERB', 'DET', 'NOUN', 'ADP', 'VERB', 'DET', 'NOUN', 'ADJ', 'ADP', 'NOUN', 'ADJ', 'PUNCT']}\n"
          ],
          "name": "stdout"
        }
      ]
    },
    {
      "cell_type": "code",
      "metadata": {
        "id": "IxRm918OAeED",
        "colab_type": "code",
        "colab": {}
      },
      "source": [
        "import matplotlib.pyplot as plt"
      ],
      "execution_count": 0,
      "outputs": []
    },
    {
      "cell_type": "code",
      "metadata": {
        "id": "FZ4nHnpVAeLS",
        "colab_type": "code",
        "colab": {
          "base_uri": "https://localhost:8080/",
          "height": 281
        },
        "outputId": "8308f76a-c3e3-4e98-a4b9-5b90017e3fa5"
      },
      "source": [
        "length = map(len, [vars(x)['words'] for x in train_data.examples])\n",
        "\n",
        "plt.figure(figsize=[8, 4])\n",
        "plt.title(\"Length distribution in Train data\")\n",
        "plt.hist(list(length), bins=20);"
      ],
      "execution_count": 18,
      "outputs": [
        {
          "output_type": "display_data",
          "data": {
            "image/png": "[encoded data removed]",
            "text/plain": [
              "<Figure size 576x288 with 1 Axes>"
            ]
          },
          "metadata": {
            "tags": [],
            "needs_background": "light"
          }
        }
      ]
    },
    {
      "cell_type": "code",
      "metadata": {
        "id": "rAAt-1u2AePL",
        "colab_type": "code",
        "colab": {
          "base_uri": "https://localhost:8080/",
          "height": 34
        },
        "outputId": "3e1fe2cd-7196-43d3-9d55-2581be184608"
      },
      "source": [
        "# бьем нашу выборку на батч, не забывая сначала отсортировать выборку по длине\n",
        "def _len_sort_key(x):\n",
        "    return len(x.words)\n",
        "\n",
        "BATCH_SIZE = 64 # also can vary 64 /128 (64 лучше)\n",
        "\n",
        "train_iterator, valid_iterator, test_iterator = BucketIterator.splits(\n",
        "    (train_data, valid_data, test_data), \n",
        "    batch_size = BATCH_SIZE, \n",
        "    device = device,\n",
        "    sort_key=_len_sort_key\n",
        ")\n",
        "list(map(len, [train_iterator, valid_iterator, test_iterator]))"
      ],
      "execution_count": 15,
      "outputs": [
        {
          "output_type": "execute_result",
          "data": {
            "text/plain": [
              "[224, 26, 27]"
            ]
          },
          "metadata": {
            "tags": []
          },
          "execution_count": 15
        }
      ]
    },
    {
      "cell_type": "code",
      "metadata": {
        "id": "VWqRxGNhGzk2",
        "colab_type": "code",
        "colab": {
          "base_uri": "https://localhost:8080/",
          "height": 34
        },
        "outputId": "ef2f372d-a616-4514-d4fe-7da9f7448d75"
      },
      "source": [
        "batch = next(iter(train_iterator))\n",
        "#print(batch.char.shape)\n",
        "print(batch.words.shape)"
      ],
      "execution_count": 14,
      "outputs": [
        {
          "output_type": "stream",
          "text": [
            "torch.Size([77, 64])\n"
          ],
          "name": "stdout"
        }
      ]
    },
    {
      "cell_type": "code",
      "metadata": {
        "id": "9lvzypRyAeIy",
        "colab_type": "code",
        "colab": {
          "base_uri": "https://localhost:8080/",
          "height": 156
        },
        "outputId": "798700b9-d628-4578-ac06-63cbd7d3b8ff"
      },
      "source": [
        "class LSTMTagger(nn.Module):\n",
        "\n",
        "    def __init__(self, input_dim, emb_dim, hid_dim, output_dim, dropout, bidirectional=False, num_of_layers=1):\n",
        "        super().__init__()\n",
        "        \n",
        "  \n",
        "        self.embeddings = nn.Embedding(input_dim, emb_dim)\n",
        "        self.dropout = nn.Dropout(p=dropout)\n",
        "        \n",
        "        self.rnn = nn.LSTM(emb_dim, hid_dim, bidirectional=bidirectional, num_layers=num_of_layers)\n",
        "        self.tag = nn.Linear((1 + bidirectional) * hid_dim, int(output_dim))\n",
        "\n",
        "    def forward(self, sent):\n",
        "        \n",
        "        #sent = [sent len, batch size] \n",
        "        \n",
        "        # не забываем применить dropout к embedding\n",
        "        #print(self.embeddings(sent).shape)\n",
        "        embedded = self.dropout(self.embeddings(sent)) #??????????????\n",
        "\n",
        "        output, _ = self.rnn(embedded)\n",
        "        #output = [sent len, batch size, hid dim * n directions]\n",
        "\n",
        "        prediction = self.tag(output) #????????????????????\n",
        "    \n",
        "        return prediction\n",
        "        \n",
        "# параметры модели\n",
        "INPUT_DIM = len(WORD.vocab)\n",
        "OUTPUT_DIM = len(TAG.vocab)\n",
        "EMB_DIM =300 # стандарт не варьируем\n",
        "HID_DIM = 228 # 128  256 еще\n",
        "DROPOUT = 0.4 # 0.3 0.2 0.4 0.5 (0.4 - лучший)\n",
        "BIDIRECTIONAL = True # False True\n",
        "\n",
        "model = LSTMTagger(INPUT_DIM, EMB_DIM, HID_DIM,  OUTPUT_DIM, DROPOUT, BIDIRECTIONAL).to(device)\n",
        "\n",
        "# инициализируем веса\n",
        "def init_weights(m):\n",
        "    for name, param in m.named_parameters():\n",
        "        nn.init.uniform(param, -0.08, 0.08)\n",
        "        \n",
        "model.apply(init_weights)"
      ],
      "execution_count": 16,
      "outputs": [
        {
          "output_type": "stream",
          "text": [
            "/usr/local/lib/python3.6/dist-packages/ipykernel_launcher.py:41: UserWarning: nn.init.uniform is now deprecated in favor of nn.init.uniform_.\n"
          ],
          "name": "stderr"
        },
        {
          "output_type": "execute_result",
          "data": {
            "text/plain": [
              "LSTMTagger(\n",
              "  (embeddings): Embedding(34682, 300)\n",
              "  (dropout): Dropout(p=0.4, inplace=False)\n",
              "  (rnn): LSTM(300, 228, bidirectional=True)\n",
              "  (tag): Linear(in_features=456, out_features=18, bias=True)\n",
              ")"
            ]
          },
          "metadata": {
            "tags": []
          },
          "execution_count": 16
        }
      ]
    },
    {
      "cell_type": "code",
      "metadata": {
        "id": "FWUUZ4q-CLyk",
        "colab_type": "code",
        "colab": {}
      },
      "source": [
        "TAG_PAD_IDX = TAG.vocab.stoi['<pad>'] \n",
        "optimizer = optim.Adam(model.parameters(), lr = 0.001) # lr0.001 0.002 0.0005 (lr0.001 лучший)\n",
        "criterion = nn.CrossEntropyLoss(ignore_index = TAG_PAD_IDX)\n"
      ],
      "execution_count": 0,
      "outputs": []
    },
    {
      "cell_type": "code",
      "metadata": {
        "id": "cNrVJPOjokkB",
        "colab_type": "code",
        "colab": {
          "base_uri": "https://localhost:8080/",
          "height": 564
        },
        "outputId": "4df29299-6189-4ceb-cdcb-7ead23509438"
      },
      "source": [
        "import time\n",
        "import math\n",
        "import matplotlib\n",
        "matplotlib.rcParams.update({'figure.figsize': (16, 12), 'font.size': 14})\n",
        "import matplotlib.pyplot as plt\n",
        "%matplotlib inline\n",
        "from IPython.display import clear_output\n",
        "\n",
        "train_history = []\n",
        "valid_history = []\n",
        "\n",
        "N_EPOCHS = 5 #5 10\n",
        "CLIP = 1\n",
        "\n",
        "best_valid_loss = float('inf')\n",
        "\n",
        "for epoch in range(N_EPOCHS):\n",
        "    \n",
        "    start_time = time.time()\n",
        "    \n",
        "    train_loss = train(model, train_iterator, optimizer, criterion, CLIP, train_history, valid_history)\n",
        "    valid_loss = evaluate(model, valid_iterator, criterion)\n",
        "    \n",
        "    end_time = time.time()\n",
        "    \n",
        "    epoch_mins, epoch_secs = epoch_time(start_time, end_time)\n",
        "    \n",
        "    if valid_loss < best_valid_loss:\n",
        "        best_valid_loss = valid_loss\n",
        "        torch.save(model.state_dict(), 'best-val-model-bi.pt')\n",
        "\n",
        "    train_history.append(train_loss)\n",
        "    valid_history.append(valid_loss)\n",
        "    print(f'Epoch: {epoch+1:02} | Time: {epoch_mins}m {epoch_secs}s')\n",
        "    print(f'\\tTrain Loss: {train_loss:.3f} | Train PPL: {math.exp(train_loss):7.3f}')\n",
        "    print(f'\\t Val. Loss: {valid_loss:.3f} |  Val. PPL: {math.exp(valid_loss):7.3f}')"
      ],
      "execution_count": 18,
      "outputs": [
        {
          "output_type": "display_data",
          "data": {
            "image/png": "[encoded data removed]",
            "text/plain": [
              "<Figure size 864x576 with 2 Axes>"
            ]
          },
          "metadata": {
            "tags": [],
            "needs_background": "light"
          }
        },
        {
          "output_type": "stream",
          "text": [
            "Epoch: 05 | Time: 0m 11s\n",
            "\tTrain Loss: 0.048 | Train PPL:   1.049\n",
            "\t Val. Loss: 0.156 |  Val. PPL:   1.169\n"
          ],
          "name": "stdout"
        }
      ]
    },
    {
      "cell_type": "code",
      "metadata": {
        "id": "N28PSHzgotkF",
        "colab_type": "code",
        "colab": {
          "base_uri": "https://localhost:8080/",
          "height": 170
        },
        "outputId": "b0fad1de-1c85-41ad-f5e3-c0a7f0407dc2"
      },
      "source": [
        "print_quality(model, train_iterator, valid_iterator, test_iterator)"
      ],
      "execution_count": 19,
      "outputs": [
        {
          "output_type": "stream",
          "text": [
            "Accuracy train: 98.743 %\n",
            "Accuracy valid: 95.663 %\n",
            "Accuracy test: 95.511 %\n",
            "F1 score macro train: 89.41103511466349 %\n",
            "F1 score macro valid: 90.46219805732942 %\n",
            "F1 score macro test: 89.61095635328013 %\n",
            "F1 score micro train: 98.74228547780557 %\n",
            "F1 score micro valid: 95.6626413940691 %\n",
            "F1 score micro test: 95.51095653496017 %\n"
          ],
          "name": "stdout"
        }
      ]
    },
    {
      "cell_type": "code",
      "metadata": {
        "id": "Hqgj5Dq8CmKb",
        "colab_type": "code",
        "colab": {
          "base_uri": "https://localhost:8080/",
          "height": 564
        },
        "outputId": "8b03d927-3189-45db-adfc-97b6abc94a34"
      },
      "source": [
        "import time\n",
        "import math\n",
        "import matplotlib\n",
        "matplotlib.rcParams.update({'figure.figsize': (16, 12), 'font.size': 14})\n",
        "import matplotlib.pyplot as plt\n",
        "%matplotlib inline\n",
        "from IPython.display import clear_output\n",
        "\n",
        "train_history = []\n",
        "valid_history = []\n",
        "\n",
        "N_EPOCHS = 5 #5 10\n",
        "CLIP = 1\n",
        "\n",
        "best_valid_loss = float('inf')\n",
        "\n",
        "for epoch in range(N_EPOCHS):\n",
        "    \n",
        "    start_time = time.time()\n",
        "    \n",
        "    train_loss = train(model, train_iterator, optimizer, criterion, CLIP, train_history, valid_history)\n",
        "    valid_loss = evaluate(model, valid_iterator, criterion)\n",
        "    \n",
        "    end_time = time.time()\n",
        "    \n",
        "    epoch_mins, epoch_secs = epoch_time(start_time, end_time)\n",
        "    \n",
        "    if valid_loss < best_valid_loss:\n",
        "        best_valid_loss = valid_loss\n",
        "        torch.save(model.state_dict(), 'best-val-model-bi.pt')\n",
        "\n",
        "    train_history.append(train_loss)\n",
        "    valid_history.append(valid_loss)\n",
        "    print(f'Epoch: {epoch+1:02} | Time: {epoch_mins}m {epoch_secs}s')\n",
        "    print(f'\\tTrain Loss: {train_loss:.3f} | Train PPL: {math.exp(train_loss):7.3f}')\n",
        "    print(f'\\t Val. Loss: {valid_loss:.3f} |  Val. PPL: {math.exp(valid_loss):7.3f}')"
      ],
      "execution_count": 71,
      "outputs": [
        {
          "output_type": "display_data",
          "data": {
            "image/png": "[encoded data removed]",
            "text/plain": [
              "<Figure size 864x576 with 2 Axes>"
            ]
          },
          "metadata": {
            "tags": [],
            "needs_background": "light"
          }
        },
        {
          "output_type": "stream",
          "text": [
            "Epoch: 05 | Time: 0m 12s\n",
            "\tTrain Loss: 0.055 | Train PPL:   1.056\n",
            "\t Val. Loss: 0.149 |  Val. PPL:   1.160\n"
          ],
          "name": "stdout"
        }
      ]
    },
    {
      "cell_type": "code",
      "metadata": {
        "id": "QF27sS9GIdc7",
        "colab_type": "code",
        "colab": {
          "base_uri": "https://localhost:8080/",
          "height": 170
        },
        "outputId": "7ea07d6a-cf2b-40a1-ed8c-9d9260d68b42"
      },
      "source": [
        "# no bidirecrional, hid dim 128, dropout 0.4 lr 0.001 5 epochs batch 64\n",
        "print_quality(model, train_iterator, valid_iterator, test_iterator)"
      ],
      "execution_count": 34,
      "outputs": [
        {
          "output_type": "stream",
          "text": [
            "Accuracy train: 97.882 %\n",
            "Accuracy valid: 94.486 %\n",
            "Accuracy test: 94.487 %\n",
            "F1 score macro train: 0.8197508233072474 %\n",
            "F1 score macro valid: 0.8365352448645536 %\n",
            "F1 score macro test: 0.8447600628694544 %\n",
            "F1 score micro train: 0.9788221746405887 %\n",
            "F1 score micro valid: 0.9448563130541119 %\n",
            "F1 score micro test: 0.9448657278066024 %\n"
          ],
          "name": "stdout"
        }
      ]
    },
    {
      "cell_type": "code",
      "metadata": {
        "id": "uzCP_0cnIdwH",
        "colab_type": "code",
        "colab": {
          "base_uri": "https://localhost:8080/",
          "height": 170
        },
        "outputId": "e97d94be-1518-4210-8ed4-a23517a787f8"
      },
      "source": [
        "# no bidirecrional, hid dim 228, dropout 0.4 lr 0.001 5 epochs batch 64\n",
        "print_quality(model, train_iterator, valid_iterator, test_iterator)"
      ],
      "execution_count": 38,
      "outputs": [
        {
          "output_type": "stream",
          "text": [
            "Accuracy train: 98.017 %\n",
            "Accuracy valid: 94.398 %\n",
            "Accuracy test: 94.333 %\n",
            "F1 score macro train: 0.8272690934616684 %\n",
            "F1 score macro valid: 0.8315739456507008 %\n",
            "F1 score macro test: 0.8406778143869387 %\n",
            "F1 score micro train: 0.9801694046098206 %\n",
            "F1 score micro valid: 0.9439773769489452 %\n",
            "F1 score micro test: 0.9433263013854838 %\n"
          ],
          "name": "stdout"
        }
      ]
    },
    {
      "cell_type": "code",
      "metadata": {
        "id": "aOQnRaJWKMJ5",
        "colab_type": "code",
        "colab": {
          "base_uri": "https://localhost:8080/",
          "height": 170
        },
        "outputId": "b43a5471-2e7f-4dc7-c756-b0751766a93a"
      },
      "source": [
        "# no bidirecrional, hid dim 228, dropout 0.4 lr 0.001 5 epochs batch 128\n",
        "print_quality(model, train_iterator, valid_iterator, test_iterator)"
      ],
      "execution_count": 47,
      "outputs": [
        {
          "output_type": "stream",
          "text": [
            "Accuracy train: 97.468 %\n",
            "Accuracy valid: 94.417 %\n",
            "Accuracy test: 94.325 %\n",
            "F1 score macro train: 0.7929497126562621 %\n",
            "F1 score macro valid: 0.7999067163718815 %\n",
            "F1 score macro test: 0.8064402759518497 %\n",
            "F1 score micro train: 0.974679273800313 %\n",
            "F1 score micro valid: 0.9441684500152858 %\n",
            "F1 score micro test: 0.9432502803276508 %\n"
          ],
          "name": "stdout"
        }
      ]
    },
    {
      "cell_type": "code",
      "metadata": {
        "id": "yx7S8b4kLj03",
        "colab_type": "code",
        "colab": {
          "base_uri": "https://localhost:8080/",
          "height": 170
        },
        "outputId": "48ae9676-8891-497e-9a7b-e137d1d4e70f"
      },
      "source": [
        "# no bidirecrional, hid dim 128, dropout 0.2 lr 0.001 5 epochs batch 64\n",
        "print_quality(model, train_iterator, valid_iterator, test_iterator)"
      ],
      "execution_count": 52,
      "outputs": [
        {
          "output_type": "stream",
          "text": [
            "Accuracy train: 97.774 %\n",
            "Accuracy valid: 94.354 %\n",
            "Accuracy test: 94.196 %\n",
            "F1 score macro train: 0.8140760427440588 %\n",
            "F1 score macro valid: 0.8048079167385405 %\n",
            "F1 score macro test: 0.839710496344559 %\n",
            "F1 score micro train: 0.9777425913597352 %\n",
            "F1 score micro valid: 0.943537908896362 %\n",
            "F1 score micro test: 0.9419579223444894 %\n"
          ],
          "name": "stdout"
        }
      ]
    },
    {
      "cell_type": "markdown",
      "metadata": {
        "id": "P6Xy_Y1TMOZV",
        "colab_type": "text"
      },
      "source": [
        "# Part II\n",
        "Bi-directional LSTM"
      ]
    },
    {
      "cell_type": "code",
      "metadata": {
        "id": "N_51NtgJMTPO",
        "colab_type": "code",
        "colab": {
          "base_uri": "https://localhost:8080/",
          "height": 170
        },
        "outputId": "2929ea15-47ab-4e6b-8a24-e48a326e45fc"
      },
      "source": [
        "#  bidirecrional, hid dim 128, dropout 0.4 lr 0.001 5 epochs batch 64\n",
        "print_quality(model, train_iterator, valid_iterator, test_iterator)"
      ],
      "execution_count": 58,
      "outputs": [
        {
          "output_type": "stream",
          "text": [
            "Accuracy train: 98.685 %\n",
            "Accuracy valid: 95.617 %\n",
            "Accuracy test: 95.389 %\n",
            "F1 score macro train: 0.8871818817593556 %\n",
            "F1 score macro valid: 0.8904148965401542 %\n",
            "F1 score macro test: 0.8888503649246609 %\n",
            "F1 score micro train: 0.9868493261601022 %\n",
            "F1 score micro valid: 0.9561678385814736 %\n",
            "F1 score micro test: 0.9538932284242735 %\n"
          ],
          "name": "stdout"
        }
      ]
    },
    {
      "cell_type": "code",
      "metadata": {
        "id": "epLcDPgMM1mb",
        "colab_type": "code",
        "colab": {
          "base_uri": "https://localhost:8080/",
          "height": 170
        },
        "outputId": "556d524a-abc3-4eb5-fb3a-c973f700e2e7"
      },
      "source": [
        "#  bidirecrional, hid dim 228, dropout 0.4 lr 0.001 5 epochs batch 64\n",
        "print_quality(model, train_iterator, valid_iterator, test_iterator)"
      ],
      "execution_count": 62,
      "outputs": [
        {
          "output_type": "stream",
          "text": [
            "Accuracy train: 98.798 %\n",
            "Accuracy valid: 95.754 %\n",
            "Accuracy test: 95.606 %\n",
            "F1 score macro train: 0.8986376786382572 %\n",
            "F1 score macro valid: 0.9097708006358385 %\n",
            "F1 score macro test: 0.9073312829897473 %\n",
            "F1 score micro train: 0.9879648955503175 %\n",
            "F1 score micro valid: 0.9575435646591256 %\n",
            "F1 score micro test: 0.9560598285725146 %\n"
          ],
          "name": "stdout"
        }
      ]
    },
    {
      "cell_type": "code",
      "metadata": {
        "id": "UldWgelUNeTO",
        "colab_type": "code",
        "colab": {
          "base_uri": "https://localhost:8080/",
          "height": 170
        },
        "outputId": "f3fd64fc-0795-46b1-9048-e194b4c5be1c"
      },
      "source": [
        "#  bidirecrional, hid dim 228, dropout 0.4 lr 0.001 5 epochs batch 128\n",
        "print_quality(model, train_iterator, valid_iterator, test_iterator)"
      ],
      "execution_count": 67,
      "outputs": [
        {
          "output_type": "stream",
          "text": [
            "Accuracy train: 97.945 %\n",
            "Accuracy valid: 95.294 %\n",
            "Accuracy test: 95.087 %\n",
            "F1 score macro train: 0.8246548806125956 %\n",
            "F1 score macro valid: 0.8280174485790588 %\n",
            "F1 score macro test: 0.8363068577937514 %\n",
            "F1 score micro train: 0.9794339384997391 %\n",
            "F1 score micro valid: 0.952938703760318 %\n",
            "F1 score micro test: 0.950871391375411 %\n"
          ],
          "name": "stdout"
        }
      ]
    },
    {
      "cell_type": "code",
      "metadata": {
        "id": "lmgdm3EEN86r",
        "colab_type": "code",
        "colab": {
          "base_uri": "https://localhost:8080/",
          "height": 170
        },
        "outputId": "1fd96f3c-5d42-4064-a8e1-3665e959e7f8"
      },
      "source": [
        "#  bidirecrional, hid dim 228, dropout 0.5 lr 0.001 5 epochs batch 128\n",
        "print_quality(model, train_iterator, valid_iterator, test_iterator)"
      ],
      "execution_count": 72,
      "outputs": [
        {
          "output_type": "stream",
          "text": [
            "Accuracy train: 98.637 %\n",
            "Accuracy valid: 95.728 %\n",
            "Accuracy test: 95.452 %\n",
            "F1 score macro train: 0.8951574930264775 %\n",
            "F1 score macro valid: 0.9074091474123871 %\n",
            "F1 score macro test: 0.8997833649310918 %\n",
            "F1 score micro train: 0.9863725102110585 %\n",
            "F1 score micro valid: 0.9572760623662488 %\n",
            "F1 score micro test: 0.9545204021513959 %\n"
          ],
          "name": "stdout"
        }
      ]
    },
    {
      "cell_type": "markdown",
      "metadata": {
        "id": "yKfczHHSOUnu",
        "colab_type": "text"
      },
      "source": [
        "# Part III\n",
        "biLSTM + Glove"
      ]
    },
    {
      "cell_type": "code",
      "metadata": {
        "id": "nccIqqJ0OkIJ",
        "colab_type": "code",
        "colab": {
          "base_uri": "https://localhost:8080/",
          "height": 71
        },
        "outputId": "81871534-9ffa-4df2-e40a-9064358c87ce"
      },
      "source": [
        "from gensim.models.keyedvectors import KeyedVectors\n",
        "wordvectors_file_vec = '/content/drive/My Drive/Cup_It/glove-sbwc.i25.vec.gz'\n",
        "cantidad = 100000\n",
        "wordvectors = KeyedVectors.load_word2vec_format(wordvectors_file_vec, limit=cantidad)"
      ],
      "execution_count": 14,
      "outputs": [
        {
          "output_type": "stream",
          "text": [
            "/usr/local/lib/python3.6/dist-packages/smart_open/smart_open_lib.py:253: UserWarning: This function is deprecated, use smart_open.open instead. See the migration notes for details: https://github.com/RaRe-Technologies/smart_open/blob/master/README.rst#migrating-to-the-new-open-function\n",
            "  'See the migration notes for details: %s' % _MIGRATION_NOTES_URL\n"
          ],
          "name": "stderr"
        }
      ]
    },
    {
      "cell_type": "code",
      "metadata": {
        "id": "fp5O26uGOkGQ",
        "colab_type": "code",
        "colab": {}
      },
      "source": [
        "wordvectors.wv.save_word2vec_format('spanish')\n",
        "vectors = vocab.Vectors('/content/spanish') # file created by gensim.vocab.set_vectors(vectors.stoi, vectors.vectors, vectors.dim)\n",
        "WORD.vocab.set_vectors(vectors.stoi, vectors.vectors, vectors.dim)\n",
        "\n",
        "# when defining your network you can then use the method mentioned by blue-phoenox\n",
        "embedding = nn.Embedding.from_pretrained(torch.FloatTensor(WORD.vocab.vectors))\n"
      ],
      "execution_count": 0,
      "outputs": []
    },
    {
      "cell_type": "code",
      "metadata": {
        "id": "vEytMhqlOkEo",
        "colab_type": "code",
        "colab": {}
      },
      "source": [
        "def _len_sort_key(x):\n",
        "    return len(x.words)\n",
        "BATCH_SIZE = 64 #64 128\n",
        "\n",
        "device = torch.device('cuda' if torch.cuda.is_available() else 'cpu')\n",
        "\n",
        "train_iterator, valid_iterator, test_iterator = BucketIterator.splits(\n",
        "    (train_data, valid_data, test_data), \n",
        "    batch_size = BATCH_SIZE,\n",
        "    device = device,\n",
        "    sort_key=_len_sort_key)"
      ],
      "execution_count": 0,
      "outputs": []
    },
    {
      "cell_type": "markdown",
      "metadata": {
        "id": "LaLY6qzPQH4x",
        "colab_type": "text"
      },
      "source": [
        "Нужна ли мне новая модель или достаточно лишь заменить имбедосы????"
      ]
    },
    {
      "cell_type": "code",
      "metadata": {
        "id": "hzetNXfgOj9J",
        "colab_type": "code",
        "colab": {}
      },
      "source": [
        "class BiLSTMPOSTagger(nn.Module):\n",
        "    def __init__(self, \n",
        "                 input_dim, \n",
        "                 embedding_dim, \n",
        "                 hidden_dim, \n",
        "                 output_dim, \n",
        "                 n_layers, \n",
        "                 bidirectional, \n",
        "                 dropout, \n",
        "                 pad_idx):\n",
        "        \n",
        "        super().__init__()\n",
        "        \n",
        "        self.embedding = nn.Embedding(input_dim, embedding_dim, padding_idx = pad_idx)\n",
        "        \n",
        "        self.lstm = nn.LSTM(embedding_dim, \n",
        "                            hidden_dim, \n",
        "                            num_layers = n_layers, \n",
        "                            bidirectional = bidirectional,\n",
        "                            dropout = dropout if n_layers > 1 else 0)\n",
        "        \n",
        "        self.fc = nn.Linear(hidden_dim * 2 if bidirectional else hidden_dim, output_dim)\n",
        "        \n",
        "        self.dropout = nn.Dropout(dropout)\n",
        "        \n",
        "    def forward(self, text):\n",
        "\n",
        "        embedded = self.dropout(self.embedding(text))\n",
        "\n",
        "        outputs, (hidden, cell) = self.lstm(embedded)\n",
        "        \n",
        "        predictions = self.fc(self.dropout(outputs))\n",
        "        \n",
        "        \n",
        "        \n",
        "        return predictions"
      ],
      "execution_count": 0,
      "outputs": []
    },
    {
      "cell_type": "code",
      "metadata": {
        "id": "trctFhlsQSU3",
        "colab_type": "code",
        "colab": {
          "base_uri": "https://localhost:8080/",
          "height": 119
        },
        "outputId": "b0b4c8a8-440b-4c06-da94-2245ea2cb810"
      },
      "source": [
        "INPUT_DIM = len(WORD.vocab)\n",
        "EMBEDDING_DIM = 300\n",
        "HIDDEN_DIM = 228 #228\n",
        "OUTPUT_DIM = len(TAG.vocab)\n",
        "N_LAYERS = 2\n",
        "BIDIRECTIONAL = True\n",
        "DROPOUT = 0.25 #0.4 0.25\n",
        "PAD_IDX = WORD.vocab.stoi[WORD.pad_token]\n",
        "\n",
        "model = BiLSTMPOSTagger(INPUT_DIM, \n",
        "                        EMBEDDING_DIM, \n",
        "                        HIDDEN_DIM, \n",
        "                        OUTPUT_DIM, \n",
        "                        N_LAYERS, \n",
        "                        BIDIRECTIONAL, \n",
        "                        DROPOUT, \n",
        "                        PAD_IDX)\n",
        "\n",
        "def init_weights(m):\n",
        "    for name, param in m.named_parameters():\n",
        "        nn.init.normal_(param.data, mean = 0, std = 0.1)\n",
        "        \n",
        "model.apply(init_weights)"
      ],
      "execution_count": 213,
      "outputs": [
        {
          "output_type": "execute_result",
          "data": {
            "text/plain": [
              "BiLSTMPOSTagger(\n",
              "  (embedding): Embedding(34682, 300, padding_idx=1)\n",
              "  (lstm): LSTM(300, 228, num_layers=2, dropout=0.25, bidirectional=True)\n",
              "  (fc): Linear(in_features=456, out_features=18, bias=True)\n",
              "  (dropout): Dropout(p=0.25, inplace=False)\n",
              ")"
            ]
          },
          "metadata": {
            "tags": []
          },
          "execution_count": 213
        }
      ]
    },
    {
      "cell_type": "code",
      "metadata": {
        "id": "ujjT1xSGQWVw",
        "colab_type": "code",
        "colab": {
          "base_uri": "https://localhost:8080/",
          "height": 34
        },
        "outputId": "59fdb068-9029-4975-fbef-49db611e30ac"
      },
      "source": [
        "pretrained_embeddings = WORD.vocab.vectors\n",
        "\n",
        "print(pretrained_embeddings.shape)"
      ],
      "execution_count": 214,
      "outputs": [
        {
          "output_type": "stream",
          "text": [
            "torch.Size([34682, 300])\n"
          ],
          "name": "stdout"
        }
      ]
    },
    {
      "cell_type": "code",
      "metadata": {
        "id": "Or7P52DVQYjA",
        "colab_type": "code",
        "colab": {
          "base_uri": "https://localhost:8080/",
          "height": 136
        },
        "outputId": "a20f2986-dd44-49d9-90fe-0305c52503a4"
      },
      "source": [
        "model.embedding.weight.data.copy_(pretrained_embeddings)"
      ],
      "execution_count": 215,
      "outputs": [
        {
          "output_type": "execute_result",
          "data": {
            "text/plain": [
              "tensor([[ 0.0000,  0.0000,  0.0000,  ...,  0.0000,  0.0000,  0.0000],\n",
              "        [ 0.0000,  0.0000,  0.0000,  ...,  0.0000,  0.0000,  0.0000],\n",
              "        [ 0.4659, -0.3070, -0.1216,  ..., -0.5199, -0.1816,  0.0534],\n",
              "        ...,\n",
              "        [-0.4078,  0.2569, -0.1952,  ...,  0.0599, -0.2608, -0.3250],\n",
              "        [ 0.1107, -0.3002,  0.6310,  ...,  0.5790, -0.0543, -0.2207],\n",
              "        [ 0.0000,  0.0000,  0.0000,  ...,  0.0000,  0.0000,  0.0000]])"
            ]
          },
          "metadata": {
            "tags": []
          },
          "execution_count": 215
        }
      ]
    },
    {
      "cell_type": "code",
      "metadata": {
        "id": "Cqst2G69QaHD",
        "colab_type": "code",
        "colab": {
          "base_uri": "https://localhost:8080/",
          "height": 136
        },
        "outputId": "313eb03f-c483-4628-bf54-52f77bbf841f"
      },
      "source": [
        "model.embedding.weight.data[PAD_IDX] = torch.zeros(EMBEDDING_DIM)\n",
        "\n",
        "print(model.embedding.weight.data)"
      ],
      "execution_count": 216,
      "outputs": [
        {
          "output_type": "stream",
          "text": [
            "tensor([[ 0.0000,  0.0000,  0.0000,  ...,  0.0000,  0.0000,  0.0000],\n",
            "        [ 0.0000,  0.0000,  0.0000,  ...,  0.0000,  0.0000,  0.0000],\n",
            "        [ 0.4659, -0.3070, -0.1216,  ..., -0.5199, -0.1816,  0.0534],\n",
            "        ...,\n",
            "        [-0.4078,  0.2569, -0.1952,  ...,  0.0599, -0.2608, -0.3250],\n",
            "        [ 0.1107, -0.3002,  0.6310,  ...,  0.5790, -0.0543, -0.2207],\n",
            "        [ 0.0000,  0.0000,  0.0000,  ...,  0.0000,  0.0000,  0.0000]])\n"
          ],
          "name": "stdout"
        }
      ]
    },
    {
      "cell_type": "code",
      "metadata": {
        "id": "t1MJqsiNrVBt",
        "colab_type": "code",
        "colab": {
          "base_uri": "https://localhost:8080/",
          "height": 34
        },
        "outputId": "dd6ca097-fd8e-4276-b3c4-a126f3c038ca"
      },
      "source": [
        "TAG.vocab.stoi[TAG.pad_token]"
      ],
      "execution_count": 217,
      "outputs": [
        {
          "output_type": "execute_result",
          "data": {
            "text/plain": [
              "0"
            ]
          },
          "metadata": {
            "tags": []
          },
          "execution_count": 217
        }
      ]
    },
    {
      "cell_type": "code",
      "metadata": {
        "id": "5F5Dng5TrZKf",
        "colab_type": "code",
        "colab": {
          "base_uri": "https://localhost:8080/",
          "height": 34
        },
        "outputId": "a796d706-8294-460b-ad44-3f2b2b97d0e9"
      },
      "source": [
        "WORD.vocab.stoi[WORD.pad_token]"
      ],
      "execution_count": 218,
      "outputs": [
        {
          "output_type": "execute_result",
          "data": {
            "text/plain": [
              "1"
            ]
          },
          "metadata": {
            "tags": []
          },
          "execution_count": 218
        }
      ]
    },
    {
      "cell_type": "code",
      "metadata": {
        "id": "8UnRE2XBQc69",
        "colab_type": "code",
        "colab": {}
      },
      "source": [
        "optimizer = optim.Adam(model.parameters())\n",
        "TAG_PAD_IDX = TAG.vocab.stoi[TAG.pad_token]\n",
        "\n",
        "criterion = nn.CrossEntropyLoss(ignore_index = TAG_PAD_IDX)\n",
        "model = model.to(device)\n",
        "criterion = criterion.to(device)"
      ],
      "execution_count": 0,
      "outputs": []
    },
    {
      "cell_type": "code",
      "metadata": {
        "id": "WSuEzcEzQlIk",
        "colab_type": "code",
        "colab": {
          "base_uri": "https://localhost:8080/",
          "height": 564
        },
        "outputId": "2f006a8c-422c-4c58-9697-5efdb6b45380"
      },
      "source": [
        "import time\n",
        "import math\n",
        "import matplotlib\n",
        "matplotlib.rcParams.update({'figure.figsize': (16, 12), 'font.size': 14})\n",
        "import matplotlib.pyplot as plt\n",
        "%matplotlib inline\n",
        "from IPython.display import clear_output\n",
        "\n",
        "train_history = []\n",
        "valid_history = []\n",
        "\n",
        "N_EPOCHS = 5 #5 10\n",
        "CLIP = 1\n",
        "\n",
        "best_valid_loss = float('inf')\n",
        "\n",
        "for epoch in range(N_EPOCHS):\n",
        "    \n",
        "    start_time = time.time()\n",
        "    \n",
        "    train_loss = train(model, train_iterator, optimizer, criterion, CLIP, train_history, valid_history)\n",
        "    valid_loss = evaluate(model, valid_iterator, criterion)\n",
        "    \n",
        "    end_time = time.time()\n",
        "    \n",
        "    epoch_mins, epoch_secs = epoch_time(start_time, end_time)\n",
        "    \n",
        "    if valid_loss < best_valid_loss:\n",
        "        best_valid_loss = valid_loss\n",
        "        torch.save(model.state_dict(), 'best-val-model-glove.pt')\n",
        "\n",
        "    train_history.append(train_loss)\n",
        "    valid_history.append(valid_loss)\n",
        "    print(f'Epoch: {epoch+1:02} | Time: {epoch_mins}m {epoch_secs}s')\n",
        "    print(f'\\tTrain Loss: {train_loss:.3f} | Train PPL: {math.exp(train_loss):7.3f}')\n",
        "    print(f'\\t Val. Loss: {valid_loss:.3f} |  Val. PPL: {math.exp(valid_loss):7.3f}')"
      ],
      "execution_count": 46,
      "outputs": [
        {
          "output_type": "display_data",
          "data": {
            "image/png": "[encoded data removed]",
            "text/plain": [
              "<Figure size 864x576 with 2 Axes>"
            ]
          },
          "metadata": {
            "tags": [],
            "needs_background": "light"
          }
        },
        {
          "output_type": "stream",
          "text": [
            "Epoch: 05 | Time: 0m 18s\n",
            "\tTrain Loss: 0.060 | Train PPL:   1.062\n",
            "\t Val. Loss: 0.124 |  Val. PPL:   1.132\n"
          ],
          "name": "stdout"
        }
      ]
    },
    {
      "cell_type": "code",
      "metadata": {
        "id": "lfyR00hxQxt7",
        "colab_type": "code",
        "colab": {
          "base_uri": "https://localhost:8080/",
          "height": 170
        },
        "outputId": "6d5edbb4-5ec4-490f-8017-3c1c05b338ce"
      },
      "source": [
        "#  bidirecrional glove, hid dim 228, dropout 0.4 lr 0.001 5 epochs batch 128\n",
        "print_quality(model, train_iterator, valid_iterator, test_iterator, name='best-val-model-glove.pt')"
      ],
      "execution_count": 100,
      "outputs": [
        {
          "output_type": "stream",
          "text": [
            "Accuracy train: 98.005 %\n",
            "Accuracy valid: 96.19 %\n",
            "Accuracy test: 96.043 %\n",
            "F1 score macro train: 0.874584186574792 %\n",
            "F1 score macro valid: 0.9023537298209385 %\n",
            "F1 score macro test: 0.885221950002564 %\n",
            "F1 score micro train: 0.9800524497543948 %\n",
            "F1 score micro valid: 0.9619000305716906 %\n",
            "F1 score micro test: 0.9604310393979132 %\n"
          ],
          "name": "stdout"
        }
      ]
    },
    {
      "cell_type": "code",
      "metadata": {
        "id": "2z0ZWkANSgiE",
        "colab_type": "code",
        "colab": {
          "base_uri": "https://localhost:8080/",
          "height": 170
        },
        "outputId": "c68b28f0-bfd2-4f00-ca57-b9cb88c329ac"
      },
      "source": [
        "#  bidirecrional glove, hid dim 228, dropout 0.25 lr 0.001 5 epochs batch 128\n",
        "print_quality(model, train_iterator, valid_iterator, test_iterator, name='best-val-model-glove.pt')"
      ],
      "execution_count": 32,
      "outputs": [
        {
          "output_type": "stream",
          "text": [
            "Accuracy train: 98.573 %\n",
            "Accuracy valid: 96.322 %\n",
            "Accuracy test: 96.226 %\n",
            "F1 score macro train: 0.8949753689005799 %\n",
            "F1 score macro valid: 0.916500882602856 %\n",
            "F1 score macro test: 0.907801174346715 %\n",
            "F1 score micro train: 0.985738255033557 %\n",
            "F1 score micro valid: 0.9632184347294406 %\n",
            "F1 score micro test: 0.9622555447859057 %\n"
          ],
          "name": "stdout"
        }
      ]
    },
    {
      "cell_type": "code",
      "metadata": {
        "id": "UpobtvfVUgsS",
        "colab_type": "code",
        "colab": {
          "base_uri": "https://localhost:8080/",
          "height": 170
        },
        "outputId": "10c21ff3-a96f-45ce-8b85-b933cda96aa7"
      },
      "source": [
        "#  bidirecrional glove, hid dim 228, dropout 0.25 lr 0.001 5 epochs batch 128 3 layers\n",
        "print_quality(model, train_iterator, valid_iterator, test_iterator, name='best-val-model-glove.pt')"
      ],
      "execution_count": 39,
      "outputs": [
        {
          "output_type": "stream",
          "text": [
            "Accuracy train: 98.583 %\n",
            "Accuracy valid: 96.274 %\n",
            "Accuracy test: 96.186 %\n",
            "F1 score macro train: 0.897699180871563 %\n",
            "F1 score macro valid: 0.8896186362802241 %\n",
            "F1 score macro test: 0.894909032274525 %\n",
            "F1 score micro train: 0.9858327185706317 %\n",
            "F1 score micro valid: 0.9627407520635891 %\n",
            "F1 score micro test: 0.9618564342322823 %\n"
          ],
          "name": "stdout"
        }
      ]
    },
    {
      "cell_type": "code",
      "metadata": {
        "id": "m6MSSbXaVDDn",
        "colab_type": "code",
        "colab": {
          "base_uri": "https://localhost:8080/",
          "height": 170
        },
        "outputId": "fa373569-2a02-460c-a1c9-6fc68a8679e1"
      },
      "source": [
        "#  bidirecrional glove, hid dim 228, dropout 0.25 lr 0.001 5 epochs batch 64 3 layers\n",
        "print_quality(model, train_iterator, valid_iterator, test_iterator, name='best-val-model-glove.pt')"
      ],
      "execution_count": 47,
      "outputs": [
        {
          "output_type": "stream",
          "text": [
            "Accuracy train: 98.968 %\n",
            "Accuracy valid: 96.4 %\n",
            "Accuracy test: 96.284 %\n",
            "F1 score macro train: 0.9138784404462532 %\n",
            "F1 score macro valid: 0.9005859513202965 %\n",
            "F1 score macro test: 0.9211523010781932 %\n",
            "F1 score micro train: 0.9896674883494971 %\n",
            "F1 score micro valid: 0.9640018343014368 %\n",
            "F1 score micro test: 0.9628447079841116 %\n"
          ],
          "name": "stdout"
        }
      ]
    },
    {
      "cell_type": "markdown",
      "metadata": {
        "id": "9Gq8IdIMozLX",
        "colab_type": "text"
      },
      "source": [
        "# Let's add char embeddings"
      ]
    },
    {
      "cell_type": "code",
      "metadata": {
        "id": "bYRgVUfH7u3x",
        "colab_type": "code",
        "colab": {}
      },
      "source": [
        "import numpy as np"
      ],
      "execution_count": 0,
      "outputs": []
    },
    {
      "cell_type": "code",
      "metadata": {
        "id": "J6rpnnKQ9IlP",
        "colab_type": "code",
        "colab": {
          "base_uri": "https://localhost:8080/",
          "height": 34
        },
        "outputId": "94e520f5-b2ec-4217-a4e2-16b931ddd50d"
      },
      "source": [
        "a = np.array([1, 2, 3])\n",
        "get_s(a)"
      ],
      "execution_count": 13,
      "outputs": [
        {
          "output_type": "execute_result",
          "data": {
            "text/plain": [
              "14"
            ]
          },
          "metadata": {
            "tags": []
          },
          "execution_count": 13
        }
      ]
    },
    {
      "cell_type": "code",
      "metadata": {
        "id": "fAq9B-mc7xi3",
        "colab_type": "code",
        "colab": {
          "base_uri": "https://localhost:8080/",
          "height": 51
        },
        "outputId": "93ce9517-e3e5-4433-f153-41d31b5715cd"
      },
      "source": [
        "def get_s(k):\n",
        "  k = np.where(k>0, k*k, 0)\n",
        "  return(k.sum())\n",
        "\n",
        "a = np.array(list(map(int,input().split())))\n",
        "print(get_s(a))\n",
        "\n"
      ],
      "execution_count": 19,
      "outputs": [
        {
          "output_type": "stream",
          "text": [
            "1 2 3\n",
            "14\n"
          ],
          "name": "stdout"
        }
      ]
    },
    {
      "cell_type": "code",
      "metadata": {
        "id": "03XJl_y_71Ny",
        "colab_type": "code",
        "colab": {
          "base_uri": "https://localhost:8080/",
          "height": 34
        },
        "outputId": "8c27eb14-9311-4cda-d0e8-c05996023aed"
      },
      "source": [
        "a"
      ],
      "execution_count": 18,
      "outputs": [
        {
          "output_type": "execute_result",
          "data": {
            "text/plain": [
              "array(<map object at 0x7fd11311dfd0>, dtype=object)"
            ]
          },
          "metadata": {
            "tags": []
          },
          "execution_count": 18
        }
      ]
    },
    {
      "cell_type": "code",
      "metadata": {
        "id": "NQWliIyTo4P3",
        "colab_type": "code",
        "colab": {}
      },
      "source": [
        "data_train1 = data_train.copy()\n",
        "data_val1 = data_val.copy()\n",
        "data_test1 = data_test.copy()\n",
        "\n",
        "for i in data_train1:\n",
        "  i.insert(0, i[0])\n",
        "  \n",
        "for i in data_val1:\n",
        "  i.insert(0, i[0])\n",
        "\n",
        "for i in data_test1:\n",
        "  i.insert(0, i[0])\n"
      ],
      "execution_count": 0,
      "outputs": []
    },
    {
      "cell_type": "code",
      "metadata": {
        "id": "mz0nhF6oo4bQ",
        "colab_type": "code",
        "colab": {}
      },
      "source": [
        "from torchtext.data import Field, NestedField, BucketIterator\n",
        "import torchtext\n",
        "#init_token=\"<bos>\", eos_token=\"<eos>\"\n",
        "# наши поля\n",
        "WORDS = Field(lower=True)\n",
        "TAGS = Field(unk_token=None) # все токены нам извсетны\n",
        "CHARS_NESTING = Field(tokenize=list, init_token=\"<bos>\", eos_token=\"<eos>\", lower=True, fix_length=20)\n",
        "CHARS = NestedField(CHARS_NESTING)\n",
        "#CHAR = Field(tokenize=list,  init_token=\"<bos>\", eos_token=\"<eos>\", lower=True)\n",
        "\n",
        "# создаем примеры\n",
        "examples_train = []\n",
        "for chars, words, tags in data_train1:\n",
        "    examples_train.append(torchtext.data.Example.fromlist([list(chars), list(words), list(tags)], fields=[('chars', CHARS), ('words', WORDS),  ('tags', TAGS)]))\n",
        "\n",
        "examples_val = []\n",
        "for chars, words, tags in data_val1:\n",
        "    examples_val.append(torchtext.data.Example.fromlist([list(chars), list(words), list(tags)], fields=[('chars', CHARS) ,('words', WORDS),  ('tags', TAGS)]))\n",
        "\n",
        "examples_test = []\n",
        "for chars, words, tags in data_test1:\n",
        "    examples_test.append(torchtext.data.Example.fromlist([list(chars), list(words), list(tags)], fields=[('chars', CHARS) , ('words', WORDS), ('tags', TAGS)]))"
      ],
      "execution_count": 0,
      "outputs": []
    },
    {
      "cell_type": "code",
      "metadata": {
        "id": "6capy1vPo4ZB",
        "colab_type": "code",
        "colab": {
          "base_uri": "https://localhost:8080/",
          "height": 88
        },
        "outputId": "fcb1972e-323f-4ebd-cf49-c222bcb5d836"
      },
      "source": [
        "\n",
        "fields = [('chars', CHARS), ('words', WORDS), ('tags', TAGS)]\n",
        "train_data = torchtext.data.Dataset(examples_train, fields=fields)\n",
        "valid_data = torchtext.data.Dataset(examples_val, fields=fields)\n",
        "test_data = torchtext.data.Dataset(examples_test, fields=fields)\n",
        "\n",
        "\n",
        "print(train_data.fields)\n",
        "print(len(train_data))\n",
        "print(vars(train_data[1]))"
      ],
      "execution_count": 130,
      "outputs": [
        {
          "output_type": "stream",
          "text": [
            "{'chars': <torchtext.data.field.NestedField object at 0x7fe2f7d4a588>, 'words': <torchtext.data.field.Field object at 0x7fe2f7d4a358>, 'tags': <torchtext.data.field.Field object at 0x7fe2f7d4a2e8>}\n",
            "14305\n",
            "{'chars': [['s', 'o', 'b', 'r', 'e'], ['l', 'a'], ['o', 'f', 'e', 'r', 't', 'a'], ['d', 'e'], ['i', 'n', 't', 'e', 'r', 'c', 'o', 'n', 'e', 'x', 'i', 'ó', 'n'], ['c', 'o', 'n'], ['t', 'e', 'l', 'e', 'f', 'ó', 'n', 'i', 'c', 'a'], ['d', 'e'], ['o', 't', 'r', 'o', 's'], ['o', 'p', 'e', 'r', 'a', 'd', 'o', 'r', 'e', 's'], ['q', 'u', 'e'], ['a', 'c', 'a', 'b', 'a'], ['d', 'e'], ['a', 'p', 'r', 'o', 'b', 'a', 'r'], ['l', 'a'], ['c', 'm', 't'], [','], ['v', 'á', 'z', 'q', 'u', 'e', 'z'], ['q', 'u', 'i', 'n', 't', 'a', 'n', 'a'], ['d', 'i', 'j', 'o'], ['q', 'u', 'e'], ['p', 'a', 'r', 'a'], ['d', 'e', 's', 'a', 'r', 'r', 'o', 'l', 'l', 'a', 'r'], ['l', 'a'], ['h', 'a', 'n'], ['e', 's', 'c', 'u', 'c', 'h', 'a', 'd', 'o'], ['a'], ['l', 'o', 's'], ['o', 'p', 'e', 'r', 'a', 'd', 'o', 'r', 'e', 's'], ['a', 'c', 't', 'u', 'a', 'l', 'e', 's'], ['y'], ['a'], ['o', 't', 'r', 'o', 's'], ['q', 'u', 'e'], ['p', 'r', 'o', 'n', 't', 'o'], ['d', 'a', 'r', 'á', 'n'], ['s', 'e', 'r', 'v', 'i', 'c', 'i', 'o', 's'], ['y'], ['q', 'u', 'e'], ['a', 'l'], ['t', 'e', 'n', 'e', 'r'], ['q', 'u', 'e'], ['a', 'u', 'n', 'a', 'r'], ['t', 'a', 'n', 't', 'o', 's'], ['i', 'n', 't', 'e', 'r', 'e', 's', 'e', 's'], ['e', 's'], ['i', 'm', 'p', 'o', 's', 'i', 'b', 'l', 'e'], ['d', 'e', 'j', 'a', 'r'], ['s', 'a', 't', 'i', 's', 'f', 'e', 'c', 'h', 'o', 's'], ['a'], ['t', 'o', 'd', 'o', 's'], ['.']], 'words': ['sobre', 'la', 'oferta', 'de', 'interconexión', 'con', 'telefónica', 'de', 'otros', 'operadores', 'que', 'acaba', 'de', 'aprobar', 'la', 'cmt', ',', 'vázquez', 'quintana', 'dijo', 'que', 'para', 'desarrollar', 'la', 'han', 'escuchado', 'a', 'los', 'operadores', 'actuales', 'y', 'a', 'otros', 'que', 'pronto', 'darán', 'servicios', 'y', 'que', 'al', 'tener', 'que', 'aunar', 'tantos', 'intereses', 'es', 'imposible', 'dejar', 'satisfechos', 'a', 'todos', '.'], 'tags': ['ADP', 'DET', 'NOUN', 'ADP', 'NOUN', 'ADP', 'PROPN', 'ADP', 'DET', 'NOUN', 'PRON', 'AUX', 'ADP', 'VERB', 'DET', 'PROPN', 'PUNCT', 'PROPN', 'PROPN', 'VERB', 'SCONJ', 'ADP', 'VERB', 'PRON', 'AUX', 'VERB', 'ADP', 'DET', 'NOUN', 'ADJ', 'CCONJ', 'ADP', 'PRON', 'PRON', 'ADV', 'VERB', 'NOUN', 'CCONJ', 'SCONJ', 'ADP', 'VERB', 'SCONJ', 'VERB', 'DET', 'NOUN', 'AUX', 'ADJ', 'AUX', 'ADJ', 'ADP', 'PRON', 'PUNCT']}\n"
          ],
          "name": "stdout"
        }
      ]
    },
    {
      "cell_type": "code",
      "metadata": {
        "id": "S4GwSbLqqEKq",
        "colab_type": "code",
        "colab": {
          "base_uri": "https://localhost:8080/",
          "height": 1000
        },
        "outputId": "d3e5fdf9-9599-4f10-dbc7-fdc7f0de1b30"
      },
      "source": [
        "WORDS.build_vocab(train_data.words) #val.word, test.word\n",
        "CHARS.build_vocab(train_data.chars) #, val.char, test.char\n",
        "TAGS.build_vocab(train_data.tags)\n",
        "\n",
        "#print(CHAR.vocab.freqs)\n",
        "\n",
        "BATCH_SIZE = 128 # 64\n",
        "def _len_sort_key(x):\n",
        "    return len(x.words)\n",
        "\n",
        "train_iterator, valid_iterator, test_iterator = BucketIterator.splits(\n",
        "    (train_data, valid_data, test_data), \n",
        "    batch_size = BATCH_SIZE, \n",
        "    device = device,\n",
        "    sort_key=_len_sort_key\n",
        ")\n",
        "\n",
        "batch = next(iter(train_iterator))\n",
        "\n",
        "print(\"words\", batch.words)\n",
        "print(\"chars\", batch.chars)\n",
        "print(\"tags\", batch.tags)"
      ],
      "execution_count": 131,
      "outputs": [
        {
          "output_type": "stream",
          "text": [
            "words tensor([[ 153,    4,    5,  ..., 2402,    5,   52],\n",
            "        [ 835,  263,  364,  ...,   27, 1124, 4246],\n",
            "        [   3,  437,   25,  ...,   65, 8929,   69],\n",
            "        ...,\n",
            "        [   1,    1,    1,  ...,    1,    1,    1],\n",
            "        [   1,    1,    1,  ...,    1,    1,    1],\n",
            "        [   1,    1,    1,  ...,    1,    1,    1]], device='cuda:0')\n",
            "chars tensor([[[ 2,  6, 14,  ...,  1,  1,  1],\n",
            "         [ 2,  4,  8,  ...,  1,  1,  1],\n",
            "         [ 2, 18,  3,  ...,  1,  1,  1],\n",
            "         ...,\n",
            "         [ 1,  1,  1,  ...,  1,  1,  1],\n",
            "         [ 1,  1,  1,  ...,  1,  1,  1],\n",
            "         [ 1,  1,  1,  ...,  1,  1,  1]],\n",
            "\n",
            "        [[ 2, 11,  5,  ...,  1,  1,  1],\n",
            "         [ 2, 13,  6,  ...,  1,  1,  1],\n",
            "         [ 2,  4,  7,  ...,  1,  1,  1],\n",
            "         ...,\n",
            "         [ 1,  1,  1,  ...,  1,  1,  1],\n",
            "         [ 1,  1,  1,  ...,  1,  1,  1],\n",
            "         [ 1,  1,  1,  ...,  1,  1,  1]],\n",
            "\n",
            "        [[ 2,  4, 11,  ...,  1,  1,  1],\n",
            "         [ 2,  6, 19,  ...,  1,  1,  1],\n",
            "         [ 2,  4,  7,  ...,  1,  1,  1],\n",
            "         ...,\n",
            "         [ 1,  1,  1,  ...,  1,  1,  1],\n",
            "         [ 1,  1,  1,  ...,  1,  1,  1],\n",
            "         [ 1,  1,  1,  ...,  1,  1,  1]],\n",
            "\n",
            "        ...,\n",
            "\n",
            "        [[ 2, 27, 10,  ...,  1,  1,  1],\n",
            "         [ 2, 11,  6,  ...,  1,  1,  1],\n",
            "         [ 2, 14, 10,  ...,  1,  1,  1],\n",
            "         ...,\n",
            "         [ 1,  1,  1,  ...,  1,  1,  1],\n",
            "         [ 1,  1,  1,  ...,  1,  1,  1],\n",
            "         [ 1,  1,  1,  ...,  1,  1,  1]],\n",
            "\n",
            "        [[ 2,  4, 11,  ...,  1,  1,  1],\n",
            "         [ 2, 14,  9,  ...,  1,  1,  1],\n",
            "         [ 2,  8,  5,  ...,  1,  1,  1],\n",
            "         ...,\n",
            "         [ 1,  1,  1,  ...,  1,  1,  1],\n",
            "         [ 1,  1,  1,  ...,  1,  1,  1],\n",
            "         [ 1,  1,  1,  ...,  1,  1,  1]],\n",
            "\n",
            "        [[ 2, 13, 15,  ...,  1,  1,  1],\n",
            "         [ 2, 19, 15,  ...,  1,  1,  1],\n",
            "         [ 2, 12, 10,  ...,  1,  1,  1],\n",
            "         ...,\n",
            "         [ 1,  1,  1,  ...,  1,  1,  1],\n",
            "         [ 1,  1,  1,  ...,  1,  1,  1],\n",
            "         [ 1,  1,  1,  ...,  1,  1,  1]]], device='cuda:0')\n",
            "tags tensor([[ 3,  3,  3,  ...,  6,  3, 12],\n",
            "        [ 1,  1,  1,  ...,  8,  1,  6],\n",
            "        [ 4,  5, 10,  ...,  5,  7,  5],\n",
            "        ...,\n",
            "        [ 0,  0,  0,  ...,  0,  0,  0],\n",
            "        [ 0,  0,  0,  ...,  0,  0,  0],\n",
            "        [ 0,  0,  0,  ...,  0,  0,  0]], device='cuda:0')\n"
          ],
          "name": "stdout"
        }
      ]
    },
    {
      "cell_type": "code",
      "metadata": {
        "id": "rpNBvkYpLuyx",
        "colab_type": "code",
        "colab": {}
      },
      "source": [
        "WORDS.vocab.set_vectors(vectors.stoi, vectors.vectors, vectors.dim)"
      ],
      "execution_count": 0,
      "outputs": []
    },
    {
      "cell_type": "code",
      "metadata": {
        "id": "wPj1KWHsMD-h",
        "colab_type": "code",
        "colab": {}
      },
      "source": [
        "embeddings = nn.Embedding.from_pretrained(torch.FloatTensor(WORDS.vocab.vectors))\n"
      ],
      "execution_count": 0,
      "outputs": []
    },
    {
      "cell_type": "code",
      "metadata": {
        "id": "-kxYRXQQqEH6",
        "colab_type": "code",
        "colab": {}
      },
      "source": [
        "import torch\n",
        "import torch.nn as nn\n",
        "import torch.nn.functional as F\n",
        "\n",
        "\n",
        "class WordCharCNNEmbeddingLSTM(nn.Module):\n",
        "\n",
        "    def __init__(self,\n",
        "                 hid_dim,\n",
        "                 output_dim,\n",
        "                 word_num_embedding,\n",
        "                 char_num_embedding,\n",
        "                 padding_size=2,\n",
        "                 \n",
        "                 word_embedding_dim=300,\n",
        "                 word_padding_idx=1,\n",
        "                \n",
        "                 char_embedding_dim=228,\n",
        "                 char_padding_idx=1,\n",
        "                 dropout=0.25,\n",
        "                 kernel_size=3,\n",
        "                 out_channels=228, #228,\n",
        "                 pretrained_word_embedding=None,\n",
        "                 bidirectional=True):\n",
        "      \n",
        "        super().__init__()\n",
        "        self.char_embedding = nn.Embedding(\n",
        "            char_num_embedding, char_embedding_dim, char_padding_idx)\n",
        "        self._init_char_embedding(char_padding_idx)\n",
        "        self.conv_embedding = nn.Sequential(\n",
        "            nn.Dropout(p=dropout),\n",
        "            nn.Conv2d(\n",
        "                in_channels=1,\n",
        "                out_channels=out_channels,\n",
        "                kernel_size=(kernel_size, char_embedding_dim)))\n",
        "        self.word_embedding = nn.Embedding(\n",
        "            word_num_embedding, word_embedding_dim, word_padding_idx)\n",
        "        if isinstance(pretrained_word_embedding, torch.Tensor):\n",
        "            self.word_embedding.weight.data.copy_(pretrained_word_embedding)\n",
        "            # Freeze the embedding layer when using pretrained word\n",
        "            # embedding\n",
        "            self.word_embedding.weight.requires_grad = False\n",
        "        \n",
        "        self.dropout = nn.Dropout(p=dropout)\n",
        "        \n",
        "        self.rnn = nn.LSTM(word_embedding_dim+out_channels, hid_dim, bidirectional=bidirectional)\n",
        "        self.tag = nn.Linear((1 + bidirectional) * hid_dim, int(output_dim))\n",
        " \n",
        "\n",
        "    def _init_char_embedding(self, padding_idx):\n",
        "\n",
        "        nn.init.xavier_normal_(self.char_embedding.weight)\n",
        "        # Reinitialize vectors at padding_idx to have 0 value\n",
        "        self.char_embedding.weight.data[padding_idx].uniform_(0, 0)\n",
        "\n",
        "    def forward(self, X, X_word):\n",
        "        word_size = X.size(1)\n",
        "        char_embeddings = []\n",
        "        # We have X in dimension of [batch, words, chars]. To use\n",
        "        # batch calculation we need to loop over all words and\n",
        "        # calculate the embedding\n",
        "        for i in range(word_size):\n",
        "            # Convert the embedding size from [batch, chars]\n",
        "            # into [batch, 1, chars]. 1 is our channel for\n",
        "            # convolution layer later\n",
        "            x = X[:, i, :].unsqueeze(1)\n",
        "            # Apply embedding for every characters on batch.\n",
        "            # The dimension now will be [batch, 1, chars, emb]\n",
        "            char_embedding = self.char_embedding(x)\n",
        "            # Apply char embedding with dropout and convolution\n",
        "            # layers so the dim now will be [batch, conv_size, new_height, 1]\n",
        "            char_embedding = self.conv_embedding(char_embedding)\n",
        "            # Remove the last dimension with size 1\n",
        "            char_embedding = char_embedding.squeeze(-1)\n",
        "            # Apply pooling layer so the new dim will be [batch, conv_size, 1]\n",
        "            char_embedding = F.max_pool2d(\n",
        "                char_embedding,\n",
        "                kernel_size=(1, char_embedding.size(2)),\n",
        "                stride=1)\n",
        "            # Transpose it before we put it into array for later concatenation\n",
        "            char_embeddings.append(char_embedding.transpose(1, 2))\n",
        "\n",
        "        # Concatenate the whole char embeddings\n",
        "        final_char_embedding = torch.cat(char_embeddings, dim=1)\n",
        "        word_embedding =  self.word_embedding(X_word)\n",
        "        #print(final_char_embedding.shape,  word_embedding.shape)\n",
        "        # Combine both character and word embeddings\n",
        "        result = torch.cat([final_char_embedding.permute(1,0,2), word_embedding], 2)\n",
        "        \n",
        "        output, _ = self.rnn(result)\n",
        "        #output = [sent len, batch size, hid dim * n directions]\n",
        "\n",
        "        prediction = self.tag(output) #\n",
        "        return prediction\n"
      ],
      "execution_count": 0,
      "outputs": []
    },
    {
      "cell_type": "code",
      "metadata": {
        "id": "lMPqJqfZqEFD",
        "colab_type": "code",
        "colab": {}
      },
      "source": [
        "OUTPUT_DIM = len(TAGS.vocab)\n",
        " # стандарт не варьируем\n",
        "HID_DIM = 228\n",
        "model = WordCharCNNEmbeddingLSTM(HID_DIM, len(TAGS.vocab), len(WORDS.vocab), len(CHARS.vocab), pretrained_word_embedding=embeddings).to(device)\n"
      ],
      "execution_count": 0,
      "outputs": []
    },
    {
      "cell_type": "code",
      "metadata": {
        "id": "XUKr3iyWMeKY",
        "colab_type": "code",
        "colab": {}
      },
      "source": [
        "TAG_PAD_IDX = TAGS.vocab.stoi['<pad>'] \n",
        "optimizer = optim.Adam(model.parameters(), lr = 0.001) # lr0.001 0.002 0.0005 (lr0.001 лучший)\n",
        "criterion = nn.CrossEntropyLoss(ignore_index = TAG_PAD_IDX)\n"
      ],
      "execution_count": 0,
      "outputs": []
    },
    {
      "cell_type": "code",
      "metadata": {
        "id": "i9JapkToMjX0",
        "colab_type": "code",
        "colab": {
          "base_uri": "https://localhost:8080/",
          "height": 258
        },
        "outputId": "fc5bba42-3079-4551-e277-46169de305b1"
      },
      "source": [
        "def init_weights(m):\n",
        "    for name, param in m.named_parameters():\n",
        "        nn.init.uniform(param, -0.08, 0.08)\n",
        "        \n",
        "model.apply(init_weights)"
      ],
      "execution_count": 39,
      "outputs": [
        {
          "output_type": "stream",
          "text": [
            "/usr/local/lib/python3.6/dist-packages/ipykernel_launcher.py:3: UserWarning: nn.init.uniform is now deprecated in favor of nn.init.uniform_.\n",
            "  This is separate from the ipykernel package so we can avoid doing imports until\n"
          ],
          "name": "stderr"
        },
        {
          "output_type": "execute_result",
          "data": {
            "text/plain": [
              "WordCharCNNEmbeddingLSTM(\n",
              "  (char_embedding): Embedding(81, 228, padding_idx=1)\n",
              "  (conv_embedding): Sequential(\n",
              "    (0): Dropout(p=0.25, inplace=False)\n",
              "    (1): Conv2d(1, 228, kernel_size=(3, 228), stride=(1, 1))\n",
              "  )\n",
              "  (word_embedding): Embedding(34682, 300, padding_idx=1)\n",
              "  (dropout): Dropout(p=0.25, inplace=False)\n",
              "  (rnn): LSTM(528, 228, bidirectional=True)\n",
              "  (tag): Linear(in_features=456, out_features=18, bias=True)\n",
              ")"
            ]
          },
          "metadata": {
            "tags": []
          },
          "execution_count": 39
        }
      ]
    },
    {
      "cell_type": "code",
      "metadata": {
        "id": "vpMec9jmqD_a",
        "colab_type": "code",
        "colab": {
          "base_uri": "https://localhost:8080/",
          "height": 564
        },
        "outputId": "82fcb79f-a468-4769-9c3b-85f2c45a36e5"
      },
      "source": [
        "import time\n",
        "import math\n",
        "import matplotlib\n",
        "matplotlib.rcParams.update({'figure.figsize': (16, 12), 'font.size': 14})\n",
        "import matplotlib.pyplot as plt\n",
        "%matplotlib inline\n",
        "from IPython.display import clear_output\n",
        "\n",
        "train_history = []\n",
        "valid_history = []\n",
        "\n",
        "N_EPOCHS = 5 #5 10\n",
        "CLIP = 1 #поменять??\n",
        "\n",
        "best_valid_loss = float('inf')\n",
        "\n",
        "for epoch in range(N_EPOCHS):\n",
        "    \n",
        "    start_time = time.time()\n",
        "    \n",
        "    train_loss = train(model, train_iterator, optimizer, criterion, CLIP, train_history, valid_history, is_char=True)\n",
        "    valid_loss = evaluate(model, valid_iterator, criterion, is_char=True)\n",
        "    \n",
        "    end_time = time.time()\n",
        "    \n",
        "    epoch_mins, epoch_secs = epoch_time(start_time, end_time)\n",
        "    \n",
        "    if valid_loss < best_valid_loss:\n",
        "        best_valid_loss = valid_loss\n",
        "        torch.save(model.state_dict(), 'best-val-model-bi.pt')\n",
        "\n",
        "    train_history.append(train_loss)\n",
        "    valid_history.append(valid_loss)\n",
        "    print(f'Epoch: {epoch+1:02} | Time: {epoch_mins}m {epoch_secs}s')\n",
        "    print(f'\\tTrain Loss: {train_loss:.3f} | Train PPL: {math.exp(train_loss):7.3f}')\n",
        "    print(f'\\t Val. Loss: {valid_loss:.3f} |  Val. PPL: {math.exp(valid_loss):7.3f}')"
      ],
      "execution_count": 42,
      "outputs": [
        {
          "output_type": "display_data",
          "data": {
            "image/png": "[encoded data removed]",
            "text/plain": [
              "<Figure size 864x576 with 2 Axes>"
            ]
          },
          "metadata": {
            "tags": [],
            "needs_background": "light"
          }
        },
        {
          "output_type": "stream",
          "text": [
            "Epoch: 05 | Time: 1m 4s\n",
            "\tTrain Loss: 0.031 | Train PPL:   1.031\n",
            "\t Val. Loss: 0.151 |  Val. PPL:   1.163\n"
          ],
          "name": "stdout"
        }
      ]
    },
    {
      "cell_type": "code",
      "metadata": {
        "id": "0N0uY93NqD8e",
        "colab_type": "code",
        "colab": {
          "base_uri": "https://localhost:8080/",
          "height": 170
        },
        "outputId": "15f58401-d8b2-493a-ee60-deaf6291d6c1"
      },
      "source": [
        "# char without pretrained embeddings\n",
        "print_quality(model, train_iterator, valid_iterator, test_iterator, name='best-val-model-bi.pt', is_char=True)"
      ],
      "execution_count": 49,
      "outputs": [
        {
          "output_type": "stream",
          "text": [
            "Accuracy train: 98.715 %\n",
            "Accuracy valid: 95.751 %\n",
            "Accuracy test: 95.68 %\n",
            "F1 score macro train: 90.20859535622259 %\n",
            "F1 score macro valid: 92.30365595066256 %\n",
            "F1 score macro test: 92.35933964733228 %\n",
            "F1 score micro train: 98.71439624305019 %\n",
            "F1 score micro valid: 95.75053500458576 %\n",
            "F1 score micro test: 95.68010338863864 %\n"
          ],
          "name": "stdout"
        }
      ]
    },
    {
      "cell_type": "code",
      "metadata": {
        "id": "skE-twMfMjgB",
        "colab_type": "code",
        "colab": {
          "base_uri": "https://localhost:8080/",
          "height": 564
        },
        "outputId": "e76a6a33-a25d-4b40-a100-067c2418e89e"
      },
      "source": [
        "import time\n",
        "import math\n",
        "import matplotlib\n",
        "matplotlib.rcParams.update({'figure.figsize': (16, 12), 'font.size': 14})\n",
        "import matplotlib.pyplot as plt\n",
        "%matplotlib inline\n",
        "from IPython.display import clear_output\n",
        "\n",
        "train_history = []\n",
        "valid_history = []\n",
        "\n",
        "N_EPOCHS = 5 #5 10\n",
        "CLIP = 1 #поменять??\n",
        "\n",
        "best_valid_loss = float('inf')\n",
        "\n",
        "for epoch in range(N_EPOCHS):\n",
        "    \n",
        "    start_time = time.time()\n",
        "    \n",
        "    train_loss = train(model, train_iterator, optimizer, criterion, CLIP, train_history, valid_history, is_char=True)\n",
        "    valid_loss = evaluate(model, valid_iterator, criterion, is_char=True)\n",
        "    \n",
        "    end_time = time.time()\n",
        "    \n",
        "    epoch_mins, epoch_secs = epoch_time(start_time, end_time)\n",
        "    \n",
        "    if valid_loss < best_valid_loss:\n",
        "        best_valid_loss = valid_loss\n",
        "        torch.save(model.state_dict(), 'best-val-model-bi.pt')\n",
        "\n",
        "    train_history.append(train_loss)\n",
        "    valid_history.append(valid_loss)\n",
        "    print(f'Epoch: {epoch+1:02} | Time: {epoch_mins}m {epoch_secs}s')\n",
        "    print(f'\\tTrain Loss: {train_loss:.3f} | Train PPL: {math.exp(train_loss):7.3f}')\n",
        "    print(f'\\t Val. Loss: {valid_loss:.3f} |  Val. PPL: {math.exp(valid_loss):7.3f}')"
      ],
      "execution_count": 40,
      "outputs": [
        {
          "output_type": "display_data",
          "data": {
            "image/png": "[encoded data removed]",
            "text/plain": [
              "<Figure size 864x576 with 2 Axes>"
            ]
          },
          "metadata": {
            "tags": [],
            "needs_background": "light"
          }
        },
        {
          "output_type": "stream",
          "text": [
            "Epoch: 05 | Time: 0m 55s\n",
            "\tTrain Loss: 0.041 | Train PPL:   1.042\n",
            "\t Val. Loss: 0.132 |  Val. PPL:   1.141\n"
          ],
          "name": "stdout"
        }
      ]
    },
    {
      "cell_type": "code",
      "metadata": {
        "id": "v6MNf5VkQgg7",
        "colab_type": "code",
        "colab": {
          "base_uri": "https://localhost:8080/",
          "height": 170
        },
        "outputId": "92699855-be74-4d60-8e9d-3053b2212583"
      },
      "source": [
        "#gloves drop 0.25 char 228. batch_size 128\n",
        "print_quality(model, train_iterator, valid_iterator, test_iterator, name='best-val-model-bi.pt', is_char=True)"
      ],
      "execution_count": 41,
      "outputs": [
        {
          "output_type": "stream",
          "text": [
            "Accuracy train: 98.426 %\n",
            "Accuracy valid: 96.272 %\n",
            "Accuracy test: 96.205 %\n",
            "F1 score macro train: 88.3545771622451 %\n",
            "F1 score macro valid: 92.122273586368 %\n",
            "F1 score macro test: 90.05457462578744 %\n",
            "F1 score micro train: 98.42560771542185 %\n",
            "F1 score micro valid: 96.2721644756955 %\n",
            "F1 score micro test: 96.20464868768649 %\n"
          ],
          "name": "stdout"
        }
      ]
    },
    {
      "cell_type": "code",
      "metadata": {
        "id": "_4x0IG2cP4r1",
        "colab_type": "code",
        "colab": {
          "base_uri": "https://localhost:8080/",
          "height": 170
        },
        "outputId": "f672b01a-17cb-4274-d62d-1361a03355d2"
      },
      "source": [
        "#gloves drop 0.5 char 228 batch 64\n",
        "print_quality(model, train_iterator, valid_iterator, test_iterator, name='best-val-model-bi.pt', is_char=True)"
      ],
      "execution_count": 34,
      "outputs": [
        {
          "output_type": "stream",
          "text": [
            "Accuracy train: 98.722 %\n",
            "Accuracy valid: 96.253 %\n",
            "Accuracy test: 96.169 %\n",
            "F1 score macro train: 89.9476227775819 %\n",
            "F1 score macro valid: 92.22429188357356 %\n",
            "F1 score macro test: 91.7102380615702 %\n",
            "F1 score micro train: 98.72181837810605 %\n",
            "F1 score micro valid: 96.25305716906145 %\n",
            "F1 score micro test: 96.16853868521581 %\n"
          ],
          "name": "stdout"
        }
      ]
    },
    {
      "cell_type": "code",
      "metadata": {
        "id": "jbAwRMYkMs3b",
        "colab_type": "code",
        "colab": {
          "base_uri": "https://localhost:8080/",
          "height": 170
        },
        "outputId": "1693b6b8-9cf9-4df5-8bae-82b428f2b295"
      },
      "source": [
        "#gloves drop 0.5 char 128\n",
        "print_quality(model, train_iterator, valid_iterator, test_iterator, name='best-val-model-bi.pt', is_char=True)"
      ],
      "execution_count": 28,
      "outputs": [
        {
          "output_type": "stream",
          "text": [
            "Accuracy train: 98.725 %\n",
            "Accuracy valid: 96.156 %\n",
            "Accuracy test: 95.99 %\n",
            "F1 score macro train: 89.97170481442815 %\n",
            "F1 score macro valid: 91.93230048531686 %\n",
            "F1 score macro test: 91.17310362068794 %\n",
            "F1 score micro train: 98.72519207585871 %\n",
            "F1 score micro valid: 96.15560990522776 %\n",
            "F1 score micro test: 95.98988919930821 %\n"
          ],
          "name": "stdout"
        }
      ]
    },
    {
      "cell_type": "markdown",
      "metadata": {
        "id": "GVBD0E10H5eN",
        "colab_type": "text"
      },
      "source": [
        "# CRF"
      ]
    },
    {
      "cell_type": "code",
      "metadata": {
        "id": "YxlZNB0BH7mf",
        "colab_type": "code",
        "colab": {}
      },
      "source": [
        "def acc(model, iterator, TAG_PAD_IDX=1, is_char=False):\n",
        "    model.eval()\n",
        "    \n",
        "    true_pred = 0\n",
        "    num_pred = 0\n",
        "    \n",
        "    with torch.no_grad():\n",
        "        for i, batch in enumerate(iterator):\n",
        "\n",
        "            if is_char:\n",
        "              words = batch.words\n",
        "              chars = batch.chars ###\n",
        "              tags = batch.tags#\n",
        "              output = model.predict(chars, words)\n",
        "            else:\n",
        "              words = batch.words ###\n",
        "              tags = batch.tags###\n",
        "\n",
        "              output = model.predict(words) ###\n",
        "            \n",
        "            #output = [sent len, batch size, output dim]\n",
        "            #output = torch.max(F.softmax(output.view(-1, output.shape[-1]), dim=-1), dim=-1).indices ###\n",
        "            tags = tags.view(-1)\n",
        "            output =output.reshape(-1)\n",
        "           \n",
        "            #output = [sent len, batch size]\n",
        "            predict_tags = output.cpu().numpy()\n",
        "            true_tags = tags.cpu().numpy()\n",
        "            \n",
        "\n",
        "            true_pred += np.sum((true_tags == predict_tags) & (true_tags != TAG_PAD_IDX))\n",
        "            num_pred += np.prod(true_tags.shape) - (true_tags == TAG_PAD_IDX).sum()\n",
        "            \n",
        "    return round(true_pred / num_pred * 100, 3)\n",
        "\n",
        "\n",
        "def get_pr(model, iterator, is_char):\n",
        "  model.eval()\n",
        "  preds = []\n",
        "  tags_given = []\n",
        "  with torch.no_grad():\n",
        "        for i, batch in enumerate(iterator):\n",
        "            if is_char:\n",
        "              words = batch.words\n",
        "              chars = batch.chars ###\n",
        "              tags = batch.tags#\n",
        "              output = model.predict(chars, words)\n",
        "            else:\n",
        "              words = batch.words ###\n",
        "              tags = batch.tags###\n",
        "\n",
        "              output = model.predict(words) ###\n",
        "            \n",
        "            #output = [sent len, batch size, output dim]\n",
        "            output = output.reshape(-1) ###\n",
        "            tags = tags.view(-1)\n",
        "\n",
        "            #output = [sent len, batch size]\n",
        "            predict_tags = output.squeeze().cpu().numpy()\n",
        "            \n",
        "            true_tags = tags.cpu().numpy()\n",
        "            args = np.where(true_tags!=TAG_PAD_IDX)[0]\n",
        "\n",
        "            predict_tags = predict_tags[args]\n",
        "            true_tags = true_tags[args]\n",
        "\n",
        "            if i==0:\n",
        "              preds = predict_tags\n",
        "              tags_given = true_tags\n",
        "            else:\n",
        "              preds = np.append(preds, predict_tags)\n",
        "              #print(preds.shape)\n",
        "              tags_given = np.append(tags_given, true_tags)\n",
        "              #print(tags.shape)\n",
        "  return preds, tags_given\n",
        "\n",
        "\n",
        "def get_f1(model, iterator, is_char=False):\n",
        "  from sklearn.metrics import f1_score\n",
        "  preds, tags = get_preds(model, iterator, is_char)\n",
        "  f1_score_macro = f1_score(tags, preds, average='macro') * 100\n",
        "  f1_score_micro = f1_score(tags, preds, average='micro') * 100\n",
        "  return f1_score_macro, f1_score_micro\n",
        "\n",
        "\n",
        "\n",
        "def print_quality(model, train_iterator, valid_iterator, test_iterator, name='best-val-model-bi.pt', is_char=False):\n",
        "  model.load_state_dict(torch.load(name))\n",
        "  print(\"Accuracy train:\", acc(model, train_iterator,is_char=is_char), '%')\n",
        "  print(\"Accuracy valid:\", acc(model, valid_iterator, is_char=is_char), '%')\n",
        "  print(\"Accuracy test:\", acc(model, test_iterator, is_char=is_char), '%')\n",
        "  macro_train, micro_train = get_f1(model, train_iterator, is_char=is_char)\n",
        "  macro_valid, micro_valid = get_f1(model, valid_iterator, is_char=is_char)\n",
        "  macro_test, micro_test = get_f1(model, test_iterator, is_char=is_char)\n",
        "  print(\"F1 score macro train:\", macro_train, \"%\")\n",
        "  print(\"F1 score macro valid:\", macro_valid, \"%\")\n",
        "  print(\"F1 score macro test:\", macro_test, \"%\")\n",
        "  print(\"F1 score micro train:\", micro_train, \"%\")\n",
        "  print(\"F1 score micro valid:\", micro_valid, \"%\")\n",
        "  print(\"F1 score micro test:\", micro_test, \"%\")\n"
      ],
      "execution_count": 0,
      "outputs": []
    },
    {
      "cell_type": "code",
      "metadata": {
        "id": "tGwPFDM4H7ug",
        "colab_type": "code",
        "colab": {}
      },
      "source": [
        "class RNNCRFTagger(nn.Module):\n",
        "    \n",
        "    def __init__(self, text_field, label_field, emb_dim, rnn_size, update_pretrained=False):\n",
        "        super().__init__()\n",
        "        \n",
        "        voc_size = len(text_field.vocab)\n",
        "        self.n_labels = len(label_field.vocab)       \n",
        "        \n",
        "        self.embedding = nn.Embedding(voc_size, emb_dim)\n",
        "        if text_field.vocab.vectors is not None:\n",
        "            self.embedding.weight = torch.nn.Parameter(text_field.vocab.vectors, \n",
        "                                                       requires_grad=update_pretrained)\n",
        "\n",
        "        self.rnn = nn.GRU(input_size=emb_dim, hidden_size=rnn_size, \n",
        "                          bidirectional=True, num_layers=1)\n",
        "\n",
        "        self.top_layer = nn.Linear(2*rnn_size, self.n_labels)\n",
        " \n",
        "        self.pad_word_id = text_field.vocab.stoi[text_field.pad_token]\n",
        "        self.pad_label_id = label_field.vocab.stoi[label_field.pad_token]\n",
        "    \n",
        "        self.crf = CRF(self.n_labels)\n",
        "        \n",
        "    def compute_outputs(self, sentences):\n",
        "        embedded = self.embedding(sentences)\n",
        "        rnn_out, _ = self.rnn(embedded)\n",
        "        out = self.top_layer(rnn_out)\n",
        "        \n",
        "        pad_mask = (sentences == self.pad_word_id).float()\n",
        "        out[:, :, self.pad_label_id] += pad_mask*10000\n",
        "        \n",
        "        return out\n",
        "                \n",
        "    def forward(self, sentences, labels):\n",
        "        # Compute the outputs of the lower layers, which will be used as emission\n",
        "        # scores for the CRF.\n",
        "        scores = self.compute_outputs(sentences)\n",
        "\n",
        "        # We return the loss value. The CRF returns the log likelihood, but we return \n",
        "        # the *negative* log likelihood as the loss value.            \n",
        "        # PyTorch's optimizers *minimize* the loss, while we want to *maximize* the\n",
        "        # log likelihood.\n",
        "        return -self.crf(scores, labels)\n",
        "            \n",
        "    def predict(self, sentences):\n",
        "        # Compute the emission scores, as above.\n",
        "        scores = self.compute_outputs(sentences)\n",
        "\n",
        "        # Apply the Viterbi algorithm to get the predictions. This implementation returns\n",
        "        # the result as a list of lists (not a tensor), corresponding to a matrix\n",
        "        # of shape (n_sentences, max_len).\n",
        "        return torch.Tensor(np.array(self.crf.decode(scores)).T)"
      ],
      "execution_count": 0,
      "outputs": []
    },
    {
      "cell_type": "code",
      "metadata": {
        "id": "r3WPEwTiH7rp",
        "colab_type": "code",
        "colab": {}
      },
      "source": [
        "n_tokens_train = 0\n",
        "n_sentences_train = 0\n",
        "for ex in examples_train:\n",
        "      n_tokens_train += len(ex.words) + 2\n",
        "      n_sentences_train += 1\n",
        "n_tokens_valid = 0       \n",
        "for ex in examples_val:\n",
        "      n_tokens_valid += len(ex.words)\n",
        "\n",
        "n_tokens_val = 0\n",
        "n_sentences_val = 0\n",
        "for ex in examples_val:\n",
        "      n_tokens_val += len(ex.words) + 2\n",
        "      n_sentences_val += 1\n",
        "n_tokens_val = 0       \n",
        "for ex in examples_val:\n",
        "      n_tokens_val += len(ex.words)\n",
        "\n",
        "\n",
        "n_batches = np.ceil(n_sentences_train / 64)\n",
        "n_batches_val = np.ceil(n_sentences_val/64)\n",
        "mean_n_tokens = n_tokens_train / n_batches\n",
        "mean_v_tokens = n_tokens_val / n_batches"
      ],
      "execution_count": 0,
      "outputs": []
    },
    {
      "cell_type": "code",
      "metadata": {
        "id": "6Db8XdOJSqqy",
        "colab_type": "code",
        "colab": {
          "base_uri": "https://localhost:8080/",
          "height": 34
        },
        "outputId": "3c480f25-857a-482c-9254-2880f3d4d050"
      },
      "source": [
        "!pip install pytorch-crf"
      ],
      "execution_count": 46,
      "outputs": [
        {
          "output_type": "stream",
          "text": [
            "Requirement already satisfied: pytorch-crf in /usr/local/lib/python3.6/dist-packages (0.7.2)\n"
          ],
          "name": "stdout"
        }
      ]
    },
    {
      "cell_type": "code",
      "metadata": {
        "id": "4S0NEQk6Sux6",
        "colab_type": "code",
        "colab": {}
      },
      "source": [
        "from torchcrf import CRF"
      ],
      "execution_count": 0,
      "outputs": []
    },
    {
      "cell_type": "code",
      "metadata": {
        "id": "crwOgfccSyB3",
        "colab_type": "code",
        "colab": {
          "base_uri": "https://localhost:8080/",
          "height": 119
        },
        "outputId": "8a99d87b-56f8-41ea-c22d-ee158204c777"
      },
      "source": [
        "model = RNNCRFTagger(WORDS, TAGS, 300, 228, update_pretrained=False)\n",
        "model.to(device)"
      ],
      "execution_count": 152,
      "outputs": [
        {
          "output_type": "execute_result",
          "data": {
            "text/plain": [
              "RNNCRFTagger(\n",
              "  (embedding): Embedding(34682, 300)\n",
              "  (rnn): GRU(300, 228, bidirectional=True)\n",
              "  (top_layer): Linear(in_features=456, out_features=18, bias=True)\n",
              "  (crf): CRF(num_tags=18)\n",
              ")"
            ]
          },
          "metadata": {
            "tags": []
          },
          "execution_count": 152
        }
      ]
    },
    {
      "cell_type": "code",
      "metadata": {
        "id": "iSSAbDUNS5Nk",
        "colab_type": "code",
        "colab": {}
      },
      "source": [
        "optimizer = torch.optim.Adam(model.parameters(), lr=0.01, weight_decay=1e-5)"
      ],
      "execution_count": 0,
      "outputs": []
    },
    {
      "cell_type": "code",
      "metadata": {
        "id": "AJisz-YkS8gu",
        "colab_type": "code",
        "colab": {}
      },
      "source": [
        "from collections import defaultdict,Counter"
      ],
      "execution_count": 0,
      "outputs": []
    },
    {
      "cell_type": "code",
      "metadata": {
        "id": "alGJtnT_H7pT",
        "colab_type": "code",
        "colab": {
          "base_uri": "https://localhost:8080/",
          "height": 272
        },
        "outputId": "61caccb7-8917-4cca-e418-06817f945568"
      },
      "source": [
        "n_labels = len(TAGS.vocab)\n",
        "history = defaultdict(list)   \n",
        "\n",
        "best_valid_loss = float('inf')  \n",
        "\n",
        "n_epochs = 5\n",
        "        \n",
        "for i in range(n_epochs):\n",
        "\n",
        "    \n",
        "\n",
        "    loss_sum = 0\n",
        "\n",
        "    \n",
        "    for j, batch in enumerate(train_iterator): \n",
        "            model.train()\n",
        "                # Compute the output and loss.\n",
        "            loss = model(batch.words, batch.tags) / mean_n_tokens\n",
        "                \n",
        "            optimizer.zero_grad()            \n",
        "            loss.backward()\n",
        "            optimizer.step()\n",
        "            loss_sum += loss.item()\n",
        "\n",
        "    train_loss = loss_sum / n_batches\n",
        "    history['train_loss'].append(train_loss)\n",
        "\n",
        "            # Evaluate on the validation set.\n",
        "            # if i % 1 == 0:\n",
        "            #     stats = defaultdict(Counter)\n",
        "\n",
        "\n",
        "    loss_val = 0\n",
        "    model.eval()\n",
        "    with torch.no_grad():\n",
        "        for batch in valid_iterator:\n",
        "                        # Predict the model's output on a batch.\n",
        "            #predicted = model.predict(batch.word)    \n",
        "            loss = model(batch.words, batch.tags) / mean_v_tokens\n",
        "            loss_val += loss.item()\n",
        "    \n",
        "    val_loss = loss_val / n_batches\n",
        "    history['val_loss'].append(val_loss)\n",
        "    train_loss, valid_loss = history['train_loss'][i], history['val_loss'][i]\n",
        "\n",
        "    if valid_loss < best_valid_loss:\n",
        "        best_valid_loss = valid_loss\n",
        "        torch.save(model.state_dict(), 'best-val-model-crf.pt')\n",
        "        \n",
        "    print(f'Epoch: {i+1:02}')\n",
        "    print(f'\\tTrain Loss: {train_loss:.3f} | Train PPL: {math.exp(train_loss):7.3f}')\n",
        "    print(f'\\t Val. Loss: {valid_loss:.3f} |  Val. PPL: {math.exp(valid_loss):7.3f}')"
      ],
      "execution_count": 154,
      "outputs": [
        {
          "output_type": "stream",
          "text": [
            "Epoch: 01\n",
            "\tTrain Loss: 0.336 | Train PPL:   1.399\n",
            "\t Val. Loss: 0.177 |  Val. PPL:   1.194\n",
            "Epoch: 02\n",
            "\tTrain Loss: 0.112 | Train PPL:   1.118\n",
            "\t Val. Loss: 0.142 |  Val. PPL:   1.153\n",
            "Epoch: 03\n",
            "\tTrain Loss: 0.072 | Train PPL:   1.075\n",
            "\t Val. Loss: 0.142 |  Val. PPL:   1.152\n",
            "Epoch: 04\n",
            "\tTrain Loss: 0.059 | Train PPL:   1.061\n",
            "\t Val. Loss: 0.147 |  Val. PPL:   1.159\n",
            "Epoch: 05\n",
            "\tTrain Loss: 0.049 | Train PPL:   1.051\n",
            "\t Val. Loss: 0.152 |  Val. PPL:   1.164\n"
          ],
          "name": "stdout"
        }
      ]
    },
    {
      "cell_type": "code",
      "metadata": {
        "id": "UPNZZsBUwg2p",
        "colab_type": "code",
        "colab": {
          "base_uri": "https://localhost:8080/",
          "height": 170
        },
        "outputId": "2b0a98fe-21f7-444b-82c9-47285d236e32"
      },
      "source": [
        "print_quality(model, train_iterator, valid_iterator, test_iterator, name='best-val-model-crf.pt', is_char=False)"
      ],
      "execution_count": 155,
      "outputs": [
        {
          "output_type": "stream",
          "text": [
            "Accuracy train: 99.583 %\n",
            "Accuracy valid: 96.476 %\n",
            "Accuracy test: 96.266 %\n",
            "F1 score macro train: 94.93228817309229 %\n",
            "F1 score macro valid: 88.71040608922561 %\n",
            "F1 score macro test: 91.47661516414351 %\n",
            "F1 score micro train: 98.46834122028896 %\n",
            "F1 score micro valid: 95.4639254050749 %\n",
            "F1 score micro test: 95.4900507440561 %\n"
          ],
          "name": "stdout"
        }
      ]
    },
    {
      "cell_type": "code",
      "metadata": {
        "id": "8E64BFNFH7jl",
        "colab_type": "code",
        "colab": {
          "base_uri": "https://localhost:8080/",
          "height": 34
        },
        "outputId": "a69dc58e-4a27-4164-8b5a-78aa1f0c0c5a"
      },
      "source": [
        "acc(model, test_iterator, TAG_PAD_IDX=1, is_char=False)"
      ],
      "execution_count": 62,
      "outputs": [
        {
          "output_type": "execute_result",
          "data": {
            "text/plain": [
              "96.185"
            ]
          },
          "metadata": {
            "tags": []
          },
          "execution_count": 62
        }
      ]
    },
    {
      "cell_type": "code",
      "metadata": {
        "id": "grKwPnItH7eH",
        "colab_type": "code",
        "colab": {
          "base_uri": "https://localhost:8080/",
          "height": 34
        },
        "outputId": "163e5793-5296-442d-ab50-589ce771d5f7"
      },
      "source": [
        "get_f1_score(model, test_iterator, is_char=False)"
      ],
      "execution_count": 64,
      "outputs": [
        {
          "output_type": "execute_result",
          "data": {
            "text/plain": [
              "(91.64653986781828, 95.41783073911473)"
            ]
          },
          "metadata": {
            "tags": []
          },
          "execution_count": 64
        }
      ]
    },
    {
      "cell_type": "code",
      "metadata": {
        "id": "RdDSxQMqH7bg",
        "colab_type": "code",
        "colab": {}
      },
      "source": [
        ""
      ],
      "execution_count": 0,
      "outputs": []
    },
    {
      "cell_type": "code",
      "metadata": {
        "id": "mH8jtsfYH7YG",
        "colab_type": "code",
        "colab": {}
      },
      "source": [
        ""
      ],
      "execution_count": 0,
      "outputs": []
    },
    {
      "cell_type": "code",
      "metadata": {
        "id": "DI4sLHZwX7gd",
        "colab_type": "code",
        "colab": {}
      },
      "source": [
        "class RNNCRFTagger(nn.Module):\n",
        "    \n",
        "    def __init__(self, text_field, label_field, emb_dim, rnn_size, char_num_embedding,\n",
        "                 padding_size=2 ,char_embedding_dim=228,\n",
        "                 char_padding_idx=1,\n",
        "                 dropout=0.25,\n",
        "                 kernel_size=3,\n",
        "                 out_channels=228, update_pretrained=False):\n",
        "      \n",
        "        super().__init__()\n",
        "        \n",
        "        voc_size = len(text_field.vocab)\n",
        "        self.n_labels = len(label_field.vocab)  \n",
        "\n",
        "\n",
        "        self.char_embedding = nn.Embedding(\n",
        "            char_num_embedding, char_embedding_dim, char_padding_idx)\n",
        "        self._init_char_embedding(char_padding_idx)\n",
        "        self.conv_embedding = nn.Sequential(\n",
        "            nn.Dropout(p=dropout),\n",
        "            nn.Conv2d(\n",
        "                in_channels=1,\n",
        "                out_channels=out_channels,\n",
        "                kernel_size=(kernel_size, char_embedding_dim)))     \n",
        "        \n",
        "        self.word_embedding = nn.Embedding(voc_size, emb_dim)\n",
        "        if text_field.vocab.vectors is not None:\n",
        "            self.word_embedding.weight = torch.nn.Parameter(text_field.vocab.vectors, \n",
        "                                                       requires_grad=update_pretrained)\n",
        "\n",
        "        self.dropout = nn.Dropout(p=dropout)\n",
        "\n",
        "        self.rnn = nn.GRU(input_size=emb_dim+out_channels, hidden_size=rnn_size, \n",
        "                          bidirectional=True, num_layers=1)\n",
        "\n",
        "        self.top_layer = nn.Linear(2*rnn_size, self.n_labels)\n",
        " \n",
        "        self.pad_word_id = text_field.vocab.stoi[text_field.pad_token]\n",
        "        self.pad_label_id = label_field.vocab.stoi[label_field.pad_token]\n",
        "    \n",
        "        self.crf = CRF(self.n_labels)\n",
        "    \n",
        "    def _init_char_embedding(self, padding_idx):\n",
        "        \"\"\"Initialize the weight of character embedding with xavier\n",
        "        and reinitalize the padding vectors to zero\n",
        "        \"\"\"\n",
        "\n",
        "        nn.init.xavier_normal_(self.char_embedding.weight)\n",
        "        # Reinitialize vectors at padding_idx to have 0 value\n",
        "        self.char_embedding.weight.data[padding_idx].uniform_(0, 0)\n",
        "        \n",
        "    def compute_outputs(self, chars, sentences):\n",
        "        word_size = chars.size(1)\n",
        "        char_embeddings = []\n",
        "        # Compute the outputs of the lower layers, which will be used as emission\n",
        "        # scores for the CRF.\n",
        "        for i in range(word_size):\n",
        "            # Convert the embedding size from [batch, chars]\n",
        "            # into [batch, 1, chars]. 1 is our channel for\n",
        "            # convolution layer later\n",
        "            x = chars[:, i, :].unsqueeze(1)\n",
        "            # Apply embedding for every characters on batch.\n",
        "            # The dimension now will be [batch, 1, chars, emb]\n",
        "            char_embedding = self.char_embedding(x)\n",
        "            # Apply char embedding with dropout and convolution\n",
        "            # layers so the dim now will be [batch, conv_size, new_height, 1]\n",
        "            char_embedding = self.conv_embedding(char_embedding)\n",
        "            # Remove the last dimension with size 1\n",
        "            char_embedding = char_embedding.squeeze(-1)\n",
        "            # Apply pooling layer so the new dim will be [batch, conv_size, 1]\n",
        "            char_embedding = F.max_pool2d(\n",
        "                char_embedding,\n",
        "                kernel_size=(1, char_embedding.size(2)),\n",
        "                stride=1)\n",
        "            # Transpose it before we put it into array for later concatenation\n",
        "            char_embeddings.append(char_embedding.transpose(1, 2))\n",
        "\n",
        "        # Concatenate the whole char embeddings\n",
        "        final_char_embedding = torch.cat(char_embeddings, dim=1)\n",
        "        word_embedding =  self.word_embedding(sentences)\n",
        "        result = torch.cat([final_char_embedding.permute(1,0,2), word_embedding], 2)\n",
        "        \n",
        "        rnn_out, _ = self.rnn(result)\n",
        "        out = self.top_layer(rnn_out)\n",
        "        #print(out.shape)\n",
        "        pad_mask = (sentences == self.pad_word_id).float()\n",
        "        out[:, :, self.pad_label_id] += pad_mask*10000\n",
        "        \n",
        "        return out\n",
        "                \n",
        "    def forward(self, chars, sentences, labels):\n",
        "\n",
        "        \n",
        "        scores = self.compute_outputs(chars, sentences)\n",
        "\n",
        "        # We return the loss value. The CRF returns the log likelihood, but we return \n",
        "        # the *negative* log likelihood as the loss value.            \n",
        "        # PyTorch's optimizers *minimize* the loss, while we want to *maximize* the\n",
        "        # log likelihood.\n",
        "        return -self.crf(scores, labels)\n",
        "            \n",
        "    def predict(self, chars, sentences):\n",
        "        # Compute the emission scores, as above.\n",
        "        \n",
        "\n",
        "        #result = result.permute(0, 2, 1)\n",
        "\n",
        "        scores = self.compute_outputs(chars, sentences)\n",
        "\n",
        "        # Apply the Viterbi algorithm to get the predictions. This implementation returns\n",
        "        # the result as a list of lists (not a tensor), corresponding to a matrix\n",
        "        # of shape (n_sentences, max_len).\n",
        "        return torch.Tensor(np.array(self.crf.decode(scores)).T)"
      ],
      "execution_count": 0,
      "outputs": []
    },
    {
      "cell_type": "code",
      "metadata": {
        "id": "ddW3ntEJdg_D",
        "colab_type": "code",
        "colab": {}
      },
      "source": [
        "model = RNNCRFTagger(WORDS, TAGS, 300, 228, len(CHARS.vocab), update_pretrained=False)\n",
        "model.to(device)"
      ],
      "execution_count": 0,
      "outputs": []
    },
    {
      "cell_type": "code",
      "metadata": {
        "id": "2bxTLzkbdg7L",
        "colab_type": "code",
        "colab": {}
      },
      "source": [
        "optimizer = torch.optim.Adam(model.parameters(), lr=0.01, weight_decay=1e-5)"
      ],
      "execution_count": 0,
      "outputs": []
    },
    {
      "cell_type": "code",
      "metadata": {
        "id": "hZleNMsgdg35",
        "colab_type": "code",
        "colab": {
          "base_uri": "https://localhost:8080/",
          "height": 272
        },
        "outputId": "85fe218a-0c42-4463-fbd5-4bb7559dd8ca"
      },
      "source": [
        "n_labels = len(TAGS.vocab)\n",
        "history = defaultdict(list)   \n",
        "\n",
        "best_valid_loss = float('inf')  \n",
        "\n",
        "n_epochs = 5\n",
        "        \n",
        "for i in range(n_epochs):\n",
        "\n",
        "    \n",
        "\n",
        "    loss_sum = 0\n",
        "\n",
        "    \n",
        "    for j, batch in enumerate(train_iterator): \n",
        "            model.train()\n",
        "                # Compute the output and loss.\n",
        "            loss = model(batch.chars, batch.words, batch.tags) / mean_n_tokens\n",
        "                \n",
        "            optimizer.zero_grad()            \n",
        "            loss.backward()\n",
        "            optimizer.step()\n",
        "            loss_sum += loss.item()\n",
        "\n",
        "    train_loss = loss_sum / n_batches\n",
        "    history['train_loss'].append(train_loss)\n",
        "\n",
        "            # Evaluate on the validation set.\n",
        "            # if i % 1 == 0:\n",
        "            #     stats = defaultdict(Counter)\n",
        "\n",
        "\n",
        "    loss_val = 0\n",
        "    model.eval()\n",
        "    with torch.no_grad():\n",
        "        for batch in valid_iterator:\n",
        "                        # Predict the model's output on a batch.\n",
        "            #predicted = model.predict(batch.word)    \n",
        "            loss = model(batch.chars, batch.words, batch.tags) / mean_v_tokens\n",
        "            loss_val += loss.item()\n",
        "    \n",
        "    val_loss = loss_val / n_batches\n",
        "    history['val_loss'].append(val_loss)\n",
        "    train_loss, valid_loss = history['train_loss'][i], history['val_loss'][i]\n",
        "\n",
        "    if valid_loss < best_valid_loss:\n",
        "        best_valid_loss = valid_loss\n",
        "        torch.save(model.state_dict(), 'best-val-model-crf.pt')\n",
        "        \n",
        "    print(f'Epoch: {i+1:02}')\n",
        "    print(f'\\tTrain Loss: {train_loss:.3f} | Train PPL: {math.exp(train_loss):7.3f}')\n",
        "    print(f'\\t Val. Loss: {valid_loss:.3f} |  Val. PPL: {math.exp(valid_loss):7.3f}')"
      ],
      "execution_count": 134,
      "outputs": [
        {
          "output_type": "stream",
          "text": [
            "Epoch: 01\n",
            "\tTrain Loss: 0.276 | Train PPL:   1.318\n",
            "\t Val. Loss: 0.145 |  Val. PPL:   1.156\n",
            "Epoch: 02\n",
            "\tTrain Loss: 0.089 | Train PPL:   1.093\n",
            "\t Val. Loss: 0.112 |  Val. PPL:   1.118\n",
            "Epoch: 03\n",
            "\tTrain Loss: 0.068 | Train PPL:   1.070\n",
            "\t Val. Loss: 0.107 |  Val. PPL:   1.113\n",
            "Epoch: 04\n",
            "\tTrain Loss: 0.058 | Train PPL:   1.060\n",
            "\t Val. Loss: 0.106 |  Val. PPL:   1.112\n",
            "Epoch: 05\n",
            "\tTrain Loss: 0.051 | Train PPL:   1.052\n",
            "\t Val. Loss: 0.105 |  Val. PPL:   1.111\n"
          ],
          "name": "stdout"
        }
      ]
    },
    {
      "cell_type": "code",
      "metadata": {
        "id": "MZuufigodgma",
        "colab_type": "code",
        "colab": {
          "base_uri": "https://localhost:8080/",
          "height": 170
        },
        "outputId": "fbdc9d8a-1cf4-4fb9-e975-073d8da8281f"
      },
      "source": [
        "print_quality(model, train_iterator, valid_iterator, test_iterator, name='best-val-model-crf.pt', is_char=True)"
      ],
      "execution_count": 149,
      "outputs": [
        {
          "output_type": "stream",
          "text": [
            "Accuracy train: 99.668 %\n",
            "Accuracy valid: 97.452 %\n",
            "Accuracy test: 97.261 %\n",
            "F1 score macro train: 98.03968852865013 %\n",
            "F1 score macro valid: 91.8985469489757 %\n",
            "F1 score macro test: 93.01091446229864 %\n",
            "F1 score micro train: 98.78816776724184 %\n",
            "F1 score micro valid: 96.54348822989911 %\n",
            "F1 score micro test: 96.57335081817664 %\n"
          ],
          "name": "stdout"
        }
      ]
    },
    {
      "cell_type": "markdown",
      "metadata": {
        "id": "YHHYJ3XgVlrv",
        "colab_type": "text"
      },
      "source": [
        "# Part III\n",
        "BERT"
      ]
    },
    {
      "cell_type": "code",
      "metadata": {
        "id": "9c7-4CsiVohG",
        "colab_type": "code",
        "colab": {
          "base_uri": "https://localhost:8080/",
          "height": 581
        },
        "outputId": "6eb66565-563c-4181-90a5-96daa6ba339a"
      },
      "source": [
        "! pip install transformers"
      ],
      "execution_count": 15,
      "outputs": [
        {
          "output_type": "stream",
          "text": [
            "Collecting transformers\n",
            "\u001b[?25l  Downloading https://files.pythonhosted.org/packages/cd/38/c9527aa055241c66c4d785381eaf6f80a28c224cae97daa1f8b183b5fabb/transformers-2.9.0-py3-none-any.whl (635kB)\n",
            "\u001b[K     |████████████████████████████████| 645kB 2.7MB/s \n",
            "\u001b[?25hRequirement already satisfied: numpy in /usr/local/lib/python3.6/dist-packages (from transformers) (1.18.3)\n",
            "Collecting sacremoses\n",
            "\u001b[?25l  Downloading https://files.pythonhosted.org/packages/7d/34/09d19aff26edcc8eb2a01bed8e98f13a1537005d31e95233fd48216eed10/sacremoses-0.0.43.tar.gz (883kB)\n",
            "\u001b[K     |████████████████████████████████| 890kB 9.4MB/s \n",
            "\u001b[?25hRequirement already satisfied: tqdm>=4.27 in /usr/local/lib/python3.6/dist-packages (from transformers) (4.38.0)\n",
            "Requirement already satisfied: filelock in /usr/local/lib/python3.6/dist-packages (from transformers) (3.0.12)\n",
            "Requirement already satisfied: dataclasses; python_version < \"3.7\" in /usr/local/lib/python3.6/dist-packages (from transformers) (0.7)\n",
            "Requirement already satisfied: requests in /usr/local/lib/python3.6/dist-packages (from transformers) (2.23.0)\n",
            "Collecting sentencepiece\n",
            "\u001b[?25l  Downloading https://files.pythonhosted.org/packages/98/2c/8df20f3ac6c22ac224fff307ebc102818206c53fc454ecd37d8ac2060df5/sentencepiece-0.1.86-cp36-cp36m-manylinux1_x86_64.whl (1.0MB)\n",
            "\u001b[K     |████████████████████████████████| 1.0MB 14.7MB/s \n",
            "\u001b[?25hRequirement already satisfied: regex!=2019.12.17 in /usr/local/lib/python3.6/dist-packages (from transformers) (2019.12.20)\n",
            "Collecting tokenizers==0.7.0\n",
            "\u001b[?25l  Downloading https://files.pythonhosted.org/packages/14/e5/a26eb4716523808bb0a799fcfdceb6ebf77a18169d9591b2f46a9adb87d9/tokenizers-0.7.0-cp36-cp36m-manylinux1_x86_64.whl (3.8MB)\n",
            "\u001b[K     |████████████████████████████████| 3.8MB 27.3MB/s \n",
            "\u001b[?25hRequirement already satisfied: six in /usr/local/lib/python3.6/dist-packages (from sacremoses->transformers) (1.12.0)\n",
            "Requirement already satisfied: click in /usr/local/lib/python3.6/dist-packages (from sacremoses->transformers) (7.1.2)\n",
            "Requirement already satisfied: joblib in /usr/local/lib/python3.6/dist-packages (from sacremoses->transformers) (0.14.1)\n",
            "Requirement already satisfied: idna<3,>=2.5 in /usr/local/lib/python3.6/dist-packages (from requests->transformers) (2.9)\n",
            "Requirement already satisfied: urllib3!=1.25.0,!=1.25.1,<1.26,>=1.21.1 in /usr/local/lib/python3.6/dist-packages (from requests->transformers) (1.24.3)\n",
            "Requirement already satisfied: chardet<4,>=3.0.2 in /usr/local/lib/python3.6/dist-packages (from requests->transformers) (3.0.4)\n",
            "Requirement already satisfied: certifi>=2017.4.17 in /usr/local/lib/python3.6/dist-packages (from requests->transformers) (2020.4.5.1)\n",
            "Building wheels for collected packages: sacremoses\n",
            "  Building wheel for sacremoses (setup.py) ... \u001b[?25l\u001b[?25hdone\n",
            "  Created wheel for sacremoses: filename=sacremoses-0.0.43-cp36-none-any.whl size=893260 sha256=7514cb42ea7b87980d8f4cfa2d6b9f1c72391849ada6073a905fd957ccf16bed\n",
            "  Stored in directory: /root/.cache/pip/wheels/29/3c/fd/7ce5c3f0666dab31a50123635e6fb5e19ceb42ce38d4e58f45\n",
            "Successfully built sacremoses\n",
            "Installing collected packages: sacremoses, sentencepiece, tokenizers, transformers\n",
            "Successfully installed sacremoses-0.0.43 sentencepiece-0.1.86 tokenizers-0.7.0 transformers-2.9.0\n"
          ],
          "name": "stdout"
        }
      ]
    },
    {
      "cell_type": "code",
      "metadata": {
        "id": "1_2JNe0wWHrP",
        "colab_type": "code",
        "colab": {}
      },
      "source": [
        "import torch\n",
        "import torch.nn as nn\n",
        "import torch.nn.functional as F\n",
        "import torch.optim as optim\n",
        "\n",
        "from torchtext import data\n",
        "from torchtext import datasets\n",
        "\n",
        "from transformers import BertTokenizer, BertModel\n",
        "\n",
        "import numpy as np\n",
        "\n",
        "import time\n",
        "import random\n",
        "import functools\n",
        "import transformers"
      ],
      "execution_count": 0,
      "outputs": []
    },
    {
      "cell_type": "markdown",
      "metadata": {
        "id": "nA_HrT68WNu4",
        "colab_type": "text"
      },
      "source": [
        "## Models to try:"
      ]
    },
    {
      "cell_type": "code",
      "metadata": {
        "id": "5HwRBhM4Wf6t",
        "colab_type": "code",
        "colab": {}
      },
      "source": [
        "# 'bert-base-multilingual-uncased' 'bert-base-multilingual-cased'"
      ],
      "execution_count": 0,
      "outputs": []
    },
    {
      "cell_type": "code",
      "metadata": {
        "id": "9LCVYb4OWkbk",
        "colab_type": "code",
        "colab": {}
      },
      "source": [
        "#'dccuchile/bert-base-spanish-wwm-uncased' 'dccuchile/bert-base-spanish-wwm-cased'"
      ],
      "execution_count": 0,
      "outputs": []
    },
    {
      "cell_type": "code",
      "metadata": {
        "id": "VGllAt_1WxQx",
        "colab_type": "code",
        "colab": {
          "base_uri": "https://localhost:8080/",
          "height": 230,
          "referenced_widgets": [
            "97ef7884ed4345ec9625f0ab35377626",
            "7c24aeb734c44d8687286b0cd5b62e96",
            "e9a064593ddb47ebbbf73ceb23226da1",
            "3961171c8677447894d393fc8c823027",
            "4a35f8ca938e487d8189c27d38828a6b",
            "d91ebc8a4b5f45848f6d2f835fd3b6a8",
            "aeba74a290ef41798aeee8f9fe27d8bc",
            "2b5c7d3ba5fe441daed3692bc80086ed",
            "e311af2201054163bb5ef4c20810f473",
            "6d5e1b186813498ab345b5bcf703c607",
            "be921951e4584a5fa4dc471de2f62495",
            "15e5525753664054b4feffd7c55ee78e",
            "15bd01f9640340d6be1b69634b0b778f",
            "9ebc6d34b74b403abf7f4a4f8138e1e9",
            "e3ccbb6b7acb4a0390bdd40e7d776093",
            "a22f3a8b5f59443d883802856560da74",
            "c9d13ae4e54e4a8ca33d4f0c4facd071",
            "745465bbc4b6429aae4dfc4dd022ad28",
            "ca3377ec6f964111bef5cb8805bf7d06",
            "45f9d01c34d946cbb674e7e2071f8eba",
            "9ec6d28d898a4fd98af5b1c14b12f933",
            "38919dbb760d467facddc2af33319b5b",
            "6cfc8bf1341344b3b4e5329e1ac4bb63",
            "cb58ea1c475c4db0a837d0b0f15dd147",
            "390cfcf12fce480fa6df91c516b7fca5",
            "8a1ae725ea34453fa1fb24f19fd05a1f",
            "8d66e86bd261444ebe8f3cb1dcf842d4",
            "7cb07f4470fc40c6bbf47cd009d1276c",
            "edd1a6f7232349bd9a4efa29f832dcc6",
            "03866a143bea476086b805314dfd6631",
            "8a9015aefd424105bc4694769411b96e",
            "2fe1adbb649f41828e37cd1a143a3456"
          ]
        },
        "outputId": "d88749ed-d6f7-4fa8-c228-5f71a07c1a77"
      },
      "source": [
        "tokenizer = BertTokenizer.from_pretrained('dccuchile/bert-base-spanish-wwm-cased')\n",
        "tokenizer.tokenize('Este hombre es muy guapo')"
      ],
      "execution_count": 17,
      "outputs": [
        {
          "output_type": "display_data",
          "data": {
            "application/vnd.jupyter.widget-view+json": {
              "model_id": "97ef7884ed4345ec9625f0ab35377626",
              "version_minor": 0,
              "version_major": 2
            },
            "text/plain": [
              "HBox(children=(IntProgress(value=0, description='Downloading', max=242120, style=ProgressStyle(description_wid…"
            ]
          },
          "metadata": {
            "tags": []
          }
        },
        {
          "output_type": "stream",
          "text": [
            "\n"
          ],
          "name": "stdout"
        },
        {
          "output_type": "display_data",
          "data": {
            "application/vnd.jupyter.widget-view+json": {
              "model_id": "e311af2201054163bb5ef4c20810f473",
              "version_minor": 0,
              "version_major": 2
            },
            "text/plain": [
              "HBox(children=(IntProgress(value=0, description='Downloading', max=2, style=ProgressStyle(description_width='i…"
            ]
          },
          "metadata": {
            "tags": []
          }
        },
        {
          "output_type": "stream",
          "text": [
            "\n"
          ],
          "name": "stdout"
        },
        {
          "output_type": "display_data",
          "data": {
            "application/vnd.jupyter.widget-view+json": {
              "model_id": "c9d13ae4e54e4a8ca33d4f0c4facd071",
              "version_minor": 0,
              "version_major": 2
            },
            "text/plain": [
              "HBox(children=(IntProgress(value=0, description='Downloading', max=112, style=ProgressStyle(description_width=…"
            ]
          },
          "metadata": {
            "tags": []
          }
        },
        {
          "output_type": "stream",
          "text": [
            "\n"
          ],
          "name": "stdout"
        },
        {
          "output_type": "display_data",
          "data": {
            "application/vnd.jupyter.widget-view+json": {
              "model_id": "390cfcf12fce480fa6df91c516b7fca5",
              "version_minor": 0,
              "version_major": 2
            },
            "text/plain": [
              "HBox(children=(IntProgress(value=0, description='Downloading', max=43, style=ProgressStyle(description_width='…"
            ]
          },
          "metadata": {
            "tags": []
          }
        },
        {
          "output_type": "stream",
          "text": [
            "\n"
          ],
          "name": "stdout"
        },
        {
          "output_type": "execute_result",
          "data": {
            "text/plain": [
              "['Este', 'hombre', 'es', 'muy', 'guapo']"
            ]
          },
          "metadata": {
            "tags": []
          },
          "execution_count": 17
        }
      ]
    },
    {
      "cell_type": "code",
      "metadata": {
        "id": "MUAGgt80W5-w",
        "colab_type": "code",
        "colab": {
          "base_uri": "https://localhost:8080/",
          "height": 34
        },
        "outputId": "4dca654f-4242-4513-d32c-52a8cd423f5f"
      },
      "source": [
        "init_token = tokenizer.cls_token\n",
        "pad_token = tokenizer.pad_token\n",
        "unk_token = tokenizer.unk_token\n",
        "\n",
        "print(init_token, pad_token, unk_token)"
      ],
      "execution_count": 18,
      "outputs": [
        {
          "output_type": "stream",
          "text": [
            "[CLS] [PAD] [UNK]\n"
          ],
          "name": "stdout"
        }
      ]
    },
    {
      "cell_type": "code",
      "metadata": {
        "id": "Te9O-H4mW8kN",
        "colab_type": "code",
        "colab": {
          "base_uri": "https://localhost:8080/",
          "height": 34
        },
        "outputId": "08538520-54c4-4186-bde7-bef3f25d936c"
      },
      "source": [
        "init_token_idx = tokenizer.convert_tokens_to_ids(init_token)\n",
        "pad_token_idx = tokenizer.convert_tokens_to_ids(pad_token)\n",
        "unk_token_idx = tokenizer.convert_tokens_to_ids(unk_token)\n",
        "\n",
        "print(init_token_idx, pad_token_idx, unk_token_idx)"
      ],
      "execution_count": 19,
      "outputs": [
        {
          "output_type": "stream",
          "text": [
            "4 1 3\n"
          ],
          "name": "stdout"
        }
      ]
    },
    {
      "cell_type": "code",
      "metadata": {
        "id": "GTpDDlFHW89X",
        "colab_type": "code",
        "colab": {
          "base_uri": "https://localhost:8080/",
          "height": 34
        },
        "outputId": "e601e8e2-796f-4023-e42e-a903c7cdf0b5"
      },
      "source": [
        "max_input_length = tokenizer.max_model_input_sizes['bert-base-cased']\n",
        "\n",
        "print(max_input_length)"
      ],
      "execution_count": 20,
      "outputs": [
        {
          "output_type": "stream",
          "text": [
            "512\n"
          ],
          "name": "stdout"
        }
      ]
    },
    {
      "cell_type": "code",
      "metadata": {
        "id": "_jwqjb8tW9EA",
        "colab_type": "code",
        "colab": {}
      },
      "source": [
        "def cut_and_convert_to_id(tokens, tokenizer, max_input_length):\n",
        "    tokens = tokens[:max_input_length-1]\n",
        "    tokens = tokenizer.convert_tokens_to_ids(tokens)\n",
        "    return tokens"
      ],
      "execution_count": 0,
      "outputs": []
    },
    {
      "cell_type": "code",
      "metadata": {
        "id": "VSHaWjXZW9BL",
        "colab_type": "code",
        "colab": {}
      },
      "source": [
        "def cut_to_max_length(tokens, max_input_length):\n",
        "    tokens = tokens[:max_input_length-1]\n",
        "    return tokens"
      ],
      "execution_count": 0,
      "outputs": []
    },
    {
      "cell_type": "code",
      "metadata": {
        "id": "z7D_MZIlW867",
        "colab_type": "code",
        "colab": {}
      },
      "source": [
        "text_preprocessor = functools.partial(cut_and_convert_to_id,\n",
        "                                      tokenizer = tokenizer,\n",
        "                                      max_input_length = max_input_length)\n",
        "\n",
        "tag_preprocessor = functools.partial(cut_to_max_length,\n",
        "                                     max_input_length = max_input_length)"
      ],
      "execution_count": 0,
      "outputs": []
    },
    {
      "cell_type": "code",
      "metadata": {
        "id": "g3lDkplsW84A",
        "colab_type": "code",
        "colab": {
          "base_uri": "https://localhost:8080/",
          "height": 68
        },
        "outputId": "4a2469a0-4ad5-4505-b357-3f42763e53d3"
      },
      "source": [
        "from torchtext.data import Field, BucketIterator\n",
        "import torchtext\n",
        "\n",
        "# наши поля\n",
        "WORDS = data.Field(use_vocab = False,\n",
        "                  lower = True,\n",
        "                  preprocessing = text_preprocessor,\n",
        "                  init_token = init_token_idx,\n",
        "                  pad_token = pad_token_idx,\n",
        "                  unk_token = unk_token_idx)\n",
        "\n",
        "TAGS = data.Field(unk_token = None,\n",
        "                     init_token = '<pad>',\n",
        "                     preprocessing = tag_preprocessor) # все токены нам извсетны\n",
        "\n",
        "# создаем примеры\n",
        "examples_train = []\n",
        "for words, tags in data_train:\n",
        "    examples_train.append(torchtext.data.Example.fromlist([list(words), list(tags)], fields=[('words', WORDS), ('tags', TAGS)]))\n",
        "\n",
        "examples_val = []\n",
        "for words, tags in data_val:\n",
        "    examples_val.append(torchtext.data.Example.fromlist([list(words), list(tags)], fields=[('words', WORDS), ('tags', TAGS)]))\n",
        "\n",
        "examples_test = []\n",
        "for words, tags in data_test:\n",
        "    examples_test.append(torchtext.data.Example.fromlist([list(words), list(tags)], fields=[('words', WORDS), ('tags', TAGS)]))\n",
        "\n",
        "train_data =torchtext.data.Dataset(examples_train, fields=[('words', WORDS), ('tags', TAGS)])\n",
        "valid_data = torchtext.data.Dataset(examples_val, fields=[('words', WORDS), ('tags', TAGS)])\n",
        "test_data = torchtext.data.Dataset(examples_test, fields=[('words', WORDS), ('tags', TAGS)])\n",
        "print(f\"Number of training examples: {len(train_data.examples)}\")\n",
        "print(f\"Number of validation examples: {len(valid_data.examples)}\")\n",
        "print(f\"Number of testing examples: {len(test_data.examples)}\")"
      ],
      "execution_count": 26,
      "outputs": [
        {
          "output_type": "stream",
          "text": [
            "Number of training examples: 14305\n",
            "Number of validation examples: 1654\n",
            "Number of testing examples: 1721\n"
          ],
          "name": "stdout"
        }
      ]
    },
    {
      "cell_type": "code",
      "metadata": {
        "id": "h0g3QQZCXNIR",
        "colab_type": "code",
        "colab": {
          "base_uri": "https://localhost:8080/",
          "height": 54
        },
        "outputId": "3ffcf65f-5e4f-4f6b-bd3c-9c586fb08eb2"
      },
      "source": [
        "print(vars(train_data.examples[0]))"
      ],
      "execution_count": 230,
      "outputs": [
        {
          "output_type": "stream",
          "text": [
            "{'words': [1040, 3599, 1072, 6322, 24552, 1008, 1089, 3, 1062, 12048, 29533, 1008, 10563, 1359, 16014, 1008, 1089, 3, 1051, 2074, 2160, 1038, 3, 1030, 4220, 1184, 1499, 1200, 5867, 1040, 3209, 1013, 1030, 1924, 1008, 1065, 5615, 1008, 18651, 1013, 1759, 12072, 1009], 'tags': ['DET', 'NOUN', 'ADP', 'NOUN', 'ADJ', 'ADP', 'DET', 'PROPN', 'PRON', 'VERB', 'ADJ', 'ADP', 'VERB', 'DET', 'NOUN', 'ADP', 'DET', 'NOUN', 'ADP', 'DET', 'NOUN', 'PRON', 'VERB', 'DET', 'NOUN', 'SCONJ', 'NOUN', 'NOUN', 'VERB', 'DET', 'NOUN', 'ADP', 'DET', 'NOUN', 'ADP', 'DET', 'NOUN', 'ADP', 'PROPN', 'ADP', 'DET', 'NOUN', 'PUNCT']}\n"
          ],
          "name": "stdout"
        }
      ]
    },
    {
      "cell_type": "code",
      "metadata": {
        "id": "hBDSxsJhXQFl",
        "colab_type": "code",
        "colab": {
          "base_uri": "https://localhost:8080/",
          "height": 54
        },
        "outputId": "f0085e7d-5ea6-449e-fa5b-984e6bf0a151"
      },
      "source": [
        "WORDS.build_vocab(train_data)\n",
        "\n",
        "TAGS.build_vocab(train_data)\n",
        "\n",
        "print(TAGS.vocab.stoi)"
      ],
      "execution_count": 27,
      "outputs": [
        {
          "output_type": "stream",
          "text": [
            "defaultdict(<function _default_unk_index at 0x7fa9819961e0>, {'<pad>': 0, 'NOUN': 1, 'ADP': 2, 'DET': 3, 'PUNCT': 4, 'VERB': 5, 'PROPN': 6, 'ADJ': 7, 'PRON': 8, 'ADV': 9, 'AUX': 10, 'CCONJ': 11, 'SCONJ': 12, 'NUM': 13, 'SYM': 14, 'PART': 15, 'INTJ': 16, 'X': 17})\n"
          ],
          "name": "stdout"
        }
      ]
    },
    {
      "cell_type": "code",
      "metadata": {
        "id": "frnVJdzPXR5-",
        "colab_type": "code",
        "colab": {}
      },
      "source": [
        "def _len_sort_key(x):\n",
        "    return len(x.words)\n",
        "\n",
        "BATCH_SIZE = 32\n",
        "device = torch.device('cuda' if torch.cuda.is_available() else 'cpu')\n",
        "\n",
        "train_iterator, valid_iterator, test_iterator = BucketIterator.splits(\n",
        "    (train_data, valid_data, test_data), \n",
        "    batch_size = BATCH_SIZE, \n",
        "    device = device,\n",
        "    sort_key=_len_sort_key)"
      ],
      "execution_count": 0,
      "outputs": []
    },
    {
      "cell_type": "code",
      "metadata": {
        "id": "Gnyqwn30XcQE",
        "colab_type": "code",
        "colab": {}
      },
      "source": [
        "class BERTPoSTagger(nn.Module):\n",
        "    def __init__(self,\n",
        "                 bert,\n",
        "                 output_dim, \n",
        "                 dropout):\n",
        "        \n",
        "        super().__init__()\n",
        "        \n",
        "        self.bert = bert\n",
        "        \n",
        "        embedding_dim = bert.config.to_dict()['hidden_size']\n",
        "        \n",
        "        self.fc = nn.Linear(embedding_dim, output_dim)\n",
        "        \n",
        "        self.dropout = nn.Dropout(dropout)\n",
        "        \n",
        "    def forward(self, text):\n",
        "  \n",
        "        #text = [sent len, batch size]\n",
        "    \n",
        "        text = text.permute(1, 0)\n",
        "        \n",
        "        #text = [batch size, sent len]\n",
        "        \n",
        "        embedded = self.dropout(self.bert(text)[0])\n",
        "        \n",
        "        #embedded = [batch size, seq len, emb dim]\n",
        "                \n",
        "        embedded = embedded.permute(1, 0, 2)\n",
        "                    \n",
        "        #embedded = [sent len, batch size, emb dim]\n",
        "        \n",
        "        predictions = self.fc(self.dropout(embedded))\n",
        "        \n",
        "        #predictions = [sent len, batch size, output dim]\n",
        "        \n",
        "        return predictions"
      ],
      "execution_count": 0,
      "outputs": []
    },
    {
      "cell_type": "code",
      "metadata": {
        "id": "0aoq6eWUXcVe",
        "colab_type": "code",
        "colab": {
          "base_uri": "https://localhost:8080/",
          "height": 115,
          "referenced_widgets": [
            "92500afa75744547a853efff43231a58",
            "3f249026e2004a4996b83c6c02831aed",
            "9719b596e076475d8b54a87152bdb25e",
            "ae67b02ba65a420e9761bb8482b42f02",
            "dda39535a1b04d8cb1b4366c9e03b37c",
            "3d3cfe4b9f8947f093067c2b87f7c39a",
            "a32d6b3a84f84cc69d9bbc9afdcdbd3f",
            "d05fe51ec12b4d3fa1d38b41dd46414c",
            "eae499b4918d4ce28df3847c2cbdf2fb",
            "fe02d2376ce247c68a5d790111961e62",
            "42ebb9edb43345afabb6f39013972240",
            "2ee0c1390c894fe8949e8ded3cfa4843",
            "3fda17d114854b0fadd5862b633d015f",
            "14698a72e35d4f9eb66193592f820eb0",
            "77118666661a4e8abd5d8f2f2eaf8067",
            "43a260abccd6492f9919f759850dcdef"
          ]
        },
        "outputId": "62ed9a5b-2bb3-4fc0-fd7a-e28624aa6f6d"
      },
      "source": [
        "bert = BertModel.from_pretrained('dccuchile/bert-base-spanish-wwm-cased')"
      ],
      "execution_count": 30,
      "outputs": [
        {
          "output_type": "display_data",
          "data": {
            "application/vnd.jupyter.widget-view+json": {
              "model_id": "92500afa75744547a853efff43231a58",
              "version_minor": 0,
              "version_major": 2
            },
            "text/plain": [
              "HBox(children=(IntProgress(value=0, description='Downloading', max=456, style=ProgressStyle(description_width=…"
            ]
          },
          "metadata": {
            "tags": []
          }
        },
        {
          "output_type": "stream",
          "text": [
            "\n"
          ],
          "name": "stdout"
        },
        {
          "output_type": "display_data",
          "data": {
            "application/vnd.jupyter.widget-view+json": {
              "model_id": "eae499b4918d4ce28df3847c2cbdf2fb",
              "version_minor": 0,
              "version_major": 2
            },
            "text/plain": [
              "HBox(children=(IntProgress(value=0, description='Downloading', max=441944381, style=ProgressStyle(description_…"
            ]
          },
          "metadata": {
            "tags": []
          }
        },
        {
          "output_type": "stream",
          "text": [
            "\n"
          ],
          "name": "stdout"
        }
      ]
    },
    {
      "cell_type": "code",
      "metadata": {
        "id": "9r2hViv6XcbQ",
        "colab_type": "code",
        "colab": {}
      },
      "source": [
        "OUTPUT_DIM = len(TAGS.vocab)\n",
        "DROPOUT = 0.25\n",
        "\n",
        "model = BERTPoSTagger(bert,\n",
        "                      OUTPUT_DIM, \n",
        "                      DROPOUT)"
      ],
      "execution_count": 0,
      "outputs": []
    },
    {
      "cell_type": "code",
      "metadata": {
        "id": "-wS5a6CF9MvL",
        "colab_type": "code",
        "colab": {}
      },
      "source": [
        "epochs = 10\n",
        "lr = 1e-5 #5e-5\n",
        "warmup_steps = len(train_iterator) // 2\n",
        "t_total = len(train_iterator) * epochs\n",
        "TAG_PAD_IDX = TAG.vocab.stoi[TAG.pad_token]\n",
        "\n",
        "optimizer_grouped_parameters = [\n",
        "    {\"params\": [p for n, p in model.named_parameters()], \"weight_decay\": 0.0},\n",
        "]\n",
        "\n",
        "# <YOUR CODE>\n",
        "criterion = torch.nn.CrossEntropyLoss(ignore_index = TAG_PAD_IDX)\n",
        "optimizer = transformers.AdamW(optimizer_grouped_parameters, lr=lr)\n",
        "scheduler = transformers.get_linear_schedule_with_warmup(\n",
        "    optimizer, num_warmup_steps=warmup_steps, num_training_steps=t_total\n",
        ")\n",
        "model.to(device)\n",
        "criterion = criterion.to(device)\n"
      ],
      "execution_count": 0,
      "outputs": []
    },
    {
      "cell_type": "code",
      "metadata": {
        "id": "iwsWVu8UXldu",
        "colab_type": "code",
        "colab": {}
      },
      "source": [
        "LEARNING_RATE = 5e-5 #5e-5   5e-4  5e-8  1e-4 и dropout 4??? попробовать\n",
        "\n",
        "optimizer = optim.Adam(model.parameters(), lr = LEARNING_RATE)\n",
        "TAG_PAD_IDX = TAGS.vocab.stoi[TAGS.pad_token]\n",
        "\n",
        "criterion = nn.CrossEntropyLoss(ignore_index = TAG_PAD_IDX)\n",
        "model = model.to(device)\n",
        "criterion = criterion.to(device)"
      ],
      "execution_count": 0,
      "outputs": []
    },
    {
      "cell_type": "code",
      "metadata": {
        "id": "f4qn-oDVXcgr",
        "colab_type": "code",
        "colab": {}
      },
      "source": [
        "def categorical_accuracy(preds, y, tag_pad_idx):\n",
        "    \"\"\"\n",
        "    Returns accuracy per batch, i.e. if you get 8/10 right, this returns 0.8, NOT 8\n",
        "    \"\"\"\n",
        "    max_preds = preds.argmax(dim = 1, keepdim = True) # get the index of the max probability\n",
        "    non_pad_elements = (y != tag_pad_idx).nonzero()\n",
        "    correct = max_preds[non_pad_elements].squeeze(1).eq(y[non_pad_elements])\n",
        "    return correct.sum() / torch.FloatTensor([y[non_pad_elements].shape[0]])"
      ],
      "execution_count": 0,
      "outputs": []
    },
    {
      "cell_type": "code",
      "metadata": {
        "id": "cX7SByex9uj8",
        "colab_type": "code",
        "colab": {
          "base_uri": "https://localhost:8080/",
          "height": 564
        },
        "outputId": "48574b84-aaaa-47a3-bfb8-ac993f0e62e0"
      },
      "source": [
        "import time\n",
        "import math\n",
        "import matplotlib\n",
        "matplotlib.rcParams.update({'figure.figsize': (16, 12), 'font.size': 14})\n",
        "import matplotlib.pyplot as plt\n",
        "%matplotlib inline\n",
        "from IPython.display import clear_output\n",
        "\n",
        "train_history = []\n",
        "valid_history = []\n",
        "\n",
        "N_EPOCHS = 10 #5 10\n",
        "CLIP = 1\n",
        "\n",
        "best_valid_loss = float('inf')\n",
        "\n",
        "for epoch in range(N_EPOCHS):\n",
        "    \n",
        "    start_time = time.time()\n",
        "    \n",
        "    train_loss = train(model, train_iterator, optimizer, criterion, CLIP, train_history, valid_history, scheduler=scheduler)\n",
        "    valid_loss = evaluate(model, valid_iterator, criterion)\n",
        "    \n",
        "    end_time = time.time()\n",
        "    \n",
        "    epoch_mins, epoch_secs = epoch_time(start_time, end_time)\n",
        "    \n",
        "    if valid_loss < best_valid_loss:\n",
        "        best_valid_loss = valid_loss\n",
        "        torch.save(model.state_dict(), 'best-val-model-bert_mull.pt')\n",
        "\n",
        "    train_history.append(train_loss)\n",
        "    valid_history.append(valid_loss)\n",
        "    print(f'Epoch: {epoch+1:02} | Time: {epoch_mins}m {epoch_secs}s')\n",
        "    print(f'\\tTrain Loss: {train_loss:.3f} | Train PPL: {math.exp(train_loss):7.3f}')\n",
        "    print(f'\\t Val. Loss: {valid_loss:.3f} |  Val. PPL: {math.exp(valid_loss):7.3f}')"
      ],
      "execution_count": 46,
      "outputs": [
        {
          "output_type": "display_data",
          "data": {
            "image/png": "[encoded data removed]",
            "text/plain": [
              "<Figure size 864x576 with 2 Axes>"
            ]
          },
          "metadata": {
            "tags": [],
            "needs_background": "light"
          }
        },
        {
          "output_type": "stream",
          "text": [
            "Epoch: 10 | Time: 1m 58s\n",
            "\tTrain Loss: 0.023 | Train PPL:   1.024\n",
            "\t Val. Loss: 0.143 |  Val. PPL:   1.153\n"
          ],
          "name": "stdout"
        }
      ]
    },
    {
      "cell_type": "code",
      "metadata": {
        "id": "7jsJgyhsDbLV",
        "colab_type": "code",
        "colab": {
          "base_uri": "https://localhost:8080/",
          "height": 170
        },
        "outputId": "320a2618-efe0-4f36-f724-28a232ec28e5"
      },
      "source": [
        "#  beto cased ???\n",
        "print_quality(model, train_iterator, valid_iterator, test_iterator, name='best-val-model-bert_mull.pt') #'best-val-model-bert_mull.pt'"
      ],
      "execution_count": 47,
      "outputs": [
        {
          "output_type": "stream",
          "text": [
            "Accuracy train: 98.968 %\n",
            "Accuracy valid: 97.151 %\n",
            "Accuracy test: 97.039 %\n",
            "F1 score macro train: 89.00040895967987 %\n",
            "F1 score macro valid: 89.19791014965885 %\n",
            "F1 score macro test: 90.38402999968662 %\n",
            "F1 score micro train: 98.96135091854545 %\n",
            "F1 score micro valid: 97.15110058086212 %\n",
            "F1 score micro test: 97.03897979740388 %\n"
          ],
          "name": "stdout"
        }
      ]
    },
    {
      "cell_type": "code",
      "metadata": {
        "id": "8uKokN2F06j4",
        "colab_type": "code",
        "colab": {
          "base_uri": "https://localhost:8080/",
          "height": 564
        },
        "outputId": "0c0a928e-9fb9-44f3-ca73-507e46ea137e"
      },
      "source": [
        "import time\n",
        "import math\n",
        "import matplotlib\n",
        "matplotlib.rcParams.update({'figure.figsize': (16, 12), 'font.size': 14})\n",
        "import matplotlib.pyplot as plt\n",
        "%matplotlib inline\n",
        "from IPython.display import clear_output\n",
        "\n",
        "train_history = []\n",
        "valid_history = []\n",
        "\n",
        "N_EPOCHS = 5 #5 10\n",
        "CLIP = 1\n",
        "\n",
        "best_valid_loss = float('inf')\n",
        "\n",
        "for epoch in range(N_EPOCHS):\n",
        "    \n",
        "    start_time = time.time()\n",
        "    \n",
        "    train_loss = train(model, train_iterator, optimizer, criterion, CLIP, train_history, valid_history)\n",
        "    valid_loss = evaluate(model, valid_iterator, criterion)\n",
        "    \n",
        "    end_time = time.time()\n",
        "    \n",
        "    epoch_mins, epoch_secs = epoch_time(start_time, end_time)\n",
        "    \n",
        "    if valid_loss < best_valid_loss:\n",
        "        best_valid_loss = valid_loss\n",
        "        torch.save(model.state_dict(), 'best-val-model-bert_mull.pt')\n",
        "\n",
        "    train_history.append(train_loss)\n",
        "    valid_history.append(valid_loss)\n",
        "    print(f'Epoch: {epoch+1:02} | Time: {epoch_mins}m {epoch_secs}s')\n",
        "    print(f'\\tTrain Loss: {train_loss:.3f} | Train PPL: {math.exp(train_loss):7.3f}')\n",
        "    print(f'\\t Val. Loss: {valid_loss:.3f} |  Val. PPL: {math.exp(valid_loss):7.3f}')"
      ],
      "execution_count": 257,
      "outputs": [
        {
          "output_type": "display_data",
          "data": {
            "image/png": "[encoded data removed]",
            "text/plain": [
              "<Figure size 864x576 with 2 Axes>"
            ]
          },
          "metadata": {
            "tags": [],
            "needs_background": "light"
          }
        },
        {
          "output_type": "stream",
          "text": [
            "Epoch: 05 | Time: 2m 13s\n",
            "\tTrain Loss: 0.023 | Train PPL:   1.023\n",
            "\t Val. Loss: 0.135 |  Val. PPL:   1.145\n"
          ],
          "name": "stdout"
        }
      ]
    },
    {
      "cell_type": "code",
      "metadata": {
        "id": "tEYwsAoG4W6P",
        "colab_type": "code",
        "colab": {
          "base_uri": "https://localhost:8080/",
          "height": 170
        },
        "outputId": "8bac4e0b-f6f6-4094-d305-488b949d88bb"
      },
      "source": [
        "#  beto cased ???\n",
        "print_quality(model, train_iterator, valid_iterator, test_iterator, name='best-val-model-bert.pt') #'best-val-model-bert_mull.pt'"
      ],
      "execution_count": 258,
      "outputs": [
        {
          "output_type": "stream",
          "text": [
            "Accuracy train: 98.784 %\n",
            "Accuracy valid: 97.189 %\n",
            "Accuracy test: 97.096 %\n",
            "F1 score macro train: 0.9072026171327909 %\n",
            "F1 score macro valid: 0.9197493099826978 %\n",
            "F1 score macro test: 0.9222696656561868 %\n",
            "F1 score micro train: 0.9877849650035087 %\n",
            "F1 score micro valid: 0.9718931519413023 %\n",
            "F1 score micro test: 0.9709599559077865 %\n"
          ],
          "name": "stdout"
        }
      ]
    },
    {
      "cell_type": "code",
      "metadata": {
        "id": "Kx8xRX6PYCke",
        "colab_type": "code",
        "colab": {
          "base_uri": "https://localhost:8080/",
          "height": 170
        },
        "outputId": "75e58c32-8fb7-45dc-c268-28fda96da58b"
      },
      "source": [
        "#  bert beto uncased\n",
        "print_quality(model, train_iterator, valid_iterator, test_iterator, name='best-val-model-bert.pt') "
      ],
      "execution_count": 83,
      "outputs": [
        {
          "output_type": "stream",
          "text": [
            "Accuracy train: 98.823 %\n",
            "Accuracy valid: 97.059 %\n",
            "Accuracy test: 97.058 %\n",
            "F1 score macro train: 0.9076109660772128 %\n",
            "F1 score macro valid: 0.919548907704057 %\n",
            "F1 score macro test: 0.9240669855918578 %\n",
            "F1 score micro train: 0.9882347913705309 %\n",
            "F1 score micro valid: 0.9705938550901865 %\n",
            "F1 score micro test: 0.9705798506186214 %\n"
          ],
          "name": "stdout"
        }
      ]
    },
    {
      "cell_type": "code",
      "metadata": {
        "id": "DvfyxcjQeBAI",
        "colab_type": "code",
        "colab": {
          "base_uri": "https://localhost:8080/",
          "height": 170
        },
        "outputId": "281fc9fa-6980-4086-ed44-08865d523c4e"
      },
      "source": [
        "#  bert beto cased\n",
        "print_quality(model, train_iterator, valid_iterator, test_iterator, name='best-val-model-bert.pt') #'best-val-model-bi.pt'"
      ],
      "execution_count": 98,
      "outputs": [
        {
          "output_type": "stream",
          "text": [
            "Accuracy train: 98.852 %\n",
            "Accuracy valid: 97.285 %\n",
            "Accuracy test: 97.088 %\n",
            "F1 score macro train: 0.9107609187870733 %\n",
            "F1 score macro valid: 0.9217471409974984 %\n",
            "F1 score macro test: 0.9299205264905903 %\n",
            "F1 score micro train: 0.9885024380589092 %\n",
            "F1 score micro valid: 0.9728485172730051 %\n",
            "F1 score micro test: 0.9708839348499534 %\n"
          ],
          "name": "stdout"
        }
      ]
    },
    {
      "cell_type": "code",
      "metadata": {
        "id": "qA1FbsDwZTvr",
        "colab_type": "code",
        "colab": {
          "base_uri": "https://localhost:8080/",
          "height": 170
        },
        "outputId": "109c0529-97db-4515-fdf3-8d8a8db3feb3"
      },
      "source": [
        "#  bert multilingual cased\n",
        "print_quality(model, train_iterator, valid_iterator, test_iterator, name='best-val-model-bert_mul.pt') #'best-val-model-bi.pt'"
      ],
      "execution_count": 112,
      "outputs": [
        {
          "output_type": "stream",
          "text": [
            "Accuracy train: 97.122 %\n",
            "Accuracy valid: 95.076 %\n",
            "Accuracy test: 94.983 %\n",
            "F1 score macro train: 0.8820739268827023 %\n",
            "F1 score macro valid: 0.8895137228576704 %\n",
            "F1 score macro test: 0.9087580154983054 %\n",
            "F1 score micro train: 0.9712988286521402 %\n",
            "F1 score micro valid: 0.9507604708040355 %\n",
            "F1 score micro test: 0.949826101830207 %\n"
          ],
          "name": "stdout"
        }
      ]
    },
    {
      "cell_type": "code",
      "metadata": {
        "id": "jwLzVtNJlvE-",
        "colab_type": "code",
        "colab": {
          "base_uri": "https://localhost:8080/",
          "height": 170
        },
        "outputId": "147d1687-ad0b-4c48-bf95-991cdc69a73b"
      },
      "source": [
        "#  bert multilingual uncased\n",
        "print_quality(model, train_iterator, valid_iterator, test_iterator, name='best-val-model-bert_mul.pt') #'best-val-model-bi.pt'"
      ],
      "execution_count": 129,
      "outputs": [
        {
          "output_type": "stream",
          "text": [
            "Accuracy train: 96.154 %\n",
            "Accuracy valid: 93.93 %\n",
            "Accuracy test: 93.956 %\n",
            "F1 score macro train: 0.8692216848082964 %\n",
            "F1 score macro valid: 0.8789018707747094 %\n",
            "F1 score macro test: 0.9058352515031716 %\n",
            "F1 score micro train: 0.9614813681918779 %\n",
            "F1 score micro valid: 0.9392960868236013 %\n",
            "F1 score micro test: 0.9395632590227494 %\n"
          ],
          "name": "stdout"
        }
      ]
    }
  ]
}