{
  "nbformat": 4,
  "nbformat_minor": 0,
  "metadata": {
    "colab": {
      "name": "Mnist.ipynb",
      "provenance": [],
      "collapsed_sections": []
    },
    "kernelspec": {
      "name": "python3",
      "display_name": "Python 3"
    }
  },
  "cells": [
    {
      "cell_type": "code",
      "metadata": {
        "id": "PDLqRvdxpfOn",
        "colab_type": "code",
        "outputId": "5b92b7ac-fe0d-4b8e-b262-c5b2e4569cba",
        "colab": {
          "base_uri": "https://localhost:8080/",
          "height": 97
        }
      },
      "source": [
        "import keras\n",
        "keras.backend.backend()\n",
        "import tensorflow as tf\n",
        "from keras import backend as K\n",
        "import keras\n",
        "import numpy as np\n",
        "import matplotlib.pyplot as plt\n",
        "keras.backend.backend()\n"
      ],
      "execution_count": 1,
      "outputs": [
        {
          "output_type": "stream",
          "text": [
            "Using TensorFlow backend.\n"
          ],
          "name": "stderr"
        },
        {
          "output_type": "display_data",
          "data": {
            "text/html": [
              "<p style=\"color: red;\">\n",
              "The default version of TensorFlow in Colab will soon switch to TensorFlow 2.x.<br>\n",
              "We recommend you <a href=\"https://www.tensorflow.org/guide/migrate\" target=\"_blank\">upgrade</a> now \n",
              "or ensure your notebook will continue to use TensorFlow 1.x via the <code>%tensorflow_version 1.x</code> magic:\n",
              "<a href=\"https://colab.research.google.com/notebooks/tensorflow_version.ipynb\" target=\"_blank\">more info</a>.</p>\n"
            ],
            "text/plain": [
              "<IPython.core.display.HTML object>"
            ]
          },
          "metadata": {
            "tags": []
          }
        },
        {
          "output_type": "execute_result",
          "data": {
            "text/plain": [
              "'tensorflow'"
            ]
          },
          "metadata": {
            "tags": []
          },
          "execution_count": 1
        }
      ]
    },
    {
      "cell_type": "markdown",
      "metadata": {
        "id": "qTCN9KEm6qkY",
        "colab_type": "text"
      },
      "source": [
        "Для начала импортируем датасет из керас, он уже подготовлен и разбит на трейн и тест."
      ]
    },
    {
      "cell_type": "code",
      "metadata": {
        "id": "WMeozEzYraXu",
        "colab_type": "code",
        "outputId": "2d919945-d9f0-4b46-a558-d366c8bc9a4c",
        "colab": {
          "base_uri": "https://localhost:8080/",
          "height": 68
        }
      },
      "source": [
        "from keras.datasets import mnist\n",
        "(x_train, y_train), (x_test, y_test) = mnist.load_data()\n",
        "x_train.shape[1:]"
      ],
      "execution_count": 2,
      "outputs": [
        {
          "output_type": "stream",
          "text": [
            "Downloading data from https://s3.amazonaws.com/img-datasets/mnist.npz\n",
            "11493376/11490434 [==============================] - 0s 0us/step\n"
          ],
          "name": "stdout"
        },
        {
          "output_type": "execute_result",
          "data": {
            "text/plain": [
              "(28, 28)"
            ]
          },
          "metadata": {
            "tags": []
          },
          "execution_count": 2
        }
      ]
    },
    {
      "cell_type": "code",
      "metadata": {
        "id": "B1orhyaKrhZi",
        "colab_type": "code",
        "outputId": "5b9fcca3-7b67-4d20-dd49-615ef2501c58",
        "colab": {
          "base_uri": "https://localhost:8080/",
          "height": 1000
        }
      },
      "source": [
        "#отрисуем содержимое\n",
        "for i in [228, 1437, 322, 420, 69]:\n",
        "    plt.title(y_train[i])\n",
        "    plt.imshow(x_train[i].reshape((28, 28)))\n",
        "    plt.show()"
      ],
      "execution_count": 3,
      "outputs": [
        {
          "output_type": "display_data",
          "data": {
            "image/png": "[encoded data removed]",
            "text/plain": [
              "<Figure size 432x288 with 1 Axes>"
            ]
          },
          "metadata": {
            "tags": []
          }
        },
        {
          "output_type": "display_data",
          "data": {
            "image/png": "[encoded data removed]",
            "text/plain": [
              "<Figure size 432x288 with 1 Axes>"
            ]
          },
          "metadata": {
            "tags": []
          }
        },
        {
          "output_type": "display_data",
          "data": {
            "image/png": "[encoded data removed]",
            "text/plain": [
              "<Figure size 432x288 with 1 Axes>"
            ]
          },
          "metadata": {
            "tags": []
          }
        },
        {
          "output_type": "display_data",
          "data": {
            "image/png": "[encoded data removed]",
            "text/plain": [
              "<Figure size 432x288 with 1 Axes>"
            ]
          },
          "metadata": {
            "tags": []
          }
        },
        {
          "output_type": "display_data",
          "data": {
            "image/png": "[encoded data removed]",
            "text/plain": [
              "<Figure size 432x288 with 1 Axes>"
            ]
          },
          "metadata": {
            "tags": []
          }
        }
      ]
    },
    {
      "cell_type": "code",
      "metadata": {
        "id": "FXhhlVzsr8fG",
        "colab_type": "code",
        "colab": {}
      },
      "source": [
        "#нормализуем данные\n",
        "x_train = x_train.astype('float32') / 255.0\n",
        "x_test = x_test.astype('float32') / 255.0\n"
      ],
      "execution_count": 0,
      "outputs": []
    },
    {
      "cell_type": "markdown",
      "metadata": {
        "id": "-_j_IJhq8K-s",
        "colab_type": "text"
      },
      "source": [
        "Теперь напишем функцию для генерации последовательностей и меток для них"
      ]
    },
    {
      "cell_type": "code",
      "metadata": {
        "id": "sAVCcQU7tLnK",
        "colab_type": "code",
        "colab": {}
      },
      "source": [
        "def make_sequences(x, y):\n",
        "  \"\"\"   \"\"\"\n",
        "  num_of_sequences = x.shape[0]//10 #кол-во последовательностей\n",
        "  schetchik = 0\n",
        "  sequences = []   #массив для последовательностей\n",
        "  answers = []     #массив для меток\n",
        "\n",
        "  while schetchik != num_of_sequences:\n",
        "\n",
        "    sequence = np.zeros(shape=(10, x.shape[1], x.shape[2]))\n",
        "    answer = np.zeros(shape=(11,))\n",
        "    indices = np.random.choice(x.shape[0], 10)\n",
        "    key_val = y[indices[0]] + y[indices[1]]\n",
        "    \n",
        "    sequence[:10, :, :] = x[indices]\n",
        "    answers.append(key_val)\n",
        "    sequences.append(sequence)\n",
        "    \n",
        "    schetchik += 1\n",
        "  \n",
        "  return np.array(sequences), np.array(answers)\n",
        "\n"
      ],
      "execution_count": 0,
      "outputs": []
    },
    {
      "cell_type": "code",
      "metadata": {
        "id": "EfTe-A91yomg",
        "colab_type": "code",
        "colab": {}
      },
      "source": [
        "#создаем последовательности\n",
        "X_train, y_train = make_sequences(x_train, y_train)\n",
        "X_test, y_test = make_sequences(x_test, y_test)"
      ],
      "execution_count": 0,
      "outputs": []
    },
    {
      "cell_type": "code",
      "metadata": {
        "id": "dZH0m0fBrqcW",
        "colab_type": "code",
        "colab": {}
      },
      "source": [
        "#распрямляем картинку 28х28 в вектор 784 для подачи в нейронку\n",
        "X_train = X_train.reshape(6000, 10, -1)\n",
        "X_test = X_test.reshape(1000, 10, -1)"
      ],
      "execution_count": 0,
      "outputs": []
    },
    {
      "cell_type": "code",
      "metadata": {
        "id": "w8ngdzRBr_hu",
        "colab_type": "code",
        "colab": {
          "base_uri": "https://localhost:8080/",
          "height": 34
        },
        "outputId": "0cf54cd2-1eeb-4b4f-dd89-74c0b98626eb"
      },
      "source": [
        "X_train.shape[1:], X_test.shape[1:]"
      ],
      "execution_count": 8,
      "outputs": [
        {
          "output_type": "execute_result",
          "data": {
            "text/plain": [
              "((10, 784), (10, 784))"
            ]
          },
          "metadata": {
            "tags": []
          },
          "execution_count": 8
        }
      ]
    },
    {
      "cell_type": "code",
      "metadata": {
        "id": "AuhSDU0YsI9g",
        "colab_type": "code",
        "colab": {
          "base_uri": "https://localhost:8080/",
          "height": 34
        },
        "outputId": "fe545cdf-fa28-4229-c4db-6d7efe7acf19"
      },
      "source": [
        "#посмотрим на метки - цифры от 0 до 18: всего 19 классов\n",
        "set(y_train)"
      ],
      "execution_count": 9,
      "outputs": [
        {
          "output_type": "execute_result",
          "data": {
            "text/plain": [
              "{0, 1, 2, 3, 4, 5, 6, 7, 8, 9, 10, 11, 12, 13, 14, 15, 16, 17, 18}"
            ]
          },
          "metadata": {
            "tags": []
          },
          "execution_count": 9
        }
      ]
    },
    {
      "cell_type": "code",
      "metadata": {
        "id": "2_c54hzfgSEi",
        "colab_type": "code",
        "colab": {}
      },
      "source": [
        "import tensorflow as  tf\n",
        "from tensorflow.keras.models import Sequential\n",
        "from tensorflow.keras.layers import Dense, Dropout, LSTM, BatchNormalization, Bidirectional"
      ],
      "execution_count": 0,
      "outputs": []
    },
    {
      "cell_type": "code",
      "metadata": {
        "id": "anWlSJ6zxs7O",
        "colab_type": "code",
        "colab": {}
      },
      "source": [
        "# функция на случай, если надо подправить граф\n",
        "def reset_tf_session():\n",
        "    curr_session = tf.get_default_session()\n",
        "    if curr_session is not None:\n",
        "        curr_session.close()\n",
        "    K.clear_session()\n",
        "    config = tf.ConfigProto()\n",
        "    config.gpu_options.allow_growth = True\n",
        "    s = tf.InteractiveSession(config=config)\n",
        "    K.set_session(s)\n",
        "    return s"
      ],
      "execution_count": 0,
      "outputs": []
    },
    {
      "cell_type": "markdown",
      "metadata": {
        "id": "v-Gsh7mKLICG",
        "colab_type": "text"
      },
      "source": [
        " Дальше идут мои эксперименты, по результам которых мне, к сожалению, удалось добиться accuracy приблизительно 0.87. При этом модель сильно переобучается даже с дропаутом. Упрощение модели также не помогло: переобучение с более простой моделью только усилилось."
      ]
    },
    {
      "cell_type": "code",
      "metadata": {
        "id": "GBQ1kl1jf796",
        "colab_type": "code",
        "colab": {}
      },
      "source": [
        "#функция для создания модели\n",
        "\n",
        "def create_model(n_hidden = 256):\n",
        "  model = Sequential()\n",
        "  model.add(LSTM(n_hidden, input_shape=(X_train.shape[1:]), activation='relu', return_sequences=True))\n",
        "  model.add(Dropout(0.25))\n",
        "\n",
        "  model.add(LSTM(n_hidden, activation='relu', return_sequences=True ))\n",
        "  model.add(Dropout(0.25))\n",
        "\n",
        "  model.add(LSTM(n_hidden, activation='relu'))\n",
        "  model.add(Dropout(0.25))\n",
        "\n",
        "\n",
        "  model.add(Dense(32, activation='relu'))\n",
        "\n",
        "  model.add(Dropout(0.3))\n",
        "\n",
        "  model.add(Dense(19, activation='softmax'))\n",
        "  return model"
      ],
      "execution_count": 0,
      "outputs": []
    },
    {
      "cell_type": "code",
      "metadata": {
        "id": "MkFu7dAv-OFw",
        "colab_type": "code",
        "colab": {}
      },
      "source": [
        "s = reset_tf_session()\n",
        "model = create_model()"
      ],
      "execution_count": 0,
      "outputs": []
    },
    {
      "cell_type": "code",
      "metadata": {
        "id": "pqUZ3u0nf74m",
        "colab_type": "code",
        "colab": {}
      },
      "source": [
        "model.compile(loss='sparse_categorical_crossentropy', optimizer=opt,\n",
        "           metrics=['accuracy'])"
      ],
      "execution_count": 0,
      "outputs": []
    },
    {
      "cell_type": "code",
      "metadata": {
        "id": "OJgFjCJGAEGE",
        "colab_type": "code",
        "colab": {}
      },
      "source": [
        "epochs = 30\n",
        "batch_size = 100\n",
        "lr = 1e-3\n",
        "decay = 1e-5"
      ],
      "execution_count": 0,
      "outputs": []
    },
    {
      "cell_type": "code",
      "metadata": {
        "id": "gvXCX4Gtf77b",
        "colab_type": "code",
        "colab": {}
      },
      "source": [
        "opt = tf.keras.optimizers.Adam(lr=lr, decay=decay)\n"
      ],
      "execution_count": 0,
      "outputs": []
    },
    {
      "cell_type": "code",
      "metadata": {
        "id": "Wi1Qk-3hf72V",
        "colab_type": "code",
        "colab": {
          "base_uri": "https://localhost:8080/",
          "height": 1000
        },
        "outputId": "0c8de15a-2435-47af-b696-542b73344b05"
      },
      "source": [
        "model.fit(X_train, y_train, epochs=epochs, validation_data=(X_test, y_test), batch_size = 100\n",
        "          )"
      ],
      "execution_count": 54,
      "outputs": [
        {
          "output_type": "stream",
          "text": [
            "Train on 6000 samples, validate on 1000 samples\n",
            "Epoch 1/30\n",
            "6000/6000 [==============================] - 33s 5ms/sample - loss: 2.8964 - acc: 0.0898 - val_loss: 2.8486 - val_acc: 0.0780\n",
            "Epoch 2/30\n",
            "6000/6000 [==============================] - 33s 5ms/sample - loss: 2.8373 - acc: 0.0895 - val_loss: 2.7971 - val_acc: 0.0970\n",
            "Epoch 3/30\n",
            "6000/6000 [==============================] - 32s 5ms/sample - loss: 2.7245 - acc: 0.1015 - val_loss: 2.5050 - val_acc: 0.1270\n",
            "Epoch 4/30\n",
            "6000/6000 [==============================] - 32s 5ms/sample - loss: 2.5163 - acc: 0.1363 - val_loss: 2.3516 - val_acc: 0.1570\n",
            "Epoch 5/30\n",
            "6000/6000 [==============================] - 32s 5ms/sample - loss: 2.3999 - acc: 0.1502 - val_loss: 2.2648 - val_acc: 0.1590\n",
            "Epoch 6/30\n",
            "6000/6000 [==============================] - 32s 5ms/sample - loss: 2.1795 - acc: 0.2018 - val_loss: 1.9521 - val_acc: 0.2540\n",
            "Epoch 7/30\n",
            "6000/6000 [==============================] - 32s 5ms/sample - loss: 1.9902 - acc: 0.2470 - val_loss: 1.8537 - val_acc: 0.2600\n",
            "Epoch 8/30\n",
            "6000/6000 [==============================] - 32s 5ms/sample - loss: 1.8000 - acc: 0.3088 - val_loss: 1.7585 - val_acc: 0.3460\n",
            "Epoch 9/30\n",
            "6000/6000 [==============================] - 32s 5ms/sample - loss: 1.6488 - acc: 0.3655 - val_loss: 1.5489 - val_acc: 0.4620\n",
            "Epoch 10/30\n",
            "6000/6000 [==============================] - 33s 6ms/sample - loss: 1.4474 - acc: 0.4355 - val_loss: 1.4567 - val_acc: 0.4950\n",
            "Epoch 11/30\n",
            "6000/6000 [==============================] - 32s 5ms/sample - loss: 1.2620 - acc: 0.5277 - val_loss: 1.2990 - val_acc: 0.5810\n",
            "Epoch 12/30\n",
            "6000/6000 [==============================] - 32s 5ms/sample - loss: 1.1094 - acc: 0.5788 - val_loss: 1.2904 - val_acc: 0.6320\n",
            "Epoch 13/30\n",
            "6000/6000 [==============================] - 32s 5ms/sample - loss: 0.9506 - acc: 0.6500 - val_loss: 1.1757 - val_acc: 0.6800\n",
            "Epoch 14/30\n",
            "6000/6000 [==============================] - 31s 5ms/sample - loss: 0.8243 - acc: 0.7190 - val_loss: 1.1084 - val_acc: 0.6800\n",
            "Epoch 15/30\n",
            "6000/6000 [==============================] - 32s 5ms/sample - loss: 0.6795 - acc: 0.7680 - val_loss: 1.1427 - val_acc: 0.7540\n",
            "Epoch 16/30\n",
            "6000/6000 [==============================] - 32s 5ms/sample - loss: 0.6695 - acc: 0.7850 - val_loss: 1.1077 - val_acc: 0.7540\n",
            "Epoch 17/30\n",
            "6000/6000 [==============================] - 32s 5ms/sample - loss: 0.6454 - acc: 0.7975 - val_loss: 1.2684 - val_acc: 0.7330\n",
            "Epoch 18/30\n",
            "6000/6000 [==============================] - 33s 5ms/sample - loss: 0.5650 - acc: 0.8283 - val_loss: 1.0451 - val_acc: 0.7930\n",
            "Epoch 19/30\n",
            "6000/6000 [==============================] - 33s 5ms/sample - loss: 0.5244 - acc: 0.8503 - val_loss: 1.0621 - val_acc: 0.7850\n",
            "Epoch 20/30\n",
            "6000/6000 [==============================] - 33s 5ms/sample - loss: 0.4338 - acc: 0.8703 - val_loss: 1.1498 - val_acc: 0.7950\n",
            "Epoch 21/30\n",
            "6000/6000 [==============================] - 33s 5ms/sample - loss: 0.3925 - acc: 0.8908 - val_loss: 1.1016 - val_acc: 0.8160\n",
            "Epoch 22/30\n",
            "6000/6000 [==============================] - 32s 5ms/sample - loss: 0.2949 - acc: 0.9212 - val_loss: 1.2449 - val_acc: 0.8130\n",
            "Epoch 23/30\n",
            "6000/6000 [==============================] - 32s 5ms/sample - loss: 0.2949 - acc: 0.9178 - val_loss: 1.0768 - val_acc: 0.8290\n",
            "Epoch 24/30\n",
            "6000/6000 [==============================] - 31s 5ms/sample - loss: 0.2872 - acc: 0.9165 - val_loss: 1.2971 - val_acc: 0.8240\n",
            "Epoch 25/30\n",
            "6000/6000 [==============================] - 32s 5ms/sample - loss: 0.3068 - acc: 0.9210 - val_loss: 1.0402 - val_acc: 0.8180\n",
            "Epoch 26/30\n",
            "6000/6000 [==============================] - 32s 5ms/sample - loss: 0.2360 - acc: 0.9335 - val_loss: 1.0895 - val_acc: 0.8320\n",
            "Epoch 27/30\n",
            "6000/6000 [==============================] - 32s 5ms/sample - loss: 0.2331 - acc: 0.9412 - val_loss: 1.3097 - val_acc: 0.8430\n",
            "Epoch 28/30\n",
            "6000/6000 [==============================] - 33s 5ms/sample - loss: 0.1896 - acc: 0.9507 - val_loss: 1.3635 - val_acc: 0.8250\n",
            "Epoch 29/30\n",
            "6000/6000 [==============================] - 33s 6ms/sample - loss: 0.2288 - acc: 0.9407 - val_loss: 1.5242 - val_acc: 0.8210\n",
            "Epoch 30/30\n",
            "6000/6000 [==============================] - 32s 5ms/sample - loss: 0.3090 - acc: 0.9177 - val_loss: 1.0740 - val_acc: 0.8120\n"
          ],
          "name": "stdout"
        },
        {
          "output_type": "execute_result",
          "data": {
            "text/plain": [
              "<tensorflow.python.keras.callbacks.History at 0x7f7b450fefd0>"
            ]
          },
          "metadata": {
            "tags": []
          },
          "execution_count": 54
        }
      ]
    },
    {
      "cell_type": "code",
      "metadata": {
        "id": "i8Ip7aQZMzqH",
        "colab_type": "code",
        "colab": {
          "base_uri": "https://localhost:8080/",
          "height": 391
        },
        "outputId": "99338194-1a9e-42bc-d4c6-3f51fafc272c"
      },
      "source": [
        "model.fit(X_train, y_train, epochs=10, validation_data=(X_test, y_test), batch_size = batch_size,\n",
        "          )"
      ],
      "execution_count": 56,
      "outputs": [
        {
          "output_type": "stream",
          "text": [
            "Train on 6000 samples, validate on 1000 samples\n",
            "Epoch 1/10\n",
            "6000/6000 [==============================] - 32s 5ms/sample - loss: 0.1251 - acc: 0.9690 - val_loss: 1.3235 - val_acc: 0.8640\n",
            "Epoch 2/10\n",
            "6000/6000 [==============================] - 32s 5ms/sample - loss: 0.1316 - acc: 0.9702 - val_loss: 1.2532 - val_acc: 0.8430\n",
            "Epoch 3/10\n",
            "6000/6000 [==============================] - 33s 5ms/sample - loss: 0.0987 - acc: 0.9792 - val_loss: 1.3185 - val_acc: 0.8770\n",
            "Epoch 4/10\n",
            "6000/6000 [==============================] - 33s 6ms/sample - loss: 0.0944 - acc: 0.9788 - val_loss: 1.5599 - val_acc: 0.8470\n",
            "Epoch 5/10\n",
            "6000/6000 [==============================] - 33s 6ms/sample - loss: 0.1103 - acc: 0.9748 - val_loss: 1.8790 - val_acc: 0.8300\n",
            "Epoch 6/10\n",
            "6000/6000 [==============================] - 33s 6ms/sample - loss: 0.0957 - acc: 0.9765 - val_loss: 1.4639 - val_acc: 0.8660\n",
            "Epoch 7/10\n",
            "6000/6000 [==============================] - 33s 5ms/sample - loss: 0.0637 - acc: 0.9845 - val_loss: 1.9652 - val_acc: 0.8520\n",
            "Epoch 8/10\n",
            "6000/6000 [==============================] - 33s 5ms/sample - loss: 0.0866 - acc: 0.9813 - val_loss: 1.4268 - val_acc: 0.8540\n",
            "Epoch 9/10\n",
            "6000/6000 [==============================] - 33s 5ms/sample - loss: 0.1083 - acc: 0.9748 - val_loss: 1.2933 - val_acc: 0.8560\n",
            "Epoch 10/10\n",
            "6000/6000 [==============================] - 33s 5ms/sample - loss: 0.0739 - acc: 0.9820 - val_loss: 1.5441 - val_acc: 0.8630\n"
          ],
          "name": "stdout"
        },
        {
          "output_type": "execute_result",
          "data": {
            "text/plain": [
              "<tensorflow.python.keras.callbacks.History at 0x7f7b45091160>"
            ]
          },
          "metadata": {
            "tags": []
          },
          "execution_count": 56
        }
      ]
    },
    {
      "cell_type": "code",
      "metadata": {
        "id": "m0EtMosOPEdL",
        "colab_type": "code",
        "colab": {}
      },
      "source": [
        ""
      ],
      "execution_count": 0,
      "outputs": []
    },
    {
      "cell_type": "code",
      "metadata": {
        "id": "AKOrjk-zP-V_",
        "colab_type": "code",
        "colab": {}
      },
      "source": [
        "def create_model2(n_hidden = 128):\n",
        "  model = Sequential()\n",
        "  model.add(Bidirectional(LSTM(n_hidden, input_shape=(X_train.shape[1:]), activation='relu', dropout=0.25, return_sequences=True)))\n",
        "  \n",
        "\n",
        "  model.add(Bidirectional(LSTM(n_hidden, activation='relu', dropout=0.25, return_sequences=True )))\n",
        "\n",
        "\n",
        "  model.add(Bidirectional(LSTM(n_hidden, activation='relu', dropout=0.25)))\n",
        " \n",
        "\n",
        "\n",
        "  model.add(Dense(32, activation='relu'))\n",
        "\n",
        "  model.add(Dropout(0.3))\n",
        "\n",
        "  model.add(Dense(19, activation='softmax'))\n",
        "  return model"
      ],
      "execution_count": 0,
      "outputs": []
    },
    {
      "cell_type": "code",
      "metadata": {
        "id": "vdFXU6TRP-cA",
        "colab_type": "code",
        "colab": {}
      },
      "source": [
        "s = reset_tf_session()\n",
        "model2 = create_model2()"
      ],
      "execution_count": 0,
      "outputs": []
    },
    {
      "cell_type": "code",
      "metadata": {
        "id": "OM6AkzCxP-aH",
        "colab_type": "code",
        "colab": {}
      },
      "source": [
        "model2.compile(loss='sparse_categorical_crossentropy', optimizer=tf.keras.optimizers.Adam(),#(lr=lr, decay=decay),\n",
        "           metrics=['accuracy'])"
      ],
      "execution_count": 0,
      "outputs": []
    },
    {
      "cell_type": "code",
      "metadata": {
        "id": "bf_grtGGhSTj",
        "colab_type": "code",
        "colab": {}
      },
      "source": [
        "40 epochs (30+10)"
      ],
      "execution_count": 0,
      "outputs": []
    },
    {
      "cell_type": "code",
      "metadata": {
        "id": "azbgrh1uP-T8",
        "colab_type": "code",
        "colab": {
          "base_uri": "https://localhost:8080/",
          "height": 391
        },
        "outputId": "c0c51381-f1ba-474f-c588-f445deef07f1"
      },
      "source": [
        "model2.fit(X_train, y_train, epochs=10, validation_data=(X_test, y_test), batch_size = 128, shuffle=True\n",
        "          )"
      ],
      "execution_count": 195,
      "outputs": [
        {
          "output_type": "stream",
          "text": [
            "Train on 6000 samples, validate on 1000 samples\n",
            "Epoch 1/10\n",
            "6000/6000 [==============================] - 26s 4ms/sample - loss: 0.1826 - acc: 0.9500 - val_loss: 0.8655 - val_acc: 0.8480\n",
            "Epoch 2/10\n",
            "6000/6000 [==============================] - 26s 4ms/sample - loss: 0.1708 - acc: 0.9532 - val_loss: 0.8961 - val_acc: 0.8570\n",
            "Epoch 3/10\n",
            "6000/6000 [==============================] - 26s 4ms/sample - loss: 0.1534 - acc: 0.9578 - val_loss: 0.8903 - val_acc: 0.8480\n",
            "Epoch 4/10\n",
            "6000/6000 [==============================] - 26s 4ms/sample - loss: 0.1722 - acc: 0.9570 - val_loss: 0.8489 - val_acc: 0.8540\n",
            "Epoch 5/10\n",
            "6000/6000 [==============================] - 26s 4ms/sample - loss: 0.1594 - acc: 0.9563 - val_loss: 0.8394 - val_acc: 0.8420\n",
            "Epoch 6/10\n",
            "6000/6000 [==============================] - 26s 4ms/sample - loss: 0.1428 - acc: 0.9630 - val_loss: 0.9548 - val_acc: 0.8560\n",
            "Epoch 7/10\n",
            "6000/6000 [==============================] - 26s 4ms/sample - loss: 0.1321 - acc: 0.9672 - val_loss: 0.8646 - val_acc: 0.8620\n",
            "Epoch 8/10\n",
            "6000/6000 [==============================] - 26s 4ms/sample - loss: 0.1298 - acc: 0.9655 - val_loss: 1.0606 - val_acc: 0.8530\n",
            "Epoch 9/10\n",
            "6000/6000 [==============================] - 26s 4ms/sample - loss: 0.1138 - acc: 0.9685 - val_loss: 0.9236 - val_acc: 0.8510\n",
            "Epoch 10/10\n",
            "6000/6000 [==============================] - 26s 4ms/sample - loss: 0.1315 - acc: 0.9657 - val_loss: 0.8815 - val_acc: 0.8550\n"
          ],
          "name": "stdout"
        },
        {
          "output_type": "execute_result",
          "data": {
            "text/plain": [
              "<tensorflow.python.keras.callbacks.History at 0x7f7b38ff7828>"
            ]
          },
          "metadata": {
            "tags": []
          },
          "execution_count": 195
        }
      ]
    },
    {
      "cell_type": "code",
      "metadata": {
        "id": "44nj5dfYe-L4",
        "colab_type": "code",
        "colab": {}
      },
      "source": [
        ""
      ],
      "execution_count": 0,
      "outputs": []
    },
    {
      "cell_type": "code",
      "metadata": {
        "id": "naqGbprPk4Sp",
        "colab_type": "code",
        "colab": {}
      },
      "source": [
        "def make_model4():\n",
        "\n",
        "  model = Sequential()\n",
        "  model.add(Bidirectional(LSTM(512, input_shape=(X_train.shape[1:]), activation='relu', return_sequences=True, dropout=0.25)))\n",
        "  \n",
        "  model.add(Bidirectional(LSTM(512, activation='relu', dropout=0.25)))\n",
        "  #model.add(Dropout(0.25))\n",
        "\n",
        "\n",
        "  #model.add(Dense(32, activation='relu'))\n",
        "  #model.add(Dropout(0.25))\n",
        "\n",
        "  model.add(Dense(19, activation='softmax'))\n",
        "  return model"
      ],
      "execution_count": 0,
      "outputs": []
    },
    {
      "cell_type": "code",
      "metadata": {
        "id": "yTZ-G7s92ZQd",
        "colab_type": "code",
        "colab": {}
      },
      "source": [
        "s = reset_tf_session()\n",
        "model4 = make_model4()\n"
      ],
      "execution_count": 0,
      "outputs": []
    },
    {
      "cell_type": "code",
      "metadata": {
        "id": "XrqHSL3b1gW6",
        "colab_type": "code",
        "colab": {}
      },
      "source": [
        "model4.compile(loss='sparse_categorical_crossentropy', optimizer=tf.keras.optimizers.Adam(),\n",
        "             metrics=['accuracy'])"
      ],
      "execution_count": 0,
      "outputs": []
    },
    {
      "cell_type": "code",
      "metadata": {
        "id": "-iFKo7wS1kBP",
        "colab_type": "code",
        "colab": {
          "base_uri": "https://localhost:8080/",
          "height": 391
        },
        "outputId": "3cb82fc9-de20-4bab-c3f3-4929a392f8f2"
      },
      "source": [
        "model4.fit(X_train, y_train, epochs=10, validation_data=(X_test, y_test), batch_size = 100\n",
        "          )"
      ],
      "execution_count": 79,
      "outputs": [
        {
          "output_type": "stream",
          "text": [
            "Train on 6000 samples, validate on 1000 samples\n",
            "Epoch 1/10\n",
            "6000/6000 [==============================] - 154s 26ms/sample - loss: 2.7956 - acc: 0.0920 - val_loss: 2.7286 - val_acc: 0.1020\n",
            "Epoch 2/10\n",
            "6000/6000 [==============================] - 153s 25ms/sample - loss: 2.5300 - acc: 0.1373 - val_loss: 2.3544 - val_acc: 0.1780\n",
            "Epoch 3/10\n",
            "6000/6000 [==============================] - 152s 25ms/sample - loss: 2.1254 - acc: 0.2417 - val_loss: 1.9418 - val_acc: 0.3220\n",
            "Epoch 4/10\n",
            "6000/6000 [==============================] - 154s 26ms/sample - loss: 1.5574 - acc: 0.4770 - val_loss: 1.2279 - val_acc: 0.6110\n",
            "Epoch 5/10\n",
            "6000/6000 [==============================] - 155s 26ms/sample - loss: 1.0292 - acc: 0.6750 - val_loss: 0.8940 - val_acc: 0.7200\n",
            "Epoch 6/10\n",
            "6000/6000 [==============================] - 154s 26ms/sample - loss: 0.6908 - acc: 0.7842 - val_loss: 0.7387 - val_acc: 0.7820\n",
            "Epoch 7/10\n",
            "6000/6000 [==============================] - 155s 26ms/sample - loss: 0.5059 - acc: 0.8442 - val_loss: 0.6817 - val_acc: 0.7980\n",
            "Epoch 8/10\n",
            "6000/6000 [==============================] - 155s 26ms/sample - loss: 0.3772 - acc: 0.8820 - val_loss: 0.7085 - val_acc: 0.7910\n",
            "Epoch 9/10\n",
            "6000/6000 [==============================] - 156s 26ms/sample - loss: 0.2976 - acc: 0.9023 - val_loss: 0.6693 - val_acc: 0.8160\n",
            "Epoch 10/10\n",
            "6000/6000 [==============================] - 155s 26ms/sample - loss: 0.2668 - acc: 0.9162 - val_loss: 0.6435 - val_acc: 0.8340\n"
          ],
          "name": "stdout"
        },
        {
          "output_type": "execute_result",
          "data": {
            "text/plain": [
              "<tensorflow.python.keras.callbacks.History at 0x7f4d0d449cc0>"
            ]
          },
          "metadata": {
            "tags": []
          },
          "execution_count": 79
        }
      ]
    },
    {
      "cell_type": "code",
      "metadata": {
        "id": "mg6pPJed139y",
        "colab_type": "code",
        "colab": {
          "base_uri": "https://localhost:8080/",
          "height": 136
        },
        "outputId": "7cacfab1-8fda-4e43-e7d1-41bacda4b215"
      },
      "source": [
        "model4.fit(X_train, y_train, epochs=3, validation_data=(X_test, y_test), batch_size = 100\n",
        "          )"
      ],
      "execution_count": 0,
      "outputs": [
        {
          "output_type": "stream",
          "text": [
            "Train on 6000 samples, validate on 1000 samples\n",
            "Epoch 1/3\n",
            "6000/6000 [==============================] - 158s 26ms/sample - loss: 0.0749 - acc: 0.9755 - val_loss: 0.8485 - val_acc: 0.8230\n",
            "Epoch 2/3\n",
            "6000/6000 [==============================] - 157s 26ms/sample - loss: 0.0916 - acc: 0.9707 - val_loss: 0.7916 - val_acc: 0.8300\n",
            "Epoch 3/3\n",
            "4100/6000 [===================>..........] - ETA: 47s - loss: 0.0544 - acc: 0.9822"
          ],
          "name": "stdout"
        }
      ]
    },
    {
      "cell_type": "code",
      "metadata": {
        "id": "F5Fdwwj_bcGQ",
        "colab_type": "code",
        "colab": {}
      },
      "source": [
        ""
      ],
      "execution_count": 0,
      "outputs": []
    }
  ]
}